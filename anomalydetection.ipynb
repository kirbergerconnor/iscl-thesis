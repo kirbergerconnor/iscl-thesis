{
 "cells": [
  {
   "cell_type": "code",
   "execution_count": 57,
   "metadata": {},
   "outputs": [
    {
     "data": {
      "text/html": [
       "<div>\n",
       "<style scoped>\n",
       "    .dataframe tbody tr th:only-of-type {\n",
       "        vertical-align: middle;\n",
       "    }\n",
       "\n",
       "    .dataframe tbody tr th {\n",
       "        vertical-align: top;\n",
       "    }\n",
       "\n",
       "    .dataframe thead th {\n",
       "        text-align: right;\n",
       "    }\n",
       "</style>\n",
       "<table border=\"1\" class=\"dataframe\">\n",
       "  <thead>\n",
       "    <tr style=\"text-align: right;\">\n",
       "      <th></th>\n",
       "      <th>Corpus</th>\n",
       "      <th>Type</th>\n",
       "      <th>Avg Word Length</th>\n",
       "      <th>Avg Sentence Length</th>\n",
       "      <th>TTR</th>\n",
       "      <th>MATTR</th>\n",
       "      <th>MTLD</th>\n",
       "      <th>Morpheme TTR</th>\n",
       "      <th>Avg Segs Per Word</th>\n",
       "      <th>Avg Forms Per Stem</th>\n",
       "      <th>Char Dist Entr</th>\n",
       "      <th>Word Dist Entr</th>\n",
       "      <th>Text Entr</th>\n",
       "      <th>Lex Entr</th>\n",
       "      <th>Rev Lex Entr</th>\n",
       "    </tr>\n",
       "  </thead>\n",
       "  <tbody>\n",
       "    <tr>\n",
       "      <th>0</th>\n",
       "      <td>eo</td>\n",
       "      <td>con</td>\n",
       "      <td>5.175</td>\n",
       "      <td>18.909</td>\n",
       "      <td>10.708</td>\n",
       "      <td>0.692</td>\n",
       "      <td>67.482</td>\n",
       "      <td>7.535</td>\n",
       "      <td>1.859</td>\n",
       "      <td>3.506</td>\n",
       "      <td>4.164</td>\n",
       "      <td>10.923</td>\n",
       "      <td>4.435</td>\n",
       "      <td>6.303</td>\n",
       "      <td>7.016</td>\n",
       "    </tr>\n",
       "    <tr>\n",
       "      <th>1</th>\n",
       "      <td>nl</td>\n",
       "      <td>nat</td>\n",
       "      <td>5.419</td>\n",
       "      <td>18.194</td>\n",
       "      <td>8.559</td>\n",
       "      <td>0.694</td>\n",
       "      <td>74.165</td>\n",
       "      <td>12.467</td>\n",
       "      <td>1.809</td>\n",
       "      <td>3.044</td>\n",
       "      <td>4.117</td>\n",
       "      <td>10.593</td>\n",
       "      <td>4.389</td>\n",
       "      <td>6.407</td>\n",
       "      <td>6.746</td>\n",
       "    </tr>\n",
       "    <tr>\n",
       "      <th>2</th>\n",
       "      <td>is</td>\n",
       "      <td>nat</td>\n",
       "      <td>5.375</td>\n",
       "      <td>15.055</td>\n",
       "      <td>11.727</td>\n",
       "      <td>0.747</td>\n",
       "      <td>115.342</td>\n",
       "      <td>9.847</td>\n",
       "      <td>1.931</td>\n",
       "      <td>4.128</td>\n",
       "      <td>4.468</td>\n",
       "      <td>11.512</td>\n",
       "      <td>5.455</td>\n",
       "      <td>5.993</td>\n",
       "      <td>6.376</td>\n",
       "    </tr>\n",
       "    <tr>\n",
       "      <th>3</th>\n",
       "      <td>pl</td>\n",
       "      <td>nat</td>\n",
       "      <td>6.248</td>\n",
       "      <td>14.951</td>\n",
       "      <td>14.890</td>\n",
       "      <td>0.825</td>\n",
       "      <td>278.888</td>\n",
       "      <td>6.639</td>\n",
       "      <td>1.894</td>\n",
       "      <td>3.709</td>\n",
       "      <td>4.553</td>\n",
       "      <td>12.905</td>\n",
       "      <td>5.072</td>\n",
       "      <td>5.611</td>\n",
       "      <td>5.898</td>\n",
       "    </tr>\n",
       "    <tr>\n",
       "      <th>4</th>\n",
       "      <td>fr</td>\n",
       "      <td>nat</td>\n",
       "      <td>5.160</td>\n",
       "      <td>23.120</td>\n",
       "      <td>7.461</td>\n",
       "      <td>0.721</td>\n",
       "      <td>91.865</td>\n",
       "      <td>7.109</td>\n",
       "      <td>1.771</td>\n",
       "      <td>2.759</td>\n",
       "      <td>4.179</td>\n",
       "      <td>10.711</td>\n",
       "      <td>4.104</td>\n",
       "      <td>6.256</td>\n",
       "      <td>6.779</td>\n",
       "    </tr>\n",
       "    <tr>\n",
       "      <th>5</th>\n",
       "      <td>vo</td>\n",
       "      <td>con</td>\n",
       "      <td>5.072</td>\n",
       "      <td>11.266</td>\n",
       "      <td>2.455</td>\n",
       "      <td>0.622</td>\n",
       "      <td>39.447</td>\n",
       "      <td>15.287</td>\n",
       "      <td>1.567</td>\n",
       "      <td>1.938</td>\n",
       "      <td>4.256</td>\n",
       "      <td>7.666</td>\n",
       "      <td>1.281</td>\n",
       "      <td>8.702</td>\n",
       "      <td>9.037</td>\n",
       "    </tr>\n",
       "    <tr>\n",
       "      <th>6</th>\n",
       "      <td>af</td>\n",
       "      <td>nat</td>\n",
       "      <td>5.067</td>\n",
       "      <td>20.496</td>\n",
       "      <td>6.987</td>\n",
       "      <td>0.645</td>\n",
       "      <td>59.938</td>\n",
       "      <td>13.894</td>\n",
       "      <td>1.770</td>\n",
       "      <td>2.861</td>\n",
       "      <td>4.072</td>\n",
       "      <td>9.993</td>\n",
       "      <td>4.757</td>\n",
       "      <td>6.639</td>\n",
       "      <td>6.986</td>\n",
       "    </tr>\n",
       "    <tr>\n",
       "      <th>7</th>\n",
       "      <td>vi</td>\n",
       "      <td>nat</td>\n",
       "      <td>3.498</td>\n",
       "      <td>29.835</td>\n",
       "      <td>1.749</td>\n",
       "      <td>0.732</td>\n",
       "      <td>94.751</td>\n",
       "      <td>27.439</td>\n",
       "      <td>1.344</td>\n",
       "      <td>1.453</td>\n",
       "      <td>4.855</td>\n",
       "      <td>9.717</td>\n",
       "      <td>4.768</td>\n",
       "      <td>11.878</td>\n",
       "      <td>11.432</td>\n",
       "    </tr>\n",
       "    <tr>\n",
       "      <th>8</th>\n",
       "      <td>oc</td>\n",
       "      <td>nat</td>\n",
       "      <td>5.215</td>\n",
       "      <td>18.660</td>\n",
       "      <td>7.185</td>\n",
       "      <td>0.715</td>\n",
       "      <td>87.187</td>\n",
       "      <td>7.674</td>\n",
       "      <td>1.793</td>\n",
       "      <td>2.805</td>\n",
       "      <td>4.173</td>\n",
       "      <td>10.546</td>\n",
       "      <td>3.530</td>\n",
       "      <td>6.741</td>\n",
       "      <td>7.118</td>\n",
       "    </tr>\n",
       "    <tr>\n",
       "      <th>9</th>\n",
       "      <td>en</td>\n",
       "      <td>nat</td>\n",
       "      <td>5.087</td>\n",
       "      <td>21.301</td>\n",
       "      <td>6.079</td>\n",
       "      <td>0.697</td>\n",
       "      <td>77.659</td>\n",
       "      <td>10.049</td>\n",
       "      <td>1.661</td>\n",
       "      <td>2.360</td>\n",
       "      <td>4.167</td>\n",
       "      <td>10.673</td>\n",
       "      <td>4.771</td>\n",
       "      <td>7.106</td>\n",
       "      <td>7.601</td>\n",
       "    </tr>\n",
       "    <tr>\n",
       "      <th>10</th>\n",
       "      <td>it</td>\n",
       "      <td>nat</td>\n",
       "      <td>5.455</td>\n",
       "      <td>25.727</td>\n",
       "      <td>8.505</td>\n",
       "      <td>0.764</td>\n",
       "      <td>129.111</td>\n",
       "      <td>7.919</td>\n",
       "      <td>1.765</td>\n",
       "      <td>2.939</td>\n",
       "      <td>4.029</td>\n",
       "      <td>11.308</td>\n",
       "      <td>4.573</td>\n",
       "      <td>5.563</td>\n",
       "      <td>6.123</td>\n",
       "    </tr>\n",
       "    <tr>\n",
       "      <th>11</th>\n",
       "      <td>ia</td>\n",
       "      <td>con</td>\n",
       "      <td>5.050</td>\n",
       "      <td>19.547</td>\n",
       "      <td>6.880</td>\n",
       "      <td>0.607</td>\n",
       "      <td>49.015</td>\n",
       "      <td>8.904</td>\n",
       "      <td>1.750</td>\n",
       "      <td>2.715</td>\n",
       "      <td>4.032</td>\n",
       "      <td>10.005</td>\n",
       "      <td>3.886</td>\n",
       "      <td>6.406</td>\n",
       "      <td>6.958</td>\n",
       "    </tr>\n",
       "    <tr>\n",
       "      <th>12</th>\n",
       "      <td>sv</td>\n",
       "      <td>nat</td>\n",
       "      <td>5.597</td>\n",
       "      <td>17.322</td>\n",
       "      <td>11.031</td>\n",
       "      <td>0.756</td>\n",
       "      <td>124.469</td>\n",
       "      <td>9.496</td>\n",
       "      <td>1.957</td>\n",
       "      <td>4.074</td>\n",
       "      <td>4.294</td>\n",
       "      <td>11.488</td>\n",
       "      <td>4.830</td>\n",
       "      <td>6.207</td>\n",
       "      <td>6.517</td>\n",
       "    </tr>\n",
       "    <tr>\n",
       "      <th>13</th>\n",
       "      <td>lfn</td>\n",
       "      <td>con</td>\n",
       "      <td>4.221</td>\n",
       "      <td>19.532</td>\n",
       "      <td>5.063</td>\n",
       "      <td>0.601</td>\n",
       "      <td>40.079</td>\n",
       "      <td>9.769</td>\n",
       "      <td>1.688</td>\n",
       "      <td>2.448</td>\n",
       "      <td>3.912</td>\n",
       "      <td>9.316</td>\n",
       "      <td>4.471</td>\n",
       "      <td>7.716</td>\n",
       "      <td>8.436</td>\n",
       "    </tr>\n",
       "    <tr>\n",
       "      <th>14</th>\n",
       "      <td>da</td>\n",
       "      <td>nat</td>\n",
       "      <td>5.346</td>\n",
       "      <td>16.466</td>\n",
       "      <td>10.517</td>\n",
       "      <td>0.737</td>\n",
       "      <td>106.412</td>\n",
       "      <td>10.259</td>\n",
       "      <td>1.911</td>\n",
       "      <td>3.776</td>\n",
       "      <td>4.197</td>\n",
       "      <td>11.274</td>\n",
       "      <td>5.037</td>\n",
       "      <td>6.408</td>\n",
       "      <td>6.796</td>\n",
       "    </tr>\n",
       "    <tr>\n",
       "      <th>15</th>\n",
       "      <td>hu</td>\n",
       "      <td>nat</td>\n",
       "      <td>6.242</td>\n",
       "      <td>15.782</td>\n",
       "      <td>16.234</td>\n",
       "      <td>0.776</td>\n",
       "      <td>169.833</td>\n",
       "      <td>6.240</td>\n",
       "      <td>2.000</td>\n",
       "      <td>5.071</td>\n",
       "      <td>4.543</td>\n",
       "      <td>12.443</td>\n",
       "      <td>5.208</td>\n",
       "      <td>5.584</td>\n",
       "      <td>5.951</td>\n",
       "    </tr>\n",
       "    <tr>\n",
       "      <th>16</th>\n",
       "      <td>id</td>\n",
       "      <td>nat</td>\n",
       "      <td>6.173</td>\n",
       "      <td>18.164</td>\n",
       "      <td>5.782</td>\n",
       "      <td>0.699</td>\n",
       "      <td>74.365</td>\n",
       "      <td>12.993</td>\n",
       "      <td>1.584</td>\n",
       "      <td>2.048</td>\n",
       "      <td>4.072</td>\n",
       "      <td>11.142</td>\n",
       "      <td>3.982</td>\n",
       "      <td>7.285</td>\n",
       "      <td>7.342</td>\n",
       "    </tr>\n",
       "    <tr>\n",
       "      <th>17</th>\n",
       "      <td>tl</td>\n",
       "      <td>nat</td>\n",
       "      <td>5.119</td>\n",
       "      <td>21.102</td>\n",
       "      <td>7.593</td>\n",
       "      <td>0.611</td>\n",
       "      <td>44.385</td>\n",
       "      <td>11.830</td>\n",
       "      <td>1.717</td>\n",
       "      <td>2.563</td>\n",
       "      <td>3.895</td>\n",
       "      <td>9.991</td>\n",
       "      <td>4.374</td>\n",
       "      <td>6.803</td>\n",
       "      <td>7.040</td>\n",
       "    </tr>\n",
       "    <tr>\n",
       "      <th>18</th>\n",
       "      <td>tr</td>\n",
       "      <td>nat</td>\n",
       "      <td>6.630</td>\n",
       "      <td>14.458</td>\n",
       "      <td>14.097</td>\n",
       "      <td>0.828</td>\n",
       "      <td>290.829</td>\n",
       "      <td>6.805</td>\n",
       "      <td>1.843</td>\n",
       "      <td>3.932</td>\n",
       "      <td>4.386</td>\n",
       "      <td>13.151</td>\n",
       "      <td>4.729</td>\n",
       "      <td>5.028</td>\n",
       "      <td>5.422</td>\n",
       "    </tr>\n",
       "    <tr>\n",
       "      <th>19</th>\n",
       "      <td>io</td>\n",
       "      <td>con</td>\n",
       "      <td>4.594</td>\n",
       "      <td>14.484</td>\n",
       "      <td>3.433</td>\n",
       "      <td>0.557</td>\n",
       "      <td>34.395</td>\n",
       "      <td>13.024</td>\n",
       "      <td>1.645</td>\n",
       "      <td>2.208</td>\n",
       "      <td>4.077</td>\n",
       "      <td>8.055</td>\n",
       "      <td>1.266</td>\n",
       "      <td>7.471</td>\n",
       "      <td>8.267</td>\n",
       "    </tr>\n",
       "    <tr>\n",
       "      <th>20</th>\n",
       "      <td>es</td>\n",
       "      <td>nat</td>\n",
       "      <td>4.978</td>\n",
       "      <td>25.315</td>\n",
       "      <td>7.085</td>\n",
       "      <td>0.674</td>\n",
       "      <td>65.538</td>\n",
       "      <td>8.131</td>\n",
       "      <td>1.756</td>\n",
       "      <td>2.752</td>\n",
       "      <td>4.046</td>\n",
       "      <td>10.327</td>\n",
       "      <td>4.066</td>\n",
       "      <td>6.059</td>\n",
       "      <td>6.664</td>\n",
       "    </tr>\n",
       "    <tr>\n",
       "      <th>21</th>\n",
       "      <td>fi</td>\n",
       "      <td>nat</td>\n",
       "      <td>7.874</td>\n",
       "      <td>11.969</td>\n",
       "      <td>20.409</td>\n",
       "      <td>0.841</td>\n",
       "      <td>394.346</td>\n",
       "      <td>8.806</td>\n",
       "      <td>2.008</td>\n",
       "      <td>5.037</td>\n",
       "      <td>4.144</td>\n",
       "      <td>13.729</td>\n",
       "      <td>4.529</td>\n",
       "      <td>4.994</td>\n",
       "      <td>5.479</td>\n",
       "    </tr>\n",
       "    <tr>\n",
       "      <th>22</th>\n",
       "      <td>de</td>\n",
       "      <td>nat</td>\n",
       "      <td>6.206</td>\n",
       "      <td>16.907</td>\n",
       "      <td>12.128</td>\n",
       "      <td>0.771</td>\n",
       "      <td>139.978</td>\n",
       "      <td>9.026</td>\n",
       "      <td>1.981</td>\n",
       "      <td>4.356</td>\n",
       "      <td>4.230</td>\n",
       "      <td>11.601</td>\n",
       "      <td>4.530</td>\n",
       "      <td>5.323</td>\n",
       "      <td>5.743</td>\n",
       "    </tr>\n",
       "    <tr>\n",
       "      <th>23</th>\n",
       "      <td>avk</td>\n",
       "      <td>con</td>\n",
       "      <td>5.060</td>\n",
       "      <td>12.824</td>\n",
       "      <td>8.153</td>\n",
       "      <td>0.582</td>\n",
       "      <td>61.499</td>\n",
       "      <td>9.611</td>\n",
       "      <td>1.769</td>\n",
       "      <td>2.827</td>\n",
       "      <td>4.186</td>\n",
       "      <td>10.287</td>\n",
       "      <td>3.759</td>\n",
       "      <td>7.809</td>\n",
       "      <td>8.096</td>\n",
       "    </tr>\n",
       "  </tbody>\n",
       "</table>\n",
       "</div>"
      ],
      "text/plain": [
       "   Corpus Type  Avg Word Length  Avg Sentence Length     TTR  MATTR     MTLD  \\\n",
       "0      eo  con            5.175               18.909  10.708  0.692   67.482   \n",
       "1      nl  nat            5.419               18.194   8.559  0.694   74.165   \n",
       "2      is  nat            5.375               15.055  11.727  0.747  115.342   \n",
       "3      pl  nat            6.248               14.951  14.890  0.825  278.888   \n",
       "4      fr  nat            5.160               23.120   7.461  0.721   91.865   \n",
       "5      vo  con            5.072               11.266   2.455  0.622   39.447   \n",
       "6      af  nat            5.067               20.496   6.987  0.645   59.938   \n",
       "7      vi  nat            3.498               29.835   1.749  0.732   94.751   \n",
       "8      oc  nat            5.215               18.660   7.185  0.715   87.187   \n",
       "9      en  nat            5.087               21.301   6.079  0.697   77.659   \n",
       "10     it  nat            5.455               25.727   8.505  0.764  129.111   \n",
       "11     ia  con            5.050               19.547   6.880  0.607   49.015   \n",
       "12     sv  nat            5.597               17.322  11.031  0.756  124.469   \n",
       "13    lfn  con            4.221               19.532   5.063  0.601   40.079   \n",
       "14     da  nat            5.346               16.466  10.517  0.737  106.412   \n",
       "15     hu  nat            6.242               15.782  16.234  0.776  169.833   \n",
       "16     id  nat            6.173               18.164   5.782  0.699   74.365   \n",
       "17     tl  nat            5.119               21.102   7.593  0.611   44.385   \n",
       "18     tr  nat            6.630               14.458  14.097  0.828  290.829   \n",
       "19     io  con            4.594               14.484   3.433  0.557   34.395   \n",
       "20     es  nat            4.978               25.315   7.085  0.674   65.538   \n",
       "21     fi  nat            7.874               11.969  20.409  0.841  394.346   \n",
       "22     de  nat            6.206               16.907  12.128  0.771  139.978   \n",
       "23    avk  con            5.060               12.824   8.153  0.582   61.499   \n",
       "\n",
       "    Morpheme TTR  Avg Segs Per Word  Avg Forms Per Stem  Char Dist Entr  \\\n",
       "0          7.535              1.859               3.506           4.164   \n",
       "1         12.467              1.809               3.044           4.117   \n",
       "2          9.847              1.931               4.128           4.468   \n",
       "3          6.639              1.894               3.709           4.553   \n",
       "4          7.109              1.771               2.759           4.179   \n",
       "5         15.287              1.567               1.938           4.256   \n",
       "6         13.894              1.770               2.861           4.072   \n",
       "7         27.439              1.344               1.453           4.855   \n",
       "8          7.674              1.793               2.805           4.173   \n",
       "9         10.049              1.661               2.360           4.167   \n",
       "10         7.919              1.765               2.939           4.029   \n",
       "11         8.904              1.750               2.715           4.032   \n",
       "12         9.496              1.957               4.074           4.294   \n",
       "13         9.769              1.688               2.448           3.912   \n",
       "14        10.259              1.911               3.776           4.197   \n",
       "15         6.240              2.000               5.071           4.543   \n",
       "16        12.993              1.584               2.048           4.072   \n",
       "17        11.830              1.717               2.563           3.895   \n",
       "18         6.805              1.843               3.932           4.386   \n",
       "19        13.024              1.645               2.208           4.077   \n",
       "20         8.131              1.756               2.752           4.046   \n",
       "21         8.806              2.008               5.037           4.144   \n",
       "22         9.026              1.981               4.356           4.230   \n",
       "23         9.611              1.769               2.827           4.186   \n",
       "\n",
       "    Word Dist Entr  Text Entr  Lex Entr  Rev Lex Entr  \n",
       "0           10.923      4.435     6.303         7.016  \n",
       "1           10.593      4.389     6.407         6.746  \n",
       "2           11.512      5.455     5.993         6.376  \n",
       "3           12.905      5.072     5.611         5.898  \n",
       "4           10.711      4.104     6.256         6.779  \n",
       "5            7.666      1.281     8.702         9.037  \n",
       "6            9.993      4.757     6.639         6.986  \n",
       "7            9.717      4.768    11.878        11.432  \n",
       "8           10.546      3.530     6.741         7.118  \n",
       "9           10.673      4.771     7.106         7.601  \n",
       "10          11.308      4.573     5.563         6.123  \n",
       "11          10.005      3.886     6.406         6.958  \n",
       "12          11.488      4.830     6.207         6.517  \n",
       "13           9.316      4.471     7.716         8.436  \n",
       "14          11.274      5.037     6.408         6.796  \n",
       "15          12.443      5.208     5.584         5.951  \n",
       "16          11.142      3.982     7.285         7.342  \n",
       "17           9.991      4.374     6.803         7.040  \n",
       "18          13.151      4.729     5.028         5.422  \n",
       "19           8.055      1.266     7.471         8.267  \n",
       "20          10.327      4.066     6.059         6.664  \n",
       "21          13.729      4.529     4.994         5.479  \n",
       "22          11.601      4.530     5.323         5.743  \n",
       "23          10.287      3.759     7.809         8.096  "
      ]
     },
     "execution_count": 57,
     "metadata": {},
     "output_type": "execute_result"
    }
   ],
   "source": [
    "import seaborn as sns, pandas as pd, numpy as np\n",
    "from sklearn.svm import OneClassSVM\n",
    "from sklearn.decomposition import PCA\n",
    "from sklearn.neighbors import LocalOutlierFactor\n",
    "from sklearn.model_selection import cross_val_score, cross_validate, ParameterGrid, GridSearchCV, LeaveOneOut\n",
    "from sklearn.preprocessing import StandardScaler\n",
    "from sklearn.metrics import precision_score, recall_score, f1_score, average_precision_score, accuracy_score, precision_recall_fscore_support, classification_report, roc_auc_score, precision_recall_curve, auc, make_scorer\n",
    "import plotly.express as px\n",
    "import shap\n",
    "from sklearn.ensemble import IsolationForest\n",
    "from sklearn.inspection import DecisionBoundaryDisplay\n",
    "from sklearn.metrics import confusion_matrix, ConfusionMatrixDisplay\n",
    "from matplotlib import pyplot as plt\n",
    "from sklearn.inspection import permutation_importance\n",
    "\n",
    "data = pd.read_csv('./results/features_df.csv')\n",
    "data"
   ]
  },
  {
   "cell_type": "markdown",
   "metadata": {},
   "source": [
    "### One Class SVM"
   ]
  },
  {
   "cell_type": "code",
   "execution_count": 42,
   "metadata": {},
   "outputs": [
    {
     "name": "stdout",
     "output_type": "stream",
     "text": [
      "Unnamed: 0       12179\n",
      "kernel            poly\n",
      "degree               3\n",
      "coef0              0.3\n",
      "gamma           0.0001\n",
      "nu                 0.5\n",
      "precision          1.0\n",
      "recall        0.666667\n",
      "f1                 0.8\n",
      "Name: 12179, dtype: object\n",
      "{'eo': (-1, 1), 'nl': (1, 1), 'is': (1, 1), 'pl': (1, 1), 'fr': (1, 1), 'vo': (-1, -1), 'af': (1, 1), 'vi': (1, 1), 'oc': (1, 1), 'en': (1, 1), 'it': (1, 1), 'ia': (-1, 1), 'sv': (1, 1), 'lfn': (-1, -1), 'da': (1, 1), 'hu': (1, 1), 'id': (1, 1), 'tl': (1, 1), 'tr': (1, 1), 'io': (-1, -1), 'es': (1, 1), 'fi': (1, 1), 'de': (1, 1), 'avk': (-1, -1)}\n"
     ]
    },
    {
     "data": {
      "image/png": "[encoded data removed]",
      "text/plain": [
       "<Figure size 640x480 with 2 Axes>"
      ]
     },
     "metadata": {},
     "output_type": "display_data"
    },
    {
     "name": "stdout",
     "output_type": "stream",
     "text": [
      "0.3238744148875717\n"
     ]
    },
    {
     "data": {
      "image/png": "[encoded data removed]",
      "text/plain": [
       "<Figure size 640x480 with 1 Axes>"
      ]
     },
     "metadata": {},
     "output_type": "display_data"
    }
   ],
   "source": [
    "# OCSVM Finetuning\n",
    "# Brute force approach (ParameterGrid)\n",
    "# gamma defines how much influence a single training sample has. Smaller value means a larger radius of influence for each sample, and vice versa\n",
    "# usually between γ∈[10^−6,10^0] used for the RBF kernel; common initial guesses around γ∈[0.001,1]\n",
    "# nu is the upper bound on the fraction of training errors and a lower bound of support vectors. Controls proportion of outliers allowed\n",
    "# usually between 0 and 1; common initial ranges around ν∈[0.01,0.5]\n",
    "\n",
    "X, y = data.iloc[:,2:].values.round(decimals=3), data.iloc[:,1].map({'con':-1, 'nat':1}).values\n",
    "scaler = StandardScaler()\n",
    "# Train on target == 'nat' (natural languages)\n",
    "X_train = scaler.fit_transform(X)\n",
    "\n",
    "param_grid = {\n",
    "    'kernel': ['linear', 'poly', 'rbf', 'sigmoid'],\n",
    "    'degree': [0, 1, 2, 3, 5, 10],\n",
    "    'coef0': [0.0, 0.001, 0.002, 0.005, 0.007, 0.01, 0.03, 0.05, 0.07, 0.1, 0.3, 0.5, 1.0],\n",
    "    'gamma': ['scale', 'auto', 0.000001, 0.0001, 0.001, 0.01, 0.1, 1],\n",
    "    'nu': [0.01, 0.05, 0.1, 0.2, 0.25, 0.5]\n",
    "}\n",
    "\n",
    "grid = ParameterGrid(param_grid=param_grid)\n",
    "results = []\n",
    "# for params in grid:\n",
    "#     ocsvm = OneClassSVM(\n",
    "#         kernel=params['kernel'], \n",
    "#         degree=params['degree'], \n",
    "#         coef0=params['coef0'], \n",
    "#         gamma=params['gamma'], \n",
    "#         nu=params['nu'],\n",
    "#         )\n",
    "#     y_pred = ocsvm.fit_predict(X_train)\n",
    "#     precision = precision_score(y, y_pred, pos_label=-1, zero_division=0.0)\n",
    "#     recall = recall_score(y, y_pred, pos_label=-1, zero_division=0.0)\n",
    "#     f1 = f1_score(y, y_pred, pos_label=-1, zero_division=0.0)\n",
    "#     # ap = average_precision_score(y, y_pred, pos_label=-1)\n",
    "#     # roc_auc = roc_auc_score(y, ocsvm.decision_function(X_train))\n",
    "    \n",
    "#     results.append({\n",
    "#         'kernel': params['kernel'],\n",
    "#         'degree': params['degree'],\n",
    "#         'coef0': params['coef0'],\n",
    "#         'gamma': params['gamma'],\n",
    "#         'nu': params['nu'],\n",
    "#         'precision': precision,\n",
    "#         'recall': recall,\n",
    "#         'f1': f1,\n",
    "#         # 'average_precision': ap,\n",
    "#         # 'roc_auc': roc_auc,\n",
    "#     })\n",
    "    \n",
    "# ocsvm_finetuning_df = pd.DataFrame(results)\n",
    "# ocsvm_finetuning_df.to_csv('./results/ocsvm_finetuning_df.csv')\n",
    "ocsvm_finetuning_df = pd.read_csv('./results/ocsvm_finetuning_df.csv')\n",
    "# Best parameters based on f1 score\n",
    "best_params = ocsvm_finetuning_df.sort_values(by='f1', ascending=False).iloc[0]\n",
    "print(best_params)\n",
    "\n",
    "# Evaluating fine-tuned model\n",
    "ocsvm = OneClassSVM(\n",
    "    kernel=best_params['kernel'],\n",
    "    degree=best_params['degree'],\n",
    "    coef0=best_params['coef0'],\n",
    "    gamma=float(best_params['gamma']),\n",
    "    nu=best_params['nu'],\n",
    ")\n",
    "\n",
    "ocsvm.fit(X_train)\n",
    "y_pred = ocsvm.predict(X_train)\n",
    "print({n: (y, y_pred) for n, (y, y_pred) in zip(data['Corpus'].values, zip(y, y_pred))})\n",
    "# decision_scores = ocsvm.decision_function(X_train)\n",
    "# # roc_auc = roc_auc_score(y, decision_scores)\n",
    "# # print(f\"ROC AUC: {roc_auc}\")\n",
    "\n",
    "cm = confusion_matrix(y, y_pred)\n",
    "disp = ConfusionMatrixDisplay(cm)\n",
    "disp.plot(cmap=plt.cm.Blues)\n",
    "plt.title('Confusion Matrix')\n",
    "plt.savefig('./results/CM_ocsvm.png')\n",
    "plt.show()\n",
    "\n",
    "scores = ocsvm.score_samples(X_train)\n",
    "thresh = np.quantile(scores, 0.2)\n",
    "print(thresh)\n",
    "index = np.where(scores<=thresh)\n",
    "values = X_train[index]\n",
    "\n",
    "# Labels\n",
    "for i, corpus_value in enumerate(data['Corpus'].values):\n",
    "    if y_pred[i] == -1: \n",
    "        plt.annotate(\n",
    "            corpus_value, \n",
    "            (X_train[i, 0], X_train[i, 1]), \n",
    "            textcoords=\"offset points\", xytext=(0, 0), \n",
    "            ha='center', va='center',  \n",
    "            fontsize=9, color='black',\n",
    "            bbox=dict(facecolor='white', alpha=0.6)  \n",
    "        )\n",
    "plt.scatter(X_train[:,0], X_train[:,1])\n",
    "plt.scatter(values[:,0], values[:,1], color='r')\n",
    "plt.show()"
   ]
  },
  {
   "cell_type": "markdown",
   "metadata": {},
   "source": [
    "#### Fine-tuned OCSVM ('poly' kernel) with Decision Boundary and dimensionality reduction (PCA)"
   ]
  },
  {
   "cell_type": "code",
   "execution_count": 35,
   "metadata": {},
   "outputs": [
    {
     "name": "stdout",
     "output_type": "stream",
     "text": [
      "Unnamed: 0       10691\n",
      "kernel            poly\n",
      "degree               1\n",
      "coef0              0.1\n",
      "gamma             0.01\n",
      "nu                 0.5\n",
      "precision     0.714286\n",
      "recall        0.833333\n",
      "f1            0.769231\n",
      "Name: 10691, dtype: object\n"
     ]
    },
    {
     "data": {
      "image/png": "[encoded data removed]",
      "text/plain": [
       "<Figure size 1000x600 with 1 Axes>"
      ]
     },
     "metadata": {},
     "output_type": "display_data"
    }
   ],
   "source": [
    "X, y = data.iloc[:,2:].values.round(decimals=3), data.iloc[:,1].map({'con':-1, 'nat':1}).values\n",
    "scaler = StandardScaler()\n",
    "X_scaled = scaler.fit_transform(X)\n",
    "pca = PCA(n_components=2)\n",
    "X_train = pca.fit_transform(X_scaled)\n",
    "\n",
    "param_grid = {\n",
    "    'kernel': ['linear', 'poly', 'rbf', 'sigmoid'],\n",
    "    'degree': [0, 1, 2, 3, 5, 10],\n",
    "    'coef0': [0.0, 0.001, 0.002, 0.005, 0.007, 0.01, 0.03, 0.05, 0.07, 0.1, 0.3, 0.5, 1.0],\n",
    "    'gamma': ['scale', 'auto', 0.000001, 0.0001, 0.001, 0.01, 0.1, 1],\n",
    "    'nu': [0.01, 0.05, 0.1, 0.2, 0.25, 0.5]\n",
    "}\n",
    "\n",
    "grid = ParameterGrid(param_grid=param_grid)\n",
    "results = []\n",
    "# for params in grid:\n",
    "#     ocsvm = OneClassSVM(\n",
    "#         kernel=params['kernel'], \n",
    "#         degree=params['degree'], \n",
    "#         coef0=params['coef0'], \n",
    "#         gamma=params['gamma'], \n",
    "#         nu=params['nu'],\n",
    "#         )\n",
    "#     y_pred = ocsvm.fit_predict(X_train)\n",
    "#     precision = precision_score(y, y_pred, pos_label=-1, zero_division=0.0)\n",
    "#     recall = recall_score(y, y_pred, pos_label=-1, zero_division=0.0)\n",
    "#     f1 = f1_score(y, y_pred, pos_label=-1, zero_division=0.0)\n",
    "    \n",
    "#     results.append({\n",
    "#         'kernel': params['kernel'],\n",
    "#         'degree': params['degree'],scoreafdddfaafafaf\n",
    "#         'coef0': params['coef0'],\n",
    "#         'gamma': params['gamma'],\n",
    "#         'nu': params['nu'],\n",
    "#         'precision': precision,\n",
    "#         'recall': recall,\n",
    "#         'f1': f1,\n",
    "#     })\n",
    "    \n",
    "# ocsvm_pca_finetuning_df = pd.DataFrame(results)\n",
    "# ocsvm_pca_finetuning_df.to_csv('./results/ocsvm_pca_finetuning_df.csv')\n",
    "\n",
    "# Find PC1 and PC2\n",
    "components_df = pd.DataFrame(pca.components_, columns=data.select_dtypes(include='number').columns, index=['PC1', 'PC2'])\n",
    "def get_top_features(components_df, pc_name, top_n=1):\n",
    "    pc_loadings = components_df.loc[pc_name]\n",
    "    top_features = pc_loadings.abs().nlargest(top_n).index\n",
    "    return top_features.tolist()\n",
    "\n",
    "ocsvm_pca_finetuning_df = pd.read_csv('./results/ocsvm_pca_finetuning_df.csv')\n",
    "best_params = ocsvm_pca_finetuning_df.sort_values(by='f1', ascending=False).iloc[0]\n",
    "print(best_params)\n",
    "\n",
    "ocsvm = OneClassSVM(\n",
    "    kernel=best_params['kernel'],\n",
    "    degree=best_params['degree'],\n",
    "    coef0=best_params['coef0'],\n",
    "    gamma=float(best_params['gamma']),\n",
    "    nu=best_params['nu'],\n",
    ")\n",
    "\n",
    "ocsvm.fit(X_train)\n",
    "y_pred = ocsvm.predict(X_train)\n",
    "\n",
    "# Plotting\n",
    "x_min, x_max = X_train[:, 0].min() - 1, X_train[:, 0].max() + 1\n",
    "y_min, y_max = X_train[:, 1].min() - 1, X_train[:, 1].max() + 1\n",
    "xx, yy = np.meshgrid(np.linspace(x_min, x_max, 500), np.linspace(y_min, y_max, 500))\n",
    "Z = ocsvm.decision_function(np.c_[xx.ravel(), yy.ravel()])\n",
    "Z = Z.reshape(xx.shape)\n",
    "plt.figure(figsize=(10, 6))\n",
    "# Decision boundary\n",
    "plt.contourf(xx, yy, Z, levels=np.linspace(Z.min(), 0, 7), cmap=plt.cm.PuBu)\n",
    "a = plt.contour(xx, yy, Z, levels=[0], linewidths=2, colors='darkred')\n",
    "plt.contourf(xx, yy, Z, levels=[0, Z.max()], colors='orange')\n",
    "# Scatter plot of PCA-reduced training data\n",
    "plt.scatter(X_train[y_pred == 1][:, 0], X_train[y_pred == 1][:, 1], c='white', edgecolors='k', s=50, label='Inliers')\n",
    "plt.scatter(X_train[y_pred == -1][:, 0], X_train[y_pred == -1][:, 1], c='red', edgecolors='k', s=50, label='Outliers')\n",
    "# Labels\n",
    "for i, corpus_value in enumerate(data['Corpus'].values):\n",
    "    if y_pred[i] == -1: \n",
    "        plt.annotate(\n",
    "            corpus_value, \n",
    "            (X_train[i, 0], X_train[i, 1]), \n",
    "            textcoords=\"offset points\", xytext=(0, 0), \n",
    "            ha='center', va='center',  \n",
    "            fontsize=9, color='black',\n",
    "            bbox=dict(facecolor='white', alpha=0.6)  \n",
    "        )\n",
    "plt.title(\"One-Class SVM with Polynomial Kernel - Decision Boundary and Predictions (PCA-reduced data)\")\n",
    "plt.xlabel(f\"PC1: {get_top_features(components_df, 'PC1')[0]}\")\n",
    "plt.ylabel(f\"PC2: {get_top_features(components_df, 'PC2')[0]}\")\n",
    "plt.legend()\n",
    "plt.show()"
   ]
  },
  {
   "cell_type": "markdown",
   "metadata": {},
   "source": [
    "#### Fine-tuned OCSVM ('rbf' kernel) with Decision Boundary and dimension reductionality (PCA)"
   ]
  },
  {
   "cell_type": "code",
   "execution_count": 45,
   "metadata": {},
   "outputs": [
    {
     "data": {
      "image/png": "[encoded data removed]",
      "text/plain": [
       "<Figure size 640x480 with 1 Axes>"
      ]
     },
     "metadata": {},
     "output_type": "display_data"
    },
    {
     "data": {
      "image/png": "[encoded data removed]",
      "text/plain": [
       "<Figure size 640x480 with 1 Axes>"
      ]
     },
     "metadata": {},
     "output_type": "display_data"
    }
   ],
   "source": [
    "# Plot decision function of finetuned One-Class SVM (visualization in 2D space)\n",
    "# How can I interpret the decision function? Should I visualize the decision boundary differently?\n",
    "\n",
    "X, y = data.iloc[:,2:].values.round(decimals=3), data.iloc[:,1].map({'con':-1, 'nat':1}).values\n",
    "scaler = StandardScaler()\n",
    "X_scaled = scaler.fit_transform(X)\n",
    "\n",
    "pca = PCA(n_components=2)\n",
    "X_pca = pca.fit_transform(X_scaled)\n",
    "\n",
    "# Find PC1 and PC2\n",
    "components_df = pd.DataFrame(pca.components_, columns=data.select_dtypes(include='number').columns, index=['PC1', 'PC2'])\n",
    "def get_top_features(components_df, pc_name, top_n=1):\n",
    "    pc_loadings = components_df.loc[pc_name]\n",
    "    top_features = pc_loadings.abs().nlargest(top_n).index\n",
    "    return top_features.tolist()\n",
    "\n",
    "# Hard Margin OCSVM\n",
    "# Has 2 outliers at n=0.05\n",
    "hard_ocsvm = OneClassSVM(kernel='rbf', gamma=0.01, nu=0.05)\n",
    "hard_ocsvm.fit(X_pca)\n",
    "\n",
    "# Predict the decision function (distance to the decision boundary)\n",
    "hard_decision_function = hard_ocsvm.decision_function(X_pca)\n",
    "hard_pred = hard_ocsvm.predict(X_pca)\n",
    "\n",
    "# Plot decision boundary and margins\n",
    "xx, yy = np.meshgrid(np.linspace(X_pca[:, 0].min() - 1, X_pca[:, 0].max() + 1, 500),\n",
    "                     np.linspace(X_pca[:, 1].min() - 1, X_pca[:, 1].max() + 1, 500))\n",
    "\n",
    "Z = hard_ocsvm.decision_function(np.c_[xx.ravel(), yy.ravel()])\n",
    "Z = Z.reshape(xx.shape)\n",
    "\n",
    "# Plot decision function as a contour plot\n",
    "plt.contourf(xx, yy, Z, levels=np.linspace(Z.min(), 0, 7), cmap=plt.cm.Blues_r)\n",
    "plt.contour(xx, yy, Z, levels=[0], linewidths=2, colors='black')\n",
    "plt.contourf(xx, yy, Z, levels=[0, Z.max()], colors='white')\n",
    "\n",
    "plt.scatter(X_pca[hard_pred == 1][:, 0], X_pca[hard_pred == 1][:, 1], \n",
    "            c='blue', label='Inliers (nat)', edgecolors='k', s=60)\n",
    "plt.scatter(X_pca[hard_pred == -1][:, 0], X_pca[hard_pred == -1][:, 1], \n",
    "            c='red', label='Outliers (con)', edgecolors='k', s=60)\n",
    "\n",
    "for i, corpus_value in enumerate(data['Corpus'].values):\n",
    "    if hard_pred[i] == -1: \n",
    "        plt.annotate(\n",
    "            corpus_value, \n",
    "            (X_pca[i, 0], X_pca[i, 1]), \n",
    "            textcoords=\"offset points\", xytext=(0, 0), \n",
    "            ha='center', va='center',  \n",
    "            fontsize=9, color='black',\n",
    "            bbox=dict(facecolor='white', alpha=0.6)  \n",
    "        )\n",
    "\n",
    "plt.title('One-Class SVM Decision Boundary, Hard Margin (PCA)')\n",
    "plt.xlabel(f\"PC1: {get_top_features(components_df, 'PC1')[0]}\")\n",
    "plt.ylabel(f\"PC2: {get_top_features(components_df, 'PC2')[0]}\")\n",
    "plt.legend()\n",
    "plt.savefig('./results/OCSVM_PCA_hard.png')\n",
    "plt.show()\n",
    "\n",
    "# Soft Margin OCSVM\n",
    "# Has 8 outliers at n=0.3\n",
    "soft_ocsvm = OneClassSVM(kernel='rbf', gamma=0.01, nu=0.3)\n",
    "soft_ocsvm.fit(X_pca)\n",
    "\n",
    "# Predict the decision function (distance to the decision boundary)\n",
    "soft_decision_function = soft_ocsvm.decision_function(X_pca)\n",
    "soft_pred = soft_ocsvm.predict(X_pca)\n",
    "\n",
    "# Plot decision boundary and margins\n",
    "xx, yy = np.meshgrid(np.linspace(X_pca[:, 0].min() - 1, X_pca[:, 0].max() + 1, 500),\n",
    "                     np.linspace(X_pca[:, 1].min() - 1, X_pca[:, 1].max() + 1, 500))\n",
    "\n",
    "Z = soft_ocsvm.decision_function(np.c_[xx.ravel(), yy.ravel()])\n",
    "Z = Z.reshape(xx.shape)\n",
    "\n",
    "# Plot decision function as a contour plot\n",
    "plt.contourf(xx, yy, Z, levels=np.linspace(Z.min(), 0, 7), cmap=plt.cm.Blues_r)\n",
    "plt.contour(xx, yy, Z, levels=[0], linewidths=2, colors='black')\n",
    "plt.contourf(xx, yy, Z, levels=[0, Z.max()], colors='white')\n",
    "\n",
    "plt.scatter(X_pca[soft_pred == 1][:, 0], X_pca[soft_pred == 1][:, 1], \n",
    "            c='blue', label='Inliers (nat)', edgecolors='k', s=60)\n",
    "plt.scatter(X_pca[soft_pred == -1][:, 0], X_pca[soft_pred == -1][:, 1], \n",
    "            c='red', label='Outliers (con)', edgecolors='k', s=60)\n",
    "\n",
    "for i, corpus_value in enumerate(data['Corpus'].values):\n",
    "    if soft_pred[i] == -1: \n",
    "        plt.annotate(\n",
    "            corpus_value, \n",
    "            (X_pca[i, 0], X_pca[i, 1]), \n",
    "            textcoords=\"offset points\", xytext=(0, 0), \n",
    "            ha='center', va='center',  \n",
    "            fontsize=9, color='black',\n",
    "            bbox=dict(facecolor='white', alpha=0.6)  \n",
    "        )\n",
    "\n",
    "plt.title('One-Class SVM Decision Boundary, Soft Margin (PCA)')\n",
    "plt.xlabel(f\"PC1: {get_top_features(components_df, 'PC1')[0]}\")\n",
    "plt.ylabel(f\"PC2: {get_top_features(components_df, 'PC2')[0]}\")\n",
    "plt.legend()\n",
    "plt.savefig('./results/OCSVM_PCA_soft.png')\n",
    "plt.show()"
   ]
  },
  {
   "cell_type": "markdown",
   "metadata": {},
   "source": [
    "### Isolation Forest"
   ]
  },
  {
   "cell_type": "code",
   "execution_count": 56,
   "metadata": {},
   "outputs": [
    {
     "name": "stdout",
     "output_type": "stream",
     "text": [
      "max_samples           0.5\n",
      "contamination        0.25\n",
      "n_estimators            5\n",
      "max_features          1.0\n",
      "bootstrap           False\n",
      "precision        0.666667\n",
      "recall           0.666667\n",
      "f1               0.666667\n",
      "Name: 4168, dtype: object\n",
      "{'eo': (-1, 1), 'nl': (1, 1), 'is': (1, 1), 'pl': (1, 1), 'fr': (1, 1), 'vo': (-1, -1), 'af': (1, 1), 'vi': (1, -1), 'oc': (1, 1), 'en': (1, 1), 'it': (1, 1), 'ia': (-1, 1), 'sv': (1, 1), 'lfn': (-1, -1), 'da': (1, 1), 'hu': (1, 1), 'id': (1, 1), 'tl': (1, 1), 'tr': (1, 1), 'io': (-1, -1), 'es': (1, 1), 'fi': (1, -1), 'de': (1, 1), 'avk': (-1, -1)}\n"
     ]
    },
    {
     "data": {
      "image/png": "[encoded data removed]",
      "text/plain": [
       "<Figure size 640x480 with 2 Axes>"
      ]
     },
     "metadata": {},
     "output_type": "display_data"
    },
    {
     "data": {
      "image/png": "[encoded data removed]",
      "text/plain": [
       "<Figure size 800x600 with 1 Axes>"
      ]
     },
     "metadata": {},
     "output_type": "display_data"
    },
    {
     "data": {
      "image/png": "[encoded data removed]",
      "text/plain": [
       "<Figure size 800x670 with 2 Axes>"
      ]
     },
     "metadata": {},
     "output_type": "display_data"
    }
   ],
   "source": [
    "# Finetuning IF\n",
    "X_train, y = data.iloc[:,2:].values.round(decimals=3), data.iloc[:,1].map({'con':-1, 'nat':1}).values\n",
    "\n",
    "param_grid = {\n",
    "    'max_samples': ['auto', 0.1, 0.3, 0.5, 0.7, 0.9, len(X_train)],\n",
    "    'contamination': ['auto', 0.01, 0.03, 0.05, 0.1, 0.2, 0.25, 0.5],\n",
    "    'n_estimators': [5, 10, 15, 20, 50, 100, 200, 300],\n",
    "    'max_features': [0.1, 0.3, 0.5, 0.7, 1.0],\n",
    "    'bootstrap': [True, False],\n",
    "}\n",
    "\n",
    "grid = ParameterGrid(param_grid=param_grid)\n",
    "results = []\n",
    "for params in grid:\n",
    "    ifo = IsolationForest(\n",
    "        max_samples=params['max_samples'], \n",
    "        contamination=params['contamination'], \n",
    "        n_estimators=params['n_estimators'], \n",
    "        max_features=params['max_features'], \n",
    "        bootstrap=params['bootstrap'],\n",
    "        random_state=42, \n",
    "        n_jobs=-1\n",
    "        )\n",
    "    y_pred = ifo.fit_predict(X_train)\n",
    "    precision = precision_score(y, y_pred, pos_label=-1, zero_division=0.0)\n",
    "    recall = recall_score(y, y_pred, pos_label=-1, zero_division=0.0)\n",
    "    f1 = f1_score(y, y_pred, pos_label=-1, zero_division=0.0)\n",
    "    \n",
    "    results.append({\n",
    "        'max_samples': params['max_samples'],\n",
    "        'contamination': params['contamination'],\n",
    "        'n_estimators': params['n_estimators'],\n",
    "        'max_features': params['max_features'],\n",
    "        'bootstrap': params['bootstrap'],\n",
    "        'precision': precision,\n",
    "        'recall': recall,\n",
    "        'f1': f1,\n",
    "    })\n",
    "    \n",
    "if_finetuning_df = pd.DataFrame(results)\n",
    "if_finetuning_df.to_csv('./results/if_finetuning_df.csv')\n",
    "# if_finetuning_df = pd.read_csv('./results/if_finetuning_df.csv')\n",
    "# Best parameters based on f1 score\n",
    "best_params = if_finetuning_df.sort_values(by='f1', ascending=False).iloc[0]\n",
    "print(best_params)\n",
    "\n",
    "# Evaluating fine-tuned model\n",
    "ifo = IsolationForest(\n",
    "    max_samples=float(best_params['max_samples']),\n",
    "    contamination=float(best_params['contamination']),\n",
    "    n_estimators=best_params['n_estimators'],\n",
    "    max_features=best_params['max_features'],\n",
    "    bootstrap=best_params['bootstrap'],\n",
    "    random_state=42,\n",
    "    n_jobs=-1,\n",
    ")\n",
    "\n",
    "y_pred = ifo.fit_predict(X_train)\n",
    "decision_scores = ifo.decision_function(X_train)\n",
    "print({n: (y, y_pred) for n, (y, y_pred) in zip(data['Corpus'].values, zip(y, y_pred))})\n",
    "\n",
    "cm = confusion_matrix(y, y_pred)\n",
    "disp = ConfusionMatrixDisplay(cm)\n",
    "disp.plot(cmap=plt.cm.Blues)\n",
    "plt.title('Confusion Matrix')\n",
    "plt.savefig('./results/CM_if.png')\n",
    "plt.show()\n",
    "\n",
    "plt.figure(figsize=(8, 6))\n",
    "plt.scatter(X_train[y_pred == 1][:, 0], X_train[y_pred == 1][:, 1], label=\"Inliers\", c='blue', s=60)\n",
    "plt.scatter(X_train[y_pred == -1][:, 0], X_train[y_pred == -1][:, 1], label=\"Outliers\", c='red', s=60)\n",
    "for i, txt in enumerate(data['Corpus']):\n",
    "    if y_pred[i] == -1: \n",
    "        plt.text(X_train[i, 0] + 0.02, X_train[i, 1] + 0.02, txt, fontsize=9, color='black',\n",
    "                 ha='center', va='bottom', bbox=dict(facecolor='white', alpha=0.6))\n",
    "# plt.title(\"Isolation Forest Outliers\")\n",
    "plt.legend()\n",
    "plt.savefig('./results/IF_outliers.png')\n",
    "plt.show()\n",
    "\n",
    "# # Permutation Feature Importances\n",
    "# perm_importances = permutation_importance(ifo, X, y, n_repeats=10, scoring='f1', random_state=42, n_jobs=-1)\n",
    "# perm_imp_df = pd.DataFrame({'Feature': data.columns[2:].values, 'Permutation Importance': perm_importances.importances_mean}).sort_values('Permutation Importance', ascending=False)\n",
    "# perm_imp_df.to_csv('./results/IF_permutation_importances_df.csv')\n",
    "\n",
    "# plt.figure(figsize=(6, 6))\n",
    "# plt.bar(perm_imp_df['Feature'], perm_imp_df['Permutation Importance'])\n",
    "# plt.xlabel('Feature')\n",
    "# plt.ylabel('Permutation Importance')\n",
    "# # plt.title('Permutation Feature Importance')\n",
    "# plt.xticks(rotation=45, ha='right')  \n",
    "# plt.tight_layout()\n",
    "# plt.savefig('./results/IF_permutation_importances.png')\n",
    "# plt.show()\n",
    "\n",
    "# SHAP Feature Importances\n",
    "shap_values = shap.TreeExplainer(ifo).shap_values(X_train)\n",
    "shap.summary_plot(shap_values, X_train, show=False, feature_names=data.iloc[:,2:].columns.values)\n",
    "plt.savefig(\"./results/IF_SHAP_values.png\")\n",
    "plt.show()\n",
    "\n",
    "# explainer = shap.Explainer(ifc)\n",
    "# shap_values = explainer(X_train)\n",
    "# shap.plots.waterfall(shap_values[0])\n",
    "\n",
    "# def global_shap_importance(model, X):\n",
    "#     \"\"\" Return a dataframe containing the features sorted by Shap importance\n",
    "#     Parameters\n",
    "#     ----------\n",
    "#     model : The tree-based model \n",
    "#     X : pd.Dataframe\n",
    "#          training set/test set/the whole dataset ... (without the label)\n",
    "#     Returns\n",
    "#     -------\n",
    "#     pd.Dataframe\n",
    "#         A dataframe containing the features sorted by Shap importance\n",
    "#     \"\"\"\n",
    "#     explainer = shap.Explainer(model)\n",
    "#     shap_values = explainer(X)\n",
    "#     cohorts = {\"\": shap_values}\n",
    "#     cohort_labels = list(cohorts.keys())\n",
    "#     cohort_exps = list(cohorts.values())\n",
    "#     for i in range(len(cohort_exps)):\n",
    "#         if len(cohort_exps[i].shape) == 2:\n",
    "#             cohort_exps[i] = cohort_exps[i].abs.mean(0)\n",
    "#     features = cohort_exps[0].data\n",
    "#     feature_names = cohort_exps[0].feature_names\n",
    "#     values = np.array([cohort_exps[i].values for i in range(len(cohort_exps))])\n",
    "#     feature_importance = pd.DataFrame(\n",
    "#         list(zip(feature_names, sum(values))), columns=['features', 'importance'])\n",
    "#     feature_importance.sort_values(\n",
    "#         by=['importance'], ascending=False, inplace=True)\n",
    "#     return feature_importance\n",
    "\n",
    "# disp = DecisionBoundaryDisplay.from_estimator(\n",
    "#     ifo,\n",
    "#     X_train,\n",
    "#     response_method=\"predict\",\n",
    "#     alpha=0.5,\n",
    "# )\n",
    "# disp.ax_.scatter(X_train[:,0], X_train[:,1], c=y, s=20, edgecolor=\"k\")\n",
    "# disp.ax_.set_title(\"Binary Decision Boundary \\nof Isolation Forest\")\n",
    "# plt.axis(\"square\")\n",
    "# plt.legend()\n",
    "# plt.show()"
   ]
  },
  {
   "cell_type": "markdown",
   "metadata": {},
   "source": [
    "#### IF with PCA"
   ]
  },
  {
   "cell_type": "code",
   "execution_count": 49,
   "metadata": {},
   "outputs": [
    {
     "data": {
      "application/vnd.plotly.v1+json": {
       "config": {
        "plotlyServerURL": "https://plot.ly"
       },
       "data": [
        {
         "diagonal": {
          "visible": false
         },
         "dimensions": [
          {
           "axis": {
            "matches": true
           },
           "label": "PC 1",
           "values": [
            -45.297528174051344,
            -73.72803786287835,
            -63.95327116382286,
            -73.00370358584493,
            -78.73518250485812,
            -51.3415380025453
           ]
          },
          {
           "axis": {
            "matches": true
           },
           "label": "PC 2",
           "values": [
            -4.263744083292706,
            -0.3113246752042763,
            -2.2396702447326464,
            -0.7381083586751949,
            -1.006931616688175,
            -4.991194773795982
           ]
          },
          {
           "axis": {
            "matches": true
           },
           "label": "PC 3",
           "values": [
            2.492719902087309,
            -10.33832503150863,
            1.5506234080283607,
            0.38176351463214153,
            -6.107548450140209,
            -4.494778286162067
           ]
          }
         ],
         "hovertemplate": "Type=con<br>%{xaxis.title.text}=%{x}<br>%{yaxis.title.text}=%{y}<extra></extra>",
         "legendgroup": "con",
         "marker": {
          "color": "#636efa",
          "symbol": "circle"
         },
         "name": "con",
         "showlegend": true,
         "type": "splom"
        },
        {
         "diagonal": {
          "visible": false
         },
         "dimensions": [
          {
           "axis": {
            "matches": true
           },
           "label": "PC 1",
           "values": [
            -38.78094699250046,
            2.598985839647971,
            166.13194400428262,
            -21.158785974690968,
            -53.13106289862712,
            -19.060854249381716,
            -25.782303550049523,
            -35.43046397420905,
            16.04582843234296,
            11.64500317198393,
            -6.415406323343062,
            57.27765501157899,
            -38.71236776773016,
            -68.62216449505834,
            178.0445509287496,
            -47.52441787450181,
            281.72064721468735,
            27.213420790819562
           ]
          },
          {
           "axis": {
            "matches": true
           },
           "label": "PC 2",
           "values": [
            -0.19566947669506496,
            -3.500024507895823,
            -0.6523666720260151,
            -0.0972458018158882,
            2.221887418690867,
            22.10463796919183,
            -2.146421489182726,
            1.2027384211049632,
            2.7430414637151688,
            -1.8343184298089015,
            -2.1785695611001823,
            -5.343556021662702,
            1.3950066672834318,
            0.3507043374114375,
            -0.3188579417138291,
            0.9030374736093123,
            1.4261028836262306,
            -2.5291529803431367
           ]
          },
          {
           "axis": {
            "matches": true
           },
           "label": "PC 3",
           "values": [
            -0.893389007773656,
            -1.4244087661313307,
            -0.04736619576611915,
            5.350040438698994,
            -0.0016756539858312275,
            -1.5293898220484565,
            1.219282135475659,
            2.14881655678961,
            7.410197268505058,
            0.26251574494579655,
            -0.8633433791427143,
            1.6191056944871185,
            -1.8996141252935899,
            1.5617138607164869,
            -0.5899376600575391,
            6.704082582365513,
            -2.9865400750777873,
            0.4754553463558893
           ]
          }
         ],
         "hovertemplate": "Type=nat<br>%{xaxis.title.text}=%{x}<br>%{yaxis.title.text}=%{y}<extra></extra>",
         "legendgroup": "nat",
         "marker": {
          "color": "#EF553B",
          "symbol": "circle"
         },
         "name": "nat",
         "showlegend": true,
         "type": "splom"
        }
       ],
       "layout": {
        "dragmode": "select",
        "legend": {
         "title": {
          "text": "Type"
         },
         "tracegroupgap": 0
        },
        "template": {
         "data": {
          "bar": [
           {
            "error_x": {
             "color": "#2a3f5f"
            },
            "error_y": {
             "color": "#2a3f5f"
            },
            "marker": {
             "line": {
              "color": "#E5ECF6",
              "width": 0.5
             },
             "pattern": {
              "fillmode": "overlay",
              "size": 10,
              "solidity": 0.2
             }
            },
            "type": "bar"
           }
          ],
          "barpolar": [
           {
            "marker": {
             "line": {
              "color": "#E5ECF6",
              "width": 0.5
             },
             "pattern": {
              "fillmode": "overlay",
              "size": 10,
              "solidity": 0.2
             }
            },
            "type": "barpolar"
           }
          ],
          "carpet": [
           {
            "aaxis": {
             "endlinecolor": "#2a3f5f",
             "gridcolor": "white",
             "linecolor": "white",
             "minorgridcolor": "white",
             "startlinecolor": "#2a3f5f"
            },
            "baxis": {
             "endlinecolor": "#2a3f5f",
             "gridcolor": "white",
             "linecolor": "white",
             "minorgridcolor": "white",
             "startlinecolor": "#2a3f5f"
            },
            "type": "carpet"
           }
          ],
          "choropleth": [
           {
            "colorbar": {
             "outlinewidth": 0,
             "ticks": ""
            },
            "type": "choropleth"
           }
          ],
          "contour": [
           {
            "colorbar": {
             "outlinewidth": 0,
             "ticks": ""
            },
            "colorscale": [
             [
              0,
              "#0d0887"
             ],
             [
              0.1111111111111111,
              "#46039f"
             ],
             [
              0.2222222222222222,
              "#7201a8"
             ],
             [
              0.3333333333333333,
              "#9c179e"
             ],
             [
              0.4444444444444444,
              "#bd3786"
             ],
             [
              0.5555555555555556,
              "#d8576b"
             ],
             [
              0.6666666666666666,
              "#ed7953"
             ],
             [
              0.7777777777777778,
              "#fb9f3a"
             ],
             [
              0.8888888888888888,
              "#fdca26"
             ],
             [
              1,
              "#f0f921"
             ]
            ],
            "type": "contour"
           }
          ],
          "contourcarpet": [
           {
            "colorbar": {
             "outlinewidth": 0,
             "ticks": ""
            },
            "type": "contourcarpet"
           }
          ],
          "heatmap": [
           {
            "colorbar": {
             "outlinewidth": 0,
             "ticks": ""
            },
            "colorscale": [
             [
              0,
              "#0d0887"
             ],
             [
              0.1111111111111111,
              "#46039f"
             ],
             [
              0.2222222222222222,
              "#7201a8"
             ],
             [
              0.3333333333333333,
              "#9c179e"
             ],
             [
              0.4444444444444444,
              "#bd3786"
             ],
             [
              0.5555555555555556,
              "#d8576b"
             ],
             [
              0.6666666666666666,
              "#ed7953"
             ],
             [
              0.7777777777777778,
              "#fb9f3a"
             ],
             [
              0.8888888888888888,
              "#fdca26"
             ],
             [
              1,
              "#f0f921"
             ]
            ],
            "type": "heatmap"
           }
          ],
          "heatmapgl": [
           {
            "colorbar": {
             "outlinewidth": 0,
             "ticks": ""
            },
            "colorscale": [
             [
              0,
              "#0d0887"
             ],
             [
              0.1111111111111111,
              "#46039f"
             ],
             [
              0.2222222222222222,
              "#7201a8"
             ],
             [
              0.3333333333333333,
              "#9c179e"
             ],
             [
              0.4444444444444444,
              "#bd3786"
             ],
             [
              0.5555555555555556,
              "#d8576b"
             ],
             [
              0.6666666666666666,
              "#ed7953"
             ],
             [
              0.7777777777777778,
              "#fb9f3a"
             ],
             [
              0.8888888888888888,
              "#fdca26"
             ],
             [
              1,
              "#f0f921"
             ]
            ],
            "type": "heatmapgl"
           }
          ],
          "histogram": [
           {
            "marker": {
             "pattern": {
              "fillmode": "overlay",
              "size": 10,
              "solidity": 0.2
             }
            },
            "type": "histogram"
           }
          ],
          "histogram2d": [
           {
            "colorbar": {
             "outlinewidth": 0,
             "ticks": ""
            },
            "colorscale": [
             [
              0,
              "#0d0887"
             ],
             [
              0.1111111111111111,
              "#46039f"
             ],
             [
              0.2222222222222222,
              "#7201a8"
             ],
             [
              0.3333333333333333,
              "#9c179e"
             ],
             [
              0.4444444444444444,
              "#bd3786"
             ],
             [
              0.5555555555555556,
              "#d8576b"
             ],
             [
              0.6666666666666666,
              "#ed7953"
             ],
             [
              0.7777777777777778,
              "#fb9f3a"
             ],
             [
              0.8888888888888888,
              "#fdca26"
             ],
             [
              1,
              "#f0f921"
             ]
            ],
            "type": "histogram2d"
           }
          ],
          "histogram2dcontour": [
           {
            "colorbar": {
             "outlinewidth": 0,
             "ticks": ""
            },
            "colorscale": [
             [
              0,
              "#0d0887"
             ],
             [
              0.1111111111111111,
              "#46039f"
             ],
             [
              0.2222222222222222,
              "#7201a8"
             ],
             [
              0.3333333333333333,
              "#9c179e"
             ],
             [
              0.4444444444444444,
              "#bd3786"
             ],
             [
              0.5555555555555556,
              "#d8576b"
             ],
             [
              0.6666666666666666,
              "#ed7953"
             ],
             [
              0.7777777777777778,
              "#fb9f3a"
             ],
             [
              0.8888888888888888,
              "#fdca26"
             ],
             [
              1,
              "#f0f921"
             ]
            ],
            "type": "histogram2dcontour"
           }
          ],
          "mesh3d": [
           {
            "colorbar": {
             "outlinewidth": 0,
             "ticks": ""
            },
            "type": "mesh3d"
           }
          ],
          "parcoords": [
           {
            "line": {
             "colorbar": {
              "outlinewidth": 0,
              "ticks": ""
             }
            },
            "type": "parcoords"
           }
          ],
          "pie": [
           {
            "automargin": true,
            "type": "pie"
           }
          ],
          "scatter": [
           {
            "fillpattern": {
             "fillmode": "overlay",
             "size": 10,
             "solidity": 0.2
            },
            "type": "scatter"
           }
          ],
          "scatter3d": [
           {
            "line": {
             "colorbar": {
              "outlinewidth": 0,
              "ticks": ""
             }
            },
            "marker": {
             "colorbar": {
              "outlinewidth": 0,
              "ticks": ""
             }
            },
            "type": "scatter3d"
           }
          ],
          "scattercarpet": [
           {
            "marker": {
             "colorbar": {
              "outlinewidth": 0,
              "ticks": ""
             }
            },
            "type": "scattercarpet"
           }
          ],
          "scattergeo": [
           {
            "marker": {
             "colorbar": {
              "outlinewidth": 0,
              "ticks": ""
             }
            },
            "type": "scattergeo"
           }
          ],
          "scattergl": [
           {
            "marker": {
             "colorbar": {
              "outlinewidth": 0,
              "ticks": ""
             }
            },
            "type": "scattergl"
           }
          ],
          "scattermapbox": [
           {
            "marker": {
             "colorbar": {
              "outlinewidth": 0,
              "ticks": ""
             }
            },
            "type": "scattermapbox"
           }
          ],
          "scatterpolar": [
           {
            "marker": {
             "colorbar": {
              "outlinewidth": 0,
              "ticks": ""
             }
            },
            "type": "scatterpolar"
           }
          ],
          "scatterpolargl": [
           {
            "marker": {
             "colorbar": {
              "outlinewidth": 0,
              "ticks": ""
             }
            },
            "type": "scatterpolargl"
           }
          ],
          "scatterternary": [
           {
            "marker": {
             "colorbar": {
              "outlinewidth": 0,
              "ticks": ""
             }
            },
            "type": "scatterternary"
           }
          ],
          "surface": [
           {
            "colorbar": {
             "outlinewidth": 0,
             "ticks": ""
            },
            "colorscale": [
             [
              0,
              "#0d0887"
             ],
             [
              0.1111111111111111,
              "#46039f"
             ],
             [
              0.2222222222222222,
              "#7201a8"
             ],
             [
              0.3333333333333333,
              "#9c179e"
             ],
             [
              0.4444444444444444,
              "#bd3786"
             ],
             [
              0.5555555555555556,
              "#d8576b"
             ],
             [
              0.6666666666666666,
              "#ed7953"
             ],
             [
              0.7777777777777778,
              "#fb9f3a"
             ],
             [
              0.8888888888888888,
              "#fdca26"
             ],
             [
              1,
              "#f0f921"
             ]
            ],
            "type": "surface"
           }
          ],
          "table": [
           {
            "cells": {
             "fill": {
              "color": "#EBF0F8"
             },
             "line": {
              "color": "white"
             }
            },
            "header": {
             "fill": {
              "color": "#C8D4E3"
             },
             "line": {
              "color": "white"
             }
            },
            "type": "table"
           }
          ]
         },
         "layout": {
          "annotationdefaults": {
           "arrowcolor": "#2a3f5f",
           "arrowhead": 0,
           "arrowwidth": 1
          },
          "autotypenumbers": "strict",
          "coloraxis": {
           "colorbar": {
            "outlinewidth": 0,
            "ticks": ""
           }
          },
          "colorscale": {
           "diverging": [
            [
             0,
             "#8e0152"
            ],
            [
             0.1,
             "#c51b7d"
            ],
            [
             0.2,
             "#de77ae"
            ],
            [
             0.3,
             "#f1b6da"
            ],
            [
             0.4,
             "#fde0ef"
            ],
            [
             0.5,
             "#f7f7f7"
            ],
            [
             0.6,
             "#e6f5d0"
            ],
            [
             0.7,
             "#b8e186"
            ],
            [
             0.8,
             "#7fbc41"
            ],
            [
             0.9,
             "#4d9221"
            ],
            [
             1,
             "#276419"
            ]
           ],
           "sequential": [
            [
             0,
             "#0d0887"
            ],
            [
             0.1111111111111111,
             "#46039f"
            ],
            [
             0.2222222222222222,
             "#7201a8"
            ],
            [
             0.3333333333333333,
             "#9c179e"
            ],
            [
             0.4444444444444444,
             "#bd3786"
            ],
            [
             0.5555555555555556,
             "#d8576b"
            ],
            [
             0.6666666666666666,
             "#ed7953"
            ],
            [
             0.7777777777777778,
             "#fb9f3a"
            ],
            [
             0.8888888888888888,
             "#fdca26"
            ],
            [
             1,
             "#f0f921"
            ]
           ],
           "sequentialminus": [
            [
             0,
             "#0d0887"
            ],
            [
             0.1111111111111111,
             "#46039f"
            ],
            [
             0.2222222222222222,
             "#7201a8"
            ],
            [
             0.3333333333333333,
             "#9c179e"
            ],
            [
             0.4444444444444444,
             "#bd3786"
            ],
            [
             0.5555555555555556,
             "#d8576b"
            ],
            [
             0.6666666666666666,
             "#ed7953"
            ],
            [
             0.7777777777777778,
             "#fb9f3a"
            ],
            [
             0.8888888888888888,
             "#fdca26"
            ],
            [
             1,
             "#f0f921"
            ]
           ]
          },
          "colorway": [
           "#636efa",
           "#EF553B",
           "#00cc96",
           "#ab63fa",
           "#FFA15A",
           "#19d3f3",
           "#FF6692",
           "#B6E880",
           "#FF97FF",
           "#FECB52"
          ],
          "font": {
           "color": "#2a3f5f"
          },
          "geo": {
           "bgcolor": "white",
           "lakecolor": "white",
           "landcolor": "#E5ECF6",
           "showlakes": true,
           "showland": true,
           "subunitcolor": "white"
          },
          "hoverlabel": {
           "align": "left"
          },
          "hovermode": "closest",
          "mapbox": {
           "style": "light"
          },
          "paper_bgcolor": "white",
          "plot_bgcolor": "#E5ECF6",
          "polar": {
           "angularaxis": {
            "gridcolor": "white",
            "linecolor": "white",
            "ticks": ""
           },
           "bgcolor": "#E5ECF6",
           "radialaxis": {
            "gridcolor": "white",
            "linecolor": "white",
            "ticks": ""
           }
          },
          "scene": {
           "xaxis": {
            "backgroundcolor": "#E5ECF6",
            "gridcolor": "white",
            "gridwidth": 2,
            "linecolor": "white",
            "showbackground": true,
            "ticks": "",
            "zerolinecolor": "white"
           },
           "yaxis": {
            "backgroundcolor": "#E5ECF6",
            "gridcolor": "white",
            "gridwidth": 2,
            "linecolor": "white",
            "showbackground": true,
            "ticks": "",
            "zerolinecolor": "white"
           },
           "zaxis": {
            "backgroundcolor": "#E5ECF6",
            "gridcolor": "white",
            "gridwidth": 2,
            "linecolor": "white",
            "showbackground": true,
            "ticks": "",
            "zerolinecolor": "white"
           }
          },
          "shapedefaults": {
           "line": {
            "color": "#2a3f5f"
           }
          },
          "ternary": {
           "aaxis": {
            "gridcolor": "white",
            "linecolor": "white",
            "ticks": ""
           },
           "baxis": {
            "gridcolor": "white",
            "linecolor": "white",
            "ticks": ""
           },
           "bgcolor": "#E5ECF6",
           "caxis": {
            "gridcolor": "white",
            "linecolor": "white",
            "ticks": ""
           }
          },
          "title": {
           "x": 0.05
          },
          "xaxis": {
           "automargin": true,
           "gridcolor": "white",
           "linecolor": "white",
           "ticks": "",
           "title": {
            "standoff": 15
           },
           "zerolinecolor": "white",
           "zerolinewidth": 2
          },
          "yaxis": {
           "automargin": true,
           "gridcolor": "white",
           "linecolor": "white",
           "ticks": "",
           "title": {
            "standoff": 15
           },
           "zerolinecolor": "white",
           "zerolinewidth": 2
          }
         }
        },
        "title": {
         "text": "Total Explained Variance: 99.94%"
        }
       }
      }
     },
     "metadata": {},
     "output_type": "display_data"
    }
   ],
   "source": [
    "n_components = 3\n",
    "pca = PCA(n_components=n_components)\n",
    "components = pca.fit_transform(data.iloc[:,2:].values.round(decimals=3))\n",
    "\n",
    "total_var = pca.explained_variance_ratio_.sum() * 100\n",
    "\n",
    "labels = {str(i): f\"PC {i+1}\" for i in range(n_components)}\n",
    "labels['color'] = 'Type'\n",
    "\n",
    "fig = px.scatter_matrix(\n",
    "    components,\n",
    "    color=data['Type'],\n",
    "    dimensions=range(n_components),\n",
    "    labels=labels,\n",
    "    title=f'Total Explained Variance: {total_var:.2f}%',\n",
    ")\n",
    "fig.update_traces(diagonal_visible=False)\n",
    "fig.show()"
   ]
  },
  {
   "cell_type": "code",
   "execution_count": 50,
   "metadata": {},
   "outputs": [
    {
     "data": {
      "text/html": [
       "<div>\n",
       "<style scoped>\n",
       "    .dataframe tbody tr th:only-of-type {\n",
       "        vertical-align: middle;\n",
       "    }\n",
       "\n",
       "    .dataframe tbody tr th {\n",
       "        vertical-align: top;\n",
       "    }\n",
       "\n",
       "    .dataframe thead th {\n",
       "        text-align: right;\n",
       "    }\n",
       "</style>\n",
       "<table border=\"1\" class=\"dataframe\">\n",
       "  <thead>\n",
       "    <tr style=\"text-align: right;\">\n",
       "      <th></th>\n",
       "      <th>Corpus</th>\n",
       "      <th>Decision Function Scores</th>\n",
       "    </tr>\n",
       "  </thead>\n",
       "  <tbody>\n",
       "    <tr>\n",
       "      <th>0</th>\n",
       "      <td>eo</td>\n",
       "      <td>0.150235</td>\n",
       "    </tr>\n",
       "    <tr>\n",
       "      <th>1</th>\n",
       "      <td>nl</td>\n",
       "      <td>0.151677</td>\n",
       "    </tr>\n",
       "    <tr>\n",
       "      <th>2</th>\n",
       "      <td>is</td>\n",
       "      <td>0.122053</td>\n",
       "    </tr>\n",
       "    <tr>\n",
       "      <th>3</th>\n",
       "      <td>pl</td>\n",
       "      <td>0.024462</td>\n",
       "    </tr>\n",
       "    <tr>\n",
       "      <th>4</th>\n",
       "      <td>fr</td>\n",
       "      <td>0.148364</td>\n",
       "    </tr>\n",
       "    <tr>\n",
       "      <th>5</th>\n",
       "      <td>vo</td>\n",
       "      <td>-0.126502</td>\n",
       "    </tr>\n",
       "    <tr>\n",
       "      <th>6</th>\n",
       "      <td>af</td>\n",
       "      <td>0.135837</td>\n",
       "    </tr>\n",
       "    <tr>\n",
       "      <th>7</th>\n",
       "      <td>vi</td>\n",
       "      <td>-0.092493</td>\n",
       "    </tr>\n",
       "    <tr>\n",
       "      <th>8</th>\n",
       "      <td>oc</td>\n",
       "      <td>0.123770</td>\n",
       "    </tr>\n",
       "    <tr>\n",
       "      <th>9</th>\n",
       "      <td>en</td>\n",
       "      <td>0.089359</td>\n",
       "    </tr>\n",
       "    <tr>\n",
       "      <th>10</th>\n",
       "      <td>it</td>\n",
       "      <td>0.132628</td>\n",
       "    </tr>\n",
       "    <tr>\n",
       "      <th>11</th>\n",
       "      <td>ia</td>\n",
       "      <td>0.089858</td>\n",
       "    </tr>\n",
       "    <tr>\n",
       "      <th>12</th>\n",
       "      <td>sv</td>\n",
       "      <td>0.128344</td>\n",
       "    </tr>\n",
       "    <tr>\n",
       "      <th>13</th>\n",
       "      <td>lfn</td>\n",
       "      <td>-0.000192</td>\n",
       "    </tr>\n",
       "    <tr>\n",
       "      <th>14</th>\n",
       "      <td>da</td>\n",
       "      <td>0.129431</td>\n",
       "    </tr>\n",
       "    <tr>\n",
       "      <th>15</th>\n",
       "      <td>hu</td>\n",
       "      <td>0.091267</td>\n",
       "    </tr>\n",
       "    <tr>\n",
       "      <th>16</th>\n",
       "      <td>id</td>\n",
       "      <td>0.068950</td>\n",
       "    </tr>\n",
       "    <tr>\n",
       "      <th>17</th>\n",
       "      <td>tl</td>\n",
       "      <td>0.120735</td>\n",
       "    </tr>\n",
       "    <tr>\n",
       "      <th>18</th>\n",
       "      <td>tr</td>\n",
       "      <td>0.005986</td>\n",
       "    </tr>\n",
       "    <tr>\n",
       "      <th>19</th>\n",
       "      <td>io</td>\n",
       "      <td>-0.081533</td>\n",
       "    </tr>\n",
       "    <tr>\n",
       "      <th>20</th>\n",
       "      <td>es</td>\n",
       "      <td>0.129444</td>\n",
       "    </tr>\n",
       "    <tr>\n",
       "      <th>21</th>\n",
       "      <td>fi</td>\n",
       "      <td>0.000128</td>\n",
       "    </tr>\n",
       "    <tr>\n",
       "      <th>22</th>\n",
       "      <td>de</td>\n",
       "      <td>0.080861</td>\n",
       "    </tr>\n",
       "    <tr>\n",
       "      <th>23</th>\n",
       "      <td>avk</td>\n",
       "      <td>-0.037390</td>\n",
       "    </tr>\n",
       "  </tbody>\n",
       "</table>\n",
       "</div>"
      ],
      "text/plain": [
       "   Corpus  Decision Function Scores\n",
       "0      eo                  0.150235\n",
       "1      nl                  0.151677\n",
       "2      is                  0.122053\n",
       "3      pl                  0.024462\n",
       "4      fr                  0.148364\n",
       "5      vo                 -0.126502\n",
       "6      af                  0.135837\n",
       "7      vi                 -0.092493\n",
       "8      oc                  0.123770\n",
       "9      en                  0.089359\n",
       "10     it                  0.132628\n",
       "11     ia                  0.089858\n",
       "12     sv                  0.128344\n",
       "13    lfn                 -0.000192\n",
       "14     da                  0.129431\n",
       "15     hu                  0.091267\n",
       "16     id                  0.068950\n",
       "17     tl                  0.120735\n",
       "18     tr                  0.005986\n",
       "19     io                 -0.081533\n",
       "20     es                  0.129444\n",
       "21     fi                  0.000128\n",
       "22     de                  0.080861\n",
       "23    avk                 -0.037390"
      ]
     },
     "metadata": {},
     "output_type": "display_data"
    }
   ],
   "source": [
    "score = ifo.decision_function(X_train)\n",
    "score_df = pd.DataFrame(score, columns=['Decision Function Scores'])\n",
    "data_scores = pd.concat([data['Corpus'], score_df], axis=1)\n",
    "display(data_scores)"
   ]
  },
  {
   "cell_type": "code",
   "execution_count": 51,
   "metadata": {},
   "outputs": [
    {
     "data": {
      "application/vnd.plotly.v1+json": {
       "config": {
        "plotlyServerURL": "https://plot.ly"
       },
       "data": [
        {
         "diagonal": {
          "visible": false
         },
         "dimensions": [
          {
           "axis": {
            "matches": true
           },
           "label": "PC 1",
           "values": [
            -45.29715388024705,
            -38.78058213328345,
            2.5992978711641026,
            166.13204573521926,
            -21.158442801631107,
            -73.72915780363647,
            -53.130679752307024,
            -19.062045476262114,
            -25.78195493434928,
            -35.43010318132345,
            16.046123871524664,
            -63.9528733850762,
            11.645303638012496,
            -73.00482246809803,
            -6.4150828068430386,
            57.27789758525966,
            -38.712003439875936,
            -68.62176095912153,
            178.04463721448266,
            -78.73629515763838,
            -47.52404067748551,
            281.7206765222637,
            27.213701414072997,
            -51.34268499482114
           ]
          },
          {
           "axis": {
            "matches": true
           },
           "label": "PC 2",
           "values": [
            -4.262994280474782,
            -0.19593739419519904,
            -3.4991566158862444,
            -0.6446315410271151,
            -0.09402360787895839,
            -0.3194941851514148,
            2.221637831237838,
            22.103812077740024,
            -2.145348799290788,
            1.204101432065078,
            2.748739975191159,
            -2.239886498140361,
            -1.832276439136019,
            -0.7413885701876424,
            -2.1777184529992413,
            -5.339458556688359,
            1.3944299359460737,
            0.35044498538841207,
            -0.31088623241673985,
            -1.0134352673978335,
            0.9059242845087734,
            1.410179296893912,
            -2.526497548029039,
            -4.996135830071583
           ]
          },
          {
           "axis": {
            "matches": true
           },
           "label": "PC 3",
           "values": [
            2.497643311289718,
            -0.894983577787252,
            -1.4279207957701427,
            -0.06880391897727851,
            5.350755933290908,
            -10.333065971213879,
            -0.00331777195104765,
            -1.5431803123378316,
            1.2194819923779825,
            2.147549466514725,
            7.406060045376227,
            1.5549934514820176,
            0.25793532276496123,
            0.39401611190790037,
            -0.866597069661834,
            1.6139629980946704,
            -1.903411056474963,
            1.5644247230555042,
            -0.6133104048410629,
            -6.098356535602006,
            6.707596613424203,
            -2.947300991462024,
            0.4701066880737985,
            -4.484278251573315
           ]
          }
         ],
         "hovertemplate": "%{xaxis.title.text}=%{x}<br>%{yaxis.title.text}=%{y}<br>Type=%{marker.color}<extra></extra>",
         "legendgroup": "",
         "marker": {
          "color": [
           0,
           0,
           0,
           0,
           0,
           1,
           0,
           1,
           0,
           0,
           0,
           0,
           0,
           1,
           0,
           0,
           0,
           0,
           0,
           1,
           0,
           0,
           0,
           1
          ],
          "coloraxis": "coloraxis",
          "symbol": "circle"
         },
         "name": "",
         "showlegend": false,
         "type": "splom"
        }
       ],
       "layout": {
        "coloraxis": {
         "colorbar": {
          "title": {
           "text": "Type"
          }
         },
         "colorscale": [
          [
           0,
           "#0d0887"
          ],
          [
           0.1111111111111111,
           "#46039f"
          ],
          [
           0.2222222222222222,
           "#7201a8"
          ],
          [
           0.3333333333333333,
           "#9c179e"
          ],
          [
           0.4444444444444444,
           "#bd3786"
          ],
          [
           0.5555555555555556,
           "#d8576b"
          ],
          [
           0.6666666666666666,
           "#ed7953"
          ],
          [
           0.7777777777777778,
           "#fb9f3a"
          ],
          [
           0.8888888888888888,
           "#fdca26"
          ],
          [
           1,
           "#f0f921"
          ]
         ]
        },
        "dragmode": "select",
        "legend": {
         "tracegroupgap": 0
        },
        "template": {
         "data": {
          "bar": [
           {
            "error_x": {
             "color": "#2a3f5f"
            },
            "error_y": {
             "color": "#2a3f5f"
            },
            "marker": {
             "line": {
              "color": "#E5ECF6",
              "width": 0.5
             },
             "pattern": {
              "fillmode": "overlay",
              "size": 10,
              "solidity": 0.2
             }
            },
            "type": "bar"
           }
          ],
          "barpolar": [
           {
            "marker": {
             "line": {
              "color": "#E5ECF6",
              "width": 0.5
             },
             "pattern": {
              "fillmode": "overlay",
              "size": 10,
              "solidity": 0.2
             }
            },
            "type": "barpolar"
           }
          ],
          "carpet": [
           {
            "aaxis": {
             "endlinecolor": "#2a3f5f",
             "gridcolor": "white",
             "linecolor": "white",
             "minorgridcolor": "white",
             "startlinecolor": "#2a3f5f"
            },
            "baxis": {
             "endlinecolor": "#2a3f5f",
             "gridcolor": "white",
             "linecolor": "white",
             "minorgridcolor": "white",
             "startlinecolor": "#2a3f5f"
            },
            "type": "carpet"
           }
          ],
          "choropleth": [
           {
            "colorbar": {
             "outlinewidth": 0,
             "ticks": ""
            },
            "type": "choropleth"
           }
          ],
          "contour": [
           {
            "colorbar": {
             "outlinewidth": 0,
             "ticks": ""
            },
            "colorscale": [
             [
              0,
              "#0d0887"
             ],
             [
              0.1111111111111111,
              "#46039f"
             ],
             [
              0.2222222222222222,
              "#7201a8"
             ],
             [
              0.3333333333333333,
              "#9c179e"
             ],
             [
              0.4444444444444444,
              "#bd3786"
             ],
             [
              0.5555555555555556,
              "#d8576b"
             ],
             [
              0.6666666666666666,
              "#ed7953"
             ],
             [
              0.7777777777777778,
              "#fb9f3a"
             ],
             [
              0.8888888888888888,
              "#fdca26"
             ],
             [
              1,
              "#f0f921"
             ]
            ],
            "type": "contour"
           }
          ],
          "contourcarpet": [
           {
            "colorbar": {
             "outlinewidth": 0,
             "ticks": ""
            },
            "type": "contourcarpet"
           }
          ],
          "heatmap": [
           {
            "colorbar": {
             "outlinewidth": 0,
             "ticks": ""
            },
            "colorscale": [
             [
              0,
              "#0d0887"
             ],
             [
              0.1111111111111111,
              "#46039f"
             ],
             [
              0.2222222222222222,
              "#7201a8"
             ],
             [
              0.3333333333333333,
              "#9c179e"
             ],
             [
              0.4444444444444444,
              "#bd3786"
             ],
             [
              0.5555555555555556,
              "#d8576b"
             ],
             [
              0.6666666666666666,
              "#ed7953"
             ],
             [
              0.7777777777777778,
              "#fb9f3a"
             ],
             [
              0.8888888888888888,
              "#fdca26"
             ],
             [
              1,
              "#f0f921"
             ]
            ],
            "type": "heatmap"
           }
          ],
          "heatmapgl": [
           {
            "colorbar": {
             "outlinewidth": 0,
             "ticks": ""
            },
            "colorscale": [
             [
              0,
              "#0d0887"
             ],
             [
              0.1111111111111111,
              "#46039f"
             ],
             [
              0.2222222222222222,
              "#7201a8"
             ],
             [
              0.3333333333333333,
              "#9c179e"
             ],
             [
              0.4444444444444444,
              "#bd3786"
             ],
             [
              0.5555555555555556,
              "#d8576b"
             ],
             [
              0.6666666666666666,
              "#ed7953"
             ],
             [
              0.7777777777777778,
              "#fb9f3a"
             ],
             [
              0.8888888888888888,
              "#fdca26"
             ],
             [
              1,
              "#f0f921"
             ]
            ],
            "type": "heatmapgl"
           }
          ],
          "histogram": [
           {
            "marker": {
             "pattern": {
              "fillmode": "overlay",
              "size": 10,
              "solidity": 0.2
             }
            },
            "type": "histogram"
           }
          ],
          "histogram2d": [
           {
            "colorbar": {
             "outlinewidth": 0,
             "ticks": ""
            },
            "colorscale": [
             [
              0,
              "#0d0887"
             ],
             [
              0.1111111111111111,
              "#46039f"
             ],
             [
              0.2222222222222222,
              "#7201a8"
             ],
             [
              0.3333333333333333,
              "#9c179e"
             ],
             [
              0.4444444444444444,
              "#bd3786"
             ],
             [
              0.5555555555555556,
              "#d8576b"
             ],
             [
              0.6666666666666666,
              "#ed7953"
             ],
             [
              0.7777777777777778,
              "#fb9f3a"
             ],
             [
              0.8888888888888888,
              "#fdca26"
             ],
             [
              1,
              "#f0f921"
             ]
            ],
            "type": "histogram2d"
           }
          ],
          "histogram2dcontour": [
           {
            "colorbar": {
             "outlinewidth": 0,
             "ticks": ""
            },
            "colorscale": [
             [
              0,
              "#0d0887"
             ],
             [
              0.1111111111111111,
              "#46039f"
             ],
             [
              0.2222222222222222,
              "#7201a8"
             ],
             [
              0.3333333333333333,
              "#9c179e"
             ],
             [
              0.4444444444444444,
              "#bd3786"
             ],
             [
              0.5555555555555556,
              "#d8576b"
             ],
             [
              0.6666666666666666,
              "#ed7953"
             ],
             [
              0.7777777777777778,
              "#fb9f3a"
             ],
             [
              0.8888888888888888,
              "#fdca26"
             ],
             [
              1,
              "#f0f921"
             ]
            ],
            "type": "histogram2dcontour"
           }
          ],
          "mesh3d": [
           {
            "colorbar": {
             "outlinewidth": 0,
             "ticks": ""
            },
            "type": "mesh3d"
           }
          ],
          "parcoords": [
           {
            "line": {
             "colorbar": {
              "outlinewidth": 0,
              "ticks": ""
             }
            },
            "type": "parcoords"
           }
          ],
          "pie": [
           {
            "automargin": true,
            "type": "pie"
           }
          ],
          "scatter": [
           {
            "fillpattern": {
             "fillmode": "overlay",
             "size": 10,
             "solidity": 0.2
            },
            "type": "scatter"
           }
          ],
          "scatter3d": [
           {
            "line": {
             "colorbar": {
              "outlinewidth": 0,
              "ticks": ""
             }
            },
            "marker": {
             "colorbar": {
              "outlinewidth": 0,
              "ticks": ""
             }
            },
            "type": "scatter3d"
           }
          ],
          "scattercarpet": [
           {
            "marker": {
             "colorbar": {
              "outlinewidth": 0,
              "ticks": ""
             }
            },
            "type": "scattercarpet"
           }
          ],
          "scattergeo": [
           {
            "marker": {
             "colorbar": {
              "outlinewidth": 0,
              "ticks": ""
             }
            },
            "type": "scattergeo"
           }
          ],
          "scattergl": [
           {
            "marker": {
             "colorbar": {
              "outlinewidth": 0,
              "ticks": ""
             }
            },
            "type": "scattergl"
           }
          ],
          "scattermapbox": [
           {
            "marker": {
             "colorbar": {
              "outlinewidth": 0,
              "ticks": ""
             }
            },
            "type": "scattermapbox"
           }
          ],
          "scatterpolar": [
           {
            "marker": {
             "colorbar": {
              "outlinewidth": 0,
              "ticks": ""
             }
            },
            "type": "scatterpolar"
           }
          ],
          "scatterpolargl": [
           {
            "marker": {
             "colorbar": {
              "outlinewidth": 0,
              "ticks": ""
             }
            },
            "type": "scatterpolargl"
           }
          ],
          "scatterternary": [
           {
            "marker": {
             "colorbar": {
              "outlinewidth": 0,
              "ticks": ""
             }
            },
            "type": "scatterternary"
           }
          ],
          "surface": [
           {
            "colorbar": {
             "outlinewidth": 0,
             "ticks": ""
            },
            "colorscale": [
             [
              0,
              "#0d0887"
             ],
             [
              0.1111111111111111,
              "#46039f"
             ],
             [
              0.2222222222222222,
              "#7201a8"
             ],
             [
              0.3333333333333333,
              "#9c179e"
             ],
             [
              0.4444444444444444,
              "#bd3786"
             ],
             [
              0.5555555555555556,
              "#d8576b"
             ],
             [
              0.6666666666666666,
              "#ed7953"
             ],
             [
              0.7777777777777778,
              "#fb9f3a"
             ],
             [
              0.8888888888888888,
              "#fdca26"
             ],
             [
              1,
              "#f0f921"
             ]
            ],
            "type": "surface"
           }
          ],
          "table": [
           {
            "cells": {
             "fill": {
              "color": "#EBF0F8"
             },
             "line": {
              "color": "white"
             }
            },
            "header": {
             "fill": {
              "color": "#C8D4E3"
             },
             "line": {
              "color": "white"
             }
            },
            "type": "table"
           }
          ]
         },
         "layout": {
          "annotationdefaults": {
           "arrowcolor": "#2a3f5f",
           "arrowhead": 0,
           "arrowwidth": 1
          },
          "autotypenumbers": "strict",
          "coloraxis": {
           "colorbar": {
            "outlinewidth": 0,
            "ticks": ""
           }
          },
          "colorscale": {
           "diverging": [
            [
             0,
             "#8e0152"
            ],
            [
             0.1,
             "#c51b7d"
            ],
            [
             0.2,
             "#de77ae"
            ],
            [
             0.3,
             "#f1b6da"
            ],
            [
             0.4,
             "#fde0ef"
            ],
            [
             0.5,
             "#f7f7f7"
            ],
            [
             0.6,
             "#e6f5d0"
            ],
            [
             0.7,
             "#b8e186"
            ],
            [
             0.8,
             "#7fbc41"
            ],
            [
             0.9,
             "#4d9221"
            ],
            [
             1,
             "#276419"
            ]
           ],
           "sequential": [
            [
             0,
             "#0d0887"
            ],
            [
             0.1111111111111111,
             "#46039f"
            ],
            [
             0.2222222222222222,
             "#7201a8"
            ],
            [
             0.3333333333333333,
             "#9c179e"
            ],
            [
             0.4444444444444444,
             "#bd3786"
            ],
            [
             0.5555555555555556,
             "#d8576b"
            ],
            [
             0.6666666666666666,
             "#ed7953"
            ],
            [
             0.7777777777777778,
             "#fb9f3a"
            ],
            [
             0.8888888888888888,
             "#fdca26"
            ],
            [
             1,
             "#f0f921"
            ]
           ],
           "sequentialminus": [
            [
             0,
             "#0d0887"
            ],
            [
             0.1111111111111111,
             "#46039f"
            ],
            [
             0.2222222222222222,
             "#7201a8"
            ],
            [
             0.3333333333333333,
             "#9c179e"
            ],
            [
             0.4444444444444444,
             "#bd3786"
            ],
            [
             0.5555555555555556,
             "#d8576b"
            ],
            [
             0.6666666666666666,
             "#ed7953"
            ],
            [
             0.7777777777777778,
             "#fb9f3a"
            ],
            [
             0.8888888888888888,
             "#fdca26"
            ],
            [
             1,
             "#f0f921"
            ]
           ]
          },
          "colorway": [
           "#636efa",
           "#EF553B",
           "#00cc96",
           "#ab63fa",
           "#FFA15A",
           "#19d3f3",
           "#FF6692",
           "#B6E880",
           "#FF97FF",
           "#FECB52"
          ],
          "font": {
           "color": "#2a3f5f"
          },
          "geo": {
           "bgcolor": "white",
           "lakecolor": "white",
           "landcolor": "#E5ECF6",
           "showlakes": true,
           "showland": true,
           "subunitcolor": "white"
          },
          "hoverlabel": {
           "align": "left"
          },
          "hovermode": "closest",
          "mapbox": {
           "style": "light"
          },
          "paper_bgcolor": "white",
          "plot_bgcolor": "#E5ECF6",
          "polar": {
           "angularaxis": {
            "gridcolor": "white",
            "linecolor": "white",
            "ticks": ""
           },
           "bgcolor": "#E5ECF6",
           "radialaxis": {
            "gridcolor": "white",
            "linecolor": "white",
            "ticks": ""
           }
          },
          "scene": {
           "xaxis": {
            "backgroundcolor": "#E5ECF6",
            "gridcolor": "white",
            "gridwidth": 2,
            "linecolor": "white",
            "showbackground": true,
            "ticks": "",
            "zerolinecolor": "white"
           },
           "yaxis": {
            "backgroundcolor": "#E5ECF6",
            "gridcolor": "white",
            "gridwidth": 2,
            "linecolor": "white",
            "showbackground": true,
            "ticks": "",
            "zerolinecolor": "white"
           },
           "zaxis": {
            "backgroundcolor": "#E5ECF6",
            "gridcolor": "white",
            "gridwidth": 2,
            "linecolor": "white",
            "showbackground": true,
            "ticks": "",
            "zerolinecolor": "white"
           }
          },
          "shapedefaults": {
           "line": {
            "color": "#2a3f5f"
           }
          },
          "ternary": {
           "aaxis": {
            "gridcolor": "white",
            "linecolor": "white",
            "ticks": ""
           },
           "baxis": {
            "gridcolor": "white",
            "linecolor": "white",
            "ticks": ""
           },
           "bgcolor": "#E5ECF6",
           "caxis": {
            "gridcolor": "white",
            "linecolor": "white",
            "ticks": ""
           }
          },
          "title": {
           "x": 0.05
          },
          "xaxis": {
           "automargin": true,
           "gridcolor": "white",
           "linecolor": "white",
           "ticks": "",
           "title": {
            "standoff": 15
           },
           "zerolinecolor": "white",
           "zerolinewidth": 2
          },
          "yaxis": {
           "automargin": true,
           "gridcolor": "white",
           "linecolor": "white",
           "ticks": "",
           "title": {
            "standoff": 15
           },
           "zerolinecolor": "white",
           "zerolinewidth": 2
          }
         }
        },
        "title": {
         "text": "Total Explained Variance: 99.94%"
        }
       }
      }
     },
     "metadata": {},
     "output_type": "display_data"
    }
   ],
   "source": [
    "data['predictions'] = ifo.predict(X)\n",
    "data['predictions'] = np.where(data['predictions']==-1,1,0)\n",
    "\n",
    "n_components = 3\n",
    "pca = PCA(n_components=n_components)\n",
    "components = pca.fit_transform(data.iloc[:,2:].values.round(decimals=3))\n",
    "\n",
    "total_var = pca.explained_variance_ratio_.sum() * 100\n",
    "\n",
    "labels = {str(i): f\"PC {i+1}\" for i in range(n_components)}\n",
    "labels['color'] = 'Type'\n",
    "\n",
    "fig = px.scatter_matrix(\n",
    "    components,\n",
    "    color=data['predictions'],\n",
    "    dimensions=range(n_components),\n",
    "    labels=labels,\n",
    "    title=f'Total Explained Variance: {total_var:.2f}%',\n",
    ")\n",
    "fig.update_traces(diagonal_visible=False)\n",
    "fig.show()"
   ]
  },
  {
   "cell_type": "markdown",
   "metadata": {},
   "source": [
    "### Local Outlier Factor"
   ]
  },
  {
   "cell_type": "code",
   "execution_count": 52,
   "metadata": {},
   "outputs": [
    {
     "name": "stdout",
     "output_type": "stream",
     "text": [
      "Best parameters: Unnamed: 0            3362\n",
      "n_neighbors              5\n",
      "algorithm            brute\n",
      "leaf_size                5\n",
      "metric           euclidean\n",
      "contamination         0.25\n",
      "precision         0.666667\n",
      "recall            0.666667\n",
      "f1                0.666667\n",
      "Name: 3362, dtype: object\n",
      "{'eo': (-1, 1), 'nl': (1, 1), 'is': (1, 1), 'pl': (1, 1), 'fr': (1, 1), 'vo': (-1, -1), 'af': (1, 1), 'vi': (1, -1), 'oc': (1, 1), 'en': (1, 1), 'it': (1, 1), 'ia': (-1, 1), 'sv': (1, 1), 'lfn': (-1, -1), 'da': (1, 1), 'hu': (1, 1), 'id': (1, 1), 'tl': (1, 1), 'tr': (1, 1), 'io': (-1, -1), 'es': (1, 1), 'fi': (1, -1), 'de': (1, 1), 'avk': (-1, -1)}\n"
     ]
    },
    {
     "data": {
      "image/png": "[encoded data removed]",
      "text/plain": [
       "<Figure size 640x480 with 2 Axes>"
      ]
     },
     "metadata": {},
     "output_type": "display_data"
    }
   ],
   "source": [
    "X, y = data.iloc[:,2:].values.round(decimals=3), data.iloc[:,1].map({'con':-1, 'nat':1}).values\n",
    "scaler = StandardScaler()\n",
    "X_train = scaler.fit_transform(X)\n",
    "\n",
    "param_grid = {\n",
    "    'n_neighbors': [1, 3, 5, 7, 9, 12, 18],\n",
    "    'algorithm': ['auto', 'ball_tree', 'kd_tree', 'brute'],\n",
    "    'leaf_size': [5, 10, 15, 30, 50, 100, 200, 300],\n",
    "    'metric': ['euclidean', 'manhattan'],\n",
    "    # 'p': [1, 2],\n",
    "    'contamination': ['auto', 0.01, 0.03, 0.05, 0.1, 0.2, 0.25, 0.5],\n",
    "}\n",
    "\n",
    "grid = ParameterGrid(param_grid=param_grid)\n",
    "results = []\n",
    "# for params in grid:\n",
    "#     lof = LocalOutlierFactor(\n",
    "#         n_neighbors=params['n_neighbors'], \n",
    "#         algorithm=params['algorithm'], \n",
    "#         leaf_size=params['leaf_size'], \n",
    "#         metric=params['metric'],\n",
    "#         # p=params['p'],\n",
    "#         contamination=params['contamination'], \n",
    "#         n_jobs=-1,\n",
    "#         )\n",
    "#     y_pred = lof.fit_predict(X_train)\n",
    "#     precision = precision_score(y, y_pred, pos_label=-1, zero_division=0.0)\n",
    "#     recall = recall_score(y, y_pred, pos_label=-1, zero_division=0.0)\n",
    "#     f1 = f1_score(y, y_pred, pos_label=-1, zero_division=0.0)\n",
    "    \n",
    "#     results.append({\n",
    "#         'n_neighbors': params['n_neighbors'],\n",
    "#         'algorithm': params['algorithm'],\n",
    "#         'leaf_size': params['leaf_size'],\n",
    "#         'metric': params['metric'],\n",
    "#         'contamination': params['contamination'],\n",
    "#         'precision': precision,\n",
    "#         'recall': recall,\n",
    "#         'f1': f1,\n",
    "#     })\n",
    "    \n",
    "# lof_finetuning_df = pd.DataFrame(results)\n",
    "# lof_finetuning_df.to_csv('./results/lof_finetuning_df.csv')\n",
    "lof_finetuning_df = pd.read_csv('./results/lof_finetuning_df.csv')\n",
    "# Best parameters based on f1 score\n",
    "best_params = lof_finetuning_df.sort_values(by='f1', ascending=False).iloc[0]\n",
    "print(f'Best parameters: {best_params}')\n",
    "\n",
    "# Evaluating fine-tuned model\n",
    "lof = LocalOutlierFactor(\n",
    "    n_neighbors=best_params['n_neighbors'],\n",
    "    algorithm=best_params['algorithm'],\n",
    "    leaf_size=best_params['leaf_size'],\n",
    "    metric=best_params['metric'],\n",
    "    # p=best_params['p'],\n",
    "    contamination=float(best_params['contamination']),\n",
    ")\n",
    "\n",
    "y_pred = lof.fit_predict(X_train)\n",
    "print({n: (y, y_pred) for n, (y, y_pred) in zip(data['Corpus'].values, zip(y, y_pred))})\n",
    "# decision_scores = lof.decision_function(X_train)\n",
    "\n",
    "cm = confusion_matrix(y, y_pred)\n",
    "disp = ConfusionMatrixDisplay(cm)\n",
    "disp.plot(cmap=plt.cm.Blues)\n",
    "plt.title('Confusion Matrix')\n",
    "plt.savefig('./results/CM_lof.png')\n",
    "plt.show()"
   ]
  },
  {
   "cell_type": "markdown",
   "metadata": {},
   "source": [
    "### LOF with PCA"
   ]
  },
  {
   "cell_type": "code",
   "execution_count": 60,
   "metadata": {},
   "outputs": [
    {
     "name": "stdout",
     "output_type": "stream",
     "text": [
      "Best parameters: Unnamed: 0             939\n",
      "n_neighbors              3\n",
      "algorithm        ball_tree\n",
      "leaf_size               30\n",
      "metric           euclidean\n",
      "contamination         auto\n",
      "precision             0.75\n",
      "recall                 0.5\n",
      "f1                     0.6\n",
      "Name: 939, dtype: object\n",
      "{'eo': (-1, 1), 'nl': (1, 1), 'is': (1, 1), 'pl': (1, 1), 'fr': (1, 1), 'vo': (-1, -1), 'af': (1, 1), 'vi': (1, -1), 'oc': (1, 1), 'en': (1, 1), 'it': (1, 1), 'ia': (-1, 1), 'sv': (1, 1), 'lfn': (-1, -1), 'da': (1, 1), 'hu': (1, 1), 'id': (1, 1), 'tl': (1, 1), 'tr': (1, 1), 'io': (-1, -1), 'es': (1, 1), 'fi': (1, 1), 'de': (1, 1), 'avk': (-1, 1)}\n"
     ]
    },
    {
     "data": {
      "image/png": "[encoded data removed]",
      "text/plain": [
       "<Figure size 640x480 with 2 Axes>"
      ]
     },
     "metadata": {},
     "output_type": "display_data"
    }
   ],
   "source": [
    "X, y = data.iloc[:,2:].values.round(decimals=3), data.iloc[:,1].map({'con':-1, 'nat':1}).values\n",
    "scaler = StandardScaler()\n",
    "X_scaled = scaler.fit_transform(X)\n",
    "pca = PCA(n_components=2)\n",
    "X_train = pca.fit_transform(X_scaled)\n",
    "\n",
    "param_grid = {\n",
    "    'n_neighbors': [1, 3, 5, 7, 9, 12, 18],\n",
    "    'algorithm': ['auto', 'ball_tree', 'kd_tree', 'brute'],\n",
    "    'leaf_size': [5, 10, 15, 30, 50, 100, 200, 300],\n",
    "    'metric': ['euclidean', 'manhattan'],\n",
    "    # 'p': [1, 2],\n",
    "    'contamination': ['auto', 0.01, 0.03, 0.05, 0.1, 0.2, 0.25, 0.5],\n",
    "}\n",
    "\n",
    "grid = ParameterGrid(param_grid=param_grid)\n",
    "results = []\n",
    "# for params in grid:\n",
    "#     lof = LocalOutlierFactor(\n",
    "#         n_neighbors=params['n_neighbors'], \n",
    "#         algorithm=params['algorithm'], \n",
    "#         leaf_size=params['leaf_size'], \n",
    "#         metric=params['metric'],\n",
    "#         # p=params['p'],\n",
    "#         contamination=params['contamination'], \n",
    "#         n_jobs=-1,\n",
    "#         )\n",
    "#     y_pred = lof.fit_predict(X_train)\n",
    "#     precision = precision_score(y, y_pred, pos_label=-1, zero_division=0.0)\n",
    "#     recall = recall_score(y, y_pred, pos_label=-1, zero_division=0.0)\n",
    "#     f1 = f1_score(y, y_pred, pos_label=-1, zero_division=0.0)\n",
    "    \n",
    "#     results.append({\n",
    "#         'n_neighbors': params['n_neighbors'],\n",
    "#         'algorithm': params['algorithm'],\n",
    "#         'leaf_size': params['leaf_size'],\n",
    "#         'metric': params['metric'],\n",
    "#         'contamination': params['contamination'],\n",
    "#         'precision': precision,\n",
    "#         'recall': recall,\n",
    "#         'f1': f1,\n",
    "#     })\n",
    "    \n",
    "# lof_pca_finetuning_df = pd.DataFrame(results)\n",
    "# lof_pca_finetuning_df.to_csv('./results/lof_pca_finetuning_df.csv')\n",
    "lof_pca_finetuning_df = pd.read_csv('./results/lof_pca_finetuning_df.csv')\n",
    "# Best parameters based on f1 score\n",
    "best_params = lof_pca_finetuning_df.sort_values(by='f1', ascending=False).iloc[0]\n",
    "print(f'Best parameters: {best_params}')\n",
    "\n",
    "# Evaluating fine-tuned model\n",
    "lof = LocalOutlierFactor(\n",
    "    n_neighbors=best_params['n_neighbors'],\n",
    "    algorithm=best_params['algorithm'],\n",
    "    leaf_size=best_params['leaf_size'],\n",
    "    metric=best_params['metric'],\n",
    "    # p=best_params['p'],\n",
    "    contamination=best_params['contamination'],\n",
    ")\n",
    "\n",
    "y_pred = lof.fit_predict(X_train)\n",
    "print({n: (y, y_pred) for n, (y, y_pred) in zip(data['Corpus'].values, zip(y, y_pred))})\n",
    "# decision_scores = lof.decision_function(X_train)\n",
    "\n",
    "cm = confusion_matrix(y, y_pred)\n",
    "disp = ConfusionMatrixDisplay(cm)\n",
    "disp.plot(cmap=plt.cm.Blues)\n",
    "plt.title('Confusion Matrix')\n",
    "plt.savefig('./results/CM_PCA_lof.png')\n",
    "plt.show()"
   ]
  },
  {
   "cell_type": "code",
   "execution_count": null,
   "metadata": {},
   "outputs": [],
   "source": []
  }
 ],
 "metadata": {
  "kernelspec": {
   "display_name": "Python 3",
   "language": "python",
   "name": "python3"
  },
  "language_info": {
   "codemirror_mode": {
    "name": "ipython",
    "version": 3
   },
   "file_extension": ".py",
   "mimetype": "text/x-python",
   "name": "python",
   "nbconvert_exporter": "python",
   "pygments_lexer": "ipython3",
   "version": "3.9.19"
  },
  "orig_nbformat": 4
 },
 "nbformat": 4,
 "nbformat_minor": 2
}
