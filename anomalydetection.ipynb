{
 "cells": [
  {
   "cell_type": "code",
   "execution_count": 43,
   "metadata": {},
   "outputs": [
    {
     "data": {
      "text/html": [
       "<div>\n",
       "<style scoped>\n",
       "    .dataframe tbody tr th:only-of-type {\n",
       "        vertical-align: middle;\n",
       "    }\n",
       "\n",
       "    .dataframe tbody tr th {\n",
       "        vertical-align: top;\n",
       "    }\n",
       "\n",
       "    .dataframe thead th {\n",
       "        text-align: right;\n",
       "    }\n",
       "</style>\n",
       "<table border=\"1\" class=\"dataframe\">\n",
       "  <thead>\n",
       "    <tr style=\"text-align: right;\">\n",
       "      <th></th>\n",
       "      <th>Corpus</th>\n",
       "      <th>Type</th>\n",
       "      <th>Avg Word Length</th>\n",
       "      <th>Avg Sentence Length</th>\n",
       "      <th>TTR</th>\n",
       "      <th>MATTR</th>\n",
       "      <th>MTLD</th>\n",
       "      <th>Morpheme TTR</th>\n",
       "      <th>Avg Segs Per Word</th>\n",
       "      <th>Avg Forms Per Stem</th>\n",
       "      <th>Char Dist Entr</th>\n",
       "      <th>Word Dist Entr</th>\n",
       "      <th>Text Entr</th>\n",
       "      <th>Lex Entr</th>\n",
       "      <th>Rev Lex Entr</th>\n",
       "    </tr>\n",
       "  </thead>\n",
       "  <tbody>\n",
       "    <tr>\n",
       "      <th>0</th>\n",
       "      <td>eo</td>\n",
       "      <td>con</td>\n",
       "      <td>5.175</td>\n",
       "      <td>18.909</td>\n",
       "      <td>10.708</td>\n",
       "      <td>0.692</td>\n",
       "      <td>67.482</td>\n",
       "      <td>7.535</td>\n",
       "      <td>1.859</td>\n",
       "      <td>3.506</td>\n",
       "      <td>4.164</td>\n",
       "      <td>10.923</td>\n",
       "      <td>4.435</td>\n",
       "      <td>6.303</td>\n",
       "      <td>7.016</td>\n",
       "    </tr>\n",
       "    <tr>\n",
       "      <th>1</th>\n",
       "      <td>nl</td>\n",
       "      <td>nat</td>\n",
       "      <td>5.419</td>\n",
       "      <td>18.194</td>\n",
       "      <td>8.559</td>\n",
       "      <td>0.694</td>\n",
       "      <td>74.165</td>\n",
       "      <td>12.467</td>\n",
       "      <td>1.809</td>\n",
       "      <td>3.044</td>\n",
       "      <td>4.117</td>\n",
       "      <td>10.593</td>\n",
       "      <td>4.389</td>\n",
       "      <td>6.407</td>\n",
       "      <td>6.746</td>\n",
       "    </tr>\n",
       "    <tr>\n",
       "      <th>2</th>\n",
       "      <td>is</td>\n",
       "      <td>nat</td>\n",
       "      <td>5.375</td>\n",
       "      <td>15.055</td>\n",
       "      <td>11.727</td>\n",
       "      <td>0.747</td>\n",
       "      <td>115.342</td>\n",
       "      <td>9.847</td>\n",
       "      <td>1.931</td>\n",
       "      <td>4.128</td>\n",
       "      <td>4.468</td>\n",
       "      <td>11.512</td>\n",
       "      <td>5.455</td>\n",
       "      <td>5.993</td>\n",
       "      <td>6.376</td>\n",
       "    </tr>\n",
       "    <tr>\n",
       "      <th>3</th>\n",
       "      <td>pl</td>\n",
       "      <td>nat</td>\n",
       "      <td>6.248</td>\n",
       "      <td>14.951</td>\n",
       "      <td>14.890</td>\n",
       "      <td>0.825</td>\n",
       "      <td>278.888</td>\n",
       "      <td>6.639</td>\n",
       "      <td>1.894</td>\n",
       "      <td>3.709</td>\n",
       "      <td>4.553</td>\n",
       "      <td>12.905</td>\n",
       "      <td>5.072</td>\n",
       "      <td>5.611</td>\n",
       "      <td>5.898</td>\n",
       "    </tr>\n",
       "    <tr>\n",
       "      <th>4</th>\n",
       "      <td>fr</td>\n",
       "      <td>nat</td>\n",
       "      <td>5.160</td>\n",
       "      <td>23.120</td>\n",
       "      <td>7.461</td>\n",
       "      <td>0.721</td>\n",
       "      <td>91.865</td>\n",
       "      <td>7.109</td>\n",
       "      <td>1.771</td>\n",
       "      <td>2.759</td>\n",
       "      <td>4.179</td>\n",
       "      <td>10.711</td>\n",
       "      <td>4.104</td>\n",
       "      <td>6.256</td>\n",
       "      <td>6.779</td>\n",
       "    </tr>\n",
       "    <tr>\n",
       "      <th>5</th>\n",
       "      <td>vo</td>\n",
       "      <td>con</td>\n",
       "      <td>5.072</td>\n",
       "      <td>11.266</td>\n",
       "      <td>2.455</td>\n",
       "      <td>0.622</td>\n",
       "      <td>39.447</td>\n",
       "      <td>15.287</td>\n",
       "      <td>1.567</td>\n",
       "      <td>1.938</td>\n",
       "      <td>4.256</td>\n",
       "      <td>7.666</td>\n",
       "      <td>1.281</td>\n",
       "      <td>8.702</td>\n",
       "      <td>9.037</td>\n",
       "    </tr>\n",
       "    <tr>\n",
       "      <th>6</th>\n",
       "      <td>af</td>\n",
       "      <td>nat</td>\n",
       "      <td>5.067</td>\n",
       "      <td>20.496</td>\n",
       "      <td>6.987</td>\n",
       "      <td>0.645</td>\n",
       "      <td>59.938</td>\n",
       "      <td>13.894</td>\n",
       "      <td>1.770</td>\n",
       "      <td>2.861</td>\n",
       "      <td>4.072</td>\n",
       "      <td>9.993</td>\n",
       "      <td>4.757</td>\n",
       "      <td>6.639</td>\n",
       "      <td>6.986</td>\n",
       "    </tr>\n",
       "    <tr>\n",
       "      <th>7</th>\n",
       "      <td>vi</td>\n",
       "      <td>nat</td>\n",
       "      <td>3.498</td>\n",
       "      <td>29.835</td>\n",
       "      <td>1.749</td>\n",
       "      <td>0.732</td>\n",
       "      <td>94.751</td>\n",
       "      <td>27.439</td>\n",
       "      <td>1.344</td>\n",
       "      <td>1.453</td>\n",
       "      <td>4.855</td>\n",
       "      <td>9.717</td>\n",
       "      <td>4.768</td>\n",
       "      <td>11.878</td>\n",
       "      <td>11.432</td>\n",
       "    </tr>\n",
       "    <tr>\n",
       "      <th>8</th>\n",
       "      <td>oc</td>\n",
       "      <td>nat</td>\n",
       "      <td>5.215</td>\n",
       "      <td>18.660</td>\n",
       "      <td>7.185</td>\n",
       "      <td>0.715</td>\n",
       "      <td>87.187</td>\n",
       "      <td>7.674</td>\n",
       "      <td>1.793</td>\n",
       "      <td>2.805</td>\n",
       "      <td>4.173</td>\n",
       "      <td>10.546</td>\n",
       "      <td>3.530</td>\n",
       "      <td>6.741</td>\n",
       "      <td>7.118</td>\n",
       "    </tr>\n",
       "    <tr>\n",
       "      <th>9</th>\n",
       "      <td>en</td>\n",
       "      <td>nat</td>\n",
       "      <td>5.087</td>\n",
       "      <td>21.301</td>\n",
       "      <td>6.079</td>\n",
       "      <td>0.697</td>\n",
       "      <td>77.659</td>\n",
       "      <td>10.049</td>\n",
       "      <td>1.661</td>\n",
       "      <td>2.360</td>\n",
       "      <td>4.167</td>\n",
       "      <td>10.673</td>\n",
       "      <td>4.771</td>\n",
       "      <td>7.106</td>\n",
       "      <td>7.601</td>\n",
       "    </tr>\n",
       "    <tr>\n",
       "      <th>10</th>\n",
       "      <td>it</td>\n",
       "      <td>nat</td>\n",
       "      <td>5.455</td>\n",
       "      <td>25.727</td>\n",
       "      <td>8.505</td>\n",
       "      <td>0.764</td>\n",
       "      <td>129.111</td>\n",
       "      <td>7.919</td>\n",
       "      <td>1.765</td>\n",
       "      <td>2.939</td>\n",
       "      <td>4.029</td>\n",
       "      <td>11.308</td>\n",
       "      <td>4.573</td>\n",
       "      <td>5.563</td>\n",
       "      <td>6.123</td>\n",
       "    </tr>\n",
       "    <tr>\n",
       "      <th>11</th>\n",
       "      <td>ia</td>\n",
       "      <td>con</td>\n",
       "      <td>5.050</td>\n",
       "      <td>19.547</td>\n",
       "      <td>6.880</td>\n",
       "      <td>0.607</td>\n",
       "      <td>49.015</td>\n",
       "      <td>8.904</td>\n",
       "      <td>1.750</td>\n",
       "      <td>2.715</td>\n",
       "      <td>4.032</td>\n",
       "      <td>10.005</td>\n",
       "      <td>3.886</td>\n",
       "      <td>6.406</td>\n",
       "      <td>6.958</td>\n",
       "    </tr>\n",
       "    <tr>\n",
       "      <th>12</th>\n",
       "      <td>sv</td>\n",
       "      <td>nat</td>\n",
       "      <td>5.597</td>\n",
       "      <td>17.322</td>\n",
       "      <td>11.031</td>\n",
       "      <td>0.756</td>\n",
       "      <td>124.469</td>\n",
       "      <td>9.496</td>\n",
       "      <td>1.957</td>\n",
       "      <td>4.074</td>\n",
       "      <td>4.294</td>\n",
       "      <td>11.488</td>\n",
       "      <td>4.830</td>\n",
       "      <td>6.207</td>\n",
       "      <td>6.517</td>\n",
       "    </tr>\n",
       "    <tr>\n",
       "      <th>13</th>\n",
       "      <td>lfn</td>\n",
       "      <td>con</td>\n",
       "      <td>4.221</td>\n",
       "      <td>19.532</td>\n",
       "      <td>5.063</td>\n",
       "      <td>0.601</td>\n",
       "      <td>40.079</td>\n",
       "      <td>9.769</td>\n",
       "      <td>1.688</td>\n",
       "      <td>2.448</td>\n",
       "      <td>3.912</td>\n",
       "      <td>9.316</td>\n",
       "      <td>4.471</td>\n",
       "      <td>7.716</td>\n",
       "      <td>8.436</td>\n",
       "    </tr>\n",
       "    <tr>\n",
       "      <th>14</th>\n",
       "      <td>da</td>\n",
       "      <td>nat</td>\n",
       "      <td>5.346</td>\n",
       "      <td>16.466</td>\n",
       "      <td>10.517</td>\n",
       "      <td>0.737</td>\n",
       "      <td>106.412</td>\n",
       "      <td>10.259</td>\n",
       "      <td>1.911</td>\n",
       "      <td>3.776</td>\n",
       "      <td>4.197</td>\n",
       "      <td>11.274</td>\n",
       "      <td>5.037</td>\n",
       "      <td>6.408</td>\n",
       "      <td>6.796</td>\n",
       "    </tr>\n",
       "    <tr>\n",
       "      <th>15</th>\n",
       "      <td>hu</td>\n",
       "      <td>nat</td>\n",
       "      <td>6.242</td>\n",
       "      <td>15.782</td>\n",
       "      <td>16.234</td>\n",
       "      <td>0.776</td>\n",
       "      <td>169.833</td>\n",
       "      <td>6.240</td>\n",
       "      <td>2.000</td>\n",
       "      <td>5.071</td>\n",
       "      <td>4.543</td>\n",
       "      <td>12.443</td>\n",
       "      <td>5.208</td>\n",
       "      <td>5.584</td>\n",
       "      <td>5.951</td>\n",
       "    </tr>\n",
       "    <tr>\n",
       "      <th>16</th>\n",
       "      <td>id</td>\n",
       "      <td>nat</td>\n",
       "      <td>6.173</td>\n",
       "      <td>18.164</td>\n",
       "      <td>5.782</td>\n",
       "      <td>0.699</td>\n",
       "      <td>74.365</td>\n",
       "      <td>12.993</td>\n",
       "      <td>1.584</td>\n",
       "      <td>2.048</td>\n",
       "      <td>4.072</td>\n",
       "      <td>11.142</td>\n",
       "      <td>3.982</td>\n",
       "      <td>7.285</td>\n",
       "      <td>7.342</td>\n",
       "    </tr>\n",
       "    <tr>\n",
       "      <th>17</th>\n",
       "      <td>tl</td>\n",
       "      <td>nat</td>\n",
       "      <td>5.119</td>\n",
       "      <td>21.102</td>\n",
       "      <td>7.593</td>\n",
       "      <td>0.611</td>\n",
       "      <td>44.385</td>\n",
       "      <td>11.830</td>\n",
       "      <td>1.717</td>\n",
       "      <td>2.563</td>\n",
       "      <td>3.895</td>\n",
       "      <td>9.991</td>\n",
       "      <td>4.374</td>\n",
       "      <td>6.803</td>\n",
       "      <td>7.040</td>\n",
       "    </tr>\n",
       "    <tr>\n",
       "      <th>18</th>\n",
       "      <td>tr</td>\n",
       "      <td>nat</td>\n",
       "      <td>6.630</td>\n",
       "      <td>14.458</td>\n",
       "      <td>14.097</td>\n",
       "      <td>0.828</td>\n",
       "      <td>290.829</td>\n",
       "      <td>6.805</td>\n",
       "      <td>1.843</td>\n",
       "      <td>3.932</td>\n",
       "      <td>4.386</td>\n",
       "      <td>13.151</td>\n",
       "      <td>4.729</td>\n",
       "      <td>5.028</td>\n",
       "      <td>5.422</td>\n",
       "    </tr>\n",
       "    <tr>\n",
       "      <th>19</th>\n",
       "      <td>io</td>\n",
       "      <td>con</td>\n",
       "      <td>4.594</td>\n",
       "      <td>14.484</td>\n",
       "      <td>3.433</td>\n",
       "      <td>0.557</td>\n",
       "      <td>34.395</td>\n",
       "      <td>13.024</td>\n",
       "      <td>1.645</td>\n",
       "      <td>2.208</td>\n",
       "      <td>4.077</td>\n",
       "      <td>8.055</td>\n",
       "      <td>1.266</td>\n",
       "      <td>7.471</td>\n",
       "      <td>8.267</td>\n",
       "    </tr>\n",
       "    <tr>\n",
       "      <th>20</th>\n",
       "      <td>es</td>\n",
       "      <td>nat</td>\n",
       "      <td>4.978</td>\n",
       "      <td>25.315</td>\n",
       "      <td>7.085</td>\n",
       "      <td>0.674</td>\n",
       "      <td>65.538</td>\n",
       "      <td>8.131</td>\n",
       "      <td>1.756</td>\n",
       "      <td>2.752</td>\n",
       "      <td>4.046</td>\n",
       "      <td>10.327</td>\n",
       "      <td>4.066</td>\n",
       "      <td>6.059</td>\n",
       "      <td>6.664</td>\n",
       "    </tr>\n",
       "    <tr>\n",
       "      <th>21</th>\n",
       "      <td>fi</td>\n",
       "      <td>nat</td>\n",
       "      <td>7.874</td>\n",
       "      <td>11.969</td>\n",
       "      <td>20.409</td>\n",
       "      <td>0.841</td>\n",
       "      <td>394.346</td>\n",
       "      <td>8.806</td>\n",
       "      <td>2.008</td>\n",
       "      <td>5.037</td>\n",
       "      <td>4.144</td>\n",
       "      <td>13.729</td>\n",
       "      <td>4.529</td>\n",
       "      <td>4.994</td>\n",
       "      <td>5.479</td>\n",
       "    </tr>\n",
       "    <tr>\n",
       "      <th>22</th>\n",
       "      <td>de</td>\n",
       "      <td>nat</td>\n",
       "      <td>6.206</td>\n",
       "      <td>16.907</td>\n",
       "      <td>12.128</td>\n",
       "      <td>0.771</td>\n",
       "      <td>139.978</td>\n",
       "      <td>9.026</td>\n",
       "      <td>1.981</td>\n",
       "      <td>4.356</td>\n",
       "      <td>4.230</td>\n",
       "      <td>11.601</td>\n",
       "      <td>4.530</td>\n",
       "      <td>5.323</td>\n",
       "      <td>5.743</td>\n",
       "    </tr>\n",
       "    <tr>\n",
       "      <th>23</th>\n",
       "      <td>avk</td>\n",
       "      <td>con</td>\n",
       "      <td>5.060</td>\n",
       "      <td>12.824</td>\n",
       "      <td>8.153</td>\n",
       "      <td>0.582</td>\n",
       "      <td>61.499</td>\n",
       "      <td>9.611</td>\n",
       "      <td>1.769</td>\n",
       "      <td>2.827</td>\n",
       "      <td>4.186</td>\n",
       "      <td>10.287</td>\n",
       "      <td>3.759</td>\n",
       "      <td>7.809</td>\n",
       "      <td>8.096</td>\n",
       "    </tr>\n",
       "  </tbody>\n",
       "</table>\n",
       "</div>"
      ],
      "text/plain": [
       "   Corpus Type  Avg Word Length  Avg Sentence Length     TTR  MATTR     MTLD  \\\n",
       "0      eo  con            5.175               18.909  10.708  0.692   67.482   \n",
       "1      nl  nat            5.419               18.194   8.559  0.694   74.165   \n",
       "2      is  nat            5.375               15.055  11.727  0.747  115.342   \n",
       "3      pl  nat            6.248               14.951  14.890  0.825  278.888   \n",
       "4      fr  nat            5.160               23.120   7.461  0.721   91.865   \n",
       "5      vo  con            5.072               11.266   2.455  0.622   39.447   \n",
       "6      af  nat            5.067               20.496   6.987  0.645   59.938   \n",
       "7      vi  nat            3.498               29.835   1.749  0.732   94.751   \n",
       "8      oc  nat            5.215               18.660   7.185  0.715   87.187   \n",
       "9      en  nat            5.087               21.301   6.079  0.697   77.659   \n",
       "10     it  nat            5.455               25.727   8.505  0.764  129.111   \n",
       "11     ia  con            5.050               19.547   6.880  0.607   49.015   \n",
       "12     sv  nat            5.597               17.322  11.031  0.756  124.469   \n",
       "13    lfn  con            4.221               19.532   5.063  0.601   40.079   \n",
       "14     da  nat            5.346               16.466  10.517  0.737  106.412   \n",
       "15     hu  nat            6.242               15.782  16.234  0.776  169.833   \n",
       "16     id  nat            6.173               18.164   5.782  0.699   74.365   \n",
       "17     tl  nat            5.119               21.102   7.593  0.611   44.385   \n",
       "18     tr  nat            6.630               14.458  14.097  0.828  290.829   \n",
       "19     io  con            4.594               14.484   3.433  0.557   34.395   \n",
       "20     es  nat            4.978               25.315   7.085  0.674   65.538   \n",
       "21     fi  nat            7.874               11.969  20.409  0.841  394.346   \n",
       "22     de  nat            6.206               16.907  12.128  0.771  139.978   \n",
       "23    avk  con            5.060               12.824   8.153  0.582   61.499   \n",
       "\n",
       "    Morpheme TTR  Avg Segs Per Word  Avg Forms Per Stem  Char Dist Entr  \\\n",
       "0          7.535              1.859               3.506           4.164   \n",
       "1         12.467              1.809               3.044           4.117   \n",
       "2          9.847              1.931               4.128           4.468   \n",
       "3          6.639              1.894               3.709           4.553   \n",
       "4          7.109              1.771               2.759           4.179   \n",
       "5         15.287              1.567               1.938           4.256   \n",
       "6         13.894              1.770               2.861           4.072   \n",
       "7         27.439              1.344               1.453           4.855   \n",
       "8          7.674              1.793               2.805           4.173   \n",
       "9         10.049              1.661               2.360           4.167   \n",
       "10         7.919              1.765               2.939           4.029   \n",
       "11         8.904              1.750               2.715           4.032   \n",
       "12         9.496              1.957               4.074           4.294   \n",
       "13         9.769              1.688               2.448           3.912   \n",
       "14        10.259              1.911               3.776           4.197   \n",
       "15         6.240              2.000               5.071           4.543   \n",
       "16        12.993              1.584               2.048           4.072   \n",
       "17        11.830              1.717               2.563           3.895   \n",
       "18         6.805              1.843               3.932           4.386   \n",
       "19        13.024              1.645               2.208           4.077   \n",
       "20         8.131              1.756               2.752           4.046   \n",
       "21         8.806              2.008               5.037           4.144   \n",
       "22         9.026              1.981               4.356           4.230   \n",
       "23         9.611              1.769               2.827           4.186   \n",
       "\n",
       "    Word Dist Entr  Text Entr  Lex Entr  Rev Lex Entr  \n",
       "0           10.923      4.435     6.303         7.016  \n",
       "1           10.593      4.389     6.407         6.746  \n",
       "2           11.512      5.455     5.993         6.376  \n",
       "3           12.905      5.072     5.611         5.898  \n",
       "4           10.711      4.104     6.256         6.779  \n",
       "5            7.666      1.281     8.702         9.037  \n",
       "6            9.993      4.757     6.639         6.986  \n",
       "7            9.717      4.768    11.878        11.432  \n",
       "8           10.546      3.530     6.741         7.118  \n",
       "9           10.673      4.771     7.106         7.601  \n",
       "10          11.308      4.573     5.563         6.123  \n",
       "11          10.005      3.886     6.406         6.958  \n",
       "12          11.488      4.830     6.207         6.517  \n",
       "13           9.316      4.471     7.716         8.436  \n",
       "14          11.274      5.037     6.408         6.796  \n",
       "15          12.443      5.208     5.584         5.951  \n",
       "16          11.142      3.982     7.285         7.342  \n",
       "17           9.991      4.374     6.803         7.040  \n",
       "18          13.151      4.729     5.028         5.422  \n",
       "19           8.055      1.266     7.471         8.267  \n",
       "20          10.327      4.066     6.059         6.664  \n",
       "21          13.729      4.529     4.994         5.479  \n",
       "22          11.601      4.530     5.323         5.743  \n",
       "23          10.287      3.759     7.809         8.096  "
      ]
     },
     "execution_count": 43,
     "metadata": {},
     "output_type": "execute_result"
    }
   ],
   "source": [
    "import seaborn as sns, pandas as pd, numpy as np\n",
    "from sklearn.svm import OneClassSVM\n",
    "from sklearn.decomposition import PCA\n",
    "from sklearn.neighbors import LocalOutlierFactor\n",
    "from sklearn.model_selection import cross_val_score, cross_validate, StratifiedKFold, RepeatedKFold, RepeatedStratifiedKFold, ParameterGrid, KFold, GridSearchCV, train_test_split, LeaveOneOut\n",
    "from sklearn.preprocessing import StandardScaler\n",
    "from sklearn.metrics import precision_score, recall_score, f1_score, accuracy_score, precision_recall_fscore_support, classification_report, roc_auc_score, precision_recall_curve, auc, make_scorer\n",
    "import plotly.express as px\n",
    "import shap\n",
    "from sklearn.ensemble import IsolationForest\n",
    "from sklearn.inspection import DecisionBoundaryDisplay\n",
    "from sklearn.metrics import confusion_matrix, ConfusionMatrixDisplay\n",
    "from matplotlib import pyplot as plt\n",
    "\n",
    "data = pd.read_csv('./results/features_df.csv')\n",
    "data"
   ]
  },
  {
   "cell_type": "markdown",
   "metadata": {},
   "source": [
    "### One Class SVM"
   ]
  },
  {
   "cell_type": "code",
   "execution_count": 44,
   "metadata": {},
   "outputs": [
    {
     "name": "stderr",
     "output_type": "stream",
     "text": [
      "/usr/local/lib/python3.9/site-packages/sklearn/metrics/_classification.py:1531: UndefinedMetricWarning:\n",
      "\n",
      "Precision is ill-defined and being set to 0.0 due to no predicted samples. Use `zero_division` parameter to control this behavior.\n",
      "\n",
      "/usr/local/lib/python3.9/site-packages/sklearn/metrics/_classification.py:1531: UndefinedMetricWarning:\n",
      "\n",
      "Precision is ill-defined and being set to 0.0 due to no predicted samples. Use `zero_division` parameter to control this behavior.\n",
      "\n",
      "/usr/local/lib/python3.9/site-packages/sklearn/metrics/_classification.py:1531: UndefinedMetricWarning:\n",
      "\n",
      "Precision is ill-defined and being set to 0.0 due to no predicted samples. Use `zero_division` parameter to control this behavior.\n",
      "\n",
      "/usr/local/lib/python3.9/site-packages/sklearn/metrics/_classification.py:1531: UndefinedMetricWarning:\n",
      "\n",
      "Precision is ill-defined and being set to 0.0 due to no predicted samples. Use `zero_division` parameter to control this behavior.\n",
      "\n",
      "/usr/local/lib/python3.9/site-packages/sklearn/metrics/_classification.py:1531: UndefinedMetricWarning:\n",
      "\n",
      "Precision is ill-defined and being set to 0.0 due to no predicted samples. Use `zero_division` parameter to control this behavior.\n",
      "\n"
     ]
    },
    {
     "name": "stdout",
     "output_type": "stream",
     "text": [
      "kernel           poly\n",
      "degree              2\n",
      "coef0             0.3\n",
      "gamma          0.0001\n",
      "nu                0.5\n",
      "precision         0.8\n",
      "recall       0.666667\n",
      "f1           0.727273\n",
      "Name: 11987, dtype: object\n",
      "ROC AUC: 0.8333333333333334\n"
     ]
    },
    {
     "data": {
      "image/png": "[encoded data removed]",
      "text/plain": [
       "<Figure size 640x480 with 2 Axes>"
      ]
     },
     "metadata": {},
     "output_type": "display_data"
    }
   ],
   "source": [
    "# OCSVM Finetuning\n",
    "# Brute force approach (ParameterGrid)\n",
    "# gamma defines how much influence a single training sample has. Smaller value means a larger radius of influence for each sample, and vice versa\n",
    "# usually between γ∈[10^−6,10^0] used for the RBF kernel; common initial guesses around γ∈[0.001,1]\n",
    "# nu is the upper bound on the fraction of training errors and a lower bound of support vectors. Controls proportion of outliers allowed\n",
    "# usually between 0 and 1; common initial ranges around ν∈[0.01,0.5]\n",
    "\n",
    "X, y = data.iloc[:,2:].values.round(decimals=3), data.iloc[:,1].map({'con':-1, 'nat':1}).values\n",
    "scaler = StandardScaler()\n",
    "# Train on target == 'nat' (natural languages)\n",
    "X_train = scaler.fit_transform(X)\n",
    "\n",
    "param_grid = {\n",
    "    'kernel': ['linear', 'poly', 'rbf', 'sigmoid'],\n",
    "    'degree': [0, 1, 2, 3, 5, 10],\n",
    "    'coef0': [0.0, 0.001, 0.002, 0.005, 0.007, 0.01, 0.03, 0.05, 0.07, 0.1, 0.3, 0.5, 1.0],\n",
    "    'gamma': ['scale', 'auto', 0.000001, 0.0001, 0.001, 0.01, 0.1, 1],\n",
    "    'nu': [0.01, 0.05, 0.1, 0.2, 0.25, 0.5]\n",
    "}\n",
    "\n",
    "grid = ParameterGrid(param_grid)\n",
    "results = []\n",
    "for params in grid:\n",
    "    ocsvm = OneClassSVM(\n",
    "        kernel=params['kernel'], \n",
    "        degree=params['degree'], \n",
    "        coef0=params['coef0'], \n",
    "        gamma=params['gamma'], \n",
    "        nu=params['nu'],\n",
    "        )\n",
    "    y_pred = ocsvm.fit_predict(X_train)\n",
    "    precision = precision_score(y, y_pred, pos_label=-1)\n",
    "    recall = recall_score(y, y_pred, pos_label=-1)\n",
    "    f1 = f1_score(y, y_pred, pos_label=-1)\n",
    "    # roc_auc = roc_auc_score(y, ocsvm.decision_function(X_train))\n",
    "    \n",
    "    results.append({\n",
    "        'kernel': params['kernel'],\n",
    "        'degree': params['degree'],\n",
    "        'coef0': params['coef0'],\n",
    "        'gamma': params['gamma'],\n",
    "        'nu': params['nu'],\n",
    "        'precision': precision,\n",
    "        'recall': recall,\n",
    "        'f1': f1,\n",
    "        # 'roc_auc': roc_auc,\n",
    "    })\n",
    "    \n",
    "ocsvm_finetuning_df = pd.DataFrame(results)\n",
    "ocsvm_finetuning_df.to_csv('./results/ocsvm_finetuning_df.csv')\n",
    "# Best parameters based on roc-auc score\n",
    "# best_params_roc = ocsvm_finetuning_df.sort_values(by='roc_auc', ascending=False).iloc[0]\n",
    "# print(best_params_roc)\n",
    "# Best parameters based on f1 score\n",
    "best_params_f1 = ocsvm_finetuning_df.sort_values(by='f1', ascending=False).iloc[0]\n",
    "print(best_params_f1)\n",
    "\n",
    "# Evaluating fine-tuned model\n",
    "ocsvm = OneClassSVM(\n",
    "    kernel=best_params_f1['kernel'],\n",
    "    degree=best_params_f1['degree'],\n",
    "    coef0=best_params_f1['coef0'],\n",
    "    gamma=best_params_f1['gamma'],\n",
    "    nu=best_params_f1['nu'],\n",
    ")\n",
    "\n",
    "y_pred = ocsvm.fit_predict(X_train)\n",
    "decision_scores = ocsvm.decision_function(X_train)\n",
    "roc_auc = roc_auc_score(y, decision_scores)\n",
    "print(f\"ROC AUC: {roc_auc}\")\n",
    "\n",
    "cm = confusion_matrix(y, y_pred)\n",
    "disp = ConfusionMatrixDisplay(cm, display_labels=['con', 'nat'])\n",
    "disp.plot(cmap=plt.cm.Blues)\n",
    "plt.title('Confusion Matrix for One-Class SVM')\n",
    "plt.savefig('./results/CM_ocsvm.png')\n",
    "plt.show()"
   ]
  },
  {
   "cell_type": "markdown",
   "metadata": {},
   "source": [
    "#### Fine-tuned OCSVM with Decision Boundary and dimension reductionality applied"
   ]
  },
  {
   "cell_type": "code",
   "execution_count": 45,
   "metadata": {},
   "outputs": [
    {
     "data": {
      "image/png": "[encoded data removed]",
      "text/plain": [
       "<Figure size 640x480 with 1 Axes>"
      ]
     },
     "metadata": {},
     "output_type": "display_data"
    },
    {
     "data": {
      "image/png": "[encoded data removed]",
      "text/plain": [
       "<Figure size 640x480 with 1 Axes>"
      ]
     },
     "metadata": {},
     "output_type": "display_data"
    }
   ],
   "source": [
    "# Plot decision function of finetuned One-Class SVM (visualization in 2D space)\n",
    "# How can I interpret the decision function? Should I visualize the decision boundary differently?\n",
    "\n",
    "X, y = data.iloc[:,2:].values.round(decimals=3), data.iloc[:,1].map({'con':-1, 'nat':1}).values\n",
    "scaler = StandardScaler()\n",
    "X_scaled = scaler.fit_transform(X)\n",
    "\n",
    "pca = PCA(n_components=2)\n",
    "X_pca = pca.fit_transform(X_scaled)\n",
    "\n",
    "# Find PC1 and PC2\n",
    "components_df = pd.DataFrame(pca.components_, columns=data.select_dtypes(include='number').columns, index=['PC1', 'PC2'])\n",
    "def get_top_features(components_df, pc_name, top_n=1):\n",
    "    pc_loadings = components_df.loc[pc_name]\n",
    "    top_features = pc_loadings.abs().nlargest(top_n).index\n",
    "    return top_features.tolist()\n",
    "\n",
    "# Hard Margin OCSVM\n",
    "# Has 2 outliers at n=0.05\n",
    "hard_ocsvm = OneClassSVM(kernel='rbf', gamma=0.01, nu=0.05)\n",
    "hard_ocsvm.fit(X_pca)\n",
    "\n",
    "# Predict the decision function (distance to the decision boundary)\n",
    "hard_decision_function = hard_ocsvm.decision_function(X_pca)\n",
    "hard_pred = hard_ocsvm.predict(X_pca)\n",
    "\n",
    "# Plot decision boundary and margins\n",
    "xx, yy = np.meshgrid(np.linspace(X_pca[:, 0].min() - 1, X_pca[:, 0].max() + 1, 500),\n",
    "                     np.linspace(X_pca[:, 1].min() - 1, X_pca[:, 1].max() + 1, 500))\n",
    "\n",
    "Z = hard_ocsvm.decision_function(np.c_[xx.ravel(), yy.ravel()])\n",
    "Z = Z.reshape(xx.shape)\n",
    "\n",
    "# Plot decision function as a contour plot\n",
    "plt.contourf(xx, yy, Z, levels=np.linspace(Z.min(), 0, 7), cmap=plt.cm.Blues_r)\n",
    "plt.contour(xx, yy, Z, levels=[0], linewidths=2, colors='black')\n",
    "plt.contourf(xx, yy, Z, levels=[0, Z.max()], colors='white')\n",
    "\n",
    "plt.scatter(X_pca[hard_pred == 1][:, 0], X_pca[hard_pred == 1][:, 1], \n",
    "            c='blue', label='Inliers (nat)', edgecolors='k', s=60)\n",
    "plt.scatter(X_pca[hard_pred == -1][:, 0], X_pca[hard_pred == -1][:, 1], \n",
    "            c='red', label='Outliers (con)', edgecolors='k', s=60)\n",
    "\n",
    "for i, corpus_value in enumerate(data['Corpus'].values):\n",
    "    if hard_pred[i] == -1: \n",
    "        plt.annotate(\n",
    "            corpus_value, \n",
    "            (X_pca[i, 0], X_pca[i, 1]), \n",
    "            textcoords=\"offset points\", xytext=(0, 0), \n",
    "            ha='center', va='center',  \n",
    "            fontsize=9, color='black',\n",
    "            bbox=dict(facecolor='white', alpha=0.6)  \n",
    "        )\n",
    "\n",
    "plt.title('One-Class SVM Decision Boundary, Hard Margin (PCA)')\n",
    "plt.xlabel(f\"PC1: {get_top_features(components_df, 'PC1')[0]}\")\n",
    "plt.ylabel(f\"PC2: {get_top_features(components_df, 'PC2')[0]}\")\n",
    "plt.legend()\n",
    "plt.savefig('./results/OCSVM_PCA_hard.png')\n",
    "plt.show()\n",
    "\n",
    "# Soft Margin OCSVM\n",
    "# Has 8 outliers at n=0.3\n",
    "soft_ocsvm = OneClassSVM(kernel='rbf', gamma=0.01, nu=0.3)\n",
    "soft_ocsvm.fit(X_pca)\n",
    "\n",
    "# Predict the decision function (distance to the decision boundary)\n",
    "soft_decision_function = soft_ocsvm.decision_function(X_pca)\n",
    "soft_pred = soft_ocsvm.predict(X_pca)\n",
    "\n",
    "# Plot decision boundary and margins\n",
    "xx, yy = np.meshgrid(np.linspace(X_pca[:, 0].min() - 1, X_pca[:, 0].max() + 1, 500),\n",
    "                     np.linspace(X_pca[:, 1].min() - 1, X_pca[:, 1].max() + 1, 500))\n",
    "\n",
    "Z = soft_ocsvm.decision_function(np.c_[xx.ravel(), yy.ravel()])\n",
    "Z = Z.reshape(xx.shape)\n",
    "\n",
    "# Plot decision function as a contour plot\n",
    "plt.contourf(xx, yy, Z, levels=np.linspace(Z.min(), 0, 7), cmap=plt.cm.Blues_r)\n",
    "plt.contour(xx, yy, Z, levels=[0], linewidths=2, colors='black')\n",
    "plt.contourf(xx, yy, Z, levels=[0, Z.max()], colors='white')\n",
    "\n",
    "plt.scatter(X_pca[soft_pred == 1][:, 0], X_pca[soft_pred == 1][:, 1], \n",
    "            c='blue', label='Inliers (nat)', edgecolors='k', s=60)\n",
    "plt.scatter(X_pca[soft_pred == -1][:, 0], X_pca[soft_pred == -1][:, 1], \n",
    "            c='red', label='Outliers (con)', edgecolors='k', s=60)\n",
    "\n",
    "for i, corpus_value in enumerate(data['Corpus'].values):\n",
    "    if soft_pred[i] == -1: \n",
    "        plt.annotate(\n",
    "            corpus_value, \n",
    "            (X_pca[i, 0], X_pca[i, 1]), \n",
    "            textcoords=\"offset points\", xytext=(0, 0), \n",
    "            ha='center', va='center',  \n",
    "            fontsize=9, color='black',\n",
    "            bbox=dict(facecolor='white', alpha=0.6)  \n",
    "        )\n",
    "\n",
    "plt.title('One-Class SVM Decision Boundary, Soft Margin (PCA)')\n",
    "plt.xlabel(f\"PC1: {get_top_features(components_df, 'PC1')[0]}\")\n",
    "plt.ylabel(f\"PC2: {get_top_features(components_df, 'PC2')[0]}\")\n",
    "plt.legend()\n",
    "plt.savefig('./results/OCSVM_PCA_soft.png')\n",
    "plt.show()"
   ]
  },
  {
   "cell_type": "markdown",
   "metadata": {},
   "source": [
    "### Isolation Forest"
   ]
  },
  {
   "cell_type": "code",
   "execution_count": 46,
   "metadata": {},
   "outputs": [
    {
     "name": "stderr",
     "output_type": "stream",
     "text": [
      "/usr/local/lib/python3.9/site-packages/sklearn/metrics/_classification.py:1531: UndefinedMetricWarning:\n",
      "\n",
      "Precision is ill-defined and being set to 0.0 due to no predicted samples. Use `zero_division` parameter to control this behavior.\n",
      "\n",
      "/usr/local/lib/python3.9/site-packages/sklearn/metrics/_classification.py:1531: UndefinedMetricWarning:\n",
      "\n",
      "Precision is ill-defined and being set to 0.0 due to no predicted samples. Use `zero_division` parameter to control this behavior.\n",
      "\n",
      "/usr/local/lib/python3.9/site-packages/sklearn/metrics/_classification.py:1531: UndefinedMetricWarning:\n",
      "\n",
      "Precision is ill-defined and being set to 0.0 due to no predicted samples. Use `zero_division` parameter to control this behavior.\n",
      "\n",
      "/usr/local/lib/python3.9/site-packages/sklearn/metrics/_classification.py:1531: UndefinedMetricWarning:\n",
      "\n",
      "Precision is ill-defined and being set to 0.0 due to no predicted samples. Use `zero_division` parameter to control this behavior.\n",
      "\n",
      "/usr/local/lib/python3.9/site-packages/sklearn/metrics/_classification.py:1531: UndefinedMetricWarning:\n",
      "\n",
      "Precision is ill-defined and being set to 0.0 due to no predicted samples. Use `zero_division` parameter to control this behavior.\n",
      "\n"
     ]
    },
    {
     "name": "stdout",
     "output_type": "stream",
     "text": [
      "max_samples             4\n",
      "contamination         0.1\n",
      "n_estimators           50\n",
      "max_features          0.5\n",
      "precision             1.0\n",
      "recall                0.5\n",
      "f1               0.666667\n",
      "Name: 153, dtype: object\n",
      "ROC AUC: 0.5\n",
      "Number of outliers detected: -3\n",
      "Number of inliers detected: 21\n"
     ]
    },
    {
     "data": {
      "image/png": "[encoded data removed]",
      "text/plain": [
       "<Figure size 640x480 with 2 Axes>"
      ]
     },
     "metadata": {},
     "output_type": "display_data"
    },
    {
     "data": {
      "image/png": "[encoded data removed]",
      "text/plain": [
       "<Figure size 800x600 with 1 Axes>"
      ]
     },
     "metadata": {},
     "output_type": "display_data"
    }
   ],
   "source": [
    "# Finetuning IF\n",
    "X_train, y = data.iloc[:,2:].values.round(decimals=3), data.iloc[:,1].map({'con':-1, 'nat':1}).values\n",
    "\n",
    "param_grid = {\n",
    "    'max_samples': ['auto', int(0.2*len(X_train)), int(0.5*len(X_train)), int(0.7*len(X_train)), len(X_train)],\n",
    "    'contamination': [0.01, 0.03, 0.05, 0.1, 0.2, 0.25, 0.5],\n",
    "    'n_estimators': [50, 100, 200],\n",
    "    'max_features': [0.1, 0.5, 1.0]\n",
    "}\n",
    "\n",
    "grid = ParameterGrid(param_grid)\n",
    "results = []\n",
    "for params in grid:\n",
    "    ifo = IsolationForest(\n",
    "        max_samples=params['max_samples'], \n",
    "        contamination=params['contamination'], \n",
    "        n_estimators=params['n_estimators'], \n",
    "        max_features=params['max_features'], \n",
    "        random_state=42, \n",
    "        n_jobs=-1\n",
    "        )\n",
    "    y_pred = ifo.fit_predict(X_train)\n",
    "    # y_pred = ifo.predict(X_test)\n",
    "    precision = precision_score(y, y_pred, pos_label=-1)\n",
    "    recall = recall_score(y, y_pred, pos_label=-1)\n",
    "    f1 = f1_score(y, y_pred, pos_label=-1)\n",
    "    \n",
    "    results.append({\n",
    "        'max_samples': params['max_samples'],\n",
    "        'contamination': params['contamination'],\n",
    "        'n_estimators': params['n_estimators'],\n",
    "        'max_features': params['max_features'],\n",
    "        'precision': precision,\n",
    "        'recall': recall,\n",
    "        'f1': f1,\n",
    "    })\n",
    "    \n",
    "if_finetuning_df = pd.DataFrame(results)\n",
    "if_finetuning_df.to_csv('./results/if_finetuning_df.csv')\n",
    "# Best parameters based on f1 score\n",
    "best_params = if_finetuning_df.sort_values(by='f1', ascending=False).iloc[0]\n",
    "print(best_params)\n",
    "\n",
    "# Evaluating fine-tuned model\n",
    "ifo = IsolationForest(\n",
    "    max_samples=best_params['max_samples'],\n",
    "    contamination=best_params['contamination'],\n",
    "    n_estimators=best_params['n_estimators'],\n",
    "    max_features=best_params['max_features'],\n",
    ")\n",
    "\n",
    "y_pred = ifo.fit_predict(X_train)\n",
    "decision_scores = ifo.decision_function(X_train)\n",
    "roc_auc = roc_auc_score(y, decision_scores)\n",
    "print(f\"ROC AUC: {roc_auc}\")\n",
    "print('Number of outliers detected: {}'.format(y_pred[y_pred == -1].sum()))\n",
    "print('Number of inliers detected: {}'.format(y_pred[y_pred == 1].sum()))\n",
    "\n",
    "cm = confusion_matrix(y, y_pred)\n",
    "disp = ConfusionMatrixDisplay(cm, display_labels=['con', 'nat'])\n",
    "disp.plot(cmap=plt.cm.Blues)\n",
    "plt.title('Confusion Matrix for Isolation Forest')\n",
    "plt.savefig('./results/CM_if.png')\n",
    "plt.show()\n",
    "\n",
    "plt.figure(figsize=(8, 6))\n",
    "plt.scatter(X[y_pred == 1][:, 0], X[y_pred == 1][:, 1], label=\"Inliers\", c='blue', s=60)\n",
    "plt.scatter(X[y_pred == -1][:, 0], X[y_pred == -1][:, 1], label=\"Outliers\", c='red', s=60)\n",
    "for i, txt in enumerate(data['Corpus']):\n",
    "    if y_pred[i] == -1: \n",
    "        plt.text(X[i, 0] + 0.02, X[i, 1] + 0.02, txt, fontsize=9, color='black',\n",
    "                 ha='center', va='bottom', bbox=dict(facecolor='white', alpha=0.6))\n",
    "plt.title(\"Isolation Forest - Inliers and Outliers\")\n",
    "plt.legend()\n",
    "plt.savefig('./results/IF_outliers.png')\n",
    "plt.show()"
   ]
  },
  {
   "cell_type": "markdown",
   "metadata": {},
   "source": [
    "#### Fine-tuned IF's feature importances with SHAP"
   ]
  },
  {
   "cell_type": "code",
   "execution_count": 47,
   "metadata": {},
   "outputs": [
    {
     "data": {
      "image/png": "[encoded data removed]",
      "text/plain": [
       "<Figure size 800x670 with 2 Axes>"
      ]
     },
     "metadata": {},
     "output_type": "display_data"
    }
   ],
   "source": [
    "shap_values = shap.TreeExplainer(ifo).shap_values(X_train)\n",
    "shap.summary_plot(shap_values, X_train, feature_names=data.iloc[:,2:].columns.values)\n",
    "\n",
    "# explainer = shap.Explainer(ifc)\n",
    "# shap_values = explainer(X_train)\n",
    "# shap.plots.waterfall(shap_values[0])\n",
    "\n",
    "# def global_shap_importance(model, X):\n",
    "#     \"\"\" Return a dataframe containing the features sorted by Shap importance\n",
    "#     Parameters\n",
    "#     ----------\n",
    "#     model : The tree-based model \n",
    "#     X : pd.Dataframe\n",
    "#          training set/test set/the whole dataset ... (without the label)\n",
    "#     Returns\n",
    "#     -------\n",
    "#     pd.Dataframe\n",
    "#         A dataframe containing the features sorted by Shap importance\n",
    "#     \"\"\"\n",
    "#     explainer = shap.Explainer(model)\n",
    "#     shap_values = explainer(X)\n",
    "#     cohorts = {\"\": shap_values}\n",
    "#     cohort_labels = list(cohorts.keys())\n",
    "#     cohort_exps = list(cohorts.values())\n",
    "#     for i in range(len(cohort_exps)):\n",
    "#         if len(cohort_exps[i].shape) == 2:\n",
    "#             cohort_exps[i] = cohort_exps[i].abs.mean(0)\n",
    "#     features = cohort_exps[0].data\n",
    "#     feature_names = cohort_exps[0].feature_names\n",
    "#     values = np.array([cohort_exps[i].values for i in range(len(cohort_exps))])\n",
    "#     feature_importance = pd.DataFrame(\n",
    "#         list(zip(feature_names, sum(values))), columns=['features', 'importance'])\n",
    "#     feature_importance.sort_values(\n",
    "#         by=['importance'], ascending=False, inplace=True)\n",
    "#     return feature_importance"
   ]
  },
  {
   "cell_type": "markdown",
   "metadata": {},
   "source": [
    "#### IF with PCA"
   ]
  },
  {
   "cell_type": "code",
   "execution_count": 48,
   "metadata": {},
   "outputs": [
    {
     "data": {
      "application/vnd.plotly.v1+json": {
       "config": {
        "plotlyServerURL": "https://plot.ly"
       },
       "data": [
        {
         "diagonal": {
          "visible": false
         },
         "dimensions": [
          {
           "axis": {
            "matches": true
           },
           "label": "PC 1",
           "values": [
            -45.29754754609439,
            -73.72798042396815,
            -63.95329056498219,
            -73.00364625916298,
            -78.73512512937545,
            -51.34148059361303
           ]
          },
          {
           "axis": {
            "matches": true
           },
           "label": "PC 2",
           "values": [
            -4.252572405735097,
            -0.35554692596976656,
            -2.23020551707635,
            -0.7576410213537994,
            -1.0415947115920938,
            -5.023191611472604
           ]
          },
          {
           "axis": {
            "matches": true
           },
           "label": "PC 3",
           "values": [
            2.49797383949555,
            -10.307388871649062,
            1.546060145542986,
            0.44500601801690165,
            -6.061512091807392,
            -4.429088664876336
           ]
          }
         ],
         "hovertemplate": "Type=con<br>%{xaxis.title.text}=%{x}<br>%{yaxis.title.text}=%{y}<extra></extra>",
         "legendgroup": "con",
         "marker": {
          "color": "#636efa",
          "symbol": "circle"
         },
         "name": "con",
         "showlegend": true,
         "type": "splom"
        },
        {
         "diagonal": {
          "visible": false
         },
         "dimensions": [
          {
           "axis": {
            "matches": true
           },
           "label": "PC 1",
           "values": [
            -38.78096628508363,
            2.5989666511459038,
            166.13192530963568,
            -21.158805271770685,
            -53.13108222595937,
            -19.060796592710034,
            -25.78232283191686,
            -35.43048327298153,
            16.045809241519105,
            11.644984006335095,
            -6.415425533619876,
            57.277635940942595,
            -38.71238703634515,
            -68.62218389572115,
            178.04453227713563,
            -47.524437257934494,
            281.72070563158206,
            27.213401662942765
           ]
          },
          {
           "axis": {
            "matches": true
           },
           "label": "PC 2",
           "values": [
            -0.1906329028522179,
            -3.497377923591573,
            -0.6467168781889295,
            -0.07865978196958409,
            2.229837886016709,
            22.08916150205768,
            -2.138099225755354,
            1.2146060587922711,
            2.7674584110812934,
            -1.8274730718041017,
            -2.1743206565289728,
            -5.334731227075278,
            1.3979712515933616,
            0.36150850722988404,
            -0.31439428456317886,
            0.9253404858393655,
            1.3992447823536323,
            -2.521970739435338
           ]
          },
          {
           "axis": {
            "matches": true
           },
           "label": "PC 3",
           "values": [
            -0.9170517798018674,
            -1.435547329654608,
            -0.06083961841434599,
            5.349331307615989,
            -0.03318913445943352,
            -1.5740280598997436,
            1.2155745091188133,
            2.1319970337059555,
            7.402462222877006,
            0.2506582057706429,
            -0.8776002719827827,
            1.6255320562493225,
            -1.9311531831513815,
            1.5434941373294098,
            -0.6061089265839794,
            6.701671466323378,
            -2.942890066893809,
            0.4666370571287781
           ]
          }
         ],
         "hovertemplate": "Type=nat<br>%{xaxis.title.text}=%{x}<br>%{yaxis.title.text}=%{y}<extra></extra>",
         "legendgroup": "nat",
         "marker": {
          "color": "#EF553B",
          "symbol": "circle"
         },
         "name": "nat",
         "showlegend": true,
         "type": "splom"
        }
       ],
       "layout": {
        "dragmode": "select",
        "legend": {
         "title": {
          "text": "Type"
         },
         "tracegroupgap": 0
        },
        "template": {
         "data": {
          "bar": [
           {
            "error_x": {
             "color": "#2a3f5f"
            },
            "error_y": {
             "color": "#2a3f5f"
            },
            "marker": {
             "line": {
              "color": "#E5ECF6",
              "width": 0.5
             },
             "pattern": {
              "fillmode": "overlay",
              "size": 10,
              "solidity": 0.2
             }
            },
            "type": "bar"
           }
          ],
          "barpolar": [
           {
            "marker": {
             "line": {
              "color": "#E5ECF6",
              "width": 0.5
             },
             "pattern": {
              "fillmode": "overlay",
              "size": 10,
              "solidity": 0.2
             }
            },
            "type": "barpolar"
           }
          ],
          "carpet": [
           {
            "aaxis": {
             "endlinecolor": "#2a3f5f",
             "gridcolor": "white",
             "linecolor": "white",
             "minorgridcolor": "white",
             "startlinecolor": "#2a3f5f"
            },
            "baxis": {
             "endlinecolor": "#2a3f5f",
             "gridcolor": "white",
             "linecolor": "white",
             "minorgridcolor": "white",
             "startlinecolor": "#2a3f5f"
            },
            "type": "carpet"
           }
          ],
          "choropleth": [
           {
            "colorbar": {
             "outlinewidth": 0,
             "ticks": ""
            },
            "type": "choropleth"
           }
          ],
          "contour": [
           {
            "colorbar": {
             "outlinewidth": 0,
             "ticks": ""
            },
            "colorscale": [
             [
              0,
              "#0d0887"
             ],
             [
              0.1111111111111111,
              "#46039f"
             ],
             [
              0.2222222222222222,
              "#7201a8"
             ],
             [
              0.3333333333333333,
              "#9c179e"
             ],
             [
              0.4444444444444444,
              "#bd3786"
             ],
             [
              0.5555555555555556,
              "#d8576b"
             ],
             [
              0.6666666666666666,
              "#ed7953"
             ],
             [
              0.7777777777777778,
              "#fb9f3a"
             ],
             [
              0.8888888888888888,
              "#fdca26"
             ],
             [
              1,
              "#f0f921"
             ]
            ],
            "type": "contour"
           }
          ],
          "contourcarpet": [
           {
            "colorbar": {
             "outlinewidth": 0,
             "ticks": ""
            },
            "type": "contourcarpet"
           }
          ],
          "heatmap": [
           {
            "colorbar": {
             "outlinewidth": 0,
             "ticks": ""
            },
            "colorscale": [
             [
              0,
              "#0d0887"
             ],
             [
              0.1111111111111111,
              "#46039f"
             ],
             [
              0.2222222222222222,
              "#7201a8"
             ],
             [
              0.3333333333333333,
              "#9c179e"
             ],
             [
              0.4444444444444444,
              "#bd3786"
             ],
             [
              0.5555555555555556,
              "#d8576b"
             ],
             [
              0.6666666666666666,
              "#ed7953"
             ],
             [
              0.7777777777777778,
              "#fb9f3a"
             ],
             [
              0.8888888888888888,
              "#fdca26"
             ],
             [
              1,
              "#f0f921"
             ]
            ],
            "type": "heatmap"
           }
          ],
          "heatmapgl": [
           {
            "colorbar": {
             "outlinewidth": 0,
             "ticks": ""
            },
            "colorscale": [
             [
              0,
              "#0d0887"
             ],
             [
              0.1111111111111111,
              "#46039f"
             ],
             [
              0.2222222222222222,
              "#7201a8"
             ],
             [
              0.3333333333333333,
              "#9c179e"
             ],
             [
              0.4444444444444444,
              "#bd3786"
             ],
             [
              0.5555555555555556,
              "#d8576b"
             ],
             [
              0.6666666666666666,
              "#ed7953"
             ],
             [
              0.7777777777777778,
              "#fb9f3a"
             ],
             [
              0.8888888888888888,
              "#fdca26"
             ],
             [
              1,
              "#f0f921"
             ]
            ],
            "type": "heatmapgl"
           }
          ],
          "histogram": [
           {
            "marker": {
             "pattern": {
              "fillmode": "overlay",
              "size": 10,
              "solidity": 0.2
             }
            },
            "type": "histogram"
           }
          ],
          "histogram2d": [
           {
            "colorbar": {
             "outlinewidth": 0,
             "ticks": ""
            },
            "colorscale": [
             [
              0,
              "#0d0887"
             ],
             [
              0.1111111111111111,
              "#46039f"
             ],
             [
              0.2222222222222222,
              "#7201a8"
             ],
             [
              0.3333333333333333,
              "#9c179e"
             ],
             [
              0.4444444444444444,
              "#bd3786"
             ],
             [
              0.5555555555555556,
              "#d8576b"
             ],
             [
              0.6666666666666666,
              "#ed7953"
             ],
             [
              0.7777777777777778,
              "#fb9f3a"
             ],
             [
              0.8888888888888888,
              "#fdca26"
             ],
             [
              1,
              "#f0f921"
             ]
            ],
            "type": "histogram2d"
           }
          ],
          "histogram2dcontour": [
           {
            "colorbar": {
             "outlinewidth": 0,
             "ticks": ""
            },
            "colorscale": [
             [
              0,
              "#0d0887"
             ],
             [
              0.1111111111111111,
              "#46039f"
             ],
             [
              0.2222222222222222,
              "#7201a8"
             ],
             [
              0.3333333333333333,
              "#9c179e"
             ],
             [
              0.4444444444444444,
              "#bd3786"
             ],
             [
              0.5555555555555556,
              "#d8576b"
             ],
             [
              0.6666666666666666,
              "#ed7953"
             ],
             [
              0.7777777777777778,
              "#fb9f3a"
             ],
             [
              0.8888888888888888,
              "#fdca26"
             ],
             [
              1,
              "#f0f921"
             ]
            ],
            "type": "histogram2dcontour"
           }
          ],
          "mesh3d": [
           {
            "colorbar": {
             "outlinewidth": 0,
             "ticks": ""
            },
            "type": "mesh3d"
           }
          ],
          "parcoords": [
           {
            "line": {
             "colorbar": {
              "outlinewidth": 0,
              "ticks": ""
             }
            },
            "type": "parcoords"
           }
          ],
          "pie": [
           {
            "automargin": true,
            "type": "pie"
           }
          ],
          "scatter": [
           {
            "fillpattern": {
             "fillmode": "overlay",
             "size": 10,
             "solidity": 0.2
            },
            "type": "scatter"
           }
          ],
          "scatter3d": [
           {
            "line": {
             "colorbar": {
              "outlinewidth": 0,
              "ticks": ""
             }
            },
            "marker": {
             "colorbar": {
              "outlinewidth": 0,
              "ticks": ""
             }
            },
            "type": "scatter3d"
           }
          ],
          "scattercarpet": [
           {
            "marker": {
             "colorbar": {
              "outlinewidth": 0,
              "ticks": ""
             }
            },
            "type": "scattercarpet"
           }
          ],
          "scattergeo": [
           {
            "marker": {
             "colorbar": {
              "outlinewidth": 0,
              "ticks": ""
             }
            },
            "type": "scattergeo"
           }
          ],
          "scattergl": [
           {
            "marker": {
             "colorbar": {
              "outlinewidth": 0,
              "ticks": ""
             }
            },
            "type": "scattergl"
           }
          ],
          "scattermapbox": [
           {
            "marker": {
             "colorbar": {
              "outlinewidth": 0,
              "ticks": ""
             }
            },
            "type": "scattermapbox"
           }
          ],
          "scatterpolar": [
           {
            "marker": {
             "colorbar": {
              "outlinewidth": 0,
              "ticks": ""
             }
            },
            "type": "scatterpolar"
           }
          ],
          "scatterpolargl": [
           {
            "marker": {
             "colorbar": {
              "outlinewidth": 0,
              "ticks": ""
             }
            },
            "type": "scatterpolargl"
           }
          ],
          "scatterternary": [
           {
            "marker": {
             "colorbar": {
              "outlinewidth": 0,
              "ticks": ""
             }
            },
            "type": "scatterternary"
           }
          ],
          "surface": [
           {
            "colorbar": {
             "outlinewidth": 0,
             "ticks": ""
            },
            "colorscale": [
             [
              0,
              "#0d0887"
             ],
             [
              0.1111111111111111,
              "#46039f"
             ],
             [
              0.2222222222222222,
              "#7201a8"
             ],
             [
              0.3333333333333333,
              "#9c179e"
             ],
             [
              0.4444444444444444,
              "#bd3786"
             ],
             [
              0.5555555555555556,
              "#d8576b"
             ],
             [
              0.6666666666666666,
              "#ed7953"
             ],
             [
              0.7777777777777778,
              "#fb9f3a"
             ],
             [
              0.8888888888888888,
              "#fdca26"
             ],
             [
              1,
              "#f0f921"
             ]
            ],
            "type": "surface"
           }
          ],
          "table": [
           {
            "cells": {
             "fill": {
              "color": "#EBF0F8"
             },
             "line": {
              "color": "white"
             }
            },
            "header": {
             "fill": {
              "color": "#C8D4E3"
             },
             "line": {
              "color": "white"
             }
            },
            "type": "table"
           }
          ]
         },
         "layout": {
          "annotationdefaults": {
           "arrowcolor": "#2a3f5f",
           "arrowhead": 0,
           "arrowwidth": 1
          },
          "autotypenumbers": "strict",
          "coloraxis": {
           "colorbar": {
            "outlinewidth": 0,
            "ticks": ""
           }
          },
          "colorscale": {
           "diverging": [
            [
             0,
             "#8e0152"
            ],
            [
             0.1,
             "#c51b7d"
            ],
            [
             0.2,
             "#de77ae"
            ],
            [
             0.3,
             "#f1b6da"
            ],
            [
             0.4,
             "#fde0ef"
            ],
            [
             0.5,
             "#f7f7f7"
            ],
            [
             0.6,
             "#e6f5d0"
            ],
            [
             0.7,
             "#b8e186"
            ],
            [
             0.8,
             "#7fbc41"
            ],
            [
             0.9,
             "#4d9221"
            ],
            [
             1,
             "#276419"
            ]
           ],
           "sequential": [
            [
             0,
             "#0d0887"
            ],
            [
             0.1111111111111111,
             "#46039f"
            ],
            [
             0.2222222222222222,
             "#7201a8"
            ],
            [
             0.3333333333333333,
             "#9c179e"
            ],
            [
             0.4444444444444444,
             "#bd3786"
            ],
            [
             0.5555555555555556,
             "#d8576b"
            ],
            [
             0.6666666666666666,
             "#ed7953"
            ],
            [
             0.7777777777777778,
             "#fb9f3a"
            ],
            [
             0.8888888888888888,
             "#fdca26"
            ],
            [
             1,
             "#f0f921"
            ]
           ],
           "sequentialminus": [
            [
             0,
             "#0d0887"
            ],
            [
             0.1111111111111111,
             "#46039f"
            ],
            [
             0.2222222222222222,
             "#7201a8"
            ],
            [
             0.3333333333333333,
             "#9c179e"
            ],
            [
             0.4444444444444444,
             "#bd3786"
            ],
            [
             0.5555555555555556,
             "#d8576b"
            ],
            [
             0.6666666666666666,
             "#ed7953"
            ],
            [
             0.7777777777777778,
             "#fb9f3a"
            ],
            [
             0.8888888888888888,
             "#fdca26"
            ],
            [
             1,
             "#f0f921"
            ]
           ]
          },
          "colorway": [
           "#636efa",
           "#EF553B",
           "#00cc96",
           "#ab63fa",
           "#FFA15A",
           "#19d3f3",
           "#FF6692",
           "#B6E880",
           "#FF97FF",
           "#FECB52"
          ],
          "font": {
           "color": "#2a3f5f"
          },
          "geo": {
           "bgcolor": "white",
           "lakecolor": "white",
           "landcolor": "#E5ECF6",
           "showlakes": true,
           "showland": true,
           "subunitcolor": "white"
          },
          "hoverlabel": {
           "align": "left"
          },
          "hovermode": "closest",
          "mapbox": {
           "style": "light"
          },
          "paper_bgcolor": "white",
          "plot_bgcolor": "#E5ECF6",
          "polar": {
           "angularaxis": {
            "gridcolor": "white",
            "linecolor": "white",
            "ticks": ""
           },
           "bgcolor": "#E5ECF6",
           "radialaxis": {
            "gridcolor": "white",
            "linecolor": "white",
            "ticks": ""
           }
          },
          "scene": {
           "xaxis": {
            "backgroundcolor": "#E5ECF6",
            "gridcolor": "white",
            "gridwidth": 2,
            "linecolor": "white",
            "showbackground": true,
            "ticks": "",
            "zerolinecolor": "white"
           },
           "yaxis": {
            "backgroundcolor": "#E5ECF6",
            "gridcolor": "white",
            "gridwidth": 2,
            "linecolor": "white",
            "showbackground": true,
            "ticks": "",
            "zerolinecolor": "white"
           },
           "zaxis": {
            "backgroundcolor": "#E5ECF6",
            "gridcolor": "white",
            "gridwidth": 2,
            "linecolor": "white",
            "showbackground": true,
            "ticks": "",
            "zerolinecolor": "white"
           }
          },
          "shapedefaults": {
           "line": {
            "color": "#2a3f5f"
           }
          },
          "ternary": {
           "aaxis": {
            "gridcolor": "white",
            "linecolor": "white",
            "ticks": ""
           },
           "baxis": {
            "gridcolor": "white",
            "linecolor": "white",
            "ticks": ""
           },
           "bgcolor": "#E5ECF6",
           "caxis": {
            "gridcolor": "white",
            "linecolor": "white",
            "ticks": ""
           }
          },
          "title": {
           "x": 0.05
          },
          "xaxis": {
           "automargin": true,
           "gridcolor": "white",
           "linecolor": "white",
           "ticks": "",
           "title": {
            "standoff": 15
           },
           "zerolinecolor": "white",
           "zerolinewidth": 2
          },
          "yaxis": {
           "automargin": true,
           "gridcolor": "white",
           "linecolor": "white",
           "ticks": "",
           "title": {
            "standoff": 15
           },
           "zerolinecolor": "white",
           "zerolinewidth": 2
          }
         }
        },
        "title": {
         "text": "Total Explained Variance: 99.94%"
        }
       }
      }
     },
     "metadata": {},
     "output_type": "display_data"
    }
   ],
   "source": [
    "n_components = 3\n",
    "pca = PCA(n_components=n_components)\n",
    "components = pca.fit_transform(data.iloc[:,2:].values.round(decimals=3))\n",
    "\n",
    "total_var = pca.explained_variance_ratio_.sum() * 100\n",
    "\n",
    "labels = {str(i): f\"PC {i+1}\" for i in range(n_components)}\n",
    "labels['color'] = 'Type'\n",
    "\n",
    "fig = px.scatter_matrix(\n",
    "    components,\n",
    "    color=data['Type'],\n",
    "    dimensions=range(n_components),\n",
    "    labels=labels,\n",
    "    title=f'Total Explained Variance: {total_var:.2f}%',\n",
    ")\n",
    "fig.update_traces(diagonal_visible=False)\n",
    "fig.show()"
   ]
  },
  {
   "cell_type": "code",
   "execution_count": 49,
   "metadata": {},
   "outputs": [
    {
     "data": {
      "text/html": [
       "<div>\n",
       "<style scoped>\n",
       "    .dataframe tbody tr th:only-of-type {\n",
       "        vertical-align: middle;\n",
       "    }\n",
       "\n",
       "    .dataframe tbody tr th {\n",
       "        vertical-align: top;\n",
       "    }\n",
       "\n",
       "    .dataframe thead th {\n",
       "        text-align: right;\n",
       "    }\n",
       "</style>\n",
       "<table border=\"1\" class=\"dataframe\">\n",
       "  <thead>\n",
       "    <tr style=\"text-align: right;\">\n",
       "      <th></th>\n",
       "      <th>Corpus</th>\n",
       "      <th>Decision Function Scores</th>\n",
       "    </tr>\n",
       "  </thead>\n",
       "  <tbody>\n",
       "    <tr>\n",
       "      <th>0</th>\n",
       "      <td>eo</td>\n",
       "      <td>0.073469</td>\n",
       "    </tr>\n",
       "    <tr>\n",
       "      <th>1</th>\n",
       "      <td>nl</td>\n",
       "      <td>0.088771</td>\n",
       "    </tr>\n",
       "    <tr>\n",
       "      <th>2</th>\n",
       "      <td>is</td>\n",
       "      <td>0.044440</td>\n",
       "    </tr>\n",
       "    <tr>\n",
       "      <th>3</th>\n",
       "      <td>pl</td>\n",
       "      <td>-0.001099</td>\n",
       "    </tr>\n",
       "    <tr>\n",
       "      <th>4</th>\n",
       "      <td>fr</td>\n",
       "      <td>0.085756</td>\n",
       "    </tr>\n",
       "    <tr>\n",
       "      <th>5</th>\n",
       "      <td>vo</td>\n",
       "      <td>-0.001099</td>\n",
       "    </tr>\n",
       "    <tr>\n",
       "      <th>6</th>\n",
       "      <td>af</td>\n",
       "      <td>0.073469</td>\n",
       "    </tr>\n",
       "    <tr>\n",
       "      <th>7</th>\n",
       "      <td>vi</td>\n",
       "      <td>0.013388</td>\n",
       "    </tr>\n",
       "    <tr>\n",
       "      <th>8</th>\n",
       "      <td>oc</td>\n",
       "      <td>0.088771</td>\n",
       "    </tr>\n",
       "    <tr>\n",
       "      <th>9</th>\n",
       "      <td>en</td>\n",
       "      <td>0.082719</td>\n",
       "    </tr>\n",
       "    <tr>\n",
       "      <th>10</th>\n",
       "      <td>it</td>\n",
       "      <td>0.044440</td>\n",
       "    </tr>\n",
       "    <tr>\n",
       "      <th>11</th>\n",
       "      <td>ia</td>\n",
       "      <td>0.060809</td>\n",
       "    </tr>\n",
       "    <tr>\n",
       "      <th>12</th>\n",
       "      <td>sv</td>\n",
       "      <td>0.054335</td>\n",
       "    </tr>\n",
       "    <tr>\n",
       "      <th>13</th>\n",
       "      <td>lfn</td>\n",
       "      <td>0.047763</td>\n",
       "    </tr>\n",
       "    <tr>\n",
       "      <th>14</th>\n",
       "      <td>da</td>\n",
       "      <td>0.044440</td>\n",
       "    </tr>\n",
       "    <tr>\n",
       "      <th>15</th>\n",
       "      <td>hu</td>\n",
       "      <td>-0.001099</td>\n",
       "    </tr>\n",
       "    <tr>\n",
       "      <th>16</th>\n",
       "      <td>id</td>\n",
       "      <td>0.057584</td>\n",
       "    </tr>\n",
       "    <tr>\n",
       "      <th>17</th>\n",
       "      <td>tl</td>\n",
       "      <td>0.037720</td>\n",
       "    </tr>\n",
       "    <tr>\n",
       "      <th>18</th>\n",
       "      <td>tr</td>\n",
       "      <td>0.009807</td>\n",
       "    </tr>\n",
       "    <tr>\n",
       "      <th>19</th>\n",
       "      <td>io</td>\n",
       "      <td>0.006199</td>\n",
       "    </tr>\n",
       "    <tr>\n",
       "      <th>20</th>\n",
       "      <td>es</td>\n",
       "      <td>0.060809</td>\n",
       "    </tr>\n",
       "    <tr>\n",
       "      <th>21</th>\n",
       "      <td>fi</td>\n",
       "      <td>0.002564</td>\n",
       "    </tr>\n",
       "    <tr>\n",
       "      <th>22</th>\n",
       "      <td>de</td>\n",
       "      <td>0.034321</td>\n",
       "    </tr>\n",
       "    <tr>\n",
       "      <th>23</th>\n",
       "      <td>avk</td>\n",
       "      <td>0.076576</td>\n",
       "    </tr>\n",
       "  </tbody>\n",
       "</table>\n",
       "</div>"
      ],
      "text/plain": [
       "   Corpus  Decision Function Scores\n",
       "0      eo                  0.073469\n",
       "1      nl                  0.088771\n",
       "2      is                  0.044440\n",
       "3      pl                 -0.001099\n",
       "4      fr                  0.085756\n",
       "5      vo                 -0.001099\n",
       "6      af                  0.073469\n",
       "7      vi                  0.013388\n",
       "8      oc                  0.088771\n",
       "9      en                  0.082719\n",
       "10     it                  0.044440\n",
       "11     ia                  0.060809\n",
       "12     sv                  0.054335\n",
       "13    lfn                  0.047763\n",
       "14     da                  0.044440\n",
       "15     hu                 -0.001099\n",
       "16     id                  0.057584\n",
       "17     tl                  0.037720\n",
       "18     tr                  0.009807\n",
       "19     io                  0.006199\n",
       "20     es                  0.060809\n",
       "21     fi                  0.002564\n",
       "22     de                  0.034321\n",
       "23    avk                  0.076576"
      ]
     },
     "metadata": {},
     "output_type": "display_data"
    }
   ],
   "source": [
    "score = ifo.decision_function(X_train)\n",
    "score_df = pd.DataFrame(score, columns=['Decision Function Scores'])\n",
    "data_scores = pd.concat([data['Corpus'], score_df], axis=1)\n",
    "display(data_scores)"
   ]
  },
  {
   "cell_type": "code",
   "execution_count": 50,
   "metadata": {},
   "outputs": [
    {
     "data": {
      "application/vnd.plotly.v1+json": {
       "config": {
        "plotlyServerURL": "https://plot.ly"
       },
       "data": [
        {
         "diagonal": {
          "visible": false
         },
         "dimensions": [
          {
           "axis": {
            "matches": true
           },
           "label": "PC 1",
           "values": [
            -45.29763406760609,
            -38.78105494845526,
            2.598864468523204,
            166.13258088679126,
            -21.15889996483243,
            -73.72724543148134,
            -53.131166263728936,
            -19.060892339397537,
            -25.782415784284716,
            -35.430573181151395,
            16.04570212546569,
            -63.95337095941192,
            11.644878736916034,
            -73.003723661052,
            -6.415524801563535,
            57.2783274390101,
            -38.712475723622525,
            -68.6222628324194,
            178.04437218234128,
            -78.7352003878053,
            -47.52452334908286,
            281.72051141665355,
            27.21329127044232,
            -51.34156483024833
           ]
          },
          {
           "axis": {
            "matches": true
           },
           "label": "PC 2",
           "values": [
            -4.250654480046948,
            -0.1898980558597065,
            -3.4962880070498326,
            -0.65435909697263,
            -0.07590441340367823,
            -0.36843897636729106,
            2.230602487096474,
            22.088622735048528,
            -2.1365713312914116,
            1.2161840718521297,
            2.7710435391782524,
            -2.228855614362605,
            -1.825889620634102,
            -0.7568289501996334,
            -2.1732154515828084,
            -5.342464051970724,
            1.3982849442887566,
            0.3627149623610326,
            -0.31179968544446796,
            -1.0428435737208508,
            0.9282644775771436,
            1.4019046999003921,
            -2.520132792401666,
            -5.023477815994381
           ]
          },
          {
           "axis": {
            "matches": true
           },
           "label": "PC 3",
           "values": [
            2.5019503137035213,
            -0.9138645516164268,
            -1.4293545228613698,
            -0.08032398718506145,
            5.350143232679492,
            -10.32863393168179,
            -0.03204493618674781,
            -1.5835273319236336,
            1.21896135795534,
            2.1329899269971646,
            7.401799185426838,
            1.5487360833691615,
            0.25534361406702316,
            0.44681565328694545,
            -0.8726535750838027,
            1.6061080680771604,
            -1.9286511973104068,
            1.5447316067837829,
            -0.5986159229632616,
            -6.057286308352093,
            6.700942239446161,
            -2.9332099896952952,
            0.4720875742156052,
            -4.422442601148326
           ]
          }
         ],
         "hovertemplate": "%{xaxis.title.text}=%{x}<br>%{yaxis.title.text}=%{y}<br>Type=%{marker.color}<extra></extra>",
         "legendgroup": "",
         "marker": {
          "color": [
           0,
           0,
           0,
           1,
           0,
           1,
           0,
           0,
           0,
           0,
           0,
           0,
           0,
           0,
           0,
           1,
           0,
           0,
           0,
           0,
           0,
           0,
           0,
           0
          ],
          "coloraxis": "coloraxis",
          "symbol": "circle"
         },
         "name": "",
         "showlegend": false,
         "type": "splom"
        }
       ],
       "layout": {
        "coloraxis": {
         "colorbar": {
          "title": {
           "text": "Type"
          }
         },
         "colorscale": [
          [
           0,
           "#0d0887"
          ],
          [
           0.1111111111111111,
           "#46039f"
          ],
          [
           0.2222222222222222,
           "#7201a8"
          ],
          [
           0.3333333333333333,
           "#9c179e"
          ],
          [
           0.4444444444444444,
           "#bd3786"
          ],
          [
           0.5555555555555556,
           "#d8576b"
          ],
          [
           0.6666666666666666,
           "#ed7953"
          ],
          [
           0.7777777777777778,
           "#fb9f3a"
          ],
          [
           0.8888888888888888,
           "#fdca26"
          ],
          [
           1,
           "#f0f921"
          ]
         ]
        },
        "dragmode": "select",
        "legend": {
         "tracegroupgap": 0
        },
        "template": {
         "data": {
          "bar": [
           {
            "error_x": {
             "color": "#2a3f5f"
            },
            "error_y": {
             "color": "#2a3f5f"
            },
            "marker": {
             "line": {
              "color": "#E5ECF6",
              "width": 0.5
             },
             "pattern": {
              "fillmode": "overlay",
              "size": 10,
              "solidity": 0.2
             }
            },
            "type": "bar"
           }
          ],
          "barpolar": [
           {
            "marker": {
             "line": {
              "color": "#E5ECF6",
              "width": 0.5
             },
             "pattern": {
              "fillmode": "overlay",
              "size": 10,
              "solidity": 0.2
             }
            },
            "type": "barpolar"
           }
          ],
          "carpet": [
           {
            "aaxis": {
             "endlinecolor": "#2a3f5f",
             "gridcolor": "white",
             "linecolor": "white",
             "minorgridcolor": "white",
             "startlinecolor": "#2a3f5f"
            },
            "baxis": {
             "endlinecolor": "#2a3f5f",
             "gridcolor": "white",
             "linecolor": "white",
             "minorgridcolor": "white",
             "startlinecolor": "#2a3f5f"
            },
            "type": "carpet"
           }
          ],
          "choropleth": [
           {
            "colorbar": {
             "outlinewidth": 0,
             "ticks": ""
            },
            "type": "choropleth"
           }
          ],
          "contour": [
           {
            "colorbar": {
             "outlinewidth": 0,
             "ticks": ""
            },
            "colorscale": [
             [
              0,
              "#0d0887"
             ],
             [
              0.1111111111111111,
              "#46039f"
             ],
             [
              0.2222222222222222,
              "#7201a8"
             ],
             [
              0.3333333333333333,
              "#9c179e"
             ],
             [
              0.4444444444444444,
              "#bd3786"
             ],
             [
              0.5555555555555556,
              "#d8576b"
             ],
             [
              0.6666666666666666,
              "#ed7953"
             ],
             [
              0.7777777777777778,
              "#fb9f3a"
             ],
             [
              0.8888888888888888,
              "#fdca26"
             ],
             [
              1,
              "#f0f921"
             ]
            ],
            "type": "contour"
           }
          ],
          "contourcarpet": [
           {
            "colorbar": {
             "outlinewidth": 0,
             "ticks": ""
            },
            "type": "contourcarpet"
           }
          ],
          "heatmap": [
           {
            "colorbar": {
             "outlinewidth": 0,
             "ticks": ""
            },
            "colorscale": [
             [
              0,
              "#0d0887"
             ],
             [
              0.1111111111111111,
              "#46039f"
             ],
             [
              0.2222222222222222,
              "#7201a8"
             ],
             [
              0.3333333333333333,
              "#9c179e"
             ],
             [
              0.4444444444444444,
              "#bd3786"
             ],
             [
              0.5555555555555556,
              "#d8576b"
             ],
             [
              0.6666666666666666,
              "#ed7953"
             ],
             [
              0.7777777777777778,
              "#fb9f3a"
             ],
             [
              0.8888888888888888,
              "#fdca26"
             ],
             [
              1,
              "#f0f921"
             ]
            ],
            "type": "heatmap"
           }
          ],
          "heatmapgl": [
           {
            "colorbar": {
             "outlinewidth": 0,
             "ticks": ""
            },
            "colorscale": [
             [
              0,
              "#0d0887"
             ],
             [
              0.1111111111111111,
              "#46039f"
             ],
             [
              0.2222222222222222,
              "#7201a8"
             ],
             [
              0.3333333333333333,
              "#9c179e"
             ],
             [
              0.4444444444444444,
              "#bd3786"
             ],
             [
              0.5555555555555556,
              "#d8576b"
             ],
             [
              0.6666666666666666,
              "#ed7953"
             ],
             [
              0.7777777777777778,
              "#fb9f3a"
             ],
             [
              0.8888888888888888,
              "#fdca26"
             ],
             [
              1,
              "#f0f921"
             ]
            ],
            "type": "heatmapgl"
           }
          ],
          "histogram": [
           {
            "marker": {
             "pattern": {
              "fillmode": "overlay",
              "size": 10,
              "solidity": 0.2
             }
            },
            "type": "histogram"
           }
          ],
          "histogram2d": [
           {
            "colorbar": {
             "outlinewidth": 0,
             "ticks": ""
            },
            "colorscale": [
             [
              0,
              "#0d0887"
             ],
             [
              0.1111111111111111,
              "#46039f"
             ],
             [
              0.2222222222222222,
              "#7201a8"
             ],
             [
              0.3333333333333333,
              "#9c179e"
             ],
             [
              0.4444444444444444,
              "#bd3786"
             ],
             [
              0.5555555555555556,
              "#d8576b"
             ],
             [
              0.6666666666666666,
              "#ed7953"
             ],
             [
              0.7777777777777778,
              "#fb9f3a"
             ],
             [
              0.8888888888888888,
              "#fdca26"
             ],
             [
              1,
              "#f0f921"
             ]
            ],
            "type": "histogram2d"
           }
          ],
          "histogram2dcontour": [
           {
            "colorbar": {
             "outlinewidth": 0,
             "ticks": ""
            },
            "colorscale": [
             [
              0,
              "#0d0887"
             ],
             [
              0.1111111111111111,
              "#46039f"
             ],
             [
              0.2222222222222222,
              "#7201a8"
             ],
             [
              0.3333333333333333,
              "#9c179e"
             ],
             [
              0.4444444444444444,
              "#bd3786"
             ],
             [
              0.5555555555555556,
              "#d8576b"
             ],
             [
              0.6666666666666666,
              "#ed7953"
             ],
             [
              0.7777777777777778,
              "#fb9f3a"
             ],
             [
              0.8888888888888888,
              "#fdca26"
             ],
             [
              1,
              "#f0f921"
             ]
            ],
            "type": "histogram2dcontour"
           }
          ],
          "mesh3d": [
           {
            "colorbar": {
             "outlinewidth": 0,
             "ticks": ""
            },
            "type": "mesh3d"
           }
          ],
          "parcoords": [
           {
            "line": {
             "colorbar": {
              "outlinewidth": 0,
              "ticks": ""
             }
            },
            "type": "parcoords"
           }
          ],
          "pie": [
           {
            "automargin": true,
            "type": "pie"
           }
          ],
          "scatter": [
           {
            "fillpattern": {
             "fillmode": "overlay",
             "size": 10,
             "solidity": 0.2
            },
            "type": "scatter"
           }
          ],
          "scatter3d": [
           {
            "line": {
             "colorbar": {
              "outlinewidth": 0,
              "ticks": ""
             }
            },
            "marker": {
             "colorbar": {
              "outlinewidth": 0,
              "ticks": ""
             }
            },
            "type": "scatter3d"
           }
          ],
          "scattercarpet": [
           {
            "marker": {
             "colorbar": {
              "outlinewidth": 0,
              "ticks": ""
             }
            },
            "type": "scattercarpet"
           }
          ],
          "scattergeo": [
           {
            "marker": {
             "colorbar": {
              "outlinewidth": 0,
              "ticks": ""
             }
            },
            "type": "scattergeo"
           }
          ],
          "scattergl": [
           {
            "marker": {
             "colorbar": {
              "outlinewidth": 0,
              "ticks": ""
             }
            },
            "type": "scattergl"
           }
          ],
          "scattermapbox": [
           {
            "marker": {
             "colorbar": {
              "outlinewidth": 0,
              "ticks": ""
             }
            },
            "type": "scattermapbox"
           }
          ],
          "scatterpolar": [
           {
            "marker": {
             "colorbar": {
              "outlinewidth": 0,
              "ticks": ""
             }
            },
            "type": "scatterpolar"
           }
          ],
          "scatterpolargl": [
           {
            "marker": {
             "colorbar": {
              "outlinewidth": 0,
              "ticks": ""
             }
            },
            "type": "scatterpolargl"
           }
          ],
          "scatterternary": [
           {
            "marker": {
             "colorbar": {
              "outlinewidth": 0,
              "ticks": ""
             }
            },
            "type": "scatterternary"
           }
          ],
          "surface": [
           {
            "colorbar": {
             "outlinewidth": 0,
             "ticks": ""
            },
            "colorscale": [
             [
              0,
              "#0d0887"
             ],
             [
              0.1111111111111111,
              "#46039f"
             ],
             [
              0.2222222222222222,
              "#7201a8"
             ],
             [
              0.3333333333333333,
              "#9c179e"
             ],
             [
              0.4444444444444444,
              "#bd3786"
             ],
             [
              0.5555555555555556,
              "#d8576b"
             ],
             [
              0.6666666666666666,
              "#ed7953"
             ],
             [
              0.7777777777777778,
              "#fb9f3a"
             ],
             [
              0.8888888888888888,
              "#fdca26"
             ],
             [
              1,
              "#f0f921"
             ]
            ],
            "type": "surface"
           }
          ],
          "table": [
           {
            "cells": {
             "fill": {
              "color": "#EBF0F8"
             },
             "line": {
              "color": "white"
             }
            },
            "header": {
             "fill": {
              "color": "#C8D4E3"
             },
             "line": {
              "color": "white"
             }
            },
            "type": "table"
           }
          ]
         },
         "layout": {
          "annotationdefaults": {
           "arrowcolor": "#2a3f5f",
           "arrowhead": 0,
           "arrowwidth": 1
          },
          "autotypenumbers": "strict",
          "coloraxis": {
           "colorbar": {
            "outlinewidth": 0,
            "ticks": ""
           }
          },
          "colorscale": {
           "diverging": [
            [
             0,
             "#8e0152"
            ],
            [
             0.1,
             "#c51b7d"
            ],
            [
             0.2,
             "#de77ae"
            ],
            [
             0.3,
             "#f1b6da"
            ],
            [
             0.4,
             "#fde0ef"
            ],
            [
             0.5,
             "#f7f7f7"
            ],
            [
             0.6,
             "#e6f5d0"
            ],
            [
             0.7,
             "#b8e186"
            ],
            [
             0.8,
             "#7fbc41"
            ],
            [
             0.9,
             "#4d9221"
            ],
            [
             1,
             "#276419"
            ]
           ],
           "sequential": [
            [
             0,
             "#0d0887"
            ],
            [
             0.1111111111111111,
             "#46039f"
            ],
            [
             0.2222222222222222,
             "#7201a8"
            ],
            [
             0.3333333333333333,
             "#9c179e"
            ],
            [
             0.4444444444444444,
             "#bd3786"
            ],
            [
             0.5555555555555556,
             "#d8576b"
            ],
            [
             0.6666666666666666,
             "#ed7953"
            ],
            [
             0.7777777777777778,
             "#fb9f3a"
            ],
            [
             0.8888888888888888,
             "#fdca26"
            ],
            [
             1,
             "#f0f921"
            ]
           ],
           "sequentialminus": [
            [
             0,
             "#0d0887"
            ],
            [
             0.1111111111111111,
             "#46039f"
            ],
            [
             0.2222222222222222,
             "#7201a8"
            ],
            [
             0.3333333333333333,
             "#9c179e"
            ],
            [
             0.4444444444444444,
             "#bd3786"
            ],
            [
             0.5555555555555556,
             "#d8576b"
            ],
            [
             0.6666666666666666,
             "#ed7953"
            ],
            [
             0.7777777777777778,
             "#fb9f3a"
            ],
            [
             0.8888888888888888,
             "#fdca26"
            ],
            [
             1,
             "#f0f921"
            ]
           ]
          },
          "colorway": [
           "#636efa",
           "#EF553B",
           "#00cc96",
           "#ab63fa",
           "#FFA15A",
           "#19d3f3",
           "#FF6692",
           "#B6E880",
           "#FF97FF",
           "#FECB52"
          ],
          "font": {
           "color": "#2a3f5f"
          },
          "geo": {
           "bgcolor": "white",
           "lakecolor": "white",
           "landcolor": "#E5ECF6",
           "showlakes": true,
           "showland": true,
           "subunitcolor": "white"
          },
          "hoverlabel": {
           "align": "left"
          },
          "hovermode": "closest",
          "mapbox": {
           "style": "light"
          },
          "paper_bgcolor": "white",
          "plot_bgcolor": "#E5ECF6",
          "polar": {
           "angularaxis": {
            "gridcolor": "white",
            "linecolor": "white",
            "ticks": ""
           },
           "bgcolor": "#E5ECF6",
           "radialaxis": {
            "gridcolor": "white",
            "linecolor": "white",
            "ticks": ""
           }
          },
          "scene": {
           "xaxis": {
            "backgroundcolor": "#E5ECF6",
            "gridcolor": "white",
            "gridwidth": 2,
            "linecolor": "white",
            "showbackground": true,
            "ticks": "",
            "zerolinecolor": "white"
           },
           "yaxis": {
            "backgroundcolor": "#E5ECF6",
            "gridcolor": "white",
            "gridwidth": 2,
            "linecolor": "white",
            "showbackground": true,
            "ticks": "",
            "zerolinecolor": "white"
           },
           "zaxis": {
            "backgroundcolor": "#E5ECF6",
            "gridcolor": "white",
            "gridwidth": 2,
            "linecolor": "white",
            "showbackground": true,
            "ticks": "",
            "zerolinecolor": "white"
           }
          },
          "shapedefaults": {
           "line": {
            "color": "#2a3f5f"
           }
          },
          "ternary": {
           "aaxis": {
            "gridcolor": "white",
            "linecolor": "white",
            "ticks": ""
           },
           "baxis": {
            "gridcolor": "white",
            "linecolor": "white",
            "ticks": ""
           },
           "bgcolor": "#E5ECF6",
           "caxis": {
            "gridcolor": "white",
            "linecolor": "white",
            "ticks": ""
           }
          },
          "title": {
           "x": 0.05
          },
          "xaxis": {
           "automargin": true,
           "gridcolor": "white",
           "linecolor": "white",
           "ticks": "",
           "title": {
            "standoff": 15
           },
           "zerolinecolor": "white",
           "zerolinewidth": 2
          },
          "yaxis": {
           "automargin": true,
           "gridcolor": "white",
           "linecolor": "white",
           "ticks": "",
           "title": {
            "standoff": 15
           },
           "zerolinecolor": "white",
           "zerolinewidth": 2
          }
         }
        },
        "title": {
         "text": "Total Explained Variance: 99.94%"
        }
       }
      }
     },
     "metadata": {},
     "output_type": "display_data"
    }
   ],
   "source": [
    "data['predictions'] = ifo.predict(X)\n",
    "data['predictions'] = np.where(data['predictions']==-1,1,0)\n",
    "\n",
    "n_components = 3\n",
    "pca = PCA(n_components=n_components)\n",
    "components = pca.fit_transform(data.iloc[:,2:].values.round(decimals=3))\n",
    "\n",
    "total_var = pca.explained_variance_ratio_.sum() * 100\n",
    "\n",
    "labels = {str(i): f\"PC {i+1}\" for i in range(n_components)}\n",
    "labels['color'] = 'Type'\n",
    "\n",
    "fig = px.scatter_matrix(\n",
    "    components,\n",
    "    color=data['predictions'],\n",
    "    dimensions=range(n_components),\n",
    "    labels=labels,\n",
    "    title=f'Total Explained Variance: {total_var:.2f}%',\n",
    ")\n",
    "fig.update_traces(diagonal_visible=False)\n",
    "fig.show()"
   ]
  },
  {
   "cell_type": "markdown",
   "metadata": {},
   "source": [
    "### Local Outlier Factor"
   ]
  },
  {
   "cell_type": "code",
   "execution_count": 51,
   "metadata": {},
   "outputs": [
    {
     "name": "stdout",
     "output_type": "stream",
     "text": [
      "Best Params: n_neighbors=1, algorithm=ball_tree, leaf_size=300, contamination=0.25\n",
      "n_neighbors              1\n",
      "algorithm        ball_tree\n",
      "leaf_size              300\n",
      "contamination         0.25\n",
      "precision         0.888889\n",
      "recall            0.888889\n",
      "f1                0.888889\n",
      "Name: 721, dtype: object\n"
     ]
    },
    {
     "data": {
      "image/png": "[encoded data removed]",
      "text/plain": [
       "<Figure size 640x480 with 2 Axes>"
      ]
     },
     "metadata": {},
     "output_type": "display_data"
    }
   ],
   "source": [
    "X, y = data.iloc[:,2:].values.round(decimals=3), data.iloc[:,1].map({'con':-1, 'nat':1}).values\n",
    "scaler = StandardScaler()\n",
    "X_train = scaler.fit_transform(X)\n",
    "\n",
    "param_grid = {\n",
    "    'n_neighbors': [1, 3, 5, 7, 9, 12, 18],\n",
    "    'algorithm': ['auto', 'ball_tree', 'kd_tree', 'brute'],\n",
    "    'leaf_size': [5, 10, 15, 30, 50, 100, 200, 300],\n",
    "    'contamination': [0.01, 0.03, 0.05, 0.1, 0.2, 0.25, 0.5],\n",
    "}\n",
    "\n",
    "grid = ParameterGrid(param_grid)\n",
    "results = []\n",
    "for params in grid:\n",
    "    lof = LocalOutlierFactor(\n",
    "        n_neighbors=params['n_neighbors'], \n",
    "        algorithm=params['algorithm'], \n",
    "        leaf_size=params['leaf_size'], \n",
    "        contamination=params['contamination'], \n",
    "        )\n",
    "    y_pred = lof.fit_predict(X_train)\n",
    "    precision = precision_score(y, y_pred)\n",
    "    recall = recall_score(y, y_pred)\n",
    "    f1 = f1_score(y, y_pred)\n",
    "    \n",
    "    results.append({\n",
    "        'n_neighbors': params['n_neighbors'],\n",
    "        'algorithm': params['algorithm'],\n",
    "        'leaf_size': params['leaf_size'],\n",
    "        'contamination': params['contamination'],\n",
    "        'precision': precision,\n",
    "        'recall': recall,\n",
    "        'f1': f1,\n",
    "    })\n",
    "    \n",
    "lof_finetuning_df = pd.DataFrame(results)\n",
    "lof_finetuning_df.to_csv('./results/lof_finetuning_df.csv')\n",
    "# Best parameters based on f1 score\n",
    "best_params = lof_finetuning_df.sort_values(by='f1', ascending=False).iloc[0]\n",
    "print(f\"Best Params: n_neighbors={best_params['n_neighbors']}, algorithm={best_params['algorithm']}, leaf_size={best_params['leaf_size']}, contamination={best_params['contamination']}\")\n",
    "print(best_params)\n",
    "\n",
    "# Evaluating fine-tuned model\n",
    "lof = LocalOutlierFactor(\n",
    "    n_neighbors=best_params['n_neighbors'],\n",
    "    algorithm=best_params['algorithm'],\n",
    "    leaf_size=best_params['leaf_size'],\n",
    "    contamination=best_params['contamination'],\n",
    ")\n",
    "\n",
    "y_pred = lof.fit_predict(X_train)\n",
    "# decision_scores = lof.decision_function(X_train)\n",
    "# roc_auc = roc_auc_score(y, decision_scores)\n",
    "# print(f\"ROC AUC: {roc_auc}\")\n",
    "\n",
    "cm = confusion_matrix(y, y_pred)\n",
    "disp = ConfusionMatrixDisplay(cm, display_labels=['con', 'nat'])\n",
    "disp.plot(cmap=plt.cm.Blues)\n",
    "plt.title('Confusion Matrix for Local Outlier Factor')\n",
    "plt.savefig('./results/CM_lof.png')\n",
    "plt.show()"
   ]
  },
  {
   "cell_type": "code",
   "execution_count": null,
   "metadata": {},
   "outputs": [],
   "source": []
  }
 ],
 "metadata": {
  "kernelspec": {
   "display_name": "Python 3",
   "language": "python",
   "name": "python3"
  },
  "language_info": {
   "codemirror_mode": {
    "name": "ipython",
    "version": 3
   },
   "file_extension": ".py",
   "mimetype": "text/x-python",
   "name": "python",
   "nbconvert_exporter": "python",
   "pygments_lexer": "ipython3",
   "version": "3.9.19"
  },
  "orig_nbformat": 4
 },
 "nbformat": 4,
 "nbformat_minor": 2
}
