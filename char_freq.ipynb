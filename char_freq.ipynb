{
 "cells": [
  {
   "cell_type": "code",
   "execution_count": 1,
   "metadata": {},
   "outputs": [],
   "source": [
    "import torch, torch.nn as nn, re, pandas as pd, numpy as np, seaborn as sns\n",
    "from sklearn.metrics import confusion_matrix\n",
    "from collections import Counter\n",
    "from matplotlib import pyplot as plt\n",
    "from sklearn.feature_extraction.text import CountVectorizer\n",
    "from sklearn.linear_model import SGDClassifier\n",
    "import torch.nn.functional as F\n",
    "from sklearn.model_selection import train_test_split\n",
    "from scipy import stats"
   ]
  },
  {
   "cell_type": "code",
   "execution_count": 2,
   "metadata": {},
   "outputs": [],
   "source": [
    "corpora = ['Esperanto.txt', 'Interlingua.txt', 'Lojban.txt', 'Lfn.txt', 'Russian.txt', 'English.txt', 'German.txt', 'Japanese.txt', 'Mandarin.txt', 'Hindi.txt']\n",
    "natural = ['Russian.txt', 'German.txt', 'English.txt', 'Japanese.txt', 'Mandarin.txt', 'Hindi.txt']\n",
    "constructed = ['Esperanto.txt', 'Interlingua.txt', 'Lojban.txt', 'Lfn.txt']"
   ]
  },
  {
   "attachments": {},
   "cell_type": "markdown",
   "metadata": {},
   "source": [
    "Using character frequency distributions"
   ]
  },
  {
   "cell_type": "code",
   "execution_count": 3,
   "metadata": {},
   "outputs": [],
   "source": [
    "def char_frequency(corpus, sequences=None, n_gram=None):\n",
    "    with open(corpus) as f:\n",
    "        if sequences:\n",
    "            text = f.read().splitlines()[:int(sequences / len(corpora))]\n",
    "            print(f'{len(text)} lines of text from {corpus[:(len(corpus)-4)]} corpus.')\n",
    "        else:\n",
    "            text = f.read().splitlines()\n",
    "        f.close()\n",
    "    df = pd.DataFrame(columns=['Char', 'Act_Freq', 'Rel_Freq', 'Zipf_Freq', 'Norm_Freq'])\n",
    "    if n_gram == 'uni':\n",
    "        frequencies = Counter(char for line in text for char in line if char.split())\n",
    "    elif n_gram == 'bi':\n",
    "        frequencies = Counter(word[i:i+2] for line in text for word in line.split() for i in range(len(word)-1))\n",
    "    else:\n",
    "        frequencies = Counter(char for line in text for char in line if char.split())   \n",
    "    frequencies = frequencies.most_common()\n",
    "    top_frequency = frequencies[0][1]\n",
    "    relative_freq_sum = sum([1/i for i in range(1, len(frequencies)+1)])\n",
    "    for index, item in enumerate(frequencies, start=1):\n",
    "        relative_freq = 1/index\n",
    "        zipf_freq = top_frequency * (1/index)\n",
    "        normalized_freq = relative_freq / relative_freq_sum\n",
    "        df.loc[index] = [item[0], item[1], relative_freq, zipf_freq, normalized_freq]\n",
    "    return df\n",
    "\n",
    "\n",
    "def char_vocabulary(corpus=None, df=None, sequences=None, n_gram=None):\n",
    "    if corpus:\n",
    "        df = char_frequency(corpus, sequences=sequences, n_gram=n_gram)\n",
    "    return {char: freq for char, freq in zip(df['Char'], df['Act_Freq'])}\n",
    "\n",
    "\n",
    "def plot_char_dist(df, chars=None):\n",
    "    if chars: df = df.head(chars)\n",
    "    plt.figure(figsize=(10, 10))\n",
    "    plt.ylabel('Zipf Frequency')\n",
    "    plt.xlabel('Char')\n",
    "    plt.xticks(rotation=90)\n",
    "    plt.bar(df['Char'], df['Zipf_Freq'])\n",
    "    plt.show()\n",
    "    \n",
    "    \n",
    "def corpus_lengths(corpora):\n",
    "    lengths = {}\n",
    "    for file in corpora:\n",
    "        with open(file, 'r', encoding='utf-8') as f:\n",
    "            data = f.read().splitlines()\n",
    "            f.close()\n",
    "        lengths[f'{file.split(\".\")[0]}'] = len(data)\n",
    "    return lengths\n",
    "\n",
    "\n",
    "def vocab_sizes(corpora):\n",
    "    sizes = {}\n",
    "    for file in corpora:\n",
    "        vocab = char_vocabulary(corpus=file, df=None, limit=None)\n",
    "        sizes[f'{file.split(\".\")[0]}'] = len(vocab)\n",
    "    return sizes\n",
    "    \n",
    "    \n",
    "def obfuscate_label_text(corpus, vocab, sequences, classification):\n",
    "    with open(corpus, 'r', encoding='utf-8') as f:\n",
    "        if sequences:\n",
    "            text = f.read().splitlines()[:int(sequences / len(corpora))]\n",
    "        else:\n",
    "            text = f.read().splitlines()\n",
    "        f.close()\n",
    "        # Labeling for binary classification\n",
    "        if classification == 'binary':\n",
    "            if corpus in natural:\n",
    "                label = [0] * len(text)\n",
    "            elif corpus in constructed:\n",
    "                label = [1] * len(text)\n",
    "        # Labeling for multi-classification\n",
    "        elif classification == 'multi':\n",
    "            label = [corpora.index(corpus)] * len(text)\n",
    "        labeled = list(zip(text, label))\n",
    "        f.close()\n",
    "    # Char-based frequency mapping of characters in each string    \n",
    "    mapping = {value: chr(97 + i) for i, value in enumerate(vocab.values())}\n",
    "    vocab = {k: mapping[v] for k, v in vocab.items()}\n",
    "    table = str.maketrans(vocab)\n",
    "    obfuscated = [(line[0].translate(table), line[1]) for line in labeled]\n",
    "    return obfuscated\n",
    "\n",
    "\n",
    "# def one_hot_encode(data, vocab):\n",
    "#     seq_length = max(len(line[0] for line in data))\n",
    "#     string_encoded = np.zeros((seq_length, len(vocab)), dtype=np.float32)\n",
    "#     for string, label in data:\n",
    "#         for i, char in enumerate(string):\n",
    "#             if i >= seq_length:\n",
    "#                 break\n",
    "#             string_encoded[i][vocab[char]] = 1\n",
    "#         label_encoded = np.array([label], dtype=np.int64)\n",
    "#     return string_encoded, label_encoded\n",
    "\n",
    "\n",
    "def preprocess_text(corpora, sequences=None, classification='binary', n_gram=None):\n",
    "    data = []\n",
    "    for corpus in corpora:\n",
    "        df = char_frequency(corpus=corpus, sequences=sequences, n_gram=None)\n",
    "        vocab = char_vocabulary(df=df)\n",
    "        data.extend(obfuscate_label_text(corpus=corpus, vocab=vocab, sequences=sequences, classification=classification))\n",
    "    return data"
   ]
  },
  {
   "cell_type": "code",
   "execution_count": 4,
   "metadata": {},
   "outputs": [
    {
     "data": {
      "image/png": "[encoded data removed]",
      "text/plain": [
       "<Figure size 1000x1000 with 1 Axes>"
      ]
     },
     "metadata": {},
     "output_type": "display_data"
    }
   ],
   "source": [
    "df = char_frequency('German.txt', n_gram='bi')\n",
    "df = df.head(20)\n",
    "plot_char_dist(df)"
   ]
  },
  {
   "cell_type": "code",
   "execution_count": 5,
   "metadata": {},
   "outputs": [
    {
     "name": "stdout",
     "output_type": "stream",
     "text": [
      "0.33559098126008213\n"
     ]
    }
   ],
   "source": [
    "cdf = df['Act_Freq'].cumsum() / df['Act_Freq'].sum()\n",
    "a = 1.5\n",
    "null_hypothesis = 'zipf'\n",
    "zipf_dist = stats.zipf(a, loc=1)\n",
    "zipf_cdf = zipf_dist.cdf(range(1, len(df) + 1))\n",
    "test_statistic, p_value = stats.kstest(cdf, zipf_cdf)\n",
    "print(p_value)"
   ]
  },
  {
   "attachments": {},
   "cell_type": "markdown",
   "metadata": {},
   "source": [
    "Binary Classification Using SVM"
   ]
  },
  {
   "cell_type": "code",
   "execution_count": 6,
   "metadata": {},
   "outputs": [
    {
     "name": "stdout",
     "output_type": "stream",
     "text": [
      "10000 lines of text from Esperanto corpus.\n",
      "10000 lines of text from Interlingua corpus.\n",
      "10000 lines of text from Lojban corpus.\n",
      "10000 lines of text from Lfn corpus.\n",
      "10000 lines of text from Russian corpus.\n",
      "10000 lines of text from English corpus.\n",
      "10000 lines of text from German corpus.\n",
      "10000 lines of text from Japanese corpus.\n",
      "10000 lines of text from Mandarin corpus.\n",
      "10000 lines of text from Hindi corpus.\n"
     ]
    }
   ],
   "source": [
    "# Preprocess\n",
    "data = preprocess_text(corpora, sequences=100000, classification='binary')\n",
    "text, labels = [d[0] for d in data], [d[1] for d in data]\n",
    "vectorizer = CountVectorizer(analyzer='char_wb', ngram_range=(1,2))\n",
    "vectorizer.fit(text)\n",
    "text = vectorizer.transform(text)\n",
    "\n",
    "# Split \n",
    "x_train, x_test, y_train, y_test = train_test_split(text, labels, test_size=0.2, random_state=42, shuffle=True)"
   ]
  },
  {
   "cell_type": "code",
   "execution_count": 7,
   "metadata": {},
   "outputs": [],
   "source": [
    "# Model\n",
    "clf = SGDClassifier(loss=\"log_loss\", tol=1e-3, verbose=0, random_state=42, validation_fraction=0.1)\n",
    "batch_size = 10000\n",
    "num_batches = x_train.shape[0] // batch_size\n",
    "\n",
    "# Training\n",
    "for i in range(num_batches):\n",
    "    start = i * batch_size\n",
    "    end = min((i + 1) * batch_size, x_train.shape[0])\n",
    "    batch_x, batch_y = x_train[start:end], y_train[start:end]\n",
    "    clf.fit(batch_x, batch_y)"
   ]
  },
  {
   "cell_type": "code",
   "execution_count": 8,
   "metadata": {},
   "outputs": [
    {
     "data": {
      "image/png": "[encoded data removed]",
      "text/plain": [
       "<Figure size 800x800 with 1 Axes>"
      ]
     },
     "metadata": {},
     "output_type": "display_data"
    }
   ],
   "source": [
    "# Plot\n",
    "y_pred = clf.predict(x_test)\n",
    "cm = confusion_matrix(y_test, y_pred)\n",
    "\n",
    "fig, ax = plt.subplots(figsize=(8, 8))\n",
    "sns.heatmap(cm, annot=True, cmap='Blues', cbar=False, fmt='g', ax=ax)\n",
    "ax.set_xlabel('Predicted Labels')\n",
    "ax.set_ylabel('Actual Labels')\n",
    "ax.set_title('Confusion Matrix')\n",
    "plt.show()"
   ]
  },
  {
   "cell_type": "code",
   "execution_count": 9,
   "metadata": {},
   "outputs": [
    {
     "name": "stdout",
     "output_type": "stream",
     "text": [
      "Accuracy: 0.99385\n"
     ]
    }
   ],
   "source": [
    "# Metrics\n",
    "accuracy = clf.score(x_test, y_test)\n",
    "print(f'Accuracy: {accuracy}')"
   ]
  },
  {
   "attachments": {},
   "cell_type": "markdown",
   "metadata": {},
   "source": [
    "Multi-Classification Using SVM"
   ]
  },
  {
   "cell_type": "code",
   "execution_count": 11,
   "metadata": {},
   "outputs": [
    {
     "name": "stdout",
     "output_type": "stream",
     "text": [
      "12500 lines of text from Esperanto corpus.\n",
      "12500 lines of text from Interlingua corpus.\n",
      "12500 lines of text from Lojban corpus.\n",
      "12500 lines of text from Lfn corpus.\n",
      "12500 lines of text from Russian corpus.\n",
      "12500 lines of text from English corpus.\n",
      "12500 lines of text from German corpus.\n",
      "12500 lines of text from Hindi corpus.\n"
     ]
    }
   ],
   "source": [
    "# Preprocess\n",
    "data = preprocess_text(corpora, sequences=100000, classification='multi')\n",
    "text, labels = [d[0] for d in data], [d[1] for d in data]\n",
    "vectorizer = CountVectorizer(analyzer='char_wb', ngram_range=(2,2))\n",
    "vectorizer.fit(text)\n",
    "text = vectorizer.transform(text)\n",
    "\n",
    "# Split \n",
    "x_train, x_test, y_train, y_test = train_test_split(text, labels, test_size=0.2, random_state=42, shuffle=True)"
   ]
  },
  {
   "cell_type": "code",
   "execution_count": 12,
   "metadata": {},
   "outputs": [],
   "source": [
    "# Model\n",
    "clf = SGDClassifier(loss=\"log_loss\", tol=1e-3, verbose=0, random_state=42, validation_fraction=0.1)\n",
    "batch_size = 10000\n",
    "num_batches = x_train.shape[0] // batch_size\n",
    "\n",
    "# Training\n",
    "for i in range(num_batches):\n",
    "    start = i * batch_size\n",
    "    end = min((i + 1) * batch_size, x_train.shape[0])\n",
    "    batch_x, batch_y = x_train[start:end], y_train[start:end]\n",
    "    clf.fit(batch_x, batch_y)"
   ]
  },
  {
   "cell_type": "code",
   "execution_count": 13,
   "metadata": {},
   "outputs": [
    {
     "data": {
      "image/png": "[encoded data removed]",
      "text/plain": [
       "<Figure size 800x800 with 1 Axes>"
      ]
     },
     "metadata": {},
     "output_type": "display_data"
    }
   ],
   "source": [
    "# Plot\n",
    "y_pred = clf.predict(x_test)\n",
    "cm = confusion_matrix(y_test, y_pred)\n",
    "\n",
    "fig, ax = plt.subplots(figsize=(8, 8))\n",
    "sns.heatmap(cm, annot=True, cmap='Blues', cbar=False, fmt='g', ax=ax)\n",
    "ax.set_xlabel('Predicted Labels')\n",
    "ax.set_ylabel('Actual Labels')\n",
    "ax.set_title('Confusion Matrix')\n",
    "plt.show()"
   ]
  },
  {
   "cell_type": "code",
   "execution_count": 14,
   "metadata": {},
   "outputs": [
    {
     "name": "stdout",
     "output_type": "stream",
     "text": [
      "Accuracy: 0.9969\n"
     ]
    }
   ],
   "source": [
    "# Metrics\n",
    "accuracy = clf.score(x_test, y_test)\n",
    "print(f'Accuracy: {accuracy}')"
   ]
  },
  {
   "attachments": {},
   "cell_type": "markdown",
   "metadata": {},
   "source": [
    "Multi-Classification Using RNN"
   ]
  },
  {
   "cell_type": "code",
   "execution_count": null,
   "metadata": {},
   "outputs": [],
   "source": [
    "# Preprocess\n",
    "data = preprocess_text(corpora, sequences=200000, classification='multi')\n",
    "text, labels = [d[0] for d in data], [d[1] for d in data]\n",
    "vectorizer = CountVectorizer(analyzer='char')\n",
    "vectorizer.fit(text)\n",
    "text = vectorizer.transform(text)\n",
    "\n",
    "# Split \n",
    "x_train, x_test, y_train, y_test = train_test_split(text, labels, test_size=0.2, random_state=42, shuffle=True)"
   ]
  },
  {
   "cell_type": "code",
   "execution_count": 18,
   "metadata": {},
   "outputs": [
    {
     "name": "stdout",
     "output_type": "stream",
     "text": [
      "Esperanto.txt: Longest sequence is 110 char, average is 91 char.\n",
      "Interlingua.txt: Longest sequence is 73 char, average is 141 char.\n",
      "Lojban.txt: Longest sequence is 390 char, average is 45 char.\n",
      "Lfn.txt: Longest sequence is 74 char, average is 111 char.\n",
      "Russian.txt: Longest sequence is 73 char, average is 98 char.\n",
      "English.txt: Longest sequence is 223 char, average is 111 char.\n",
      "German.txt: Longest sequence is 81 char, average is 104 char.\n",
      "Japanese.txt: Longest sequence is 37 char, average is 45 char.\n",
      "Mandarin.txt: Longest sequence is 15 char, average is 31 char.\n",
      "Hindi.txt: Longest sequence is 156 char, average is 85 char.\n",
      "Avg length is 86\n"
     ]
    }
   ],
   "source": [
    "avgs = []\n",
    "for corpus in corpora:\n",
    "    with open(corpus, 'r', encoding='utf-8') as f:\n",
    "        text = f.read().splitlines()\n",
    "        f.close()\n",
    "    longest = len(max(text))\n",
    "    avg = sum(map(len, text)) / len(text)\n",
    "    avgs.append(avg)\n",
    "    print(f'{corpus}: Longest sequence is {longest} char, average is {int(avg)} char.')\n",
    "    \n",
    "print(f'Avg length is {int(sum(avgs) / len(avgs))}')"
   ]
  },
  {
   "cell_type": "code",
   "execution_count": null,
   "metadata": {},
   "outputs": [],
   "source": [
    "# Model\n",
    "class RNN(nn.Module):\n",
    "    def __init__(self, input_size, hidden_size, output_size):\n",
    "        super(RNN, self).__init__()\n",
    "        \n",
    "        self.hidden_size = hidden_size\n",
    "        self.i2h = nn.Linear(input_size + hidden_size, hidden_size)\n",
    "        self.i2o = nn.Linear(input_size + hidden_size, output_size)\n",
    "        self.softmax = nn.LogSoftmax(dim=1)\n",
    "        \n",
    "    def forward(self, input, hidden):\n",
    "        combined = torch.cat((input, hidden), 1)\n",
    "        hidden = self.i2h(combined)\n",
    "        output = self.i2o(combined)\n",
    "        output = self.softmax(output)\n",
    "        return output, hidden\n",
    "    \n",
    "    def initHidden(self):\n",
    "        return torch.zeros(1, self.hidden_size)\n",
    "    \n",
    "    \n",
    "n_hidden = 128\n",
    "n_categories = len(corpora)\n",
    "rnn = RNN()"
   ]
  },
  {
   "attachments": {},
   "cell_type": "markdown",
   "metadata": {},
   "source": [
    "Classification Using CNNs"
   ]
  },
  {
   "cell_type": "code",
   "execution_count": null,
   "metadata": {},
   "outputs": [],
   "source": []
  }
 ],
 "metadata": {
  "kernelspec": {
   "display_name": "Python 3",
   "language": "python",
   "name": "python3"
  },
  "language_info": {
   "codemirror_mode": {
    "name": "ipython",
    "version": 3
   },
   "file_extension": ".py",
   "mimetype": "text/x-python",
   "name": "python",
   "nbconvert_exporter": "python",
   "pygments_lexer": "ipython3",
   "version": "3.9.16"
  },
  "orig_nbformat": 4,
  "vscode": {
   "interpreter": {
    "hash": "397704579725e15f5c7cb49fe5f0341eb7531c82d19f2c29d197e8b64ab5776b"
   }
  }
 },
 "nbformat": 4,
 "nbformat_minor": 2
}
