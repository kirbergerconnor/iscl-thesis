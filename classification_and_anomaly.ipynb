{
 "cells": [
  {
   "cell_type": "code",
   "execution_count": 20,
   "metadata": {},
   "outputs": [
    {
     "data": {
      "text/html": [
       "<div>\n",
       "<style scoped>\n",
       "    .dataframe tbody tr th:only-of-type {\n",
       "        vertical-align: middle;\n",
       "    }\n",
       "\n",
       "    .dataframe tbody tr th {\n",
       "        vertical-align: top;\n",
       "    }\n",
       "\n",
       "    .dataframe thead th {\n",
       "        text-align: right;\n",
       "    }\n",
       "</style>\n",
       "<table border=\"1\" class=\"dataframe\">\n",
       "  <thead>\n",
       "    <tr style=\"text-align: right;\">\n",
       "      <th></th>\n",
       "      <th>Corpus</th>\n",
       "      <th>Type</th>\n",
       "      <th>Avg Word Length</th>\n",
       "      <th>Avg Sentence Length</th>\n",
       "      <th>TTR</th>\n",
       "      <th>MATTR</th>\n",
       "      <th>MTLD</th>\n",
       "      <th>Morpheme TTR</th>\n",
       "      <th>Avg Segs Per Word</th>\n",
       "      <th>Avg Forms Per Stem</th>\n",
       "      <th>Char Dist Entr</th>\n",
       "      <th>Word Dist Entr</th>\n",
       "      <th>Text Entr</th>\n",
       "      <th>Lex Entr</th>\n",
       "      <th>Rev Lex Entr</th>\n",
       "    </tr>\n",
       "  </thead>\n",
       "  <tbody>\n",
       "    <tr>\n",
       "      <th>0</th>\n",
       "      <td>eo</td>\n",
       "      <td>con</td>\n",
       "      <td>5.175</td>\n",
       "      <td>18.909</td>\n",
       "      <td>10.708</td>\n",
       "      <td>0.692</td>\n",
       "      <td>67.482</td>\n",
       "      <td>0.075</td>\n",
       "      <td>1.859</td>\n",
       "      <td>3.506</td>\n",
       "      <td>4.164</td>\n",
       "      <td>10.923</td>\n",
       "      <td>4.435</td>\n",
       "      <td>6.189</td>\n",
       "      <td>6.919</td>\n",
       "    </tr>\n",
       "    <tr>\n",
       "      <th>1</th>\n",
       "      <td>nl</td>\n",
       "      <td>nat</td>\n",
       "      <td>5.419</td>\n",
       "      <td>18.194</td>\n",
       "      <td>8.559</td>\n",
       "      <td>0.694</td>\n",
       "      <td>74.165</td>\n",
       "      <td>0.125</td>\n",
       "      <td>1.809</td>\n",
       "      <td>3.044</td>\n",
       "      <td>4.117</td>\n",
       "      <td>10.593</td>\n",
       "      <td>4.389</td>\n",
       "      <td>6.379</td>\n",
       "      <td>6.814</td>\n",
       "    </tr>\n",
       "    <tr>\n",
       "      <th>2</th>\n",
       "      <td>is</td>\n",
       "      <td>nat</td>\n",
       "      <td>5.375</td>\n",
       "      <td>15.055</td>\n",
       "      <td>11.727</td>\n",
       "      <td>0.747</td>\n",
       "      <td>115.342</td>\n",
       "      <td>0.098</td>\n",
       "      <td>1.931</td>\n",
       "      <td>4.128</td>\n",
       "      <td>4.468</td>\n",
       "      <td>11.512</td>\n",
       "      <td>5.455</td>\n",
       "      <td>6.087</td>\n",
       "      <td>6.460</td>\n",
       "    </tr>\n",
       "    <tr>\n",
       "      <th>3</th>\n",
       "      <td>pl</td>\n",
       "      <td>nat</td>\n",
       "      <td>6.248</td>\n",
       "      <td>14.951</td>\n",
       "      <td>14.890</td>\n",
       "      <td>0.825</td>\n",
       "      <td>278.888</td>\n",
       "      <td>0.066</td>\n",
       "      <td>1.894</td>\n",
       "      <td>3.709</td>\n",
       "      <td>4.553</td>\n",
       "      <td>12.905</td>\n",
       "      <td>5.072</td>\n",
       "      <td>5.605</td>\n",
       "      <td>5.654</td>\n",
       "    </tr>\n",
       "    <tr>\n",
       "      <th>4</th>\n",
       "      <td>fr</td>\n",
       "      <td>nat</td>\n",
       "      <td>5.160</td>\n",
       "      <td>23.120</td>\n",
       "      <td>7.461</td>\n",
       "      <td>0.721</td>\n",
       "      <td>91.865</td>\n",
       "      <td>0.071</td>\n",
       "      <td>1.771</td>\n",
       "      <td>2.759</td>\n",
       "      <td>4.179</td>\n",
       "      <td>10.711</td>\n",
       "      <td>4.104</td>\n",
       "      <td>6.305</td>\n",
       "      <td>6.742</td>\n",
       "    </tr>\n",
       "    <tr>\n",
       "      <th>5</th>\n",
       "      <td>vo</td>\n",
       "      <td>con</td>\n",
       "      <td>5.072</td>\n",
       "      <td>11.266</td>\n",
       "      <td>2.455</td>\n",
       "      <td>0.622</td>\n",
       "      <td>39.447</td>\n",
       "      <td>0.153</td>\n",
       "      <td>1.567</td>\n",
       "      <td>1.938</td>\n",
       "      <td>4.256</td>\n",
       "      <td>7.666</td>\n",
       "      <td>1.281</td>\n",
       "      <td>8.627</td>\n",
       "      <td>8.958</td>\n",
       "    </tr>\n",
       "    <tr>\n",
       "      <th>6</th>\n",
       "      <td>af</td>\n",
       "      <td>nat</td>\n",
       "      <td>5.067</td>\n",
       "      <td>20.496</td>\n",
       "      <td>6.987</td>\n",
       "      <td>0.645</td>\n",
       "      <td>59.938</td>\n",
       "      <td>0.139</td>\n",
       "      <td>1.770</td>\n",
       "      <td>2.861</td>\n",
       "      <td>4.072</td>\n",
       "      <td>9.993</td>\n",
       "      <td>4.757</td>\n",
       "      <td>6.656</td>\n",
       "      <td>7.117</td>\n",
       "    </tr>\n",
       "    <tr>\n",
       "      <th>7</th>\n",
       "      <td>vi</td>\n",
       "      <td>nat</td>\n",
       "      <td>3.498</td>\n",
       "      <td>29.835</td>\n",
       "      <td>1.749</td>\n",
       "      <td>0.732</td>\n",
       "      <td>94.751</td>\n",
       "      <td>0.274</td>\n",
       "      <td>1.344</td>\n",
       "      <td>1.453</td>\n",
       "      <td>4.855</td>\n",
       "      <td>9.717</td>\n",
       "      <td>4.768</td>\n",
       "      <td>11.864</td>\n",
       "      <td>11.481</td>\n",
       "    </tr>\n",
       "    <tr>\n",
       "      <th>8</th>\n",
       "      <td>oc</td>\n",
       "      <td>nat</td>\n",
       "      <td>5.215</td>\n",
       "      <td>18.660</td>\n",
       "      <td>7.185</td>\n",
       "      <td>0.715</td>\n",
       "      <td>87.187</td>\n",
       "      <td>0.077</td>\n",
       "      <td>1.793</td>\n",
       "      <td>2.805</td>\n",
       "      <td>4.173</td>\n",
       "      <td>10.546</td>\n",
       "      <td>3.530</td>\n",
       "      <td>6.654</td>\n",
       "      <td>7.224</td>\n",
       "    </tr>\n",
       "    <tr>\n",
       "      <th>9</th>\n",
       "      <td>en</td>\n",
       "      <td>nat</td>\n",
       "      <td>5.087</td>\n",
       "      <td>21.301</td>\n",
       "      <td>6.079</td>\n",
       "      <td>0.697</td>\n",
       "      <td>77.659</td>\n",
       "      <td>0.100</td>\n",
       "      <td>1.661</td>\n",
       "      <td>2.360</td>\n",
       "      <td>4.167</td>\n",
       "      <td>10.673</td>\n",
       "      <td>4.771</td>\n",
       "      <td>7.097</td>\n",
       "      <td>7.500</td>\n",
       "    </tr>\n",
       "    <tr>\n",
       "      <th>10</th>\n",
       "      <td>it</td>\n",
       "      <td>nat</td>\n",
       "      <td>5.455</td>\n",
       "      <td>25.727</td>\n",
       "      <td>8.505</td>\n",
       "      <td>0.764</td>\n",
       "      <td>129.111</td>\n",
       "      <td>0.079</td>\n",
       "      <td>1.765</td>\n",
       "      <td>2.939</td>\n",
       "      <td>4.029</td>\n",
       "      <td>11.308</td>\n",
       "      <td>4.573</td>\n",
       "      <td>5.517</td>\n",
       "      <td>6.260</td>\n",
       "    </tr>\n",
       "    <tr>\n",
       "      <th>11</th>\n",
       "      <td>ia</td>\n",
       "      <td>con</td>\n",
       "      <td>5.050</td>\n",
       "      <td>19.547</td>\n",
       "      <td>6.880</td>\n",
       "      <td>0.607</td>\n",
       "      <td>49.015</td>\n",
       "      <td>0.089</td>\n",
       "      <td>1.750</td>\n",
       "      <td>2.715</td>\n",
       "      <td>4.032</td>\n",
       "      <td>10.005</td>\n",
       "      <td>3.886</td>\n",
       "      <td>6.476</td>\n",
       "      <td>7.048</td>\n",
       "    </tr>\n",
       "    <tr>\n",
       "      <th>12</th>\n",
       "      <td>sv</td>\n",
       "      <td>nat</td>\n",
       "      <td>5.597</td>\n",
       "      <td>17.322</td>\n",
       "      <td>11.031</td>\n",
       "      <td>0.756</td>\n",
       "      <td>124.469</td>\n",
       "      <td>0.095</td>\n",
       "      <td>1.957</td>\n",
       "      <td>4.074</td>\n",
       "      <td>4.294</td>\n",
       "      <td>11.488</td>\n",
       "      <td>4.830</td>\n",
       "      <td>6.215</td>\n",
       "      <td>6.596</td>\n",
       "    </tr>\n",
       "    <tr>\n",
       "      <th>13</th>\n",
       "      <td>lfn</td>\n",
       "      <td>con</td>\n",
       "      <td>4.221</td>\n",
       "      <td>19.532</td>\n",
       "      <td>5.063</td>\n",
       "      <td>0.601</td>\n",
       "      <td>40.079</td>\n",
       "      <td>0.098</td>\n",
       "      <td>1.688</td>\n",
       "      <td>2.448</td>\n",
       "      <td>3.912</td>\n",
       "      <td>9.316</td>\n",
       "      <td>4.471</td>\n",
       "      <td>7.839</td>\n",
       "      <td>8.470</td>\n",
       "    </tr>\n",
       "    <tr>\n",
       "      <th>14</th>\n",
       "      <td>da</td>\n",
       "      <td>nat</td>\n",
       "      <td>5.346</td>\n",
       "      <td>16.466</td>\n",
       "      <td>10.517</td>\n",
       "      <td>0.737</td>\n",
       "      <td>106.412</td>\n",
       "      <td>0.103</td>\n",
       "      <td>1.911</td>\n",
       "      <td>3.776</td>\n",
       "      <td>4.197</td>\n",
       "      <td>11.274</td>\n",
       "      <td>5.037</td>\n",
       "      <td>6.380</td>\n",
       "      <td>6.788</td>\n",
       "    </tr>\n",
       "    <tr>\n",
       "      <th>15</th>\n",
       "      <td>hu</td>\n",
       "      <td>nat</td>\n",
       "      <td>6.242</td>\n",
       "      <td>15.782</td>\n",
       "      <td>16.234</td>\n",
       "      <td>0.776</td>\n",
       "      <td>169.833</td>\n",
       "      <td>0.062</td>\n",
       "      <td>2.000</td>\n",
       "      <td>5.071</td>\n",
       "      <td>4.543</td>\n",
       "      <td>12.443</td>\n",
       "      <td>5.208</td>\n",
       "      <td>5.589</td>\n",
       "      <td>5.989</td>\n",
       "    </tr>\n",
       "    <tr>\n",
       "      <th>16</th>\n",
       "      <td>id</td>\n",
       "      <td>nat</td>\n",
       "      <td>6.173</td>\n",
       "      <td>18.164</td>\n",
       "      <td>5.782</td>\n",
       "      <td>0.699</td>\n",
       "      <td>74.365</td>\n",
       "      <td>0.130</td>\n",
       "      <td>1.584</td>\n",
       "      <td>2.048</td>\n",
       "      <td>4.072</td>\n",
       "      <td>11.142</td>\n",
       "      <td>3.982</td>\n",
       "      <td>7.296</td>\n",
       "      <td>7.466</td>\n",
       "    </tr>\n",
       "    <tr>\n",
       "      <th>17</th>\n",
       "      <td>tl</td>\n",
       "      <td>nat</td>\n",
       "      <td>5.119</td>\n",
       "      <td>21.102</td>\n",
       "      <td>7.593</td>\n",
       "      <td>0.611</td>\n",
       "      <td>44.385</td>\n",
       "      <td>0.118</td>\n",
       "      <td>1.717</td>\n",
       "      <td>2.563</td>\n",
       "      <td>3.895</td>\n",
       "      <td>9.991</td>\n",
       "      <td>4.374</td>\n",
       "      <td>6.755</td>\n",
       "      <td>6.964</td>\n",
       "    </tr>\n",
       "    <tr>\n",
       "      <th>18</th>\n",
       "      <td>tr</td>\n",
       "      <td>nat</td>\n",
       "      <td>6.630</td>\n",
       "      <td>14.458</td>\n",
       "      <td>14.097</td>\n",
       "      <td>0.828</td>\n",
       "      <td>290.829</td>\n",
       "      <td>0.068</td>\n",
       "      <td>1.843</td>\n",
       "      <td>3.932</td>\n",
       "      <td>4.386</td>\n",
       "      <td>13.151</td>\n",
       "      <td>4.729</td>\n",
       "      <td>5.055</td>\n",
       "      <td>5.484</td>\n",
       "    </tr>\n",
       "    <tr>\n",
       "      <th>19</th>\n",
       "      <td>io</td>\n",
       "      <td>con</td>\n",
       "      <td>4.594</td>\n",
       "      <td>14.484</td>\n",
       "      <td>3.433</td>\n",
       "      <td>0.557</td>\n",
       "      <td>34.395</td>\n",
       "      <td>0.130</td>\n",
       "      <td>1.645</td>\n",
       "      <td>2.208</td>\n",
       "      <td>4.077</td>\n",
       "      <td>8.055</td>\n",
       "      <td>1.266</td>\n",
       "      <td>7.489</td>\n",
       "      <td>8.305</td>\n",
       "    </tr>\n",
       "    <tr>\n",
       "      <th>20</th>\n",
       "      <td>es</td>\n",
       "      <td>nat</td>\n",
       "      <td>4.978</td>\n",
       "      <td>25.315</td>\n",
       "      <td>7.085</td>\n",
       "      <td>0.674</td>\n",
       "      <td>65.538</td>\n",
       "      <td>0.081</td>\n",
       "      <td>1.756</td>\n",
       "      <td>2.752</td>\n",
       "      <td>4.046</td>\n",
       "      <td>10.327</td>\n",
       "      <td>4.066</td>\n",
       "      <td>6.037</td>\n",
       "      <td>6.892</td>\n",
       "    </tr>\n",
       "    <tr>\n",
       "      <th>21</th>\n",
       "      <td>fi</td>\n",
       "      <td>nat</td>\n",
       "      <td>7.874</td>\n",
       "      <td>11.969</td>\n",
       "      <td>20.409</td>\n",
       "      <td>0.841</td>\n",
       "      <td>394.346</td>\n",
       "      <td>0.088</td>\n",
       "      <td>2.008</td>\n",
       "      <td>5.037</td>\n",
       "      <td>4.144</td>\n",
       "      <td>13.729</td>\n",
       "      <td>4.529</td>\n",
       "      <td>4.919</td>\n",
       "      <td>5.527</td>\n",
       "    </tr>\n",
       "    <tr>\n",
       "      <th>22</th>\n",
       "      <td>de</td>\n",
       "      <td>nat</td>\n",
       "      <td>6.206</td>\n",
       "      <td>16.907</td>\n",
       "      <td>12.128</td>\n",
       "      <td>0.771</td>\n",
       "      <td>139.978</td>\n",
       "      <td>0.090</td>\n",
       "      <td>1.981</td>\n",
       "      <td>4.356</td>\n",
       "      <td>4.230</td>\n",
       "      <td>11.601</td>\n",
       "      <td>4.530</td>\n",
       "      <td>5.268</td>\n",
       "      <td>5.683</td>\n",
       "    </tr>\n",
       "    <tr>\n",
       "      <th>23</th>\n",
       "      <td>avk</td>\n",
       "      <td>con</td>\n",
       "      <td>5.060</td>\n",
       "      <td>12.824</td>\n",
       "      <td>8.153</td>\n",
       "      <td>0.582</td>\n",
       "      <td>61.499</td>\n",
       "      <td>0.096</td>\n",
       "      <td>1.769</td>\n",
       "      <td>2.827</td>\n",
       "      <td>4.186</td>\n",
       "      <td>10.287</td>\n",
       "      <td>3.759</td>\n",
       "      <td>7.646</td>\n",
       "      <td>8.187</td>\n",
       "    </tr>\n",
       "  </tbody>\n",
       "</table>\n",
       "</div>"
      ],
      "text/plain": [
       "   Corpus Type  Avg Word Length  Avg Sentence Length     TTR  MATTR     MTLD  \\\n",
       "0      eo  con            5.175               18.909  10.708  0.692   67.482   \n",
       "1      nl  nat            5.419               18.194   8.559  0.694   74.165   \n",
       "2      is  nat            5.375               15.055  11.727  0.747  115.342   \n",
       "3      pl  nat            6.248               14.951  14.890  0.825  278.888   \n",
       "4      fr  nat            5.160               23.120   7.461  0.721   91.865   \n",
       "5      vo  con            5.072               11.266   2.455  0.622   39.447   \n",
       "6      af  nat            5.067               20.496   6.987  0.645   59.938   \n",
       "7      vi  nat            3.498               29.835   1.749  0.732   94.751   \n",
       "8      oc  nat            5.215               18.660   7.185  0.715   87.187   \n",
       "9      en  nat            5.087               21.301   6.079  0.697   77.659   \n",
       "10     it  nat            5.455               25.727   8.505  0.764  129.111   \n",
       "11     ia  con            5.050               19.547   6.880  0.607   49.015   \n",
       "12     sv  nat            5.597               17.322  11.031  0.756  124.469   \n",
       "13    lfn  con            4.221               19.532   5.063  0.601   40.079   \n",
       "14     da  nat            5.346               16.466  10.517  0.737  106.412   \n",
       "15     hu  nat            6.242               15.782  16.234  0.776  169.833   \n",
       "16     id  nat            6.173               18.164   5.782  0.699   74.365   \n",
       "17     tl  nat            5.119               21.102   7.593  0.611   44.385   \n",
       "18     tr  nat            6.630               14.458  14.097  0.828  290.829   \n",
       "19     io  con            4.594               14.484   3.433  0.557   34.395   \n",
       "20     es  nat            4.978               25.315   7.085  0.674   65.538   \n",
       "21     fi  nat            7.874               11.969  20.409  0.841  394.346   \n",
       "22     de  nat            6.206               16.907  12.128  0.771  139.978   \n",
       "23    avk  con            5.060               12.824   8.153  0.582   61.499   \n",
       "\n",
       "    Morpheme TTR  Avg Segs Per Word  Avg Forms Per Stem  Char Dist Entr  \\\n",
       "0          0.075              1.859               3.506           4.164   \n",
       "1          0.125              1.809               3.044           4.117   \n",
       "2          0.098              1.931               4.128           4.468   \n",
       "3          0.066              1.894               3.709           4.553   \n",
       "4          0.071              1.771               2.759           4.179   \n",
       "5          0.153              1.567               1.938           4.256   \n",
       "6          0.139              1.770               2.861           4.072   \n",
       "7          0.274              1.344               1.453           4.855   \n",
       "8          0.077              1.793               2.805           4.173   \n",
       "9          0.100              1.661               2.360           4.167   \n",
       "10         0.079              1.765               2.939           4.029   \n",
       "11         0.089              1.750               2.715           4.032   \n",
       "12         0.095              1.957               4.074           4.294   \n",
       "13         0.098              1.688               2.448           3.912   \n",
       "14         0.103              1.911               3.776           4.197   \n",
       "15         0.062              2.000               5.071           4.543   \n",
       "16         0.130              1.584               2.048           4.072   \n",
       "17         0.118              1.717               2.563           3.895   \n",
       "18         0.068              1.843               3.932           4.386   \n",
       "19         0.130              1.645               2.208           4.077   \n",
       "20         0.081              1.756               2.752           4.046   \n",
       "21         0.088              2.008               5.037           4.144   \n",
       "22         0.090              1.981               4.356           4.230   \n",
       "23         0.096              1.769               2.827           4.186   \n",
       "\n",
       "    Word Dist Entr  Text Entr  Lex Entr  Rev Lex Entr  \n",
       "0           10.923      4.435     6.189         6.919  \n",
       "1           10.593      4.389     6.379         6.814  \n",
       "2           11.512      5.455     6.087         6.460  \n",
       "3           12.905      5.072     5.605         5.654  \n",
       "4           10.711      4.104     6.305         6.742  \n",
       "5            7.666      1.281     8.627         8.958  \n",
       "6            9.993      4.757     6.656         7.117  \n",
       "7            9.717      4.768    11.864        11.481  \n",
       "8           10.546      3.530     6.654         7.224  \n",
       "9           10.673      4.771     7.097         7.500  \n",
       "10          11.308      4.573     5.517         6.260  \n",
       "11          10.005      3.886     6.476         7.048  \n",
       "12          11.488      4.830     6.215         6.596  \n",
       "13           9.316      4.471     7.839         8.470  \n",
       "14          11.274      5.037     6.380         6.788  \n",
       "15          12.443      5.208     5.589         5.989  \n",
       "16          11.142      3.982     7.296         7.466  \n",
       "17           9.991      4.374     6.755         6.964  \n",
       "18          13.151      4.729     5.055         5.484  \n",
       "19           8.055      1.266     7.489         8.305  \n",
       "20          10.327      4.066     6.037         6.892  \n",
       "21          13.729      4.529     4.919         5.527  \n",
       "22          11.601      4.530     5.268         5.683  \n",
       "23          10.287      3.759     7.646         8.187  "
      ]
     },
     "execution_count": 20,
     "metadata": {},
     "output_type": "execute_result"
    }
   ],
   "source": [
    "import seaborn as sns, pandas as pd, numpy as np\n",
    "from sklearn.svm import OneClassSVM, SVC\n",
    "from sklearn.decomposition import PCA\n",
    "from sklearn.model_selection import cross_val_score, cross_validate, StratifiedKFold, ParameterGrid, KFold, GridSearchCV, train_test_split, LeaveOneOut\n",
    "from sklearn.preprocessing import StandardScaler\n",
    "from sklearn.metrics import classification_report\n",
    "from sklearn.metrics import precision_score, recall_score, f1_score, accuracy_score, precision_recall_fscore_support\n",
    "import matplotlib.lines as mlines\n",
    "import plotly.express as px\n",
    "from sklearn import tree\n",
    "from sklearn.ensemble import RandomForestClassifier, IsolationForest\n",
    "from sklearn.covariance import EllipticEnvelope\n",
    "from sklearn.inspection import DecisionBoundaryDisplay\n",
    "from sklearn.metrics import confusion_matrix, ConfusionMatrixDisplay, make_scorer\n",
    "from matplotlib import pyplot as plt\n",
    "from scipy import stats\n",
    "from sklearn.inspection import permutation_importance\n",
    "\n",
    "data = pd.read_csv('./results/features_df.csv')\n",
    "data"
   ]
  },
  {
   "cell_type": "markdown",
   "metadata": {},
   "source": [
    "## Anomaly Detection"
   ]
  },
  {
   "cell_type": "markdown",
   "metadata": {},
   "source": [
    "### One Class SVM"
   ]
  },
  {
   "cell_type": "code",
   "execution_count": 2,
   "metadata": {},
   "outputs": [
    {
     "name": "stdout",
     "output_type": "stream",
     "text": [
      "Best Params: Gamma=0.01, Nu=0.1\n",
      "gamma        0.010000\n",
      "nu           0.100000\n",
      "precision    0.833333\n",
      "recall       0.833333\n",
      "f1           0.833333\n",
      "Name: 20, dtype: float64\n"
     ]
    }
   ],
   "source": [
    "# OCSVM Finetuning\n",
    "# Brute force approach (ParameterGrid)\n",
    "# gamma defines how much influence a single training sample has. Smaller value means a larger radius of influence for each sample, and vice versa\n",
    "# usually between γ∈[10^−6,10^0] used for the RBF kernel; common initial guesses around γ∈[0.001,1]\n",
    "# nu is the upper bound on the fraction of training errors and a lower bound of support vectors. Controls proportion of outliers allowed\n",
    "# usually between 0 and 1; common initial ranges around ν∈[0.01,0.5]\n",
    "\n",
    "X, y = data.iloc[:,2:].values.round(decimals=3), data.iloc[:,1].map({'con':-1, 'nat':1}).values\n",
    "scaler = StandardScaler()\n",
    "# Train on target == 'nat' (natural languages)\n",
    "X_train = scaler.fit_transform(X[y == 1])\n",
    "X_test = scaler.transform(X)\n",
    "\n",
    "param_grid = {\n",
    "    'gamma': [0.000001, 0.0001, 0.001, 0.01, 0.1, 1],\n",
    "    'nu': [0.01, 0.05, 0.1, 0.2, 0.25, 0.5]\n",
    "}\n",
    "\n",
    "grid = ParameterGrid(param_grid)\n",
    "results = []\n",
    "for params in grid:\n",
    "    ocsvm = OneClassSVM(kernel='rbf', gamma=params['gamma'], nu=params['nu'])\n",
    "    ocsvm.fit(X_train)\n",
    "    y_pred = ocsvm.predict(X_test)\n",
    "    predicted_types = np.where(y_pred == 1, 'nat', 'con')\n",
    "    precision = precision_score(data['Type'], predicted_types, pos_label='con')\n",
    "    recall = recall_score(data['Type'], predicted_types, pos_label='con')\n",
    "    f1 = f1_score(data['Type'], predicted_types, pos_label='con')\n",
    "    \n",
    "    results.append({\n",
    "        'gamma': params['gamma'],\n",
    "        'nu': params['nu'],\n",
    "        'precision': precision,\n",
    "        'recall': recall,\n",
    "        'f1': f1\n",
    "    })\n",
    "    \n",
    "ocsvm_parameter_search_results_df = pd.DataFrame(results)\n",
    "ocsvm_parameter_search_results_df.to_csv('./results/ocsvm_parameter_search_results_df.csv')\n",
    "best_params = ocsvm_parameter_search_results_df.sort_values(by='f1', ascending=False).iloc[0]\n",
    "print(f\"Best Params: Gamma={best_params['gamma']}, Nu={best_params['nu']}\")\n",
    "print(best_params)"
   ]
  },
  {
   "cell_type": "code",
   "execution_count": 3,
   "metadata": {},
   "outputs": [
    {
     "name": "stdout",
     "output_type": "stream",
     "text": [
      "[LibSVM]*\n",
      "optimization finished, #iter = 7\n",
      "obj = 0.234709, rho = 0.521592\n",
      "nSV = 3, nBSV = 0\n",
      "{'eo': 0.5588892136581479, 'nl': 0.5692346649935943, 'is': 0.544877415659641, 'pl': 0.5429384050538085, 'fr': 0.5487669215156405, 'vo': 0.27938272870772834, 'af': 0.5497432866332218, 'vi': 0.5214907316478975, 'oc': 0.5315918897508111, 'en': 0.5651839434455173, 'it': 0.5447021542392415, 'ia': 0.5076687360727405, 'sv': 0.5716454054166626, 'lfn': 0.49261043859475667, 'da': 0.5685749816335364, 'hu': 0.5313690964415092, 'id': 0.5518720225513458, 'tl': 0.5216428629564647, 'tr': 0.5492766625527343, 'io': 0.27280029990931604, 'es': 0.5258874804805129, 'fi': 0.5216428807993918, 'de': 0.5581925225107022, 'avk': 0.4931716016218649}\n",
      "{'eo': 'nat', 'nl': 'nat', 'is': 'nat', 'pl': 'nat', 'fr': 'nat', 'vo': 'con', 'af': 'nat', 'vi': 'con', 'oc': 'nat', 'en': 'nat', 'it': 'nat', 'ia': 'con', 'sv': 'nat', 'lfn': 'con', 'da': 'nat', 'hu': 'nat', 'id': 'nat', 'tl': 'nat', 'tr': 'nat', 'io': 'con', 'es': 'nat', 'fi': 'nat', 'de': 'nat', 'avk': 'con'}\n"
     ]
    },
    {
     "data": {
      "image/png": "[encoded data removed]",
      "text/plain": [
       "<Figure size 640x480 with 2 Axes>"
      ]
     },
     "metadata": {},
     "output_type": "display_data"
    }
   ],
   "source": [
    "# OCSVM with Finetuned Hyperparams\n",
    "\n",
    "X, y = data.iloc[:,2:].values.round(decimals=3), data.iloc[:,1].map({'con':-1, 'nat':1}).values\n",
    "scaler = StandardScaler()\n",
    "# Train on target == 'nat' (natural languages)\n",
    "X_train = scaler.fit_transform(X[y == 1])\n",
    "X_test = scaler.transform(X)\n",
    "\n",
    "best_ocsvm = OneClassSVM(kernel='rbf', gamma=0.01, nu=0.05, verbose=True)\n",
    "best_ocsvm.fit(X_train)\n",
    "\n",
    "y_pred = best_ocsvm.predict(X_test)\n",
    "scores = best_ocsvm.score_samples(X_test)\n",
    "print({lang: pred for lang, pred in zip(data['Corpus'], scores)})\n",
    "\n",
    "predicted_types = np.where(y_pred == 1, 'nat', 'con')\n",
    "print({lang: pred for lang, pred in zip(data['Corpus'], predicted_types)})\n",
    "\n",
    "# Model performance report \n",
    "report = classification_report(data['Type'], predicted_types, target_names=['con', 'nat'], output_dict=True)\n",
    "report.update({\"accuracy\": {\"precision\": None, \"recall\": None, \"f1-score\": report[\"accuracy\"], \"support\": report['macro avg']['support']}})\n",
    "ocsvm_with_finetuning_report = pd.DataFrame(report).transpose()\n",
    "ocsvm_with_finetuning_report.to_csv('./results/ocsvm_with_finetuning_report.csv')\n",
    "\n",
    "# Confusion Matrix\n",
    "matrix_df = pd.DataFrame({\n",
    "    'Corpus': data['Corpus'],\n",
    "    'True': data['Type'],\n",
    "    'Predicted': predicted_types\n",
    "})\n",
    "conf_matrix = confusion_matrix(matrix_df['True'], matrix_df['Predicted'], labels=['con', 'nat'])\n",
    "disp = ConfusionMatrixDisplay(conf_matrix, display_labels=['con', 'nat'])\n",
    "disp.plot(cmap=plt.cm.Blues, values_format='d')\n",
    "plt.title('Confusion Matrix')\n",
    "plt.show()"
   ]
  },
  {
   "cell_type": "markdown",
   "metadata": {},
   "source": [
    "One-Class SVM Visualization (Decision Boundary)"
   ]
  },
  {
   "cell_type": "code",
   "execution_count": 4,
   "metadata": {},
   "outputs": [
    {
     "data": {
      "image/png": "[encoded data removed]",
      "text/plain": [
       "<Figure size 640x480 with 1 Axes>"
      ]
     },
     "metadata": {},
     "output_type": "display_data"
    },
    {
     "data": {
      "image/png": "[encoded data removed]",
      "text/plain": [
       "<Figure size 640x480 with 1 Axes>"
      ]
     },
     "metadata": {},
     "output_type": "display_data"
    }
   ],
   "source": [
    "# Plot decision function of finetuned One-Class SVM (visualization in 2D space)\n",
    "# How can I interpret the decision function? Should I visualize the decision boundary differently?\n",
    "\n",
    "X, y = data.iloc[:,2:].values.round(decimals=3), data.iloc[:,1].map({'con':-1, 'nat':1}).values\n",
    "scaler = StandardScaler()\n",
    "X_scaled = scaler.fit_transform(X)\n",
    "\n",
    "pca = PCA(n_components=2)\n",
    "X_pca = pca.fit_transform(X_scaled)\n",
    "\n",
    "# Find PC1 and PC2\n",
    "components_df = pd.DataFrame(pca.components_, columns=data.select_dtypes(include='number').columns, index=['PC1', 'PC2'])\n",
    "def get_top_features(components_df, pc_name, top_n=1):\n",
    "    pc_loadings = components_df.loc[pc_name]\n",
    "    top_features = pc_loadings.abs().nlargest(top_n).index\n",
    "    return top_features.tolist()\n",
    "\n",
    "# Hard Margin OCSVM\n",
    "# Has 2 outliers at n=0.05\n",
    "hard_ocsvm = OneClassSVM(kernel='rbf', gamma=0.01, nu=0.05)\n",
    "hard_ocsvm.fit(X_pca)\n",
    "\n",
    "# Predict the decision function (distance to the decision boundary)\n",
    "hard_decision_function = hard_ocsvm.decision_function(X_pca)\n",
    "hard_pred = hard_ocsvm.predict(X_pca)\n",
    "\n",
    "# Plot decision boundary and margins\n",
    "xx, yy = np.meshgrid(np.linspace(X_pca[:, 0].min() - 1, X_pca[:, 0].max() + 1, 500),\n",
    "                     np.linspace(X_pca[:, 1].min() - 1, X_pca[:, 1].max() + 1, 500))\n",
    "\n",
    "Z = hard_ocsvm.decision_function(np.c_[xx.ravel(), yy.ravel()])\n",
    "Z = Z.reshape(xx.shape)\n",
    "\n",
    "# Plot decision function as a contour plot\n",
    "plt.contourf(xx, yy, Z, levels=np.linspace(Z.min(), 0, 7), cmap=plt.cm.Blues_r)\n",
    "plt.contour(xx, yy, Z, levels=[0], linewidths=2, colors='black')\n",
    "plt.contourf(xx, yy, Z, levels=[0, Z.max()], colors='white')\n",
    "\n",
    "plt.scatter(X_pca[hard_pred == 1][:, 0], X_pca[hard_pred == 1][:, 1], \n",
    "            c='blue', label='Inliers (nat)', edgecolors='k', s=60)\n",
    "plt.scatter(X_pca[hard_pred == -1][:, 0], X_pca[hard_pred == -1][:, 1], \n",
    "            c='red', label='Outliers (con)', edgecolors='k', s=60)\n",
    "\n",
    "for i, corpus_value in enumerate(data['Corpus'].values):\n",
    "    if hard_pred[i] == -1: \n",
    "        plt.annotate(\n",
    "            corpus_value, \n",
    "            (X_pca[i, 0], X_pca[i, 1]), \n",
    "            textcoords=\"offset points\", xytext=(0, 0), \n",
    "            ha='center', va='center',  \n",
    "            fontsize=9, color='black',\n",
    "            bbox=dict(facecolor='white', alpha=0.6)  \n",
    "        )\n",
    "\n",
    "plt.title('One-Class SVM Decision Boundary, Hard Margin (PCA)')\n",
    "plt.xlabel(f\"PC1: {get_top_features(components_df, 'PC1')[0]}\")\n",
    "plt.ylabel(f\"PC2: {get_top_features(components_df, 'PC2')[0]}\")\n",
    "plt.legend()\n",
    "plt.show()\n",
    "\n",
    "# Soft Margin OCSVM\n",
    "# Has 8 outliers at n=0.3\n",
    "soft_ocsvm = OneClassSVM(kernel='rbf', gamma=0.01, nu=0.3)\n",
    "soft_ocsvm.fit(X_pca)\n",
    "\n",
    "# Predict the decision function (distance to the decision boundary)\n",
    "soft_decision_function = soft_ocsvm.decision_function(X_pca)\n",
    "soft_pred = soft_ocsvm.predict(X_pca)\n",
    "\n",
    "# Plot decision boundary and margins\n",
    "xx, yy = np.meshgrid(np.linspace(X_pca[:, 0].min() - 1, X_pca[:, 0].max() + 1, 500),\n",
    "                     np.linspace(X_pca[:, 1].min() - 1, X_pca[:, 1].max() + 1, 500))\n",
    "\n",
    "Z = soft_ocsvm.decision_function(np.c_[xx.ravel(), yy.ravel()])\n",
    "Z = Z.reshape(xx.shape)\n",
    "\n",
    "# Plot decision function as a contour plot\n",
    "plt.contourf(xx, yy, Z, levels=np.linspace(Z.min(), 0, 7), cmap=plt.cm.Blues_r)\n",
    "plt.contour(xx, yy, Z, levels=[0], linewidths=2, colors='black')\n",
    "plt.contourf(xx, yy, Z, levels=[0, Z.max()], colors='white')\n",
    "\n",
    "plt.scatter(X_pca[soft_pred == 1][:, 0], X_pca[soft_pred == 1][:, 1], \n",
    "            c='blue', label='Inliers (nat)', edgecolors='k', s=60)\n",
    "plt.scatter(X_pca[soft_pred == -1][:, 0], X_pca[soft_pred == -1][:, 1], \n",
    "            c='red', label='Outliers (con)', edgecolors='k', s=60)\n",
    "\n",
    "for i, corpus_value in enumerate(data['Corpus'].values):\n",
    "    if soft_pred[i] == -1: \n",
    "        plt.annotate(\n",
    "            corpus_value, \n",
    "            (X_pca[i, 0], X_pca[i, 1]), \n",
    "            textcoords=\"offset points\", xytext=(0, 0), \n",
    "            ha='center', va='center',  \n",
    "            fontsize=9, color='black',\n",
    "            bbox=dict(facecolor='white', alpha=0.6)  \n",
    "        )\n",
    "\n",
    "plt.title('One-Class SVM Decision Boundary, Soft Margin (PCA)')\n",
    "plt.xlabel(f\"PC1: {get_top_features(components_df, 'PC1')[0]}\")\n",
    "plt.ylabel(f\"PC2: {get_top_features(components_df, 'PC2')[0]}\")\n",
    "plt.legend()\n",
    "plt.show()"
   ]
  },
  {
   "cell_type": "markdown",
   "metadata": {},
   "source": [
    "### Isolation Forest"
   ]
  },
  {
   "cell_type": "code",
   "execution_count": 2,
   "metadata": {},
   "outputs": [
    {
     "data": {
      "application/vnd.plotly.v1+json": {
       "config": {
        "plotlyServerURL": "https://plot.ly"
       },
       "data": [
        {
         "diagonal": {
          "visible": false
         },
         "dimensions": [
          {
           "axis": {
            "matches": true
           },
           "label": "PC 1",
           "values": [
            -45.345559434435025,
            -73.66145988935665,
            -63.98548249499588,
            -73.02390796946297,
            -78.70536369552865,
            -51.35986545701369
           ]
          },
          {
           "axis": {
            "matches": true
           },
           "label": "PC 2",
           "values": [
            -1.3526734861957563,
            -7.089350153434261,
            -0.27251671757438245,
            0.28548614679421763,
            -4.593988102653245,
            -6.399922495317706
           ]
          },
          {
           "axis": {
            "matches": true
           },
           "label": "PC 3",
           "values": [
            3.553873624369255,
            -6.876813847494701,
            0.8990588542135769,
            -1.1636961663584753,
            -4.402055433277589,
            -1.0828236441932086
           ]
          }
         ],
         "hovertemplate": "Type=con<br>%{xaxis.title.text}=%{x}<br>%{yaxis.title.text}=%{y}<extra></extra>",
         "legendgroup": "con",
         "marker": {
          "color": "#636efa",
          "symbol": "circle"
         },
         "name": "con",
         "showlegend": true,
         "type": "splom"
        },
        {
         "diagonal": {
          "visible": false
         },
         "dimensions": [
          {
           "axis": {
            "matches": true
           },
           "label": "PC 1",
           "values": [
            -38.75468412391123,
            2.588822690432047,
            166.09525664241846,
            -21.21222272910074,
            -53.08551191488935,
            -18.80376956028356,
            -25.827849063379926,
            -35.43971470295846,
            16.00858754511857,
            11.63124257150899,
            -6.418620801452814,
            57.21973917998477,
            -38.67893819416587,
            -68.60778634165236,
            178.00907759363204,
            -47.56685677562921,
            281.7287611399865,
            27.19610578513492
           ]
          },
          {
           "axis": {
            "matches": true
           },
           "label": "PC 2",
           "values": [
            -1.2699594113835542,
            -3.8742878815607504,
            -0.11970644950383862,
            4.204960616736188,
            1.005821572532339,
            13.348118082646488,
            -0.07281254600807309,
            2.648756669987147,
            7.3989376450088065,
            -1.3186488822738096,
            -2.445678213162901,
            -2.9490753298014627,
            -0.4364670068928377,
            0.9535974325790739,
            -0.17432614823536924,
            5.595706613907467,
            -1.2764953829976309,
            -1.7954765731961904
           ]
          },
          {
           "axis": {
            "matches": true
           },
           "label": "PC 3",
           "values": [
            1.2946098877757297,
            2.1522921792813756,
            -1.1232501013977891,
            1.022942820639772,
            0.9606384437504983,
            -5.424325926528474,
            -0.6088527174465378,
            -0.39812017044455317,
            1.7939147680725234,
            1.6517647761383685,
            1.536221339764081,
            4.380130855332231,
            -1.4417690780367056,
            2.044652063876418,
            -2.023557721405353,
            2.261320954622833,
            -1.4392819509620263,
            2.4331261897087724
           ]
          }
         ],
         "hovertemplate": "Type=nat<br>%{xaxis.title.text}=%{x}<br>%{yaxis.title.text}=%{y}<extra></extra>",
         "legendgroup": "nat",
         "marker": {
          "color": "#EF553B",
          "symbol": "circle"
         },
         "name": "nat",
         "showlegend": true,
         "type": "splom"
        }
       ],
       "layout": {
        "dragmode": "select",
        "legend": {
         "title": {
          "text": "Type"
         },
         "tracegroupgap": 0
        },
        "template": {
         "data": {
          "bar": [
           {
            "error_x": {
             "color": "#2a3f5f"
            },
            "error_y": {
             "color": "#2a3f5f"
            },
            "marker": {
             "line": {
              "color": "#E5ECF6",
              "width": 0.5
             },
             "pattern": {
              "fillmode": "overlay",
              "size": 10,
              "solidity": 0.2
             }
            },
            "type": "bar"
           }
          ],
          "barpolar": [
           {
            "marker": {
             "line": {
              "color": "#E5ECF6",
              "width": 0.5
             },
             "pattern": {
              "fillmode": "overlay",
              "size": 10,
              "solidity": 0.2
             }
            },
            "type": "barpolar"
           }
          ],
          "carpet": [
           {
            "aaxis": {
             "endlinecolor": "#2a3f5f",
             "gridcolor": "white",
             "linecolor": "white",
             "minorgridcolor": "white",
             "startlinecolor": "#2a3f5f"
            },
            "baxis": {
             "endlinecolor": "#2a3f5f",
             "gridcolor": "white",
             "linecolor": "white",
             "minorgridcolor": "white",
             "startlinecolor": "#2a3f5f"
            },
            "type": "carpet"
           }
          ],
          "choropleth": [
           {
            "colorbar": {
             "outlinewidth": 0,
             "ticks": ""
            },
            "type": "choropleth"
           }
          ],
          "contour": [
           {
            "colorbar": {
             "outlinewidth": 0,
             "ticks": ""
            },
            "colorscale": [
             [
              0,
              "#0d0887"
             ],
             [
              0.1111111111111111,
              "#46039f"
             ],
             [
              0.2222222222222222,
              "#7201a8"
             ],
             [
              0.3333333333333333,
              "#9c179e"
             ],
             [
              0.4444444444444444,
              "#bd3786"
             ],
             [
              0.5555555555555556,
              "#d8576b"
             ],
             [
              0.6666666666666666,
              "#ed7953"
             ],
             [
              0.7777777777777778,
              "#fb9f3a"
             ],
             [
              0.8888888888888888,
              "#fdca26"
             ],
             [
              1,
              "#f0f921"
             ]
            ],
            "type": "contour"
           }
          ],
          "contourcarpet": [
           {
            "colorbar": {
             "outlinewidth": 0,
             "ticks": ""
            },
            "type": "contourcarpet"
           }
          ],
          "heatmap": [
           {
            "colorbar": {
             "outlinewidth": 0,
             "ticks": ""
            },
            "colorscale": [
             [
              0,
              "#0d0887"
             ],
             [
              0.1111111111111111,
              "#46039f"
             ],
             [
              0.2222222222222222,
              "#7201a8"
             ],
             [
              0.3333333333333333,
              "#9c179e"
             ],
             [
              0.4444444444444444,
              "#bd3786"
             ],
             [
              0.5555555555555556,
              "#d8576b"
             ],
             [
              0.6666666666666666,
              "#ed7953"
             ],
             [
              0.7777777777777778,
              "#fb9f3a"
             ],
             [
              0.8888888888888888,
              "#fdca26"
             ],
             [
              1,
              "#f0f921"
             ]
            ],
            "type": "heatmap"
           }
          ],
          "heatmapgl": [
           {
            "colorbar": {
             "outlinewidth": 0,
             "ticks": ""
            },
            "colorscale": [
             [
              0,
              "#0d0887"
             ],
             [
              0.1111111111111111,
              "#46039f"
             ],
             [
              0.2222222222222222,
              "#7201a8"
             ],
             [
              0.3333333333333333,
              "#9c179e"
             ],
             [
              0.4444444444444444,
              "#bd3786"
             ],
             [
              0.5555555555555556,
              "#d8576b"
             ],
             [
              0.6666666666666666,
              "#ed7953"
             ],
             [
              0.7777777777777778,
              "#fb9f3a"
             ],
             [
              0.8888888888888888,
              "#fdca26"
             ],
             [
              1,
              "#f0f921"
             ]
            ],
            "type": "heatmapgl"
           }
          ],
          "histogram": [
           {
            "marker": {
             "pattern": {
              "fillmode": "overlay",
              "size": 10,
              "solidity": 0.2
             }
            },
            "type": "histogram"
           }
          ],
          "histogram2d": [
           {
            "colorbar": {
             "outlinewidth": 0,
             "ticks": ""
            },
            "colorscale": [
             [
              0,
              "#0d0887"
             ],
             [
              0.1111111111111111,
              "#46039f"
             ],
             [
              0.2222222222222222,
              "#7201a8"
             ],
             [
              0.3333333333333333,
              "#9c179e"
             ],
             [
              0.4444444444444444,
              "#bd3786"
             ],
             [
              0.5555555555555556,
              "#d8576b"
             ],
             [
              0.6666666666666666,
              "#ed7953"
             ],
             [
              0.7777777777777778,
              "#fb9f3a"
             ],
             [
              0.8888888888888888,
              "#fdca26"
             ],
             [
              1,
              "#f0f921"
             ]
            ],
            "type": "histogram2d"
           }
          ],
          "histogram2dcontour": [
           {
            "colorbar": {
             "outlinewidth": 0,
             "ticks": ""
            },
            "colorscale": [
             [
              0,
              "#0d0887"
             ],
             [
              0.1111111111111111,
              "#46039f"
             ],
             [
              0.2222222222222222,
              "#7201a8"
             ],
             [
              0.3333333333333333,
              "#9c179e"
             ],
             [
              0.4444444444444444,
              "#bd3786"
             ],
             [
              0.5555555555555556,
              "#d8576b"
             ],
             [
              0.6666666666666666,
              "#ed7953"
             ],
             [
              0.7777777777777778,
              "#fb9f3a"
             ],
             [
              0.8888888888888888,
              "#fdca26"
             ],
             [
              1,
              "#f0f921"
             ]
            ],
            "type": "histogram2dcontour"
           }
          ],
          "mesh3d": [
           {
            "colorbar": {
             "outlinewidth": 0,
             "ticks": ""
            },
            "type": "mesh3d"
           }
          ],
          "parcoords": [
           {
            "line": {
             "colorbar": {
              "outlinewidth": 0,
              "ticks": ""
             }
            },
            "type": "parcoords"
           }
          ],
          "pie": [
           {
            "automargin": true,
            "type": "pie"
           }
          ],
          "scatter": [
           {
            "fillpattern": {
             "fillmode": "overlay",
             "size": 10,
             "solidity": 0.2
            },
            "type": "scatter"
           }
          ],
          "scatter3d": [
           {
            "line": {
             "colorbar": {
              "outlinewidth": 0,
              "ticks": ""
             }
            },
            "marker": {
             "colorbar": {
              "outlinewidth": 0,
              "ticks": ""
             }
            },
            "type": "scatter3d"
           }
          ],
          "scattercarpet": [
           {
            "marker": {
             "colorbar": {
              "outlinewidth": 0,
              "ticks": ""
             }
            },
            "type": "scattercarpet"
           }
          ],
          "scattergeo": [
           {
            "marker": {
             "colorbar": {
              "outlinewidth": 0,
              "ticks": ""
             }
            },
            "type": "scattergeo"
           }
          ],
          "scattergl": [
           {
            "marker": {
             "colorbar": {
              "outlinewidth": 0,
              "ticks": ""
             }
            },
            "type": "scattergl"
           }
          ],
          "scattermapbox": [
           {
            "marker": {
             "colorbar": {
              "outlinewidth": 0,
              "ticks": ""
             }
            },
            "type": "scattermapbox"
           }
          ],
          "scatterpolar": [
           {
            "marker": {
             "colorbar": {
              "outlinewidth": 0,
              "ticks": ""
             }
            },
            "type": "scatterpolar"
           }
          ],
          "scatterpolargl": [
           {
            "marker": {
             "colorbar": {
              "outlinewidth": 0,
              "ticks": ""
             }
            },
            "type": "scatterpolargl"
           }
          ],
          "scatterternary": [
           {
            "marker": {
             "colorbar": {
              "outlinewidth": 0,
              "ticks": ""
             }
            },
            "type": "scatterternary"
           }
          ],
          "surface": [
           {
            "colorbar": {
             "outlinewidth": 0,
             "ticks": ""
            },
            "colorscale": [
             [
              0,
              "#0d0887"
             ],
             [
              0.1111111111111111,
              "#46039f"
             ],
             [
              0.2222222222222222,
              "#7201a8"
             ],
             [
              0.3333333333333333,
              "#9c179e"
             ],
             [
              0.4444444444444444,
              "#bd3786"
             ],
             [
              0.5555555555555556,
              "#d8576b"
             ],
             [
              0.6666666666666666,
              "#ed7953"
             ],
             [
              0.7777777777777778,
              "#fb9f3a"
             ],
             [
              0.8888888888888888,
              "#fdca26"
             ],
             [
              1,
              "#f0f921"
             ]
            ],
            "type": "surface"
           }
          ],
          "table": [
           {
            "cells": {
             "fill": {
              "color": "#EBF0F8"
             },
             "line": {
              "color": "white"
             }
            },
            "header": {
             "fill": {
              "color": "#C8D4E3"
             },
             "line": {
              "color": "white"
             }
            },
            "type": "table"
           }
          ]
         },
         "layout": {
          "annotationdefaults": {
           "arrowcolor": "#2a3f5f",
           "arrowhead": 0,
           "arrowwidth": 1
          },
          "autotypenumbers": "strict",
          "coloraxis": {
           "colorbar": {
            "outlinewidth": 0,
            "ticks": ""
           }
          },
          "colorscale": {
           "diverging": [
            [
             0,
             "#8e0152"
            ],
            [
             0.1,
             "#c51b7d"
            ],
            [
             0.2,
             "#de77ae"
            ],
            [
             0.3,
             "#f1b6da"
            ],
            [
             0.4,
             "#fde0ef"
            ],
            [
             0.5,
             "#f7f7f7"
            ],
            [
             0.6,
             "#e6f5d0"
            ],
            [
             0.7,
             "#b8e186"
            ],
            [
             0.8,
             "#7fbc41"
            ],
            [
             0.9,
             "#4d9221"
            ],
            [
             1,
             "#276419"
            ]
           ],
           "sequential": [
            [
             0,
             "#0d0887"
            ],
            [
             0.1111111111111111,
             "#46039f"
            ],
            [
             0.2222222222222222,
             "#7201a8"
            ],
            [
             0.3333333333333333,
             "#9c179e"
            ],
            [
             0.4444444444444444,
             "#bd3786"
            ],
            [
             0.5555555555555556,
             "#d8576b"
            ],
            [
             0.6666666666666666,
             "#ed7953"
            ],
            [
             0.7777777777777778,
             "#fb9f3a"
            ],
            [
             0.8888888888888888,
             "#fdca26"
            ],
            [
             1,
             "#f0f921"
            ]
           ],
           "sequentialminus": [
            [
             0,
             "#0d0887"
            ],
            [
             0.1111111111111111,
             "#46039f"
            ],
            [
             0.2222222222222222,
             "#7201a8"
            ],
            [
             0.3333333333333333,
             "#9c179e"
            ],
            [
             0.4444444444444444,
             "#bd3786"
            ],
            [
             0.5555555555555556,
             "#d8576b"
            ],
            [
             0.6666666666666666,
             "#ed7953"
            ],
            [
             0.7777777777777778,
             "#fb9f3a"
            ],
            [
             0.8888888888888888,
             "#fdca26"
            ],
            [
             1,
             "#f0f921"
            ]
           ]
          },
          "colorway": [
           "#636efa",
           "#EF553B",
           "#00cc96",
           "#ab63fa",
           "#FFA15A",
           "#19d3f3",
           "#FF6692",
           "#B6E880",
           "#FF97FF",
           "#FECB52"
          ],
          "font": {
           "color": "#2a3f5f"
          },
          "geo": {
           "bgcolor": "white",
           "lakecolor": "white",
           "landcolor": "#E5ECF6",
           "showlakes": true,
           "showland": true,
           "subunitcolor": "white"
          },
          "hoverlabel": {
           "align": "left"
          },
          "hovermode": "closest",
          "mapbox": {
           "style": "light"
          },
          "paper_bgcolor": "white",
          "plot_bgcolor": "#E5ECF6",
          "polar": {
           "angularaxis": {
            "gridcolor": "white",
            "linecolor": "white",
            "ticks": ""
           },
           "bgcolor": "#E5ECF6",
           "radialaxis": {
            "gridcolor": "white",
            "linecolor": "white",
            "ticks": ""
           }
          },
          "scene": {
           "xaxis": {
            "backgroundcolor": "#E5ECF6",
            "gridcolor": "white",
            "gridwidth": 2,
            "linecolor": "white",
            "showbackground": true,
            "ticks": "",
            "zerolinecolor": "white"
           },
           "yaxis": {
            "backgroundcolor": "#E5ECF6",
            "gridcolor": "white",
            "gridwidth": 2,
            "linecolor": "white",
            "showbackground": true,
            "ticks": "",
            "zerolinecolor": "white"
           },
           "zaxis": {
            "backgroundcolor": "#E5ECF6",
            "gridcolor": "white",
            "gridwidth": 2,
            "linecolor": "white",
            "showbackground": true,
            "ticks": "",
            "zerolinecolor": "white"
           }
          },
          "shapedefaults": {
           "line": {
            "color": "#2a3f5f"
           }
          },
          "ternary": {
           "aaxis": {
            "gridcolor": "white",
            "linecolor": "white",
            "ticks": ""
           },
           "baxis": {
            "gridcolor": "white",
            "linecolor": "white",
            "ticks": ""
           },
           "bgcolor": "#E5ECF6",
           "caxis": {
            "gridcolor": "white",
            "linecolor": "white",
            "ticks": ""
           }
          },
          "title": {
           "x": 0.05
          },
          "xaxis": {
           "automargin": true,
           "gridcolor": "white",
           "linecolor": "white",
           "ticks": "",
           "title": {
            "standoff": 15
           },
           "zerolinecolor": "white",
           "zerolinewidth": 2
          },
          "yaxis": {
           "automargin": true,
           "gridcolor": "white",
           "linecolor": "white",
           "ticks": "",
           "title": {
            "standoff": 15
           },
           "zerolinecolor": "white",
           "zerolinewidth": 2
          }
         }
        },
        "title": {
         "text": "Total Explained Variance: 99.98%"
        }
       }
      }
     },
     "metadata": {},
     "output_type": "display_data"
    }
   ],
   "source": [
    "n_components = 3\n",
    "pca = PCA(n_components=n_components)\n",
    "components = pca.fit_transform(data.iloc[:,2:].values.round(decimals=3))\n",
    "\n",
    "total_var = pca.explained_variance_ratio_.sum() * 100\n",
    "\n",
    "labels = {str(i): f\"PC {i+1}\" for i in range(n_components)}\n",
    "labels['color'] = 'Type'\n",
    "\n",
    "fig = px.scatter_matrix(\n",
    "    components,\n",
    "    color=data['Type'],\n",
    "    dimensions=range(n_components),\n",
    "    labels=labels,\n",
    "    title=f'Total Explained Variance: {total_var:.2f}%',\n",
    ")\n",
    "fig.update_traces(diagonal_visible=False)\n",
    "fig.show()"
   ]
  },
  {
   "cell_type": "code",
   "execution_count": 11,
   "metadata": {},
   "outputs": [
    {
     "name": "stderr",
     "output_type": "stream",
     "text": [
      "/usr/local/lib/python3.9/site-packages/sklearn/ensemble/_iforest.py:308: UserWarning:\n",
      "\n",
      "max_samples (100) is greater than the total number of samples (24). max_samples will be set to n_samples for estimation.\n",
      "\n",
      "[Parallel(n_jobs=12)]: Using backend ThreadingBackend with 12 concurrent workers.\n",
      "[Parallel(n_jobs=12)]: Done   2 out of  12 | elapsed:    0.2s remaining:    1.2s\n",
      "[Parallel(n_jobs=12)]: Done  12 out of  12 | elapsed:    0.3s finished\n"
     ]
    },
    {
     "name": "stdout",
     "output_type": "stream",
     "text": [
      "Number of outliers detected: -6\n",
      "Number of inliers detected: 18\n",
      "(0.5555555555555556, 0.5555555555555556, 0.5555555555555556, None)\n"
     ]
    },
    {
     "data": {
      "image/png": "[encoded data removed]",
      "text/plain": [
       "<Figure size 640x480 with 2 Axes>"
      ]
     },
     "metadata": {},
     "output_type": "display_data"
    },
    {
     "data": {
      "image/png": "[encoded data removed]",
      "text/plain": [
       "<Figure size 800x600 with 1 Axes>"
      ]
     },
     "metadata": {},
     "output_type": "display_data"
    }
   ],
   "source": [
    "# Isolation Forest with Finetuning\n",
    "\n",
    "X, y = data.iloc[:,2:].values.round(decimals=3), data.iloc[:,1].map({'con':-1, 'nat':1}).values\n",
    "# scaler = StandardScaler()\n",
    "# X_scaled = scaler.fit_transform(X)\n",
    "# X_train, X_test, y_train, y_test = train_test_split(X_scaled, y, test_size=0.2, random_state=42)\n",
    "\n",
    "# param_grid = {\n",
    "#     'n_estimators': [50, 100, 200],\n",
    "#     'max_samples': 'auto',\n",
    "# }\n",
    "\n",
    "# outlier_fraction = len(np.where(y==0)[0])/len(np.where(y==1)[0])\n",
    "ifc = IsolationForest(max_samples=100,\n",
    "                      random_state=42,\n",
    "                      contamination=0.25,\n",
    "                      max_features=1.0,\n",
    "                      n_estimators=100,\n",
    "                      verbose=1,\n",
    "                      n_jobs=-1)\n",
    "\n",
    "ifc.fit(X)\n",
    "y_pred = ifc.predict(X)\n",
    "y_pred_adjusted = [-1 if x == -1 else 1 for x in y_pred]\n",
    "\n",
    "# scorer = make_scorer(f1_score(average='micro'))\n",
    "\n",
    "# grid_search = GridSearchCV(estimator=ifc, param_grid=param_grid, scoring=scorer, cv=3, verbose=1)\n",
    "# grid_search.fit(X_scaled)\n",
    "\n",
    "# print(grid_search.best_params_)\n",
    "\n",
    "# best_ifc = grid_search.best_estimator_\n",
    "\n",
    "# print(ifc.decision_function(X_scaled))\n",
    "# ifc.fit(X_scaled)\n",
    "# y_pred = ifc.fit_predict(X_scaled)\n",
    "# predicted_types = ['con' if p == -1 else 'nat' for p in predictions]\n",
    "print('Number of outliers detected: {}'.format(y_pred[y_pred == -1].sum()))\n",
    "print('Number of inliers detected: {}'.format(y_pred[y_pred == 1].sum()))\n",
    "\n",
    "report = precision_recall_fscore_support(y, y_pred_adjusted, average='macro')\n",
    "print(report)\n",
    "\n",
    "cm = confusion_matrix(y, y_pred_adjusted)\n",
    "disp = ConfusionMatrixDisplay(cm, display_labels=[-1, 1])\n",
    "disp.plot(cmap=plt.cm.Blues)\n",
    "plt.title('Confusion Matrix for Isolation Forest')\n",
    "plt.show()\n",
    "\n",
    "plt.figure(figsize=(8, 6))\n",
    "plt.scatter(X[y_pred == 1][:, 0], X[y_pred == 1][:, 1], label=\"Inliers\", c='blue', s=60)\n",
    "plt.scatter(X[y_pred == -1][:, 0], X[y_pred == -1][:, 1], label=\"Outliers\", c='red', s=60)\n",
    "for i, txt in enumerate(data['Corpus']):\n",
    "    if y_pred[i] == -1: \n",
    "        plt.text(X[i, 0] + 0.02, X[i, 1] + 0.02, txt, fontsize=9, color='black',\n",
    "                 ha='center', va='bottom', bbox=dict(facecolor='white', alpha=0.6))\n",
    "plt.title(\"Isolation Forest - Inliers and Outliers\")\n",
    "plt.legend()\n",
    "plt.show()"
   ]
  },
  {
   "cell_type": "code",
   "execution_count": null,
   "metadata": {},
   "outputs": [],
   "source": [
    "score = ifc.decision_function(X_scaled)\n",
    "score_df = pd.DataFrame(score, columns=['Decision Function Scores'])\n",
    "data_scores = pd.concat([data['Corpus'], score_df], axis=1)\n",
    "display(data_scores)\n",
    "\n",
    "# # Plot Top 5 Outliers\n",
    "# top_5_outliers = data_scores.sort_values(by=['Anomaly Score']).head()\n",
    "# plt.scatter(X_scaled[:,0], X_scaled[:,1])\n",
    "# plt.scatter(top_5_outliers['X'], top_5_outliers['Y'])\n",
    "# # for i, txt in enumerate(data['Corpus']):\n",
    "# #     if y_pred[i] == -1: \n",
    "# #         plt.text(X_scaled[i, 0] + 0.02, X_scaled[i, 1] + 0.02, txt, fontsize=9, color='black',\n",
    "# #                  ha='center', va='bottom', bbox=dict(facecolor='white', alpha=0.6))\n",
    "# plt.title('Top 5 Outliers Identified by Isolation Forest')\n",
    "# plt.show()"
   ]
  },
  {
   "cell_type": "code",
   "execution_count": 9,
   "metadata": {},
   "outputs": [
    {
     "data": {
      "application/vnd.plotly.v1+json": {
       "config": {
        "plotlyServerURL": "https://plot.ly"
       },
       "data": [
        {
         "diagonal": {
          "visible": false
         },
         "dimensions": [
          {
           "axis": {
            "matches": true
           },
           "label": "PC 1",
           "values": [
            -45.34593828396978,
            -38.7550735023114,
            2.5883654699756606,
            166.09634271033912,
            -21.212640996682318,
            -73.65997956699867,
            -53.085877807701195,
            -18.80237987880959,
            -25.82825940411047,
            -35.44010939945444,
            16.008108017531704,
            -63.98583046749081,
            11.630770526221896,
            -73.02424080996381,
            -6.419063200193126,
            57.22100316090587,
            -38.679327363423035,
            -68.60812691555068,
            178.00833312644534,
            -78.7038755321478,
            -47.56723202874439,
            281.72965769230757,
            27.195608093532364,
            -51.36023363970815
           ]
          },
          {
           "axis": {
            "matches": true
           },
           "label": "PC 2",
           "values": [
            -1.3504851754737581,
            -1.268389895298446,
            -3.8719516230869466,
            -0.12279776251399484,
            4.206552755574301,
            -7.096936824058061,
            1.0070860194216544,
            13.341127358333123,
            -0.07174918417248251,
            2.6497567464610405,
            7.401171664407152,
            -0.2713712389107818,
            -1.3164265658730854,
            0.2857935081520006,
            -2.4436709825995275,
            -2.9515929906037215,
            -0.43576821398509913,
            0.9550279599337311,
            -0.1714207128797268,
            -4.600838871882929,
            5.597382999285767,
            -1.2784602310841646,
            -1.7927826405934144,
            -6.3992560985526366
           ]
          },
          {
           "axis": {
            "matches": true
           },
           "label": "PC 3",
           "values": [
            3.5538932640420895,
            1.3068917344554418,
            2.168861425794404,
            -1.1569748978384433,
            1.035203736061011,
            -6.921491326459056,
            0.9703018431688785,
            -5.488382765382993,
            -0.5877719838669981,
            -0.38088686094876206,
            1.8075091791159783,
            0.9083402469666754,
            1.6695896796234895,
            -1.1498617963213373,
            1.5526943627438847,
            4.305969656090928,
            -1.4173213730887815,
            2.0467566647573,
            -1.9627739567584335,
            -4.458811935095768,
            2.2630012280384393,
            -1.4552767953156165,
            2.4519638776056176,
            -1.0614232073879237
           ]
          }
         ],
         "hovertemplate": "%{xaxis.title.text}=%{x}<br>%{yaxis.title.text}=%{y}<br>Type=%{marker.color}<extra></extra>",
         "legendgroup": "",
         "marker": {
          "color": [
           0,
           0,
           0,
           1,
           0,
           1,
           0,
           1,
           0,
           0,
           0,
           0,
           0,
           0,
           0,
           1,
           0,
           0,
           0,
           1,
           0,
           1,
           0,
           0
          ],
          "coloraxis": "coloraxis",
          "symbol": "circle"
         },
         "name": "",
         "showlegend": false,
         "type": "splom"
        }
       ],
       "layout": {
        "coloraxis": {
         "colorbar": {
          "title": {
           "text": "Type"
          }
         },
         "colorscale": [
          [
           0,
           "#0d0887"
          ],
          [
           0.1111111111111111,
           "#46039f"
          ],
          [
           0.2222222222222222,
           "#7201a8"
          ],
          [
           0.3333333333333333,
           "#9c179e"
          ],
          [
           0.4444444444444444,
           "#bd3786"
          ],
          [
           0.5555555555555556,
           "#d8576b"
          ],
          [
           0.6666666666666666,
           "#ed7953"
          ],
          [
           0.7777777777777778,
           "#fb9f3a"
          ],
          [
           0.8888888888888888,
           "#fdca26"
          ],
          [
           1,
           "#f0f921"
          ]
         ]
        },
        "dragmode": "select",
        "legend": {
         "tracegroupgap": 0
        },
        "template": {
         "data": {
          "bar": [
           {
            "error_x": {
             "color": "#2a3f5f"
            },
            "error_y": {
             "color": "#2a3f5f"
            },
            "marker": {
             "line": {
              "color": "#E5ECF6",
              "width": 0.5
             },
             "pattern": {
              "fillmode": "overlay",
              "size": 10,
              "solidity": 0.2
             }
            },
            "type": "bar"
           }
          ],
          "barpolar": [
           {
            "marker": {
             "line": {
              "color": "#E5ECF6",
              "width": 0.5
             },
             "pattern": {
              "fillmode": "overlay",
              "size": 10,
              "solidity": 0.2
             }
            },
            "type": "barpolar"
           }
          ],
          "carpet": [
           {
            "aaxis": {
             "endlinecolor": "#2a3f5f",
             "gridcolor": "white",
             "linecolor": "white",
             "minorgridcolor": "white",
             "startlinecolor": "#2a3f5f"
            },
            "baxis": {
             "endlinecolor": "#2a3f5f",
             "gridcolor": "white",
             "linecolor": "white",
             "minorgridcolor": "white",
             "startlinecolor": "#2a3f5f"
            },
            "type": "carpet"
           }
          ],
          "choropleth": [
           {
            "colorbar": {
             "outlinewidth": 0,
             "ticks": ""
            },
            "type": "choropleth"
           }
          ],
          "contour": [
           {
            "colorbar": {
             "outlinewidth": 0,
             "ticks": ""
            },
            "colorscale": [
             [
              0,
              "#0d0887"
             ],
             [
              0.1111111111111111,
              "#46039f"
             ],
             [
              0.2222222222222222,
              "#7201a8"
             ],
             [
              0.3333333333333333,
              "#9c179e"
             ],
             [
              0.4444444444444444,
              "#bd3786"
             ],
             [
              0.5555555555555556,
              "#d8576b"
             ],
             [
              0.6666666666666666,
              "#ed7953"
             ],
             [
              0.7777777777777778,
              "#fb9f3a"
             ],
             [
              0.8888888888888888,
              "#fdca26"
             ],
             [
              1,
              "#f0f921"
             ]
            ],
            "type": "contour"
           }
          ],
          "contourcarpet": [
           {
            "colorbar": {
             "outlinewidth": 0,
             "ticks": ""
            },
            "type": "contourcarpet"
           }
          ],
          "heatmap": [
           {
            "colorbar": {
             "outlinewidth": 0,
             "ticks": ""
            },
            "colorscale": [
             [
              0,
              "#0d0887"
             ],
             [
              0.1111111111111111,
              "#46039f"
             ],
             [
              0.2222222222222222,
              "#7201a8"
             ],
             [
              0.3333333333333333,
              "#9c179e"
             ],
             [
              0.4444444444444444,
              "#bd3786"
             ],
             [
              0.5555555555555556,
              "#d8576b"
             ],
             [
              0.6666666666666666,
              "#ed7953"
             ],
             [
              0.7777777777777778,
              "#fb9f3a"
             ],
             [
              0.8888888888888888,
              "#fdca26"
             ],
             [
              1,
              "#f0f921"
             ]
            ],
            "type": "heatmap"
           }
          ],
          "heatmapgl": [
           {
            "colorbar": {
             "outlinewidth": 0,
             "ticks": ""
            },
            "colorscale": [
             [
              0,
              "#0d0887"
             ],
             [
              0.1111111111111111,
              "#46039f"
             ],
             [
              0.2222222222222222,
              "#7201a8"
             ],
             [
              0.3333333333333333,
              "#9c179e"
             ],
             [
              0.4444444444444444,
              "#bd3786"
             ],
             [
              0.5555555555555556,
              "#d8576b"
             ],
             [
              0.6666666666666666,
              "#ed7953"
             ],
             [
              0.7777777777777778,
              "#fb9f3a"
             ],
             [
              0.8888888888888888,
              "#fdca26"
             ],
             [
              1,
              "#f0f921"
             ]
            ],
            "type": "heatmapgl"
           }
          ],
          "histogram": [
           {
            "marker": {
             "pattern": {
              "fillmode": "overlay",
              "size": 10,
              "solidity": 0.2
             }
            },
            "type": "histogram"
           }
          ],
          "histogram2d": [
           {
            "colorbar": {
             "outlinewidth": 0,
             "ticks": ""
            },
            "colorscale": [
             [
              0,
              "#0d0887"
             ],
             [
              0.1111111111111111,
              "#46039f"
             ],
             [
              0.2222222222222222,
              "#7201a8"
             ],
             [
              0.3333333333333333,
              "#9c179e"
             ],
             [
              0.4444444444444444,
              "#bd3786"
             ],
             [
              0.5555555555555556,
              "#d8576b"
             ],
             [
              0.6666666666666666,
              "#ed7953"
             ],
             [
              0.7777777777777778,
              "#fb9f3a"
             ],
             [
              0.8888888888888888,
              "#fdca26"
             ],
             [
              1,
              "#f0f921"
             ]
            ],
            "type": "histogram2d"
           }
          ],
          "histogram2dcontour": [
           {
            "colorbar": {
             "outlinewidth": 0,
             "ticks": ""
            },
            "colorscale": [
             [
              0,
              "#0d0887"
             ],
             [
              0.1111111111111111,
              "#46039f"
             ],
             [
              0.2222222222222222,
              "#7201a8"
             ],
             [
              0.3333333333333333,
              "#9c179e"
             ],
             [
              0.4444444444444444,
              "#bd3786"
             ],
             [
              0.5555555555555556,
              "#d8576b"
             ],
             [
              0.6666666666666666,
              "#ed7953"
             ],
             [
              0.7777777777777778,
              "#fb9f3a"
             ],
             [
              0.8888888888888888,
              "#fdca26"
             ],
             [
              1,
              "#f0f921"
             ]
            ],
            "type": "histogram2dcontour"
           }
          ],
          "mesh3d": [
           {
            "colorbar": {
             "outlinewidth": 0,
             "ticks": ""
            },
            "type": "mesh3d"
           }
          ],
          "parcoords": [
           {
            "line": {
             "colorbar": {
              "outlinewidth": 0,
              "ticks": ""
             }
            },
            "type": "parcoords"
           }
          ],
          "pie": [
           {
            "automargin": true,
            "type": "pie"
           }
          ],
          "scatter": [
           {
            "fillpattern": {
             "fillmode": "overlay",
             "size": 10,
             "solidity": 0.2
            },
            "type": "scatter"
           }
          ],
          "scatter3d": [
           {
            "line": {
             "colorbar": {
              "outlinewidth": 0,
              "ticks": ""
             }
            },
            "marker": {
             "colorbar": {
              "outlinewidth": 0,
              "ticks": ""
             }
            },
            "type": "scatter3d"
           }
          ],
          "scattercarpet": [
           {
            "marker": {
             "colorbar": {
              "outlinewidth": 0,
              "ticks": ""
             }
            },
            "type": "scattercarpet"
           }
          ],
          "scattergeo": [
           {
            "marker": {
             "colorbar": {
              "outlinewidth": 0,
              "ticks": ""
             }
            },
            "type": "scattergeo"
           }
          ],
          "scattergl": [
           {
            "marker": {
             "colorbar": {
              "outlinewidth": 0,
              "ticks": ""
             }
            },
            "type": "scattergl"
           }
          ],
          "scattermapbox": [
           {
            "marker": {
             "colorbar": {
              "outlinewidth": 0,
              "ticks": ""
             }
            },
            "type": "scattermapbox"
           }
          ],
          "scatterpolar": [
           {
            "marker": {
             "colorbar": {
              "outlinewidth": 0,
              "ticks": ""
             }
            },
            "type": "scatterpolar"
           }
          ],
          "scatterpolargl": [
           {
            "marker": {
             "colorbar": {
              "outlinewidth": 0,
              "ticks": ""
             }
            },
            "type": "scatterpolargl"
           }
          ],
          "scatterternary": [
           {
            "marker": {
             "colorbar": {
              "outlinewidth": 0,
              "ticks": ""
             }
            },
            "type": "scatterternary"
           }
          ],
          "surface": [
           {
            "colorbar": {
             "outlinewidth": 0,
             "ticks": ""
            },
            "colorscale": [
             [
              0,
              "#0d0887"
             ],
             [
              0.1111111111111111,
              "#46039f"
             ],
             [
              0.2222222222222222,
              "#7201a8"
             ],
             [
              0.3333333333333333,
              "#9c179e"
             ],
             [
              0.4444444444444444,
              "#bd3786"
             ],
             [
              0.5555555555555556,
              "#d8576b"
             ],
             [
              0.6666666666666666,
              "#ed7953"
             ],
             [
              0.7777777777777778,
              "#fb9f3a"
             ],
             [
              0.8888888888888888,
              "#fdca26"
             ],
             [
              1,
              "#f0f921"
             ]
            ],
            "type": "surface"
           }
          ],
          "table": [
           {
            "cells": {
             "fill": {
              "color": "#EBF0F8"
             },
             "line": {
              "color": "white"
             }
            },
            "header": {
             "fill": {
              "color": "#C8D4E3"
             },
             "line": {
              "color": "white"
             }
            },
            "type": "table"
           }
          ]
         },
         "layout": {
          "annotationdefaults": {
           "arrowcolor": "#2a3f5f",
           "arrowhead": 0,
           "arrowwidth": 1
          },
          "autotypenumbers": "strict",
          "coloraxis": {
           "colorbar": {
            "outlinewidth": 0,
            "ticks": ""
           }
          },
          "colorscale": {
           "diverging": [
            [
             0,
             "#8e0152"
            ],
            [
             0.1,
             "#c51b7d"
            ],
            [
             0.2,
             "#de77ae"
            ],
            [
             0.3,
             "#f1b6da"
            ],
            [
             0.4,
             "#fde0ef"
            ],
            [
             0.5,
             "#f7f7f7"
            ],
            [
             0.6,
             "#e6f5d0"
            ],
            [
             0.7,
             "#b8e186"
            ],
            [
             0.8,
             "#7fbc41"
            ],
            [
             0.9,
             "#4d9221"
            ],
            [
             1,
             "#276419"
            ]
           ],
           "sequential": [
            [
             0,
             "#0d0887"
            ],
            [
             0.1111111111111111,
             "#46039f"
            ],
            [
             0.2222222222222222,
             "#7201a8"
            ],
            [
             0.3333333333333333,
             "#9c179e"
            ],
            [
             0.4444444444444444,
             "#bd3786"
            ],
            [
             0.5555555555555556,
             "#d8576b"
            ],
            [
             0.6666666666666666,
             "#ed7953"
            ],
            [
             0.7777777777777778,
             "#fb9f3a"
            ],
            [
             0.8888888888888888,
             "#fdca26"
            ],
            [
             1,
             "#f0f921"
            ]
           ],
           "sequentialminus": [
            [
             0,
             "#0d0887"
            ],
            [
             0.1111111111111111,
             "#46039f"
            ],
            [
             0.2222222222222222,
             "#7201a8"
            ],
            [
             0.3333333333333333,
             "#9c179e"
            ],
            [
             0.4444444444444444,
             "#bd3786"
            ],
            [
             0.5555555555555556,
             "#d8576b"
            ],
            [
             0.6666666666666666,
             "#ed7953"
            ],
            [
             0.7777777777777778,
             "#fb9f3a"
            ],
            [
             0.8888888888888888,
             "#fdca26"
            ],
            [
             1,
             "#f0f921"
            ]
           ]
          },
          "colorway": [
           "#636efa",
           "#EF553B",
           "#00cc96",
           "#ab63fa",
           "#FFA15A",
           "#19d3f3",
           "#FF6692",
           "#B6E880",
           "#FF97FF",
           "#FECB52"
          ],
          "font": {
           "color": "#2a3f5f"
          },
          "geo": {
           "bgcolor": "white",
           "lakecolor": "white",
           "landcolor": "#E5ECF6",
           "showlakes": true,
           "showland": true,
           "subunitcolor": "white"
          },
          "hoverlabel": {
           "align": "left"
          },
          "hovermode": "closest",
          "mapbox": {
           "style": "light"
          },
          "paper_bgcolor": "white",
          "plot_bgcolor": "#E5ECF6",
          "polar": {
           "angularaxis": {
            "gridcolor": "white",
            "linecolor": "white",
            "ticks": ""
           },
           "bgcolor": "#E5ECF6",
           "radialaxis": {
            "gridcolor": "white",
            "linecolor": "white",
            "ticks": ""
           }
          },
          "scene": {
           "xaxis": {
            "backgroundcolor": "#E5ECF6",
            "gridcolor": "white",
            "gridwidth": 2,
            "linecolor": "white",
            "showbackground": true,
            "ticks": "",
            "zerolinecolor": "white"
           },
           "yaxis": {
            "backgroundcolor": "#E5ECF6",
            "gridcolor": "white",
            "gridwidth": 2,
            "linecolor": "white",
            "showbackground": true,
            "ticks": "",
            "zerolinecolor": "white"
           },
           "zaxis": {
            "backgroundcolor": "#E5ECF6",
            "gridcolor": "white",
            "gridwidth": 2,
            "linecolor": "white",
            "showbackground": true,
            "ticks": "",
            "zerolinecolor": "white"
           }
          },
          "shapedefaults": {
           "line": {
            "color": "#2a3f5f"
           }
          },
          "ternary": {
           "aaxis": {
            "gridcolor": "white",
            "linecolor": "white",
            "ticks": ""
           },
           "baxis": {
            "gridcolor": "white",
            "linecolor": "white",
            "ticks": ""
           },
           "bgcolor": "#E5ECF6",
           "caxis": {
            "gridcolor": "white",
            "linecolor": "white",
            "ticks": ""
           }
          },
          "title": {
           "x": 0.05
          },
          "xaxis": {
           "automargin": true,
           "gridcolor": "white",
           "linecolor": "white",
           "ticks": "",
           "title": {
            "standoff": 15
           },
           "zerolinecolor": "white",
           "zerolinewidth": 2
          },
          "yaxis": {
           "automargin": true,
           "gridcolor": "white",
           "linecolor": "white",
           "ticks": "",
           "title": {
            "standoff": 15
           },
           "zerolinecolor": "white",
           "zerolinewidth": 2
          }
         }
        },
        "title": {
         "text": "Total Explained Variance: 99.98%"
        }
       }
      }
     },
     "metadata": {},
     "output_type": "display_data"
    }
   ],
   "source": [
    "data['predictions'] = ifc.predict(X)\n",
    "data['predictions'] = np.where(data['predictions']==-1,1,0)\n",
    "\n",
    "n_components = 3\n",
    "pca = PCA(n_components=n_components)\n",
    "components = pca.fit_transform(data.iloc[:,2:].values.round(decimals=3))\n",
    "\n",
    "total_var = pca.explained_variance_ratio_.sum() * 100\n",
    "\n",
    "labels = {str(i): f\"PC {i+1}\" for i in range(n_components)}\n",
    "labels['color'] = 'Type'\n",
    "\n",
    "fig = px.scatter_matrix(\n",
    "    components,\n",
    "    color=data['predictions'],\n",
    "    dimensions=range(n_components),\n",
    "    labels=labels,\n",
    "    title=f'Total Explained Variance: {total_var:.2f}%',\n",
    ")\n",
    "fig.update_traces(diagonal_visible=False)\n",
    "fig.show()"
   ]
  },
  {
   "cell_type": "markdown",
   "metadata": {},
   "source": [
    "### PCA"
   ]
  },
  {
   "cell_type": "code",
   "execution_count": 25,
   "metadata": {},
   "outputs": [
    {
     "name": "stdout",
     "output_type": "stream",
     "text": [
      "   Corpus Type  Avg Word Length  Avg Sentence Length     TTR  MATTR     MTLD  \\\n",
      "7      vi  nat            3.498               29.835   1.749  0.732   94.751   \n",
      "21     fi  nat            7.874               11.969  20.409  0.841  394.346   \n",
      "\n",
      "    Morpheme TTR  Avg Segs Per Word  Avg Forms Per Stem  Char Dist Entr  \\\n",
      "7          0.274              1.344               1.453           4.855   \n",
      "21         0.088              2.008               5.037           4.144   \n",
      "\n",
      "    Word Dist Entr  Text Entr  Lex Entr  Rev Lex Entr  \n",
      "7            9.717      4.768    11.864        11.481  \n",
      "21          13.729      4.529     4.919         5.527  \n"
     ]
    },
    {
     "data": {
      "image/png": "[encoded data removed]",
      "text/plain": [
       "<Figure size 1000x600 with 1 Axes>"
      ]
     },
     "metadata": {},
     "output_type": "display_data"
    }
   ],
   "source": [
    "X = data.iloc[:,2:].values.round(decimals=3)\n",
    "\n",
    "scaler = StandardScaler()\n",
    "X_scaled = scaler.fit_transform(X)\n",
    "\n",
    "pca = PCA(n_components=2)\n",
    "X_pca = pca.fit_transform(X_scaled)\n",
    "\n",
    "distances = np.sum(X_pca**2, axis=1)\n",
    "\n",
    "threshold = np.percentile(distances, 95)\n",
    "\n",
    "anomalies = distances > threshold\n",
    "\n",
    "anomaly_indices = np.where(anomalies)[0]\n",
    "anomaly_data = data.iloc[anomaly_indices]\n",
    "print(anomaly_data)\n",
    "\n",
    "plt.figure(figsize=(10,6))\n",
    "plt.scatter(X_pca[:,0], X_pca[:,1], c='blue', label='Inliers')\n",
    "plt.scatter(X_pca[anomalies, 0], X_pca[anomalies, 1], c='red', label='Outliers')\n",
    "for i in anomaly_indices:\n",
    "    plt.text(X_pca[i, 0] + 0.02, X_pca[i, 1] + 0.02, data['Corpus'].iloc[i], fontsize=9, color='black',\n",
    "                ha='center', va='bottom', bbox=dict(facecolor='white', alpha=0.6))\n",
    "plt.title('Anomaly Detection With PCA')\n",
    "plt.xlabel('PC1')\n",
    "plt.ylabel('PC2')\n",
    "plt.legend()\n",
    "plt.savefig('./results/PCA_Anomaly_detection.png')\n",
    "plt.show()"
   ]
  },
  {
   "cell_type": "markdown",
   "metadata": {},
   "source": [
    "## Classification"
   ]
  },
  {
   "cell_type": "markdown",
   "metadata": {},
   "source": [
    "### Decision Tree"
   ]
  },
  {
   "cell_type": "code",
   "execution_count": 2,
   "metadata": {},
   "outputs": [
    {
     "name": "stdout",
     "output_type": "stream",
     "text": [
      "Fitting 24 folds for each of 144 candidates, totalling 3456 fits\n"
     ]
    },
    {
     "name": "stderr",
     "output_type": "stream",
     "text": [
      "/usr/local/lib/python3.9/site-packages/numpy/ma/core.py:2820: RuntimeWarning: invalid value encountered in cast\n",
      "  _data = np.array(data, dtype=dtype, copy=copy,\n"
     ]
    },
    {
     "name": "stdout",
     "output_type": "stream",
     "text": [
      "Best parameters:  {'criterion': 'gini', 'max_depth': None, 'min_samples_leaf': 1, 'min_samples_split': 2}\n"
     ]
    },
    {
     "data": {
      "image/png": "[encoded data removed]",
      "text/plain": [
       "<Figure size 2000x1000 with 1 Axes>"
      ]
     },
     "metadata": {},
     "output_type": "display_data"
    }
   ],
   "source": [
    "X, y = data.iloc[:,2:].values.round(decimals=3), data.iloc[:,1].map({'con':0, 'nat':1}).values\n",
    "\n",
    "param_grid = {\n",
    "    'criterion':  ['gini', 'entropy'],\n",
    "    'max_depth':  [None, 2, 4, 6, 8, 10, 20, 30],\n",
    "    'min_samples_split': [2, 5, 10],\n",
    "    'min_samples_leaf': [1, 2, 4]\n",
    "}\n",
    "\n",
    "# Try using F1 score (due to inbalanced data)\n",
    "grid_search = GridSearchCV(\n",
    "    estimator=tree.DecisionTreeClassifier(class_weight='balanced', random_state=42),\n",
    "    param_grid=param_grid,\n",
    "    cv=LeaveOneOut(),\n",
    "    scoring='f1_micro',\n",
    "    verbose=1,\n",
    ")\n",
    "\n",
    "grid_search.fit(X, y)\n",
    "print(\"Best parameters: \", grid_search.best_params_)\n",
    "\n",
    "# Best estimator fitted with best parameters\n",
    "best_tree = grid_search.best_estimator_\n",
    "\n",
    "plt.figure(figsize=(20, 10))\n",
    "tree.plot_tree(best_tree, filled=True, feature_names=['Avg Word Length', 'Avg Sentence Length', 'TTR', 'MATTR', 'Morpheme TTR',\t'Avg Segs Per Word', 'Avg Forms Per Stem', 'Char Entr', 'Word Entr', 'Text Entr', 'Lex Entr', 'Rev Lex Entr'], class_names=['con', 'nat'], rounded=True, fontsize=10)\n",
    "plt.savefig('./results/decisiontree.png')\n",
    "plt.show()"
   ]
  },
  {
   "cell_type": "code",
   "execution_count": 12,
   "metadata": {},
   "outputs": [],
   "source": [
    "# # Without class_weight='balanced'\n",
    "\n",
    "# X, y = data.iloc[:,2:].values.round(decimals=3), data.iloc[:,1].map({'con':0, 'nat':1}).values\n",
    "\n",
    "# param_grid = {\n",
    "#     'criterion':  ['gini', 'entropy'],\n",
    "#     'max_depth':  [None, 2, 4, 6, 8, 10, 20, 30],\n",
    "#     'min_samples_split': [2, 5, 10],\n",
    "#     'min_samples_leaf': [1, 2, 4]\n",
    "# }\n",
    "\n",
    "# # Try using F1 score (due to inbalanced data)\n",
    "# grid_search = GridSearchCV(\n",
    "#     estimator=tree.DecisionTreeClassifier(random_state=42),\n",
    "#     param_grid=param_grid,\n",
    "#     cv=LeaveOneOut(),\n",
    "#     scoring='f1_micro',\n",
    "#     verbose=1,\n",
    "# )\n",
    "\n",
    "# grid_search.fit(X, y)\n",
    "# print(\"Best parameters: \", grid_search.best_params_)\n",
    "\n",
    "# # Best estimator fitted with best parameters\n",
    "# best_tree = grid_search.best_estimator_\n",
    "\n",
    "# plt.figure(figsize=(20, 10))\n",
    "# tree.plot_tree(best_tree, filled=True, feature_names=['Avg Word Length', 'Avg Sentence Length', 'TTR', 'MATTR', 'Morpheme TTR',\t'Avg Segs Per Word', 'Avg Forms Per Stem', 'Char Entr', 'Word Entr', 'Text Entr', 'Lex Entr', 'Rev Lex Entr'], class_names=['con', 'nat'], rounded=True, fontsize=10)\n",
    "# plt.show()"
   ]
  },
  {
   "cell_type": "markdown",
   "metadata": {},
   "source": [
    "### Random Forest"
   ]
  },
  {
   "cell_type": "code",
   "execution_count": 15,
   "metadata": {},
   "outputs": [
    {
     "name": "stdout",
     "output_type": "stream",
     "text": [
      "Fitting 24 folds for each of 4320 candidates, totalling 103680 fits\n"
     ]
    },
    {
     "ename": "KeyboardInterrupt",
     "evalue": "",
     "output_type": "error",
     "traceback": [
      "\u001b[0;31m---------------------------------------------------------------------------\u001b[0m",
      "\u001b[0;31mKeyboardInterrupt\u001b[0m                         Traceback (most recent call last)",
      "Cell \u001b[0;32mIn[15], line 26\u001b[0m\n\u001b[1;32m      7\u001b[0m param_grid \u001b[38;5;241m=\u001b[39m {\n\u001b[1;32m      8\u001b[0m     \u001b[38;5;124m'\u001b[39m\u001b[38;5;124mn_estimators\u001b[39m\u001b[38;5;124m'\u001b[39m: [\u001b[38;5;241m5\u001b[39m, \u001b[38;5;241m10\u001b[39m, \u001b[38;5;241m15\u001b[39m, \u001b[38;5;241m20\u001b[39m, \u001b[38;5;241m50\u001b[39m, \u001b[38;5;241m100\u001b[39m, \u001b[38;5;241m200\u001b[39m, \u001b[38;5;241m300\u001b[39m],\n\u001b[1;32m      9\u001b[0m     \u001b[38;5;124m'\u001b[39m\u001b[38;5;124mmax_features\u001b[39m\u001b[38;5;124m'\u001b[39m: [\u001b[38;5;124m'\u001b[39m\u001b[38;5;124mauto\u001b[39m\u001b[38;5;124m'\u001b[39m, \u001b[38;5;124m'\u001b[39m\u001b[38;5;124msqrt\u001b[39m\u001b[38;5;124m'\u001b[39m, \u001b[38;5;124m'\u001b[39m\u001b[38;5;124mlog2\u001b[39m\u001b[38;5;124m'\u001b[39m],\n\u001b[0;32m   (...)\u001b[0m\n\u001b[1;32m     14\u001b[0m     \u001b[38;5;124m'\u001b[39m\u001b[38;5;124mbootstrap\u001b[39m\u001b[38;5;124m'\u001b[39m: [\u001b[38;5;28;01mTrue\u001b[39;00m, \u001b[38;5;28;01mFalse\u001b[39;00m]\n\u001b[1;32m     15\u001b[0m }\n\u001b[1;32m     17\u001b[0m grid_search \u001b[38;5;241m=\u001b[39m GridSearchCV(\n\u001b[1;32m     18\u001b[0m     estimator\u001b[38;5;241m=\u001b[39mrf,\n\u001b[1;32m     19\u001b[0m     param_grid\u001b[38;5;241m=\u001b[39mparam_grid,\n\u001b[0;32m   (...)\u001b[0m\n\u001b[1;32m     23\u001b[0m     verbose\u001b[38;5;241m=\u001b[39m\u001b[38;5;241m1\u001b[39m\n\u001b[1;32m     24\u001b[0m )\n\u001b[0;32m---> 26\u001b[0m \u001b[43mgrid_search\u001b[49m\u001b[38;5;241;43m.\u001b[39;49m\u001b[43mfit\u001b[49m\u001b[43m(\u001b[49m\u001b[43mX\u001b[49m\u001b[43m,\u001b[49m\u001b[43m \u001b[49m\u001b[43my\u001b[49m\u001b[43m)\u001b[49m\n\u001b[1;32m     28\u001b[0m \u001b[38;5;28mprint\u001b[39m(\u001b[38;5;124m\"\u001b[39m\u001b[38;5;124mBest parameters: \u001b[39m\u001b[38;5;124m\"\u001b[39m, grid_search\u001b[38;5;241m.\u001b[39mbest_params_)\n\u001b[1;32m     29\u001b[0m \u001b[38;5;28mprint\u001b[39m(\u001b[38;5;124m\"\u001b[39m\u001b[38;5;124mBest score: \u001b[39m\u001b[38;5;124m\"\u001b[39m, grid_search\u001b[38;5;241m.\u001b[39mbest_score_)\n",
      "File \u001b[0;32m/usr/local/lib/python3.9/site-packages/sklearn/base.py:1473\u001b[0m, in \u001b[0;36m_fit_context.<locals>.decorator.<locals>.wrapper\u001b[0;34m(estimator, *args, **kwargs)\u001b[0m\n\u001b[1;32m   1466\u001b[0m     estimator\u001b[38;5;241m.\u001b[39m_validate_params()\n\u001b[1;32m   1468\u001b[0m \u001b[38;5;28;01mwith\u001b[39;00m config_context(\n\u001b[1;32m   1469\u001b[0m     skip_parameter_validation\u001b[38;5;241m=\u001b[39m(\n\u001b[1;32m   1470\u001b[0m         prefer_skip_nested_validation \u001b[38;5;129;01mor\u001b[39;00m global_skip_validation\n\u001b[1;32m   1471\u001b[0m     )\n\u001b[1;32m   1472\u001b[0m ):\n\u001b[0;32m-> 1473\u001b[0m     \u001b[38;5;28;01mreturn\u001b[39;00m \u001b[43mfit_method\u001b[49m\u001b[43m(\u001b[49m\u001b[43mestimator\u001b[49m\u001b[43m,\u001b[49m\u001b[43m \u001b[49m\u001b[38;5;241;43m*\u001b[39;49m\u001b[43margs\u001b[49m\u001b[43m,\u001b[49m\u001b[43m \u001b[49m\u001b[38;5;241;43m*\u001b[39;49m\u001b[38;5;241;43m*\u001b[39;49m\u001b[43mkwargs\u001b[49m\u001b[43m)\u001b[49m\n",
      "File \u001b[0;32m/usr/local/lib/python3.9/site-packages/sklearn/model_selection/_search.py:1018\u001b[0m, in \u001b[0;36mBaseSearchCV.fit\u001b[0;34m(self, X, y, **params)\u001b[0m\n\u001b[1;32m   1012\u001b[0m     results \u001b[38;5;241m=\u001b[39m \u001b[38;5;28mself\u001b[39m\u001b[38;5;241m.\u001b[39m_format_results(\n\u001b[1;32m   1013\u001b[0m         all_candidate_params, n_splits, all_out, all_more_results\n\u001b[1;32m   1014\u001b[0m     )\n\u001b[1;32m   1016\u001b[0m     \u001b[38;5;28;01mreturn\u001b[39;00m results\n\u001b[0;32m-> 1018\u001b[0m \u001b[38;5;28;43mself\u001b[39;49m\u001b[38;5;241;43m.\u001b[39;49m\u001b[43m_run_search\u001b[49m\u001b[43m(\u001b[49m\u001b[43mevaluate_candidates\u001b[49m\u001b[43m)\u001b[49m\n\u001b[1;32m   1020\u001b[0m \u001b[38;5;66;03m# multimetric is determined here because in the case of a callable\u001b[39;00m\n\u001b[1;32m   1021\u001b[0m \u001b[38;5;66;03m# self.scoring the return type is only known after calling\u001b[39;00m\n\u001b[1;32m   1022\u001b[0m first_test_score \u001b[38;5;241m=\u001b[39m all_out[\u001b[38;5;241m0\u001b[39m][\u001b[38;5;124m\"\u001b[39m\u001b[38;5;124mtest_scores\u001b[39m\u001b[38;5;124m\"\u001b[39m]\n",
      "File \u001b[0;32m/usr/local/lib/python3.9/site-packages/sklearn/model_selection/_search.py:1572\u001b[0m, in \u001b[0;36mGridSearchCV._run_search\u001b[0;34m(self, evaluate_candidates)\u001b[0m\n\u001b[1;32m   1570\u001b[0m \u001b[38;5;28;01mdef\u001b[39;00m \u001b[38;5;21m_run_search\u001b[39m(\u001b[38;5;28mself\u001b[39m, evaluate_candidates):\n\u001b[1;32m   1571\u001b[0m \u001b[38;5;250m    \u001b[39m\u001b[38;5;124;03m\"\"\"Search all candidates in param_grid\"\"\"\u001b[39;00m\n\u001b[0;32m-> 1572\u001b[0m     \u001b[43mevaluate_candidates\u001b[49m\u001b[43m(\u001b[49m\u001b[43mParameterGrid\u001b[49m\u001b[43m(\u001b[49m\u001b[38;5;28;43mself\u001b[39;49m\u001b[38;5;241;43m.\u001b[39;49m\u001b[43mparam_grid\u001b[49m\u001b[43m)\u001b[49m\u001b[43m)\u001b[49m\n",
      "File \u001b[0;32m/usr/local/lib/python3.9/site-packages/sklearn/model_selection/_search.py:964\u001b[0m, in \u001b[0;36mBaseSearchCV.fit.<locals>.evaluate_candidates\u001b[0;34m(candidate_params, cv, more_results)\u001b[0m\n\u001b[1;32m    956\u001b[0m \u001b[38;5;28;01mif\u001b[39;00m \u001b[38;5;28mself\u001b[39m\u001b[38;5;241m.\u001b[39mverbose \u001b[38;5;241m>\u001b[39m \u001b[38;5;241m0\u001b[39m:\n\u001b[1;32m    957\u001b[0m     \u001b[38;5;28mprint\u001b[39m(\n\u001b[1;32m    958\u001b[0m         \u001b[38;5;124m\"\u001b[39m\u001b[38;5;124mFitting \u001b[39m\u001b[38;5;132;01m{0}\u001b[39;00m\u001b[38;5;124m folds for each of \u001b[39m\u001b[38;5;132;01m{1}\u001b[39;00m\u001b[38;5;124m candidates,\u001b[39m\u001b[38;5;124m\"\u001b[39m\n\u001b[1;32m    959\u001b[0m         \u001b[38;5;124m\"\u001b[39m\u001b[38;5;124m totalling \u001b[39m\u001b[38;5;132;01m{2}\u001b[39;00m\u001b[38;5;124m fits\u001b[39m\u001b[38;5;124m\"\u001b[39m\u001b[38;5;241m.\u001b[39mformat(\n\u001b[1;32m    960\u001b[0m             n_splits, n_candidates, n_candidates \u001b[38;5;241m*\u001b[39m n_splits\n\u001b[1;32m    961\u001b[0m         )\n\u001b[1;32m    962\u001b[0m     )\n\u001b[0;32m--> 964\u001b[0m out \u001b[38;5;241m=\u001b[39m \u001b[43mparallel\u001b[49m\u001b[43m(\u001b[49m\n\u001b[1;32m    965\u001b[0m \u001b[43m    \u001b[49m\u001b[43mdelayed\u001b[49m\u001b[43m(\u001b[49m\u001b[43m_fit_and_score\u001b[49m\u001b[43m)\u001b[49m\u001b[43m(\u001b[49m\n\u001b[1;32m    966\u001b[0m \u001b[43m        \u001b[49m\u001b[43mclone\u001b[49m\u001b[43m(\u001b[49m\u001b[43mbase_estimator\u001b[49m\u001b[43m)\u001b[49m\u001b[43m,\u001b[49m\n\u001b[1;32m    967\u001b[0m \u001b[43m        \u001b[49m\u001b[43mX\u001b[49m\u001b[43m,\u001b[49m\n\u001b[1;32m    968\u001b[0m \u001b[43m        \u001b[49m\u001b[43my\u001b[49m\u001b[43m,\u001b[49m\n\u001b[1;32m    969\u001b[0m \u001b[43m        \u001b[49m\u001b[43mtrain\u001b[49m\u001b[38;5;241;43m=\u001b[39;49m\u001b[43mtrain\u001b[49m\u001b[43m,\u001b[49m\n\u001b[1;32m    970\u001b[0m \u001b[43m        \u001b[49m\u001b[43mtest\u001b[49m\u001b[38;5;241;43m=\u001b[39;49m\u001b[43mtest\u001b[49m\u001b[43m,\u001b[49m\n\u001b[1;32m    971\u001b[0m \u001b[43m        \u001b[49m\u001b[43mparameters\u001b[49m\u001b[38;5;241;43m=\u001b[39;49m\u001b[43mparameters\u001b[49m\u001b[43m,\u001b[49m\n\u001b[1;32m    972\u001b[0m \u001b[43m        \u001b[49m\u001b[43msplit_progress\u001b[49m\u001b[38;5;241;43m=\u001b[39;49m\u001b[43m(\u001b[49m\u001b[43msplit_idx\u001b[49m\u001b[43m,\u001b[49m\u001b[43m \u001b[49m\u001b[43mn_splits\u001b[49m\u001b[43m)\u001b[49m\u001b[43m,\u001b[49m\n\u001b[1;32m    973\u001b[0m \u001b[43m        \u001b[49m\u001b[43mcandidate_progress\u001b[49m\u001b[38;5;241;43m=\u001b[39;49m\u001b[43m(\u001b[49m\u001b[43mcand_idx\u001b[49m\u001b[43m,\u001b[49m\u001b[43m \u001b[49m\u001b[43mn_candidates\u001b[49m\u001b[43m)\u001b[49m\u001b[43m,\u001b[49m\n\u001b[1;32m    974\u001b[0m \u001b[43m        \u001b[49m\u001b[38;5;241;43m*\u001b[39;49m\u001b[38;5;241;43m*\u001b[39;49m\u001b[43mfit_and_score_kwargs\u001b[49m\u001b[43m,\u001b[49m\n\u001b[1;32m    975\u001b[0m \u001b[43m    \u001b[49m\u001b[43m)\u001b[49m\n\u001b[1;32m    976\u001b[0m \u001b[43m    \u001b[49m\u001b[38;5;28;43;01mfor\u001b[39;49;00m\u001b[43m \u001b[49m\u001b[43m(\u001b[49m\u001b[43mcand_idx\u001b[49m\u001b[43m,\u001b[49m\u001b[43m \u001b[49m\u001b[43mparameters\u001b[49m\u001b[43m)\u001b[49m\u001b[43m,\u001b[49m\u001b[43m \u001b[49m\u001b[43m(\u001b[49m\u001b[43msplit_idx\u001b[49m\u001b[43m,\u001b[49m\u001b[43m \u001b[49m\u001b[43m(\u001b[49m\u001b[43mtrain\u001b[49m\u001b[43m,\u001b[49m\u001b[43m \u001b[49m\u001b[43mtest\u001b[49m\u001b[43m)\u001b[49m\u001b[43m)\u001b[49m\u001b[43m \u001b[49m\u001b[38;5;129;43;01min\u001b[39;49;00m\u001b[43m \u001b[49m\u001b[43mproduct\u001b[49m\u001b[43m(\u001b[49m\n\u001b[1;32m    977\u001b[0m \u001b[43m        \u001b[49m\u001b[38;5;28;43menumerate\u001b[39;49m\u001b[43m(\u001b[49m\u001b[43mcandidate_params\u001b[49m\u001b[43m)\u001b[49m\u001b[43m,\u001b[49m\n\u001b[1;32m    978\u001b[0m \u001b[43m        \u001b[49m\u001b[38;5;28;43menumerate\u001b[39;49m\u001b[43m(\u001b[49m\u001b[43mcv\u001b[49m\u001b[38;5;241;43m.\u001b[39;49m\u001b[43msplit\u001b[49m\u001b[43m(\u001b[49m\u001b[43mX\u001b[49m\u001b[43m,\u001b[49m\u001b[43m \u001b[49m\u001b[43my\u001b[49m\u001b[43m,\u001b[49m\u001b[43m \u001b[49m\u001b[38;5;241;43m*\u001b[39;49m\u001b[38;5;241;43m*\u001b[39;49m\u001b[43mrouted_params\u001b[49m\u001b[38;5;241;43m.\u001b[39;49m\u001b[43msplitter\u001b[49m\u001b[38;5;241;43m.\u001b[39;49m\u001b[43msplit\u001b[49m\u001b[43m)\u001b[49m\u001b[43m)\u001b[49m\u001b[43m,\u001b[49m\n\u001b[1;32m    979\u001b[0m \u001b[43m    \u001b[49m\u001b[43m)\u001b[49m\n\u001b[1;32m    980\u001b[0m \u001b[43m\u001b[49m\u001b[43m)\u001b[49m\n\u001b[1;32m    982\u001b[0m \u001b[38;5;28;01mif\u001b[39;00m \u001b[38;5;28mlen\u001b[39m(out) \u001b[38;5;241m<\u001b[39m \u001b[38;5;241m1\u001b[39m:\n\u001b[1;32m    983\u001b[0m     \u001b[38;5;28;01mraise\u001b[39;00m \u001b[38;5;167;01mValueError\u001b[39;00m(\n\u001b[1;32m    984\u001b[0m         \u001b[38;5;124m\"\u001b[39m\u001b[38;5;124mNo fits were performed. \u001b[39m\u001b[38;5;124m\"\u001b[39m\n\u001b[1;32m    985\u001b[0m         \u001b[38;5;124m\"\u001b[39m\u001b[38;5;124mWas the CV iterator empty? \u001b[39m\u001b[38;5;124m\"\u001b[39m\n\u001b[1;32m    986\u001b[0m         \u001b[38;5;124m\"\u001b[39m\u001b[38;5;124mWere there no candidates?\u001b[39m\u001b[38;5;124m\"\u001b[39m\n\u001b[1;32m    987\u001b[0m     )\n",
      "File \u001b[0;32m/usr/local/lib/python3.9/site-packages/sklearn/utils/parallel.py:74\u001b[0m, in \u001b[0;36mParallel.__call__\u001b[0;34m(self, iterable)\u001b[0m\n\u001b[1;32m     69\u001b[0m config \u001b[38;5;241m=\u001b[39m get_config()\n\u001b[1;32m     70\u001b[0m iterable_with_config \u001b[38;5;241m=\u001b[39m (\n\u001b[1;32m     71\u001b[0m     (_with_config(delayed_func, config), args, kwargs)\n\u001b[1;32m     72\u001b[0m     \u001b[38;5;28;01mfor\u001b[39;00m delayed_func, args, kwargs \u001b[38;5;129;01min\u001b[39;00m iterable\n\u001b[1;32m     73\u001b[0m )\n\u001b[0;32m---> 74\u001b[0m \u001b[38;5;28;01mreturn\u001b[39;00m \u001b[38;5;28;43msuper\u001b[39;49m\u001b[43m(\u001b[49m\u001b[43m)\u001b[49m\u001b[38;5;241;43m.\u001b[39;49m\u001b[38;5;21;43m__call__\u001b[39;49m\u001b[43m(\u001b[49m\u001b[43miterable_with_config\u001b[49m\u001b[43m)\u001b[49m\n",
      "File \u001b[0;32m/usr/local/lib/python3.9/site-packages/joblib/parallel.py:1098\u001b[0m, in \u001b[0;36mParallel.__call__\u001b[0;34m(self, iterable)\u001b[0m\n\u001b[1;32m   1095\u001b[0m     \u001b[38;5;28mself\u001b[39m\u001b[38;5;241m.\u001b[39m_iterating \u001b[38;5;241m=\u001b[39m \u001b[38;5;28;01mFalse\u001b[39;00m\n\u001b[1;32m   1097\u001b[0m \u001b[38;5;28;01mwith\u001b[39;00m \u001b[38;5;28mself\u001b[39m\u001b[38;5;241m.\u001b[39m_backend\u001b[38;5;241m.\u001b[39mretrieval_context():\n\u001b[0;32m-> 1098\u001b[0m     \u001b[38;5;28;43mself\u001b[39;49m\u001b[38;5;241;43m.\u001b[39;49m\u001b[43mretrieve\u001b[49m\u001b[43m(\u001b[49m\u001b[43m)\u001b[49m\n\u001b[1;32m   1099\u001b[0m \u001b[38;5;66;03m# Make sure that we get a last message telling us we are done\u001b[39;00m\n\u001b[1;32m   1100\u001b[0m elapsed_time \u001b[38;5;241m=\u001b[39m time\u001b[38;5;241m.\u001b[39mtime() \u001b[38;5;241m-\u001b[39m \u001b[38;5;28mself\u001b[39m\u001b[38;5;241m.\u001b[39m_start_time\n",
      "File \u001b[0;32m/usr/local/lib/python3.9/site-packages/joblib/parallel.py:975\u001b[0m, in \u001b[0;36mParallel.retrieve\u001b[0;34m(self)\u001b[0m\n\u001b[1;32m    973\u001b[0m \u001b[38;5;28;01mtry\u001b[39;00m:\n\u001b[1;32m    974\u001b[0m     \u001b[38;5;28;01mif\u001b[39;00m \u001b[38;5;28mgetattr\u001b[39m(\u001b[38;5;28mself\u001b[39m\u001b[38;5;241m.\u001b[39m_backend, \u001b[38;5;124m'\u001b[39m\u001b[38;5;124msupports_timeout\u001b[39m\u001b[38;5;124m'\u001b[39m, \u001b[38;5;28;01mFalse\u001b[39;00m):\n\u001b[0;32m--> 975\u001b[0m         \u001b[38;5;28mself\u001b[39m\u001b[38;5;241m.\u001b[39m_output\u001b[38;5;241m.\u001b[39mextend(\u001b[43mjob\u001b[49m\u001b[38;5;241;43m.\u001b[39;49m\u001b[43mget\u001b[49m\u001b[43m(\u001b[49m\u001b[43mtimeout\u001b[49m\u001b[38;5;241;43m=\u001b[39;49m\u001b[38;5;28;43mself\u001b[39;49m\u001b[38;5;241;43m.\u001b[39;49m\u001b[43mtimeout\u001b[49m\u001b[43m)\u001b[49m)\n\u001b[1;32m    976\u001b[0m     \u001b[38;5;28;01melse\u001b[39;00m:\n\u001b[1;32m    977\u001b[0m         \u001b[38;5;28mself\u001b[39m\u001b[38;5;241m.\u001b[39m_output\u001b[38;5;241m.\u001b[39mextend(job\u001b[38;5;241m.\u001b[39mget())\n",
      "File \u001b[0;32m/usr/local/lib/python3.9/site-packages/joblib/_parallel_backends.py:567\u001b[0m, in \u001b[0;36mLokyBackend.wrap_future_result\u001b[0;34m(future, timeout)\u001b[0m\n\u001b[1;32m    564\u001b[0m \u001b[38;5;250m\u001b[39m\u001b[38;5;124;03m\"\"\"Wrapper for Future.result to implement the same behaviour as\u001b[39;00m\n\u001b[1;32m    565\u001b[0m \u001b[38;5;124;03mAsyncResults.get from multiprocessing.\"\"\"\u001b[39;00m\n\u001b[1;32m    566\u001b[0m \u001b[38;5;28;01mtry\u001b[39;00m:\n\u001b[0;32m--> 567\u001b[0m     \u001b[38;5;28;01mreturn\u001b[39;00m \u001b[43mfuture\u001b[49m\u001b[38;5;241;43m.\u001b[39;49m\u001b[43mresult\u001b[49m\u001b[43m(\u001b[49m\u001b[43mtimeout\u001b[49m\u001b[38;5;241;43m=\u001b[39;49m\u001b[43mtimeout\u001b[49m\u001b[43m)\u001b[49m\n\u001b[1;32m    568\u001b[0m \u001b[38;5;28;01mexcept\u001b[39;00m CfTimeoutError \u001b[38;5;28;01mas\u001b[39;00m e:\n\u001b[1;32m    569\u001b[0m     \u001b[38;5;28;01mraise\u001b[39;00m \u001b[38;5;167;01mTimeoutError\u001b[39;00m \u001b[38;5;28;01mfrom\u001b[39;00m \u001b[38;5;21;01me\u001b[39;00m\n",
      "File \u001b[0;32m/usr/local/Cellar/python@3.9/3.9.19/Frameworks/Python.framework/Versions/3.9/lib/python3.9/concurrent/futures/_base.py:441\u001b[0m, in \u001b[0;36mFuture.result\u001b[0;34m(self, timeout)\u001b[0m\n\u001b[1;32m    438\u001b[0m \u001b[38;5;28;01melif\u001b[39;00m \u001b[38;5;28mself\u001b[39m\u001b[38;5;241m.\u001b[39m_state \u001b[38;5;241m==\u001b[39m FINISHED:\n\u001b[1;32m    439\u001b[0m     \u001b[38;5;28;01mreturn\u001b[39;00m \u001b[38;5;28mself\u001b[39m\u001b[38;5;241m.\u001b[39m__get_result()\n\u001b[0;32m--> 441\u001b[0m \u001b[38;5;28;43mself\u001b[39;49m\u001b[38;5;241;43m.\u001b[39;49m\u001b[43m_condition\u001b[49m\u001b[38;5;241;43m.\u001b[39;49m\u001b[43mwait\u001b[49m\u001b[43m(\u001b[49m\u001b[43mtimeout\u001b[49m\u001b[43m)\u001b[49m\n\u001b[1;32m    443\u001b[0m \u001b[38;5;28;01mif\u001b[39;00m \u001b[38;5;28mself\u001b[39m\u001b[38;5;241m.\u001b[39m_state \u001b[38;5;129;01min\u001b[39;00m [CANCELLED, CANCELLED_AND_NOTIFIED]:\n\u001b[1;32m    444\u001b[0m     \u001b[38;5;28;01mraise\u001b[39;00m CancelledError()\n",
      "File \u001b[0;32m/usr/local/Cellar/python@3.9/3.9.19/Frameworks/Python.framework/Versions/3.9/lib/python3.9/threading.py:312\u001b[0m, in \u001b[0;36mCondition.wait\u001b[0;34m(self, timeout)\u001b[0m\n\u001b[1;32m    310\u001b[0m \u001b[38;5;28;01mtry\u001b[39;00m:    \u001b[38;5;66;03m# restore state no matter what (e.g., KeyboardInterrupt)\u001b[39;00m\n\u001b[1;32m    311\u001b[0m     \u001b[38;5;28;01mif\u001b[39;00m timeout \u001b[38;5;129;01mis\u001b[39;00m \u001b[38;5;28;01mNone\u001b[39;00m:\n\u001b[0;32m--> 312\u001b[0m         \u001b[43mwaiter\u001b[49m\u001b[38;5;241;43m.\u001b[39;49m\u001b[43macquire\u001b[49m\u001b[43m(\u001b[49m\u001b[43m)\u001b[49m\n\u001b[1;32m    313\u001b[0m         gotit \u001b[38;5;241m=\u001b[39m \u001b[38;5;28;01mTrue\u001b[39;00m\n\u001b[1;32m    314\u001b[0m     \u001b[38;5;28;01melse\u001b[39;00m:\n",
      "\u001b[0;31mKeyboardInterrupt\u001b[0m: "
     ]
    }
   ],
   "source": [
    "# Using LeaveOneOut Cross-Validation\n",
    "\n",
    "X, y = data.iloc[:,2:].values.round(decimals=3), data.iloc[:,1].map({'con':0, 'nat':1}).values\n",
    "loo = LeaveOneOut()\n",
    "rf = RandomForestClassifier(class_weight='balanced', random_state=42)\n",
    "\n",
    "param_grid = {\n",
    "    'n_estimators': [5, 10, 15, 20, 50, 100, 200, 300],\n",
    "    'max_features': ['auto', 'sqrt', 'log2'],\n",
    "    'max_depth': [None, 4, 6, 8, 10],\n",
    "    'min_samples_split': [2, 5, 10],\n",
    "    'min_samples_leaf': [1, 2, 4],\n",
    "    'criterion': ['gini', 'entropy'],\n",
    "    'bootstrap': [True, False]\n",
    "}\n",
    "\n",
    "grid_search = GridSearchCV(\n",
    "    estimator=rf,\n",
    "    param_grid=param_grid,\n",
    "    cv=loo,\n",
    "    scoring='f1_micro',\n",
    "    n_jobs=-1,\n",
    "    verbose=1\n",
    ")\n",
    "\n",
    "grid_search.fit(X, y)\n",
    "\n",
    "print(\"Best parameters: \", grid_search.best_params_)\n",
    "print(\"Best score: \", grid_search.best_score_)\n",
    "\n",
    "best_rf = grid_search.best_estimator_\n",
    "\n",
    "# Store predictions and true labels\n",
    "y_pred = np.zeros_like(y)\n",
    "y_true = np.zeros_like(y)\n",
    "\n",
    "for train_index, test_index in loo.split(X):\n",
    "    X_train, X_test = X[train_index], X[test_index]\n",
    "    y_train, y_test = y[train_index], y[test_index]\n",
    "    \n",
    "    best_rf.fit(X_train, y_train)\n",
    "\n",
    "    y_pred[test_index] = best_rf.predict(X_test)\n",
    "    y_true[test_index] = y_test\n",
    "    \n",
    "report = classification_report(y_true, y_pred, target_names=['con', 'nat'])\n",
    "print(report)\n",
    "\n",
    "# Confusion Matrix for Finetuned Random Forest's Performance\n",
    "cm = confusion_matrix(y_true, y_pred)\n",
    "plt.figure(figsize=(6, 4))\n",
    "sns.heatmap(cm, annot=True, fmt=\"d\", cmap=\"Blues\", xticklabels=['con', 'nat'], yticklabels=['con', 'nat'])\n",
    "\n",
    "plt.xlabel('Predicted Labels')\n",
    "plt.ylabel('True Labels')\n",
    "plt.title('Confusion Matrix of Finetuned Random Forest')\n",
    "plt.savefig('./results/RF_predictions_confusion_matrix')\n",
    "plt.show()"
   ]
  },
  {
   "cell_type": "code",
   "execution_count": 7,
   "metadata": {},
   "outputs": [
    {
     "name": "stdout",
     "output_type": "stream",
     "text": [
      "Fitting 24 folds for each of 432 candidates, totalling 10368 fits\n"
     ]
    },
    {
     "name": "stderr",
     "output_type": "stream",
     "text": [
      "/usr/local/lib/python3.9/site-packages/numpy/ma/core.py:2820: RuntimeWarning: invalid value encountered in cast\n",
      "  _data = np.array(data, dtype=dtype, copy=copy,\n"
     ]
    },
    {
     "name": "stdout",
     "output_type": "stream",
     "text": [
      "Best parameters:  {'bootstrap': True, 'max_depth': None, 'min_samples_leaf': 2, 'min_samples_split': 2, 'n_estimators': 300}\n",
      "Best score:  0.875\n",
      "Features sorted by their score for estimator 0:\n",
      "                     importance\n",
      "MATTR                  0.200938\n",
      "Word Dist Entr         0.157249\n",
      "Avg Word Length        0.122036\n",
      "Text Entr              0.104229\n",
      "Lex Entr               0.103389\n",
      "Rev Lex Entr           0.077027\n",
      "Avg Sentence Length    0.066737\n",
      "TTR                    0.065556\n",
      "Avg Forms Per Stem     0.033322\n",
      "Char Dist Entr         0.030783\n",
      "Avg Segs Per Word      0.026797\n",
      "Morpheme TTR           0.011938\n",
      "Features sorted by their score for estimator 1:\n",
      "                     importance\n",
      "MATTR                  0.224523\n",
      "Word Dist Entr         0.143148\n",
      "Text Entr              0.112849\n",
      "Avg Word Length        0.103330\n",
      "Avg Sentence Length    0.088154\n",
      "Rev Lex Entr           0.083854\n",
      "Lex Entr               0.078720\n",
      "TTR                    0.055624\n",
      "Char Dist Entr         0.037355\n",
      "Avg Forms Per Stem     0.029517\n",
      "Avg Segs Per Word      0.023040\n",
      "Morpheme TTR           0.019886\n",
      "Features sorted by their score for estimator 2:\n",
      "                     importance\n",
      "MATTR                  0.226034\n",
      "Word Dist Entr         0.139369\n",
      "Avg Word Length        0.108606\n",
      "Text Entr              0.099031\n",
      "Rev Lex Entr           0.091523\n",
      "Avg Sentence Length    0.088625\n",
      "Lex Entr               0.075918\n",
      "TTR                    0.055506\n",
      "Avg Forms Per Stem     0.032726\n",
      "Char Dist Entr         0.031823\n",
      "Avg Segs Per Word      0.025582\n",
      "Morpheme TTR           0.025258\n",
      "Features sorted by their score for estimator 3:\n",
      "                     importance\n",
      "MATTR                  0.223924\n",
      "Word Dist Entr         0.139418\n",
      "Avg Word Length        0.108631\n",
      "Text Entr              0.102329\n",
      "Rev Lex Entr           0.092733\n",
      "Avg Sentence Length    0.087474\n",
      "Lex Entr               0.076253\n",
      "TTR                    0.054751\n",
      "Avg Forms Per Stem     0.032546\n",
      "Char Dist Entr         0.031823\n",
      "Avg Segs Per Word      0.026085\n",
      "Morpheme TTR           0.024033\n",
      "Features sorted by their score for estimator 4:\n",
      "                     importance\n",
      "MATTR                  0.211727\n",
      "Word Dist Entr         0.139301\n",
      "Avg Word Length        0.118168\n",
      "Text Entr              0.109967\n",
      "Rev Lex Entr           0.091436\n",
      "Avg Sentence Length    0.087622\n",
      "Lex Entr               0.074998\n",
      "TTR                    0.054889\n",
      "Avg Forms Per Stem     0.034282\n",
      "Char Dist Entr         0.030065\n",
      "Avg Segs Per Word      0.025098\n",
      "Morpheme TTR           0.022447\n",
      "Features sorted by their score for estimator 5:\n",
      "                     importance\n",
      "MATTR                  0.231428\n",
      "Avg Word Length        0.153579\n",
      "Word Dist Entr         0.118834\n",
      "Text Entr              0.091817\n",
      "Rev Lex Entr           0.082912\n",
      "Avg Sentence Length    0.081218\n",
      "Lex Entr               0.070293\n",
      "TTR                    0.044507\n",
      "Char Dist Entr         0.041629\n",
      "Avg Forms Per Stem     0.031258\n",
      "Morpheme TTR           0.030412\n",
      "Avg Segs Per Word      0.022113\n",
      "Features sorted by their score for estimator 6:\n",
      "                     importance\n",
      "MATTR                  0.208482\n",
      "Avg Word Length        0.158339\n",
      "Word Dist Entr         0.152604\n",
      "Rev Lex Entr           0.094735\n",
      "Avg Sentence Length    0.085511\n",
      "Lex Entr               0.083409\n",
      "Text Entr              0.081420\n",
      "TTR                    0.049518\n",
      "Avg Forms Per Stem     0.026916\n",
      "Char Dist Entr         0.023921\n",
      "Morpheme TTR           0.019332\n",
      "Avg Segs Per Word      0.015813\n",
      "Features sorted by their score for estimator 7:\n",
      "                     importance\n",
      "MATTR                  0.164117\n",
      "Avg Word Length        0.162747\n",
      "Lex Entr               0.126897\n",
      "Word Dist Entr         0.122181\n",
      "Rev Lex Entr           0.119765\n",
      "TTR                    0.083468\n",
      "Text Entr              0.066092\n",
      "Avg Sentence Length    0.059473\n",
      "Avg Forms Per Stem     0.032894\n",
      "Avg Segs Per Word      0.027067\n",
      "Char Dist Entr         0.021092\n",
      "Morpheme TTR           0.014208\n",
      "Features sorted by their score for estimator 8:\n",
      "                     importance\n",
      "MATTR                  0.177594\n",
      "Text Entr              0.153956\n",
      "Avg Word Length        0.131545\n",
      "Rev Lex Entr           0.113235\n",
      "Word Dist Entr         0.108218\n",
      "Lex Entr               0.094705\n",
      "Avg Sentence Length    0.076256\n",
      "TTR                    0.050036\n",
      "Char Dist Entr         0.030998\n",
      "Avg Forms Per Stem     0.028504\n",
      "Avg Segs Per Word      0.019139\n",
      "Morpheme TTR           0.015814\n",
      "Features sorted by their score for estimator 9:\n",
      "                     importance\n",
      "MATTR                  0.179792\n",
      "Avg Word Length        0.149533\n",
      "Text Entr              0.112636\n",
      "Word Dist Entr         0.109355\n",
      "Rev Lex Entr           0.108082\n",
      "Lex Entr               0.095393\n",
      "Avg Sentence Length    0.073137\n",
      "TTR                    0.053665\n",
      "Avg Forms Per Stem     0.046687\n",
      "Avg Segs Per Word      0.031220\n",
      "Char Dist Entr         0.024597\n",
      "Morpheme TTR           0.015902\n",
      "Features sorted by their score for estimator 10:\n",
      "                     importance\n",
      "MATTR                  0.187199\n",
      "Avg Word Length        0.140958\n",
      "Text Entr              0.118155\n",
      "Word Dist Entr         0.113945\n",
      "Rev Lex Entr           0.104999\n",
      "Lex Entr               0.096809\n",
      "Avg Sentence Length    0.079993\n",
      "TTR                    0.051894\n",
      "Avg Forms Per Stem     0.032152\n",
      "Char Dist Entr         0.030065\n",
      "Avg Segs Per Word      0.022438\n",
      "Morpheme TTR           0.021393\n",
      "Features sorted by their score for estimator 11:\n",
      "                     importance\n",
      "MATTR                  0.167316\n",
      "Rev Lex Entr           0.144591\n",
      "Lex Entr               0.143690\n",
      "Word Dist Entr         0.115042\n",
      "Avg Word Length        0.112244\n",
      "Text Entr              0.078780\n",
      "Avg Sentence Length    0.075777\n",
      "TTR                    0.057256\n",
      "Avg Forms Per Stem     0.030099\n",
      "Char Dist Entr         0.028889\n",
      "Morpheme TTR           0.023757\n",
      "Avg Segs Per Word      0.022557\n",
      "Features sorted by their score for estimator 12:\n",
      "                     importance\n",
      "MATTR                  0.200776\n",
      "Avg Word Length        0.128493\n",
      "Word Dist Entr         0.113124\n",
      "Lex Entr               0.111408\n",
      "Rev Lex Entr           0.106054\n",
      "Text Entr              0.097528\n",
      "Avg Sentence Length    0.081529\n",
      "TTR                    0.052972\n",
      "Char Dist Entr         0.031060\n",
      "Avg Forms Per Stem     0.030005\n",
      "Avg Segs Per Word      0.025196\n",
      "Morpheme TTR           0.021854\n",
      "Features sorted by their score for estimator 13:\n",
      "                     importance\n",
      "MATTR                  0.187883\n",
      "Text Entr              0.157780\n",
      "Avg Word Length        0.119538\n",
      "Avg Sentence Length    0.106295\n",
      "Rev Lex Entr           0.098656\n",
      "Lex Entr               0.089058\n",
      "Word Dist Entr         0.080697\n",
      "TTR                    0.052484\n",
      "Avg Forms Per Stem     0.031729\n",
      "Char Dist Entr         0.028318\n",
      "Avg Segs Per Word      0.028219\n",
      "Morpheme TTR           0.019343\n",
      "Features sorted by their score for estimator 14:\n",
      "                     importance\n",
      "MATTR                  0.195467\n",
      "Avg Word Length        0.125050\n",
      "Lex Entr               0.118656\n",
      "Text Entr              0.110004\n",
      "Word Dist Entr         0.108961\n",
      "Rev Lex Entr           0.103958\n",
      "Avg Sentence Length    0.072838\n",
      "TTR                    0.060876\n",
      "Char Dist Entr         0.033912\n",
      "Avg Forms Per Stem     0.028856\n",
      "Avg Segs Per Word      0.023765\n",
      "Morpheme TTR           0.017657\n",
      "Features sorted by their score for estimator 15:\n",
      "                     importance\n",
      "MATTR                  0.195431\n",
      "Avg Word Length        0.128398\n",
      "Lex Entr               0.113723\n",
      "Word Dist Entr         0.111495\n",
      "Text Entr              0.109418\n",
      "Rev Lex Entr           0.104769\n",
      "Avg Sentence Length    0.071647\n",
      "TTR                    0.059676\n",
      "Avg Forms Per Stem     0.030830\n",
      "Char Dist Entr         0.030351\n",
      "Avg Segs Per Word      0.024111\n",
      "Morpheme TTR           0.020151\n",
      "Features sorted by their score for estimator 16:\n",
      "                     importance\n",
      "MATTR                  0.184134\n",
      "Avg Word Length        0.118971\n",
      "Text Entr              0.116570\n",
      "Rev Lex Entr           0.112840\n",
      "Lex Entr               0.108240\n",
      "Word Dist Entr         0.094563\n",
      "Avg Sentence Length    0.075822\n",
      "TTR                    0.061571\n",
      "Avg Forms Per Stem     0.044206\n",
      "Avg Segs Per Word      0.037666\n",
      "Char Dist Entr         0.029719\n",
      "Morpheme TTR           0.015697\n",
      "Features sorted by their score for estimator 17:\n",
      "                     importance\n",
      "MATTR                  0.231975\n",
      "Avg Word Length        0.120818\n",
      "Word Dist Entr         0.117086\n",
      "Text Entr              0.109848\n",
      "Rev Lex Entr           0.098130\n",
      "Lex Entr               0.095963\n",
      "Avg Sentence Length    0.055576\n",
      "TTR                    0.050785\n",
      "Avg Forms Per Stem     0.040038\n",
      "Avg Segs Per Word      0.034603\n",
      "Char Dist Entr         0.032126\n",
      "Morpheme TTR           0.013052\n",
      "Features sorted by their score for estimator 18:\n",
      "                     importance\n",
      "MATTR                  0.210334\n",
      "Avg Word Length        0.123104\n",
      "Text Entr              0.111515\n",
      "Word Dist Entr         0.106747\n",
      "Lex Entr               0.102187\n",
      "Rev Lex Entr           0.098057\n",
      "Avg Sentence Length    0.074691\n",
      "TTR                    0.057028\n",
      "Avg Forms Per Stem     0.036551\n",
      "Char Dist Entr         0.029061\n",
      "Morpheme TTR           0.025664\n",
      "Avg Segs Per Word      0.025061\n",
      "Features sorted by their score for estimator 19:\n",
      "                     importance\n",
      "MATTR                  0.206898\n",
      "Avg Word Length        0.127620\n",
      "Text Entr              0.107234\n",
      "Rev Lex Entr           0.101138\n",
      "Lex Entr               0.098555\n",
      "Word Dist Entr         0.097601\n",
      "Avg Sentence Length    0.071071\n",
      "TTR                    0.063403\n",
      "Char Dist Entr         0.039246\n",
      "Avg Forms Per Stem     0.035231\n",
      "Avg Segs Per Word      0.026074\n",
      "Morpheme TTR           0.025929\n",
      "Features sorted by their score for estimator 20:\n",
      "                     importance\n",
      "MATTR                  0.216249\n",
      "Avg Word Length        0.151915\n",
      "Text Entr              0.113384\n",
      "Word Dist Entr         0.109178\n",
      "Lex Entr               0.101716\n",
      "Rev Lex Entr           0.080636\n",
      "Avg Sentence Length    0.057709\n",
      "TTR                    0.052292\n",
      "Avg Forms Per Stem     0.034033\n",
      "Char Dist Entr         0.033005\n",
      "Avg Segs Per Word      0.032826\n",
      "Morpheme TTR           0.017057\n",
      "Features sorted by their score for estimator 21:\n",
      "                     importance\n",
      "MATTR                  0.214804\n",
      "Avg Word Length        0.111524\n",
      "Text Entr              0.108544\n",
      "Word Dist Entr         0.107464\n",
      "Lex Entr               0.106604\n",
      "Rev Lex Entr           0.093281\n",
      "Avg Sentence Length    0.086522\n",
      "TTR                    0.061672\n",
      "Char Dist Entr         0.035057\n",
      "Avg Forms Per Stem     0.030041\n",
      "Avg Segs Per Word      0.024211\n",
      "Morpheme TTR           0.020276\n",
      "Features sorted by their score for estimator 22:\n",
      "                     importance\n",
      "MATTR                  0.216139\n",
      "Avg Word Length        0.114057\n",
      "Text Entr              0.112456\n",
      "Lex Entr               0.109897\n",
      "Word Dist Entr         0.107662\n",
      "Rev Lex Entr           0.095043\n",
      "Avg Sentence Length    0.067355\n",
      "TTR                    0.063502\n",
      "Char Dist Entr         0.035325\n",
      "Avg Forms Per Stem     0.033675\n",
      "Avg Segs Per Word      0.025679\n",
      "Morpheme TTR           0.019211\n",
      "Features sorted by their score for estimator 23:\n",
      "                     importance\n",
      "MATTR                  0.215095\n",
      "Word Dist Entr         0.134070\n",
      "Text Entr              0.097960\n",
      "TTR                    0.097328\n",
      "Avg Word Length        0.096108\n",
      "Lex Entr               0.084615\n",
      "Rev Lex Entr           0.071504\n",
      "Avg Sentence Length    0.053950\n",
      "Avg Forms Per Stem     0.047001\n",
      "Char Dist Entr         0.042423\n",
      "Morpheme TTR           0.030010\n",
      "Avg Segs Per Word      0.029936\n"
     ]
    }
   ],
   "source": [
    "# Using LeaveOneOut Cross-Validation\n",
    "\n",
    "X, y = data.iloc[:,2:].values.round(decimals=3), data.iloc[:,1].map({'con':0, 'nat':1}).values\n",
    "loo = LeaveOneOut()\n",
    "rf = RandomForestClassifier(class_weight='balanced', random_state=42)\n",
    "\n",
    "param_grid = {\n",
    "    'n_estimators': [5, 10, 15, 20, 50, 100, 200, 300],\n",
    "    'max_features': ['auto', 'sqrt', 'log2'],\n",
    "    'max_depth': [None, 4, 6, 8, 10],\n",
    "    'min_samples_split': [2, 5, 10],\n",
    "    'min_samples_leaf': [1, 2, 4],\n",
    "    'criterion': ['gini', 'entropy'],\n",
    "    'bootstrap': [True, False]\n",
    "}\n",
    "\n",
    "grid_search = GridSearchCV(\n",
    "    estimator=rf,\n",
    "    param_grid=param_grid,\n",
    "    cv=loo,\n",
    "    scoring='accuracy',\n",
    "    verbose=1\n",
    ")\n",
    "\n",
    "grid_search.fit(X, y)\n",
    "\n",
    "print(\"Best parameters: \", grid_search.best_params_)\n",
    "print(\"Best score: \", grid_search.best_score_)\n",
    "\n",
    "best_rf = grid_search.best_estimator_\n",
    "\n",
    "# output = cross_validate(best_rf, X, y, cv=loo, scoring='accuracy', return_estimator=True)\n",
    "\n",
    "# for idx, estimator in enumerate(output['estimator']):\n",
    "#     print(\"Features sorted by their score for estimator {}:\".format(idx))\n",
    "#     feature_importances = pd.DataFrame(estimator.feature_importances_,\n",
    "#                                        index=data.columns[2:].values,\n",
    "#                                        columns=['importance']).sort_values('importance', ascending=False)\n",
    "#     print(feature_importances)"
   ]
  },
  {
   "cell_type": "code",
   "execution_count": 8,
   "metadata": {},
   "outputs": [
    {
     "name": "stdout",
     "output_type": "stream",
     "text": [
      "{'fit_time': array([0.36296225, 0.34708881, 0.45700121, 0.35178185, 0.32822013,\n",
      "       0.34021878, 0.31520939, 0.34455609, 0.30265999, 0.35252976,\n",
      "       0.3280158 , 0.33061409, 0.29552722, 0.33041   , 0.3211391 ,\n",
      "       0.30350089, 0.29511595, 0.28640795, 0.28849983, 0.29551196,\n",
      "       0.28835917, 0.29113293, 0.29278016, 0.29152107]), 'score_time': array([0.01933479, 0.03405809, 0.02236986, 0.03094387, 0.02158117,\n",
      "       0.019912  , 0.01988769, 0.01994801, 0.02018309, 0.0185492 ,\n",
      "       0.0185051 , 0.01961589, 0.01843381, 0.01856518, 0.02258015,\n",
      "       0.02071714, 0.01801324, 0.01795292, 0.01858687, 0.01854181,\n",
      "       0.0176158 , 0.01787806, 0.01952696, 0.01787376]), 'estimator': [RandomForestClassifier(min_samples_leaf=2, n_estimators=300, random_state=42), RandomForestClassifier(min_samples_leaf=2, n_estimators=300, random_state=42), RandomForestClassifier(min_samples_leaf=2, n_estimators=300, random_state=42), RandomForestClassifier(min_samples_leaf=2, n_estimators=300, random_state=42), RandomForestClassifier(min_samples_leaf=2, n_estimators=300, random_state=42), RandomForestClassifier(min_samples_leaf=2, n_estimators=300, random_state=42), RandomForestClassifier(min_samples_leaf=2, n_estimators=300, random_state=42), RandomForestClassifier(min_samples_leaf=2, n_estimators=300, random_state=42), RandomForestClassifier(min_samples_leaf=2, n_estimators=300, random_state=42), RandomForestClassifier(min_samples_leaf=2, n_estimators=300, random_state=42), RandomForestClassifier(min_samples_leaf=2, n_estimators=300, random_state=42), RandomForestClassifier(min_samples_leaf=2, n_estimators=300, random_state=42), RandomForestClassifier(min_samples_leaf=2, n_estimators=300, random_state=42), RandomForestClassifier(min_samples_leaf=2, n_estimators=300, random_state=42), RandomForestClassifier(min_samples_leaf=2, n_estimators=300, random_state=42), RandomForestClassifier(min_samples_leaf=2, n_estimators=300, random_state=42), RandomForestClassifier(min_samples_leaf=2, n_estimators=300, random_state=42), RandomForestClassifier(min_samples_leaf=2, n_estimators=300, random_state=42), RandomForestClassifier(min_samples_leaf=2, n_estimators=300, random_state=42), RandomForestClassifier(min_samples_leaf=2, n_estimators=300, random_state=42), RandomForestClassifier(min_samples_leaf=2, n_estimators=300, random_state=42), RandomForestClassifier(min_samples_leaf=2, n_estimators=300, random_state=42), RandomForestClassifier(min_samples_leaf=2, n_estimators=300, random_state=42), RandomForestClassifier(min_samples_leaf=2, n_estimators=300, random_state=42)], 'test_score': array([0., 1., 1., 1., 1., 1., 1., 0., 1., 1., 1., 0., 1., 1., 1., 1., 1.,\n",
      "       1., 1., 1., 1., 1., 1., 1.])}\n"
     ]
    }
   ],
   "source": [
    "# print(output)"
   ]
  },
  {
   "cell_type": "code",
   "execution_count": null,
   "metadata": {},
   "outputs": [],
   "source": [
    "# feature_list = list(data.iloc[:,2:].columns)\n",
    "# importances = list(best_rf.feature_importances_)\n",
    "# rf_important_df = pd.DataFrame()\n",
    "# rf_important_df['value'], rf_important_df['importances'] = feature_list, importances"
   ]
  },
  {
   "cell_type": "code",
   "execution_count": 9,
   "metadata": {},
   "outputs": [
    {
     "name": "stdout",
     "output_type": "stream",
     "text": [
      "                Feature  Gini Importance\n",
      "3                 MATTR         0.219458\n",
      "10             Lex Entr         0.117268\n",
      "9             Text Entr         0.106971\n",
      "8        Word Dist Entr         0.102417\n",
      "0       Avg Word Length         0.100882\n",
      "11         Rev Lex Entr         0.098466\n",
      "1   Avg Sentence Length         0.079505\n",
      "2                   TTR         0.061654\n",
      "7        Char Dist Entr         0.032533\n",
      "6    Avg Forms Per Stem         0.032494\n",
      "4          Morpheme TTR         0.026845\n",
      "5     Avg Segs Per Word         0.021506\n"
     ]
    },
    {
     "data": {
      "image/png": "[encoded data removed]",
      "text/plain": [
       "<Figure size 800x400 with 1 Axes>"
      ]
     },
     "metadata": {},
     "output_type": "display_data"
    }
   ],
   "source": [
    "# Plotting feature importance for Finetuned RandomForest (refer to https://www.geeksforgeeks.org/feature-importance-with-random-forests/)\n",
    "\n",
    "importances = best_rf.feature_importances_\n",
    "feature_imp_df = pd.DataFrame({'Feature': data.columns[2:].values, 'Gini Importance': importances}).sort_values('Gini Importance', descending=True) \n",
    "print(feature_imp_df)\n",
    "\n",
    "plt.figure(figsize=(8, 4))\n",
    "plt.barh(data.columns[2:].values, importances, color='skyblue')\n",
    "plt.xlabel('Gini Importance')\n",
    "plt.title('Feature Importance - Gini Importance')\n",
    "plt.gca().invert_yaxis()\n",
    "plt.savefig('./results/RF_gini_feature_importances.png')\n",
    "plt.show()"
   ]
  },
  {
   "cell_type": "code",
   "execution_count": 10,
   "metadata": {},
   "outputs": [
    {
     "name": "stdout",
     "output_type": "stream",
     "text": [
      "                Feature  Permutation Importance\n",
      "3                 MATTR                0.037500\n",
      "0       Avg Word Length                0.020833\n",
      "1   Avg Sentence Length                0.000000\n",
      "2                   TTR                0.000000\n",
      "4          Morpheme TTR                0.000000\n",
      "5     Avg Segs Per Word                0.000000\n",
      "6    Avg Forms Per Stem                0.000000\n",
      "7        Char Dist Entr                0.000000\n",
      "8        Word Dist Entr                0.000000\n",
      "9             Text Entr                0.000000\n",
      "10             Lex Entr                0.000000\n",
      "11         Rev Lex Entr                0.000000\n"
     ]
    },
    {
     "data": {
      "image/png": "[encoded data removed]",
      "text/plain": [
       "<Figure size 600x600 with 1 Axes>"
      ]
     },
     "metadata": {},
     "output_type": "display_data"
    }
   ],
   "source": [
    "# Plotting permutation feature importance for Finetuned RandomForest (refer to https://www.geeksforgeeks.org/feature-importance-with-random-forests/)\n",
    "\n",
    "result = permutation_importance(best_rf, X, y, n_repeats=10, random_state=42, n_jobs=-1)\n",
    "perm_imp_df = pd.DataFrame({'Feature': data.columns[2:].values, 'Permutation Importance': result.importances_mean}).sort_values('Permutation Importance', descending=True)\n",
    "print(perm_imp_df)\n",
    "\n",
    "plt.figure(figsize=(6, 6))\n",
    "plt.bar(perm_imp_df['Feature'], perm_imp_df['Permutation Importance'])\n",
    "plt.xlabel('Feature')\n",
    "plt.ylabel('Permutation Importance')\n",
    "plt.title('Permutation Feature Importance')\n",
    "plt.xticks(rotation=45, ha='right')  \n",
    "plt.tight_layout()\n",
    "plt.savefig('./results/RF_permutation_feature_importances.png')\n",
    "plt.show()"
   ]
  },
  {
   "cell_type": "markdown",
   "metadata": {},
   "source": [
    "Binary Classification (SVM)"
   ]
  },
  {
   "cell_type": "code",
   "execution_count": 7,
   "metadata": {},
   "outputs": [
    {
     "name": "stdout",
     "output_type": "stream",
     "text": [
      "Fitting 12 folds for each of 16 candidates, totalling 192 fits\n"
     ]
    },
    {
     "name": "stderr",
     "output_type": "stream",
     "text": [
      "/usr/local/lib/python3.9/site-packages/sklearn/model_selection/_split.py:776: UserWarning: The least populated class in y has only 5 members, which is less than n_splits=12.\n",
      "  warnings.warn(\n"
     ]
    },
    {
     "name": "stdout",
     "output_type": "stream",
     "text": [
      "Best parameters found by grid search: {'C': 0.0001, 'class_weight': 'balanced', 'gamma': 'scale'}\n",
      "Accuracy: 0.60\n",
      "Confusion Matrix:\n",
      " [[1 0]\n",
      " [2 2]]\n",
      "Classification Report:\n",
      "               precision    recall  f1-score   support\n",
      "\n",
      "         con       0.33      1.00      0.50         1\n",
      "         nat       1.00      0.50      0.67         4\n",
      "\n",
      "    accuracy                           0.60         5\n",
      "   macro avg       0.67      0.75      0.58         5\n",
      "weighted avg       0.87      0.60      0.63         5\n",
      "\n"
     ]
    }
   ],
   "source": [
    "# With linear kernel\n",
    "\n",
    "X, y = data.iloc[:,2:].values.round(decimals=3), data.iloc[:,1].map({'con':0, 'nat':1}).values\n",
    "X_train, X_test, y_train, y_test = train_test_split(X, y, test_size=0.2, random_state=42, stratify=y)\n",
    "\n",
    "scaler = StandardScaler()\n",
    "X_train_scaled = scaler.fit_transform(X_train)\n",
    "X_test_scaled = scaler.transform(X_test)\n",
    "\n",
    "param_grid = {\n",
    "    'C': [0.0001, 0.001, 0.01, 0.1],\n",
    "    'gamma': ['scale', 'auto', 0.01, 0.1],\n",
    "    # 'class_weight': ['balanced', {0: 1, 1: 3}, {0: 1, 1: 4}]\n",
    "    'class_weight': ['balanced']\n",
    "}\n",
    "\n",
    "svc = SVC(kernel='linear', random_state=42)\n",
    "skf = StratifiedKFold(n_splits=12, shuffle=True, random_state=42)\n",
    "grid_search = GridSearchCV(estimator=svc, param_grid=param_grid, scoring='f1', cv=skf, verbose=1)\n",
    "\n",
    "grid_search.fit(X_train_scaled, y_train)\n",
    "print(\"Best parameters found by grid search:\", grid_search.best_params_)\n",
    "\n",
    "best_svc = grid_search.best_estimator_\n",
    "y_pred = best_svc.predict(X_test_scaled)\n",
    "\n",
    "accuracy = accuracy_score(y_test, y_pred)\n",
    "conf_matrix = confusion_matrix(y_test, y_pred)\n",
    "class_report = classification_report(y_test, y_pred, target_names=['con', 'nat'])\n",
    "\n",
    "print(f\"Accuracy: {accuracy:.2f}\")\n",
    "print(\"Confusion Matrix:\\n\", conf_matrix)\n",
    "print(\"Classification Report:\\n\", class_report)"
   ]
  },
  {
   "cell_type": "code",
   "execution_count": null,
   "metadata": {},
   "outputs": [],
   "source": []
  }
 ],
 "metadata": {
  "kernelspec": {
   "display_name": "Python 3",
   "language": "python",
   "name": "python3"
  },
  "language_info": {
   "codemirror_mode": {
    "name": "ipython",
    "version": 3
   },
   "file_extension": ".py",
   "mimetype": "text/x-python",
   "name": "python",
   "nbconvert_exporter": "python",
   "pygments_lexer": "ipython3",
   "version": "3.9.19"
  },
  "orig_nbformat": 4
 },
 "nbformat": 4,
 "nbformat_minor": 2
}
