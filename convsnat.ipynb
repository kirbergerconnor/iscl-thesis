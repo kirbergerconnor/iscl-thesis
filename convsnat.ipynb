{
 "cells": [
  {
   "cell_type": "code",
   "execution_count": 1,
   "metadata": {},
   "outputs": [],
   "source": [
    "import os\n",
    "import matplotlib.pyplot as plt\n",
    "from math import log\n",
    "import pandas as pd\n",
    "import numpy as np\n",
    "import seaborn as sns\n",
    "from sklearn.decomposition import PCA\n",
    "from sklearn.preprocessing import StandardScaler"
   ]
  },
  {
   "cell_type": "code",
   "execution_count": 2,
   "metadata": {},
   "outputs": [],
   "source": [
    "wiki_dir = '/Users/k/Docs/School/Tuebingen/Thesis/Corpuses/ShortenedWiki/'\n",
    "files = [os.path.join(wiki_dir, file) for file in os.listdir(wiki_dir) if file.endswith('.txt')]"
   ]
  },
  {
   "cell_type": "markdown",
   "metadata": {},
   "source": [
    "Type-Token Ratio"
   ]
  },
  {
   "cell_type": "code",
   "execution_count": 3,
   "metadata": {},
   "outputs": [],
   "source": [
    "def calculate_ttr(file):\n",
    "    \n",
    "    with open(file, 'r', encoding='utf-8') as f:\n",
    "        text = f.read()\n",
    "    f.close()\n",
    "    \n",
    "    tokens = text.split()\n",
    "    total_tokens = len(tokens)\n",
    "    types = set(tokens)\n",
    "    total_types = len(types)\n",
    "    ttr = (total_types / total_tokens) * 100\n",
    "    return ttr\n",
    "\n",
    "ttr_values = {}\n",
    "for file in files:\n",
    "    lang = os.path.splitext(os.path.basename(file))[0].split('_')[0]\n",
    "    ttr_values[lang] = calculate_ttr(file)"
   ]
  },
  {
   "cell_type": "markdown",
   "metadata": {},
   "source": [
    "Moving Average Type-Token Ratio"
   ]
  },
  {
   "cell_type": "code",
   "execution_count": 5,
   "metadata": {},
   "outputs": [],
   "source": [
    "def calculate_mattr(file, window_size):\n",
    "    \n",
    "    with open(file, 'r', encoding='utf-8') as f:\n",
    "        text = f.read()\n",
    "    f.close()\n",
    "    \n",
    "    tokens = text.split()\n",
    "    total_tokens = len(tokens)\n",
    "    \n",
    "    ttr_values = []\n",
    "    for i in range(total_tokens - window_size + 1):\n",
    "        window = tokens[i:i + window_size]\n",
    "        types = set(window)\n",
    "        total_types = len(types)\n",
    "        ttr = total_types / window_size\n",
    "        ttr_values.append(ttr)\n",
    "\n",
    "    mattr = sum(ttr_values) / len(ttr_values)\n",
    "    return mattr\n",
    "\n",
    "mattr_values = {}\n",
    "window_size = 100  \n",
    "for file in files:\n",
    "    lang = os.path.splitext(os.path.basename(file))[0].split('_')[0]\n",
    "    mattr_values[lang] = calculate_mattr(file, window_size)"
   ]
  },
  {
   "cell_type": "markdown",
   "metadata": {},
   "source": [
    "Character Entropy"
   ]
  },
  {
   "cell_type": "code",
   "execution_count": 6,
   "metadata": {},
   "outputs": [],
   "source": [
    "def log2(number):\n",
    "    return log(number) / log(2)\n",
    "\n",
    "def calculate_char_entropy(file):\n",
    "    with open(file, 'r', encoding='utf-8') as f:\n",
    "        text = f.read()\n",
    "    f.close()\n",
    "    \n",
    "    char_freq = {}\n",
    "    for char in text:\n",
    "        if char in char_freq:\n",
    "            char_freq[char] += 1\n",
    "        else:\n",
    "            char_freq[char] = 1\n",
    "            \n",
    "    length_sum = 0.0\n",
    "    for char in char_freq:\n",
    "        p = float(char_freq[char]) / len(text)\n",
    "        length_sum += p * log2(p)\n",
    "        \n",
    "    return -length_sum\n",
    "\n",
    "char_entropies = {}\n",
    "for file in files:\n",
    "    lang = os.path.splitext(os.path.basename(file))[0].split('_')[0]\n",
    "    char_entropies[lang] = calculate_char_entropy(file)"
   ]
  },
  {
   "cell_type": "markdown",
   "metadata": {},
   "source": [
    "Word Entropy"
   ]
  },
  {
   "cell_type": "code",
   "execution_count": 7,
   "metadata": {},
   "outputs": [],
   "source": [
    "def log2(number):\n",
    "    return log(number) / log(2)\n",
    "\n",
    "def calculate_word_entropy(file):\n",
    "    with open(file, 'r', encoding='utf-8') as f:\n",
    "        text = f.read()\n",
    "    f.close()\n",
    "    \n",
    "    word_freq = {}\n",
    "    total_words = 0\n",
    "    for word in text.split():\n",
    "        if word in word_freq:\n",
    "            word_freq[word] += 1\n",
    "        else:\n",
    "            word_freq[word] = 1\n",
    "        total_words += 1\n",
    "            \n",
    "    length_sum = 0.0\n",
    "    for word in word_freq:\n",
    "        p = float(word_freq[word]) / total_words\n",
    "        length_sum += p * log2(p)\n",
    "        \n",
    "    return -length_sum\n",
    "\n",
    "word_entropies = {}\n",
    "for file in files:\n",
    "    lang = os.path.splitext(os.path.basename(file))[0].split('_')[0]\n",
    "    word_entropies[lang] = calculate_word_entropy(file)"
   ]
  },
  {
   "cell_type": "markdown",
   "metadata": {},
   "source": [
    "Dataframe"
   ]
  },
  {
   "cell_type": "code",
   "execution_count": 8,
   "metadata": {},
   "outputs": [
    {
     "name": "stdout",
     "output_type": "stream",
     "text": [
      "          TTR     MATTR  Char Entr  Word Entr\n",
      "eo   9.687041  0.697294   4.199774  11.712463\n",
      "en   4.756099  0.691067   4.150657  11.110376\n",
      "de   9.434845  0.752646   4.209513  12.084622\n",
      "fr   5.604354  0.703206   4.149414  11.101759\n",
      "ia   6.892730  0.666997   4.096957  11.411335\n",
      "lfn  6.003457  0.621196   3.980016  10.313963\n"
     ]
    }
   ],
   "source": [
    "calculations = {\n",
    "   'TTR': ttr_values,\n",
    "   'MATTR': mattr_values,\n",
    "   'Char Entr': char_entropies,\n",
    "   'Word Entr': word_entropies\n",
    "}\n",
    "\n",
    "for label, dic in calculations.items():\n",
    "    calculations[label] = pd.Series(dic)\n",
    "\n",
    "df = pd.DataFrame(calculations)\n",
    "# df = pd.DataFrame(calculations).T\n",
    "print(df)"
   ]
  },
  {
   "cell_type": "markdown",
   "metadata": {},
   "source": [
    "Principle Component Analysis"
   ]
  },
  {
   "cell_type": "code",
   "execution_count": 9,
   "metadata": {},
   "outputs": [],
   "source": [
    "scaler = StandardScaler()\n",
    "scaled_data = scaler.fit_transform(df)\n",
    "\n",
    "pca = PCA(n_components=0.95)\n",
    "pca_result = pca.fit_transform(scaled_data)\n",
    "\n",
    "pca_df = pd.DataFrame(pca_result, columns=['PC1', 'PC2'])\n",
    "pca_df.index = df.index"
   ]
  },
  {
   "cell_type": "code",
   "execution_count": 10,
   "metadata": {},
   "outputs": [
    {
     "data": {
      "image/png": "[encoded data removed]",
      "text/plain": [
       "<Figure size 1000x600 with 1 Axes>"
      ]
     },
     "metadata": {},
     "output_type": "display_data"
    }
   ],
   "source": [
    "plt.figure(figsize=(10, 6))\n",
    "sns.scatterplot(x='PC1', y='PC2', data=pca_df, hue=pca_df.index, s=100)\n",
    "\n",
    "for i, language in enumerate(pca_df.index):\n",
    "    plt.annotate(language, (pca_df['PC1'][i], pca_df['PC2'][i]))\n",
    "    \n",
    "plt.xlabel('PC1')\n",
    "plt.ylabel('PC2')\n",
    "plt.title('PCA Visualization of Language Metrics')\n",
    "plt.grid(True)\n",
    "plt.legend(title='Language', bbox_to_anchor=(1.05, 1), loc='upper left')\n",
    "plt.tight_layout()\n",
    "plt.show()"
   ]
  },
  {
   "cell_type": "code",
   "execution_count": null,
   "metadata": {},
   "outputs": [],
   "source": []
  }
 ],
 "metadata": {
  "kernelspec": {
   "display_name": "Python 3",
   "language": "python",
   "name": "python3"
  },
  "language_info": {
   "codemirror_mode": {
    "name": "ipython",
    "version": 3
   },
   "file_extension": ".py",
   "mimetype": "text/x-python",
   "name": "python",
   "nbconvert_exporter": "python",
   "pygments_lexer": "ipython3",
   "version": "3.9.17"
  },
  "orig_nbformat": 4
 },
 "nbformat": 4,
 "nbformat_minor": 2
}
