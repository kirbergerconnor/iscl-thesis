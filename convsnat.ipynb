{
 "cells": [
  {
   "cell_type": "code",
   "execution_count": 2,
   "metadata": {},
   "outputs": [],
   "source": [
    "import os\n",
    "import matplotlib.pyplot as plt\n",
    "from math import log\n",
    "import pandas as pd"
   ]
  },
  {
   "cell_type": "code",
   "execution_count": 3,
   "metadata": {},
   "outputs": [],
   "source": [
    "wiki_dir = '/Users/k/Docs/School/Tuebingen/Thesis/Corpuses/ShortenedWiki/'\n",
    "files = [os.path.join(wiki_dir, file) for file in os.listdir(wiki_dir) if file.endswith('.txt')]"
   ]
  },
  {
   "cell_type": "markdown",
   "metadata": {},
   "source": [
    "Type-Token Ratio"
   ]
  },
  {
   "cell_type": "code",
   "execution_count": 4,
   "metadata": {},
   "outputs": [],
   "source": [
    "ttr_values = []\n",
    "languages = []\n",
    "for file_path in files:\n",
    "    languages.append(os.path.splitext(os.path.basename(file_path))[0].split('_')[0])\n",
    "    with open(file_path, 'r', encoding='utf-8') as f:\n",
    "        text = f.read()\n",
    "    f.close()\n",
    "    tokens = text.split()\n",
    "    total_tokens = len(tokens)\n",
    "    types = set(tokens)\n",
    "    total_types = len(types)\n",
    "    ttr_values.append((total_types / total_tokens) * 100)\n"
   ]
  },
  {
   "cell_type": "code",
   "execution_count": 5,
   "metadata": {},
   "outputs": [
    {
     "data": {
      "image/png": "[encoded data removed]",
      "text/plain": [
       "<Figure size 1000x600 with 1 Axes>"
      ]
     },
     "metadata": {},
     "output_type": "display_data"
    }
   ],
   "source": [
    "plt.figure(figsize=(10, 6))\n",
    "plt.bar(languages, ttr_values, color='skyblue')\n",
    "\n",
    "plt.xlabel('Languages')\n",
    "plt.ylabel('Type-Token Ratio')\n",
    "plt.title('Type-Token Ratios Across Con/Natlangs')\n",
    "\n",
    "plt.tight_layout()\n",
    "plt.show()"
   ]
  },
  {
   "cell_type": "markdown",
   "metadata": {},
   "source": [
    "Moving Average Type-Token Ratio"
   ]
  },
  {
   "cell_type": "code",
   "execution_count": 6,
   "metadata": {},
   "outputs": [],
   "source": [
    "def calculate_mattr(file, window_size):\n",
    "    \n",
    "    with open(file, 'r', encoding='utf-8') as f:\n",
    "        text = f.read()\n",
    "    f.close()\n",
    "    \n",
    "    tokens = text.split()\n",
    "    total_tokens = len(tokens)\n",
    "    \n",
    "    ttr_values = []\n",
    "    for i in range(total_tokens - window_size + 1):\n",
    "        window = tokens[i:i + window_size]\n",
    "        types = set(window)\n",
    "        total_types = len(types)\n",
    "        ttr = total_types / window_size\n",
    "        ttr_values.append(ttr)\n",
    "\n",
    "    mattr = sum(ttr_values) / len(ttr_values)\n",
    "    return mattr\n",
    "\n",
    "mattr_values = {}\n",
    "window_size = 100  \n",
    "for file in files:\n",
    "    lang = os.path.splitext(os.path.basename(file))[0].split('_')[0]\n",
    "    mattr_values[lang] = calculate_mattr(file, window_size)"
   ]
  },
  {
   "cell_type": "code",
   "execution_count": 7,
   "metadata": {},
   "outputs": [
    {
     "name": "stdout",
     "output_type": "stream",
     "text": [
      "{'eo': 0.6972314165619563, 'en': 0.6909203472640336, 'de': 0.7527035936267579, 'fr': 0.7031279540254466, 'ia': 0.6664953232243979, 'lfn': 0.6211959694977615}\n"
     ]
    }
   ],
   "source": [
    "print(mattr_values)"
   ]
  },
  {
   "cell_type": "markdown",
   "metadata": {},
   "source": [
    "Character Entropy"
   ]
  },
  {
   "cell_type": "code",
   "execution_count": 8,
   "metadata": {},
   "outputs": [],
   "source": [
    "def log2(number):\n",
    "    return log(number) / log(2)\n",
    "\n",
    "def calculate_char_entropy(file):\n",
    "    with open(file, 'r', encoding='utf-8') as f:\n",
    "        text = f.read()\n",
    "    f.close()\n",
    "    \n",
    "    char_freq = {}\n",
    "    for char in text:\n",
    "        if char in char_freq:\n",
    "            char_freq[char] += 1\n",
    "        else:\n",
    "            char_freq[char] = 1\n",
    "            \n",
    "    length_sum = 0.0\n",
    "    for char in char_freq:\n",
    "        p = float(char_freq[char]) / len(text)\n",
    "        length_sum += p * log2(p)\n",
    "        \n",
    "    return -length_sum\n",
    "\n",
    "char_entropies = {}\n",
    "for file in files:\n",
    "    lang = os.path.splitext(os.path.basename(file))[0].split('_')[0]\n",
    "    char_entropies[lang] = calculate_char_entropy(file)"
   ]
  },
  {
   "cell_type": "code",
   "execution_count": 9,
   "metadata": {},
   "outputs": [
    {
     "name": "stdout",
     "output_type": "stream",
     "text": [
      "{'eo': 4.1992583761232485, 'en': 4.150509528896986, 'de': 4.20959808898407, 'fr': 4.150439160230042, 'ia': 4.0969415616417955, 'lfn': 3.9800159844483396}\n"
     ]
    }
   ],
   "source": [
    "print(char_entropies)"
   ]
  },
  {
   "cell_type": "markdown",
   "metadata": {},
   "source": [
    "Word Entropy"
   ]
  },
  {
   "cell_type": "code",
   "execution_count": 21,
   "metadata": {},
   "outputs": [],
   "source": [
    "def log2(number):\n",
    "    return log(number) / log(2)\n",
    "\n",
    "def calculate_word_entropy(file):\n",
    "    with open(file, 'r', encoding='utf-8') as f:\n",
    "        text = f.read()\n",
    "    f.close()\n",
    "    \n",
    "    word_freq = {}\n",
    "    total_words = 0\n",
    "    for word in text.split():\n",
    "        if word in word_freq:\n",
    "            word_freq[word] += 1\n",
    "        else:\n",
    "            word_freq[word] = 1\n",
    "        total_words += 1\n",
    "            \n",
    "    length_sum = 0.0\n",
    "    for word in word_freq:\n",
    "        p = float(word_freq[word]) / total_words\n",
    "        length_sum += p * log2(p)\n",
    "        \n",
    "    return -length_sum\n",
    "\n",
    "word_entropies = {}\n",
    "for file in files:\n",
    "    lang = os.path.splitext(os.path.basename(file))[0].split('_')[0]\n",
    "    word_entropies[lang] = calculate_word_entropy(file)"
   ]
  },
  {
   "cell_type": "code",
   "execution_count": 22,
   "metadata": {},
   "outputs": [
    {
     "name": "stdout",
     "output_type": "stream",
     "text": [
      "{'eo': 11.710764322858413, 'en': 11.114568327086296, 'de': 12.088003652240003, 'fr': 11.10891781461096, 'ia': 11.407395241874681, 'lfn': 10.313962521014572}\n"
     ]
    }
   ],
   "source": [
    "print(word_entropies)"
   ]
  },
  {
   "cell_type": "markdown",
   "metadata": {},
   "source": [
    "Dataframe"
   ]
  },
  {
   "cell_type": "code",
   "execution_count": null,
   "metadata": {},
   "outputs": [],
   "source": []
  },
  {
   "cell_type": "code",
   "execution_count": null,
   "metadata": {},
   "outputs": [],
   "source": []
  }
 ],
 "metadata": {
  "kernelspec": {
   "display_name": "Python 3",
   "language": "python",
   "name": "python3"
  },
  "language_info": {
   "codemirror_mode": {
    "name": "ipython",
    "version": 3
   },
   "file_extension": ".py",
   "mimetype": "text/x-python",
   "name": "python",
   "nbconvert_exporter": "python",
   "pygments_lexer": "ipython3",
   "version": "3.9.17"
  },
  "orig_nbformat": 4
 },
 "nbformat": 4,
 "nbformat_minor": 2
}
