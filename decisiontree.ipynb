{
 "cells": [
  {
   "cell_type": "code",
   "execution_count": 1,
   "metadata": {},
   "outputs": [],
   "source": [
    "from sklearn import tree\n",
    "from sklearn.utils import shuffle\n",
    "from sklearn.model_selection import train_test_split, GridSearchCV\n",
    "from sklearn.metrics import accuracy_score\n",
    "import pandas as pd"
   ]
  },
  {
   "cell_type": "code",
   "execution_count": 2,
   "metadata": {},
   "outputs": [
    {
     "data": {
      "text/html": [
       "<div>\n",
       "<style scoped>\n",
       "    .dataframe tbody tr th:only-of-type {\n",
       "        vertical-align: middle;\n",
       "    }\n",
       "\n",
       "    .dataframe tbody tr th {\n",
       "        vertical-align: top;\n",
       "    }\n",
       "\n",
       "    .dataframe thead th {\n",
       "        text-align: right;\n",
       "    }\n",
       "</style>\n",
       "<table border=\"1\" class=\"dataframe\">\n",
       "  <thead>\n",
       "    <tr style=\"text-align: right;\">\n",
       "      <th></th>\n",
       "      <th>corpus</th>\n",
       "      <th>type</th>\n",
       "      <th>val_perplexity</th>\n",
       "      <th>TTR</th>\n",
       "      <th>MATTR</th>\n",
       "      <th>Char Entr</th>\n",
       "      <th>Word Entr</th>\n",
       "    </tr>\n",
       "  </thead>\n",
       "  <tbody>\n",
       "    <tr>\n",
       "      <th>0</th>\n",
       "      <td>id</td>\n",
       "      <td>nat</td>\n",
       "      <td>3.680180</td>\n",
       "      <td>6.246558</td>\n",
       "      <td>0.708022</td>\n",
       "      <td>4.073786</td>\n",
       "      <td>11.199445</td>\n",
       "    </tr>\n",
       "    <tr>\n",
       "      <th>1</th>\n",
       "      <td>tl</td>\n",
       "      <td>nat</td>\n",
       "      <td>3.096733</td>\n",
       "      <td>7.910377</td>\n",
       "      <td>0.606019</td>\n",
       "      <td>3.897526</td>\n",
       "      <td>9.973914</td>\n",
       "    </tr>\n",
       "    <tr>\n",
       "      <th>2</th>\n",
       "      <td>tr</td>\n",
       "      <td>nat</td>\n",
       "      <td>3.757663</td>\n",
       "      <td>14.141338</td>\n",
       "      <td>0.828527</td>\n",
       "      <td>4.387669</td>\n",
       "      <td>13.173308</td>\n",
       "    </tr>\n",
       "    <tr>\n",
       "      <th>3</th>\n",
       "      <td>en</td>\n",
       "      <td>nat</td>\n",
       "      <td>4.197557</td>\n",
       "      <td>6.565627</td>\n",
       "      <td>0.697663</td>\n",
       "      <td>4.169497</td>\n",
       "      <td>10.719807</td>\n",
       "    </tr>\n",
       "    <tr>\n",
       "      <th>4</th>\n",
       "      <td>de</td>\n",
       "      <td>nat</td>\n",
       "      <td>3.749689</td>\n",
       "      <td>12.554827</td>\n",
       "      <td>0.770465</td>\n",
       "      <td>4.232395</td>\n",
       "      <td>11.589160</td>\n",
       "    </tr>\n",
       "    <tr>\n",
       "      <th>5</th>\n",
       "      <td>fr</td>\n",
       "      <td>nat</td>\n",
       "      <td>3.529911</td>\n",
       "      <td>7.580650</td>\n",
       "      <td>0.720326</td>\n",
       "      <td>4.180053</td>\n",
       "      <td>10.725555</td>\n",
       "    </tr>\n",
       "    <tr>\n",
       "      <th>6</th>\n",
       "      <td>eo</td>\n",
       "      <td>con</td>\n",
       "      <td>3.609825</td>\n",
       "      <td>10.874796</td>\n",
       "      <td>0.692362</td>\n",
       "      <td>4.166134</td>\n",
       "      <td>10.917526</td>\n",
       "    </tr>\n",
       "    <tr>\n",
       "      <th>7</th>\n",
       "      <td>lfn</td>\n",
       "      <td>con</td>\n",
       "      <td>4.050413</td>\n",
       "      <td>5.161995</td>\n",
       "      <td>0.601018</td>\n",
       "      <td>3.913102</td>\n",
       "      <td>9.320620</td>\n",
       "    </tr>\n",
       "    <tr>\n",
       "      <th>8</th>\n",
       "      <td>ia</td>\n",
       "      <td>con</td>\n",
       "      <td>3.890753</td>\n",
       "      <td>6.928446</td>\n",
       "      <td>0.596929</td>\n",
       "      <td>4.031851</td>\n",
       "      <td>9.941043</td>\n",
       "    </tr>\n",
       "    <tr>\n",
       "      <th>9</th>\n",
       "      <td>io</td>\n",
       "      <td>con</td>\n",
       "      <td>1.147758</td>\n",
       "      <td>3.842455</td>\n",
       "      <td>0.562055</td>\n",
       "      <td>4.088717</td>\n",
       "      <td>8.243280</td>\n",
       "    </tr>\n",
       "    <tr>\n",
       "      <th>10</th>\n",
       "      <td>pl</td>\n",
       "      <td>nat</td>\n",
       "      <td>4.295862</td>\n",
       "      <td>14.752381</td>\n",
       "      <td>0.825880</td>\n",
       "      <td>4.553846</td>\n",
       "      <td>12.916268</td>\n",
       "    </tr>\n",
       "    <tr>\n",
       "      <th>11</th>\n",
       "      <td>vi</td>\n",
       "      <td>nat</td>\n",
       "      <td>3.924273</td>\n",
       "      <td>1.798978</td>\n",
       "      <td>0.734315</td>\n",
       "      <td>4.856889</td>\n",
       "      <td>9.716016</td>\n",
       "    </tr>\n",
       "    <tr>\n",
       "      <th>12</th>\n",
       "      <td>fi</td>\n",
       "      <td>nat</td>\n",
       "      <td>3.966571</td>\n",
       "      <td>21.236900</td>\n",
       "      <td>0.846336</td>\n",
       "      <td>4.146735</td>\n",
       "      <td>13.810401</td>\n",
       "    </tr>\n",
       "  </tbody>\n",
       "</table>\n",
       "</div>"
      ],
      "text/plain": [
       "   corpus type  val_perplexity        TTR     MATTR  Char Entr  Word Entr\n",
       "0      id  nat        3.680180   6.246558  0.708022   4.073786  11.199445\n",
       "1      tl  nat        3.096733   7.910377  0.606019   3.897526   9.973914\n",
       "2      tr  nat        3.757663  14.141338  0.828527   4.387669  13.173308\n",
       "3      en  nat        4.197557   6.565627  0.697663   4.169497  10.719807\n",
       "4      de  nat        3.749689  12.554827  0.770465   4.232395  11.589160\n",
       "5      fr  nat        3.529911   7.580650  0.720326   4.180053  10.725555\n",
       "6      eo  con        3.609825  10.874796  0.692362   4.166134  10.917526\n",
       "7     lfn  con        4.050413   5.161995  0.601018   3.913102   9.320620\n",
       "8      ia  con        3.890753   6.928446  0.596929   4.031851   9.941043\n",
       "9      io  con        1.147758   3.842455  0.562055   4.088717   8.243280\n",
       "10     pl  nat        4.295862  14.752381  0.825880   4.553846  12.916268\n",
       "11     vi  nat        3.924273   1.798978  0.734315   4.856889   9.716016\n",
       "12     fi  nat        3.966571  21.236900  0.846336   4.146735  13.810401"
      ]
     },
     "execution_count": 2,
     "metadata": {},
     "output_type": "execute_result"
    }
   ],
   "source": [
    "languages = {\n",
    "    'id': 'nat', \n",
    "    'tl': 'nat', \n",
    "    'tr': 'nat', \n",
    "    'en': 'nat', \n",
    "    'de': 'nat',\n",
    "    'fr': 'nat',\n",
    "    'eo': 'con',\n",
    "    'lfn': 'con',\n",
    "    'ia': 'con',\n",
    "    'io': 'con',\n",
    "    'pl': 'nat',\n",
    "    'vi': 'nat',\n",
    "    'fi': 'nat',\n",
    "    'it': 'nat',\n",
    "    'af': 'nat',\n",
    "    'nl': 'nat',\n",
    "    'es': 'nat',\n",
    "    'oc': 'nat',\n",
    "    'da': 'nat',\n",
    "    'sv': 'nat',\n",
    "    'is': 'nat',\n",
    "    'hu': 'nat',\n",
    "    }\n",
    "\n",
    "rnn_df = pd.read_csv('./rnn_training_df', sep='\\t', index_col=0)\n",
    "dfs = []\n",
    "for lang in languages:\n",
    "    temp = rnn_df.loc[(rnn_df['epoch'] == 20) & (rnn_df['corpus'] == lang)]\n",
    "    temp = temp[temp['step'] == temp['step'].max()]\n",
    "    dfs.append(temp)\n",
    "    \n",
    "ref = pd.concat(dfs)\n",
    "df = ref[['corpus', 'val_perplexity']]\n",
    "df.insert(1, 'type', ref['corpus'].apply(lambda x: languages.get(x)))\n",
    "\n",
    "prelim_df = pd.read_csv('prelim', sep='\\t')\n",
    "\n",
    "data = pd.merge(df, prelim_df)\n",
    "data.to_csv('clf_df', sep='\\t', index=False)\n",
    "data"
   ]
  },
  {
   "cell_type": "code",
   "execution_count": 3,
   "metadata": {},
   "outputs": [],
   "source": [
    "X, y = data.iloc[:,2:].values.round(decimals=3), data.iloc[:,1].map({'nat':1, 'con':0}).values\n",
    "X_train, X_test, y_train, y_test = train_test_split(X, y, random_state=42)"
   ]
  },
  {
   "cell_type": "code",
   "execution_count": 4,
   "metadata": {},
   "outputs": [
    {
     "name": "stdout",
     "output_type": "stream",
     "text": [
      "Fitting 5 folds for each of 168 candidates, totalling 840 fits\n"
     ]
    },
    {
     "name": "stderr",
     "output_type": "stream",
     "text": [
      "/usr/local/lib/python3.9/site-packages/sklearn/model_selection/_split.py:700: UserWarning: The least populated class in y has only 2 members, which is less than n_splits=5.\n",
      "  warnings.warn(\n"
     ]
    },
    {
     "name": "stdout",
     "output_type": "stream",
     "text": [
      "{'criterion': 'gini', 'max_depth': 2, 'max_features': 0.4, 'splitter': 'random'}\n"
     ]
    }
   ],
   "source": [
    "params = {\n",
    "    'criterion':  ['gini', 'entropy'],\n",
    "    'max_depth':  [None, 2, 4, 6, 8, 10],\n",
    "    'max_features': [None, 'sqrt', 'log2', 0.2, 0.4, 0.6, 0.8],\n",
    "    'splitter': ['best', 'random']\n",
    "}\n",
    "\n",
    "clf = GridSearchCV(\n",
    "    estimator=tree.DecisionTreeClassifier(),\n",
    "    param_grid=params,\n",
    "    cv=5,\n",
    "    n_jobs=5,\n",
    "    verbose=1,\n",
    ")\n",
    "\n",
    "clf.fit(X_train, y_train)\n",
    "print(clf.best_params_)"
   ]
  },
  {
   "cell_type": "code",
   "execution_count": 5,
   "metadata": {},
   "outputs": [
    {
     "data": {
      "text/html": [
       "<style>#sk-container-id-1 {color: black;background-color: white;}#sk-container-id-1 pre{padding: 0;}#sk-container-id-1 div.sk-toggleable {background-color: white;}#sk-container-id-1 label.sk-toggleable__label {cursor: pointer;display: block;width: 100%;margin-bottom: 0;padding: 0.3em;box-sizing: border-box;text-align: center;}#sk-container-id-1 label.sk-toggleable__label-arrow:before {content: \"▸\";float: left;margin-right: 0.25em;color: #696969;}#sk-container-id-1 label.sk-toggleable__label-arrow:hover:before {color: black;}#sk-container-id-1 div.sk-estimator:hover label.sk-toggleable__label-arrow:before {color: black;}#sk-container-id-1 div.sk-toggleable__content {max-height: 0;max-width: 0;overflow: hidden;text-align: left;background-color: #f0f8ff;}#sk-container-id-1 div.sk-toggleable__content pre {margin: 0.2em;color: black;border-radius: 0.25em;background-color: #f0f8ff;}#sk-container-id-1 input.sk-toggleable__control:checked~div.sk-toggleable__content {max-height: 200px;max-width: 100%;overflow: auto;}#sk-container-id-1 input.sk-toggleable__control:checked~label.sk-toggleable__label-arrow:before {content: \"▾\";}#sk-container-id-1 div.sk-estimator input.sk-toggleable__control:checked~label.sk-toggleable__label {background-color: #d4ebff;}#sk-container-id-1 div.sk-label input.sk-toggleable__control:checked~label.sk-toggleable__label {background-color: #d4ebff;}#sk-container-id-1 input.sk-hidden--visually {border: 0;clip: rect(1px 1px 1px 1px);clip: rect(1px, 1px, 1px, 1px);height: 1px;margin: -1px;overflow: hidden;padding: 0;position: absolute;width: 1px;}#sk-container-id-1 div.sk-estimator {font-family: monospace;background-color: #f0f8ff;border: 1px dotted black;border-radius: 0.25em;box-sizing: border-box;margin-bottom: 0.5em;}#sk-container-id-1 div.sk-estimator:hover {background-color: #d4ebff;}#sk-container-id-1 div.sk-parallel-item::after {content: \"\";width: 100%;border-bottom: 1px solid gray;flex-grow: 1;}#sk-container-id-1 div.sk-label:hover label.sk-toggleable__label {background-color: #d4ebff;}#sk-container-id-1 div.sk-serial::before {content: \"\";position: absolute;border-left: 1px solid gray;box-sizing: border-box;top: 0;bottom: 0;left: 50%;z-index: 0;}#sk-container-id-1 div.sk-serial {display: flex;flex-direction: column;align-items: center;background-color: white;padding-right: 0.2em;padding-left: 0.2em;position: relative;}#sk-container-id-1 div.sk-item {position: relative;z-index: 1;}#sk-container-id-1 div.sk-parallel {display: flex;align-items: stretch;justify-content: center;background-color: white;position: relative;}#sk-container-id-1 div.sk-item::before, #sk-container-id-1 div.sk-parallel-item::before {content: \"\";position: absolute;border-left: 1px solid gray;box-sizing: border-box;top: 0;bottom: 0;left: 50%;z-index: -1;}#sk-container-id-1 div.sk-parallel-item {display: flex;flex-direction: column;z-index: 1;position: relative;background-color: white;}#sk-container-id-1 div.sk-parallel-item:first-child::after {align-self: flex-end;width: 50%;}#sk-container-id-1 div.sk-parallel-item:last-child::after {align-self: flex-start;width: 50%;}#sk-container-id-1 div.sk-parallel-item:only-child::after {width: 0;}#sk-container-id-1 div.sk-dashed-wrapped {border: 1px dashed gray;margin: 0 0.4em 0.5em 0.4em;box-sizing: border-box;padding-bottom: 0.4em;background-color: white;}#sk-container-id-1 div.sk-label label {font-family: monospace;font-weight: bold;display: inline-block;line-height: 1.2em;}#sk-container-id-1 div.sk-label-container {text-align: center;}#sk-container-id-1 div.sk-container {/* jupyter's `normalize.less` sets `[hidden] { display: none; }` but bootstrap.min.css set `[hidden] { display: none !important; }` so we also need the `!important` here to be able to override the default hidden behavior on the sphinx rendered scikit-learn.org. See: https://github.com/scikit-learn/scikit-learn/issues/21755 */display: inline-block !important;position: relative;}#sk-container-id-1 div.sk-text-repr-fallback {display: none;}</style><div id=\"sk-container-id-1\" class=\"sk-top-container\"><div class=\"sk-text-repr-fallback\"><pre>DecisionTreeClassifier(max_depth=2, max_features=0.4)</pre><b>In a Jupyter environment, please rerun this cell to show the HTML representation or trust the notebook. <br />On GitHub, the HTML representation is unable to render, please try loading this page with nbviewer.org.</b></div><div class=\"sk-container\" hidden><div class=\"sk-item\"><div class=\"sk-estimator sk-toggleable\"><input class=\"sk-toggleable__control sk-hidden--visually\" id=\"sk-estimator-id-1\" type=\"checkbox\" checked><label for=\"sk-estimator-id-1\" class=\"sk-toggleable__label sk-toggleable__label-arrow\">DecisionTreeClassifier</label><div class=\"sk-toggleable__content\"><pre>DecisionTreeClassifier(max_depth=2, max_features=0.4)</pre></div></div></div></div></div>"
      ],
      "text/plain": [
       "DecisionTreeClassifier(max_depth=2, max_features=0.4)"
      ]
     },
     "execution_count": 5,
     "metadata": {},
     "output_type": "execute_result"
    }
   ],
   "source": [
    "clf = tree.DecisionTreeClassifier(criterion='gini', max_depth=2, max_features=0.4, splitter='best')\n",
    "clf.fit(X_train, y_train)"
   ]
  },
  {
   "cell_type": "code",
   "execution_count": 6,
   "metadata": {},
   "outputs": [
    {
     "name": "stdout",
     "output_type": "stream",
     "text": [
      "0.75\n"
     ]
    }
   ],
   "source": [
    "predictions = clf.predict(X_test)\n",
    "print(accuracy_score(y_test, predictions))"
   ]
  },
  {
   "cell_type": "code",
   "execution_count": 7,
   "metadata": {},
   "outputs": [
    {
     "data": {
      "text/plain": [
       "[Text(0.4, 0.8333333333333334, 'x[4] <= 9.648\\ngini = 0.346\\nsamples = 9\\nvalue = [2, 7]'),\n",
       " Text(0.2, 0.5, 'gini = 0.0\\nsamples = 1\\nvalue = [1, 0]'),\n",
       " Text(0.6, 0.5, 'x[0] <= 3.68\\ngini = 0.219\\nsamples = 8\\nvalue = [1, 7]'),\n",
       " Text(0.4, 0.16666666666666666, 'gini = 0.444\\nsamples = 3\\nvalue = [1, 2]'),\n",
       " Text(0.8, 0.16666666666666666, 'gini = 0.0\\nsamples = 5\\nvalue = [0, 5]')]"
      ]
     },
     "execution_count": 7,
     "metadata": {},
     "output_type": "execute_result"
    },
    {
     "data": {
      "image/png": "[encoded data removed]",
      "text/plain": [
       "<Figure size 640x480 with 1 Axes>"
      ]
     },
     "metadata": {},
     "output_type": "display_data"
    }
   ],
   "source": [
    "tree.plot_tree(clf)"
   ]
  },
  {
   "cell_type": "code",
   "execution_count": null,
   "metadata": {},
   "outputs": [],
   "source": []
  }
 ],
 "metadata": {
  "kernelspec": {
   "display_name": "Python 3",
   "language": "python",
   "name": "python3"
  },
  "language_info": {
   "codemirror_mode": {
    "name": "ipython",
    "version": 3
   },
   "file_extension": ".py",
   "mimetype": "text/x-python",
   "name": "python",
   "nbconvert_exporter": "python",
   "pygments_lexer": "ipython3",
   "version": "3.9.17"
  },
  "orig_nbformat": 4
 },
 "nbformat": 4,
 "nbformat_minor": 2
}
