{
 "cells": [
  {
   "cell_type": "code",
   "execution_count": 11,
   "metadata": {},
   "outputs": [],
   "source": [
    "import requests, re, urllib.request, pandas as pd\n",
    "from bs4 import BeautifulSoup\n",
    "\n",
    "response = requests.get(\"https://eo.wikipedia.org/wiki/Esperanto\")\n",
    "wiki_soup = BeautifulSoup(response.content, 'html.parser')\n",
    "wiki_res = wiki_soup.find(\"div\", attrs={\"class\": \"mw-parser-output\"}).findAll(\"p\")\n",
    "wiki_res = [p_tag.get_text().strip().replace(\"\\n\", \" \").lower() for p_tag in wiki_res]"
   ]
  },
  {
   "cell_type": "code",
   "execution_count": 12,
   "metadata": {},
   "outputs": [],
   "source": [
    "content = urllib.request.urlopen('https://www.sacred-texts.com/bib/wb/esp/co1.htm')\n",
    "\n",
    "read_content = content.read()\n",
    "bible_soup = BeautifulSoup(read_content, 'html.parser')\n",
    "\n",
    "[a_tag.decompose() for a_tag in bible_soup.find_all('a')]\n",
    "bible_res = [p_tag.get_text().strip().replace(\"\\n\", \" \").lower() for p_tag in bible_soup.find_all(\"p\")]"
   ]
  },
  {
   "cell_type": "code",
   "execution_count": 13,
   "metadata": {},
   "outputs": [],
   "source": [
    "with open('esperanto_corpus.txt', 'w', encoding='utf-8') as f:\n",
    "    f.write(\" \".join(wiki_res))\n",
    "    f.write(\" \".join(bible_res))"
   ]
  },
  {
   "cell_type": "code",
   "execution_count": 10,
   "metadata": {},
   "outputs": [],
   "source": [
    "# df = pd.DataFrame({'Lines': res})\n",
    "# df.to_csv('esperanto_bible.csv', index=False, encoding='utf-8')\n",
    "# df"
   ]
  },
  {
   "cell_type": "code",
   "execution_count": null,
   "metadata": {},
   "outputs": [],
   "source": []
  }
 ],
 "metadata": {
  "kernelspec": {
   "display_name": "Python 3",
   "language": "python",
   "name": "python3"
  },
  "language_info": {
   "codemirror_mode": {
    "name": "ipython",
    "version": 3
   },
   "file_extension": ".py",
   "mimetype": "text/x-python",
   "name": "python",
   "nbconvert_exporter": "python",
   "pygments_lexer": "ipython3",
   "version": "3.9.16"
  },
  "orig_nbformat": 4,
  "vscode": {
   "interpreter": {
    "hash": "397704579725e15f5c7cb49fe5f0341eb7531c82d19f2c29d197e8b64ab5776b"
   }
  }
 },
 "nbformat": 4,
 "nbformat_minor": 2
}
