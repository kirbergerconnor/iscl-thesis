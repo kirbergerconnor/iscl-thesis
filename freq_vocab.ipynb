{
 "cells": [
  {
   "cell_type": "code",
   "execution_count": 1,
   "metadata": {},
   "outputs": [],
   "source": [
    "import re, os, pandas as pd\n",
    "from collections import Counter\n",
    "from operator import itemgetter\n",
    "from matplotlib import pyplot as plt\n",
    "from sklearn import preprocessing\n",
    "from string import punctuation, digits"
   ]
  },
  {
   "cell_type": "code",
   "execution_count": 2,
   "metadata": {},
   "outputs": [],
   "source": [
    "exclude = punctuation + digits"
   ]
  },
  {
   "cell_type": "code",
   "execution_count": 11,
   "metadata": {},
   "outputs": [],
   "source": [
    "def char_frequency(corpus):\n",
    "    with open(corpus) as f:\n",
    "        text = f.read().lower().replace(' ', '').strip()\n",
    "    \n",
    "        df = pd.DataFrame(columns=['Char', 'Act_Freq', 'Rel_Freq', 'Zipf_Freq'])\n",
    "        frequencies = Counter(filter(lambda x: x not in exclude, text))\n",
    "        frequencies = frequencies.most_common()\n",
    "        top_frequency = frequencies[0][1]\n",
    "        \n",
    "        for index, item in enumerate(frequencies, start=1):\n",
    "            relative_freq = \"1/{}\".format(index)\n",
    "            zipf_freq = top_frequency * (1/index)\n",
    "            \n",
    "            df.loc[index] = [item[0], item[1], relative_freq, zipf_freq]\n",
    "            \n",
    "        # Normalize\n",
    "        # df['Act_Freq'] = preprocessing.minmax_scale(df['Act_Freq'], feature_range=(0.1, 1))\n",
    "        \n",
    "    return df"
   ]
  },
  {
   "cell_type": "code",
   "execution_count": 4,
   "metadata": {},
   "outputs": [],
   "source": [
    "def word_frequency(corpus):\n",
    "    with open(corpus) as f:\n",
    "        frequencies = Counter([word.lower().strip(exclude) for line in f for word in line.split() if word.strip(exclude)])\n",
    "        \n",
    "        df = pd.DataFrame(columns=['Word', 'Act_Freq', 'Rel_Freq', 'Zipf_Freq'])\n",
    "        frequencies = frequencies.most_common()\n",
    "        top_frequency = frequencies[0][1]\n",
    "        \n",
    "        for index, item in enumerate(frequencies, start=1):\n",
    "            relative_freq = \"1/{}\".format(index)\n",
    "            zipf_freq = top_frequency * (1/index)\n",
    "            \n",
    "            df.loc[index] = [item[0], item[1], relative_freq, zipf_freq]\n",
    "        \n",
    "    return df"
   ]
  },
  {
   "cell_type": "code",
   "execution_count": 5,
   "metadata": {},
   "outputs": [],
   "source": [
    "def plot_char_dist(df):\n",
    "    plt.figure(figsize=(20, 20))\n",
    "    plt.ylabel('Zipf Frequency')\n",
    "    plt.xlabel('Char')\n",
    "    plt.xticks(rotation=90)\n",
    "    plt.bar(df['Char'], df['Zipf_Freq'])\n",
    "    plt.show()\n",
    "    \n",
    "def plot_word_dist(df):\n",
    "    plt.figure(figsize=(20, 20))\n",
    "    plt.ylabel('Zipf Frequency')\n",
    "    plt.xlabel('Word')\n",
    "    plt.xticks(rotation=90)\n",
    "    x = df.iloc[:20, df.columns.get_loc('Word')]\n",
    "    y = df.iloc[:20, df.columns.get_loc('Zipf_Freq')]\n",
    "    plt.bar(x, y)\n",
    "    plt.show()"
   ]
  },
  {
   "cell_type": "code",
   "execution_count": 12,
   "metadata": {},
   "outputs": [],
   "source": [
    "def char_vocabulary(df):\n",
    "    return {char: freq for char, freq in zip(df['Char'], df['Act_Freq'])}\n",
    "\n",
    "def word_vocabulary(df):\n",
    "    return {word: freq for word, freq in zip(df['Word'], df['Act_Freq'])}"
   ]
  },
  {
   "cell_type": "code",
   "execution_count": null,
   "metadata": {},
   "outputs": [],
   "source": []
  }
 ],
 "metadata": {
  "kernelspec": {
   "display_name": "Python 3",
   "language": "python",
   "name": "python3"
  },
  "language_info": {
   "codemirror_mode": {
    "name": "ipython",
    "version": 3
   },
   "file_extension": ".py",
   "mimetype": "text/x-python",
   "name": "python",
   "nbconvert_exporter": "python",
   "pygments_lexer": "ipython3",
   "version": "3.9.16"
  },
  "orig_nbformat": 4,
  "vscode": {
   "interpreter": {
    "hash": "397704579725e15f5c7cb49fe5f0341eb7531c82d19f2c29d197e8b64ab5776b"
   }
  }
 },
 "nbformat": 4,
 "nbformat_minor": 2
}
