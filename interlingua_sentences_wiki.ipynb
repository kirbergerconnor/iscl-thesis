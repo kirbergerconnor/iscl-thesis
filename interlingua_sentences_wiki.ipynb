{
 "cells": [
  {
   "cell_type": "code",
   "execution_count": 4,
   "metadata": {},
   "outputs": [],
   "source": [
    "import requests, re, unicodedata, pandas as pd\n",
    "from bs4 import BeautifulSoup\n",
    "\n",
    "response = requests.get(\"https://ia.wikipedia.org/wiki/Interlingua\")\n",
    "soup = BeautifulSoup(response.content, 'html.parser')\n",
    "res = soup.find(\"div\", attrs={\"class\": \"mw-body-content\"}).findAll(\"p\")\n",
    "res = [p_tag.get_text().strip().replace(\"\\n\", \" \").lower() for p_tag in res]"
   ]
  },
  {
   "cell_type": "code",
   "execution_count": 5,
   "metadata": {},
   "outputs": [],
   "source": [
    "# with open('InterlinguaSentences.txt', 'r', encoding='utf-8') as file:\n",
    "#     sentences = unicodedata.normalize('NFKC', file.read().strip())"
   ]
  },
  {
   "cell_type": "code",
   "execution_count": 17,
   "metadata": {},
   "outputs": [],
   "source": [
    "with open('English_and_Interlingua_Parallel_Sentences.txt', 'r', encoding='utf-8') as file:\n",
    "    lines = file.readlines()\n",
    "    lines = [line.lower().replace('[ina]', '').strip() for line in lines if '[ENG]' not in line]"
   ]
  },
  {
   "cell_type": "code",
   "execution_count": 19,
   "metadata": {},
   "outputs": [],
   "source": [
    "with open('interlingua_corpus.txt', 'w', encoding='utf-8') as f:\n",
    "    f.write(\" \".join(res))\n",
    "    f.write(\" \".join(lines))"
   ]
  },
  {
   "cell_type": "code",
   "execution_count": 14,
   "metadata": {},
   "outputs": [],
   "source": [
    "# df = pd.DataFrame({\"Sentences\": lines})\n",
    "# df.to_csv('lojban_sen.csv', index=False, encoding='utf-8')\n",
    "# df"
   ]
  },
  {
   "cell_type": "code",
   "execution_count": null,
   "metadata": {},
   "outputs": [],
   "source": []
  }
 ],
 "metadata": {
  "kernelspec": {
   "display_name": "Python 3",
   "language": "python",
   "name": "python3"
  },
  "language_info": {
   "codemirror_mode": {
    "name": "ipython",
    "version": 3
   },
   "file_extension": ".py",
   "mimetype": "text/x-python",
   "name": "python",
   "nbconvert_exporter": "python",
   "pygments_lexer": "ipython3",
   "version": "3.9.16"
  },
  "orig_nbformat": 4,
  "vscode": {
   "interpreter": {
    "hash": "397704579725e15f5c7cb49fe5f0341eb7531c82d19f2c29d197e8b64ab5776b"
   }
  }
 },
 "nbformat": 4,
 "nbformat_minor": 2
}
