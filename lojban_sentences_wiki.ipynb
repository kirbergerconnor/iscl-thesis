{
 "cells": [
  {
   "cell_type": "code",
   "execution_count": 1,
   "metadata": {},
   "outputs": [],
   "source": [
    "import requests, re, pandas as pd\n",
    "from bs4 import BeautifulSoup\n",
    "\n",
    "with open('jb2en.tsv') as f:\n",
    "    lines = f.readlines()\n",
    "\n",
    "lines = [line.split('\\t')[0].strip() for line in lines]"
   ]
  },
  {
   "cell_type": "code",
   "execution_count": 2,
   "metadata": {},
   "outputs": [],
   "source": [
    "response = requests.get(\"https://jbo.wikipedia.org/wiki/lo_jbobau\")\n",
    "soup = BeautifulSoup(response.content, 'html.parser')\n",
    "\n",
    "res = soup.find(\"div\", attrs={\"class\": \"mw-parser-output\"}).findAll(\"p\")\n",
    "res = [p_tag.get_text().strip().replace(\"\\n\", \" \").lower() for p_tag in res]"
   ]
  },
  {
   "cell_type": "code",
   "execution_count": 3,
   "metadata": {},
   "outputs": [],
   "source": [
    "with open('lojban_corpus.txt', 'w', encoding='utf-8') as f:\n",
    "    f.write(\" \".join(lines))\n",
    "    f.write(\" \".join(res))"
   ]
  },
  {
   "cell_type": "code",
   "execution_count": 8,
   "metadata": {},
   "outputs": [],
   "source": [
    "# df = pd.DataFrame({\"Sentences\": lines})\n",
    "# df.to_csv('lojban_sen.csv', index=False, encoding='utf-8')\n",
    "# df"
   ]
  }
 ],
 "metadata": {
  "kernelspec": {
   "display_name": "Python 3",
   "language": "python",
   "name": "python3"
  },
  "language_info": {
   "codemirror_mode": {
    "name": "ipython",
    "version": 3
   },
   "file_extension": ".py",
   "mimetype": "text/x-python",
   "name": "python",
   "nbconvert_exporter": "python",
   "pygments_lexer": "ipython3",
   "version": "3.9.16"
  },
  "orig_nbformat": 4,
  "vscode": {
   "interpreter": {
    "hash": "397704579725e15f5c7cb49fe5f0341eb7531c82d19f2c29d197e8b64ab5776b"
   }
  }
 },
 "nbformat": 4,
 "nbformat_minor": 2
}
