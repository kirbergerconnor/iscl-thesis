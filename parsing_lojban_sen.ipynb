{
 "cells": [
  {
   "cell_type": "code",
   "execution_count": 2,
   "metadata": {},
   "outputs": [],
   "source": [
    "with open('jb2en.tsv') as f:\n",
    "    lines = f.readlines()\n",
    "\n",
    "lines = [line.split('\\t')[0] for line in lines]"
   ]
  },
  {
   "cell_type": "code",
   "execution_count": 3,
   "metadata": {},
   "outputs": [],
   "source": [
    "import pandas as pd\n",
    "\n",
    "df = pd.DataFrame({\"Sentences\": lines})\n",
    "df.to_csv('lojban_sen.csv', index=False, encoding='utf-8')"
   ]
  },
  {
   "cell_type": "code",
   "execution_count": 4,
   "metadata": {},
   "outputs": [
    {
     "data": {
      "text/html": [
       "<div>\n",
       "<style scoped>\n",
       "    .dataframe tbody tr th:only-of-type {\n",
       "        vertical-align: middle;\n",
       "    }\n",
       "\n",
       "    .dataframe tbody tr th {\n",
       "        vertical-align: top;\n",
       "    }\n",
       "\n",
       "    .dataframe thead th {\n",
       "        text-align: right;\n",
       "    }\n",
       "</style>\n",
       "<table border=\"1\" class=\"dataframe\">\n",
       "  <thead>\n",
       "    <tr style=\"text-align: right;\">\n",
       "      <th></th>\n",
       "      <th>Sentences</th>\n",
       "    </tr>\n",
       "  </thead>\n",
       "  <tbody>\n",
       "    <tr>\n",
       "      <th>0</th>\n",
       "      <td>.i .a'a sei ko di'a co'e ma ba la'e do'i fasnu</td>\n",
       "    </tr>\n",
       "    <tr>\n",
       "      <th>1</th>\n",
       "      <td>.a'a cu'i ko denpa lo nu mi mulgau ti</td>\n",
       "    </tr>\n",
       "    <tr>\n",
       "      <th>2</th>\n",
       "      <td>.a'a nai mi na tinju'i</td>\n",
       "    </tr>\n",
       "    <tr>\n",
       "      <th>3</th>\n",
       "      <td>.i .a'e pu'o tsunami</td>\n",
       "    </tr>\n",
       "    <tr>\n",
       "      <th>4</th>\n",
       "      <td>.a'e ba vilxasybo'a</td>\n",
       "    </tr>\n",
       "    <tr>\n",
       "      <th>...</th>\n",
       "      <td>...</td>\n",
       "    </tr>\n",
       "    <tr>\n",
       "      <th>16282</th>\n",
       "      <td>.i mi pu pu'o je nu'o pencu</td>\n",
       "    </tr>\n",
       "    <tr>\n",
       "      <th>16283</th>\n",
       "      <td>.i lo prenu pu zukte ze'a lo za'u pi mu si'e b...</td>\n",
       "    </tr>\n",
       "    <tr>\n",
       "      <th>16284</th>\n",
       "      <td>do'e ti pe mi'a so bi'e gei re su'i ci bi'e ge...</td>\n",
       "    </tr>\n",
       "    <tr>\n",
       "      <th>16285</th>\n",
       "      <td>do'e ti pe mi'a re bi'e se gei so su'i pa no c...</td>\n",
       "    </tr>\n",
       "    <tr>\n",
       "      <th>16286</th>\n",
       "      <td>.i mi'o te porsi lo ka .e'u ce'u .e ba bo ce'u...</td>\n",
       "    </tr>\n",
       "  </tbody>\n",
       "</table>\n",
       "<p>16287 rows × 1 columns</p>\n",
       "</div>"
      ],
      "text/plain": [
       "                                               Sentences\n",
       "0         .i .a'a sei ko di'a co'e ma ba la'e do'i fasnu\n",
       "1                  .a'a cu'i ko denpa lo nu mi mulgau ti\n",
       "2                                 .a'a nai mi na tinju'i\n",
       "3                                   .i .a'e pu'o tsunami\n",
       "4                                    .a'e ba vilxasybo'a\n",
       "...                                                  ...\n",
       "16282                        .i mi pu pu'o je nu'o pencu\n",
       "16283  .i lo prenu pu zukte ze'a lo za'u pi mu si'e b...\n",
       "16284  do'e ti pe mi'a so bi'e gei re su'i ci bi'e ge...\n",
       "16285  do'e ti pe mi'a re bi'e se gei so su'i pa no c...\n",
       "16286  .i mi'o te porsi lo ka .e'u ce'u .e ba bo ce'u...\n",
       "\n",
       "[16287 rows x 1 columns]"
      ]
     },
     "execution_count": 4,
     "metadata": {},
     "output_type": "execute_result"
    }
   ],
   "source": [
    "df"
   ]
  },
  {
   "cell_type": "code",
   "execution_count": null,
   "metadata": {},
   "outputs": [],
   "source": []
  }
 ],
 "metadata": {
  "kernelspec": {
   "display_name": "Python 3",
   "language": "python",
   "name": "python3"
  },
  "language_info": {
   "codemirror_mode": {
    "name": "ipython",
    "version": 3
   },
   "file_extension": ".py",
   "mimetype": "text/x-python",
   "name": "python",
   "nbconvert_exporter": "python",
   "pygments_lexer": "ipython3",
   "version": "3.9.13"
  },
  "orig_nbformat": 4,
  "vscode": {
   "interpreter": {
    "hash": "397704579725e15f5c7cb49fe5f0341eb7531c82d19f2c29d197e8b64ab5776b"
   }
  }
 },
 "nbformat": 4,
 "nbformat_minor": 2
}
